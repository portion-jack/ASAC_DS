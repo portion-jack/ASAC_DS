{
 "cells": [
  {
   "cell_type": "code",
   "execution_count": null,
   "metadata": {},
   "outputs": [],
   "source": [
    "\"\"\"\n",
    "# scikit_learn based process\n",
    "\n",
    "```\n",
    "1. scikit learn main model fit predict \n",
    "2. pick some fine model\n",
    "3. do parameter tuning by optuna\n",
    "4. combination by mlxtend\n",
    "```\n",
    "\"\"\""
   ]
  },
  {
   "cell_type": "code",
   "execution_count": 1,
   "metadata": {},
   "outputs": [],
   "source": [
    "import pandas as pd \n",
    "import numpy as np \n",
    "import mlxtend\n",
    "import optuna\n",
    "import warnings\n",
    "warnings.filterwarnings(action='ignore')"
   ]
  },
  {
   "cell_type": "code",
   "execution_count": 2,
   "metadata": {},
   "outputs": [],
   "source": [
    "train_data = pd.read_csv('../_mlxtend/data_preprocessed/train_data_preprocessed.csv',index_col=0)\n",
    "test_data = pd.read_csv('../_mlxtend/data_preprocessed/test_data_preprocessed.csv',index_col=0)\n",
    "train_target = pd.read_csv('../_mlxtend/data_preprocessed/train_target.csv',index_col=0)"
   ]
  },
  {
   "cell_type": "code",
   "execution_count": 3,
   "metadata": {},
   "outputs": [],
   "source": [
    "# 일단 RobustScaler 진행\n",
    "from sklearn.preprocessing import RobustScaler\n",
    "from sklearn.model_selection import train_test_split, cross_val_score\n",
    "from sklearn.metrics import mean_squared_error\n",
    "rbs = RobustScaler()\n",
    "train_data_rbs=rbs.fit_transform(train_data)\n",
    "test_data_rbs=rbs.transform(test_data)\n",
    "\n",
    "from sklearn.model_selection import train_test_split, KFold, cross_val_score\n",
    "from sklearn.ensemble import RandomForestRegressor,AdaBoostRegressor\n",
    "from xgboost import XGBRegressor\n",
    "from sklearn.ensemble import GradientBoostingRegressor, HistGradientBoostingRegressor\n",
    "\n",
    "\n",
    "from sklearn.model_selection import train_test_split\n",
    "x_train,x_test,y_train,y_test = train_test_split(train_data_rbs,\n",
    "                                                 train_target,\n",
    "                                                 test_size=0.2,\n",
    "                                                 shuffle=True)"
   ]
  },
  {
   "cell_type": "code",
   "execution_count": 5,
   "metadata": {},
   "outputs": [
    {
     "name": "stdout",
     "output_type": "stream",
     "text": [
      "RandomForestRegressor\n",
      "0.1401667477042479\n",
      "XGBRegressor\n",
      "0.1341032819973866\n",
      "AdaBoostRegressor\n",
      "0.16892854079467953\n",
      "GradientBoostingRegressor\n",
      "0.1240604213391761\n",
      "HistGradientBoostingRegressor\n",
      "0.13073578080764361\n"
     ]
    }
   ],
   "source": [
    "for model in [RandomForestRegressor(),XGBRegressor(),AdaBoostRegressor()]:\n",
    "    model.fit(x_train,y_train)\n",
    "    y_pred=model.predict(x_test)\n",
    "    print(str(model).split('(')[0])\n",
    "    result=cross_val_score(\n",
    "        model,\n",
    "        train_data_rbs,\n",
    "        train_target,\n",
    "        scoring='neg_mean_squared_error',\n",
    "        cv=KFold(n_splits=5,shuffle=True)\n",
    "    )\n",
    "    print(np.sqrt(np.mean(result)*-1))\n",
    "    \n",
    "for model in [GradientBoostingRegressor(), HistGradientBoostingRegressor()]:\n",
    "    model.fit(x_train,y_train)\n",
    "    y_pred=model.predict(x_test)\n",
    "    print(str(model).split('(')[0])\n",
    "    result=cross_val_score(\n",
    "        model,\n",
    "        train_data_rbs,\n",
    "        train_target,\n",
    "        scoring='neg_mean_squared_error',\n",
    "        cv=KFold(n_splits=5,shuffle=True)\n",
    "    )\n",
    "    print(np.sqrt(np.mean(result)*-1))"
   ]
  },
  {
   "cell_type": "code",
   "execution_count": 6,
   "metadata": {},
   "outputs": [
    {
     "data": {
      "text/plain": [
       "{'alpha': 0.9,\n",
       " 'ccp_alpha': 0.0,\n",
       " 'criterion': 'friedman_mse',\n",
       " 'init': None,\n",
       " 'learning_rate': 0.1,\n",
       " 'loss': 'squared_error',\n",
       " 'max_depth': 3,\n",
       " 'max_features': None,\n",
       " 'max_leaf_nodes': None,\n",
       " 'min_impurity_decrease': 0.0,\n",
       " 'min_samples_leaf': 1,\n",
       " 'min_samples_split': 2,\n",
       " 'min_weight_fraction_leaf': 0.0,\n",
       " 'n_estimators': 100,\n",
       " 'n_iter_no_change': None,\n",
       " 'random_state': None,\n",
       " 'subsample': 1.0,\n",
       " 'tol': 0.0001,\n",
       " 'validation_fraction': 0.1,\n",
       " 'verbose': 0,\n",
       " 'warm_start': False}"
      ]
     },
     "execution_count": 6,
     "metadata": {},
     "output_type": "execute_result"
    }
   ],
   "source": [
    "# gradientboosting이 압도적인데\n",
    "# gradientboosting hyper parmetertuning\n",
    "from sklearn.ensemble import GradientBoostingRegressor\n",
    "gbr = GradientBoostingRegressor()\n",
    "\n"
   ]
  },
  {
   "cell_type": "code",
   "execution_count": null,
   "metadata": {},
   "outputs": [],
   "source": [
    "# [RandomForestRegressor(),XGBRegressor()]\n",
    "\n",
    "# 1. randomforest hyperparmeter tuning\n",
    "\n",
    "# 2. xgbregressor hyperparmeter tuning"
   ]
  },
  {
   "cell_type": "code",
   "execution_count": null,
   "metadata": {},
   "outputs": [],
   "source": [
    "# base_line optuna\n",
    "import optuna\n",
    "\n",
    "def my_objective(trial):\n",
    "    \"\"\"\n",
    "    1. make parameter dictionary\n",
    "    2. define model for the parameter\n",
    "    3. fit model\n",
    "    4. get score based on purpose\n",
    "    5. return\n",
    "    \"\"\"\n",
    "    #1\n",
    "    prms={\n",
    "    'booster': trial.suggest_categorical('booster',['gbtree','gblinear','dart']),\n",
    "    'learning_rate': trial.suggest_float('learning_rate',0,1) ,\n",
    "    'max_delta_step': trial.suggest_float('max_delta_step',0,100),\n",
    "    'max_depth': trial.suggest_int('max_depth',0,100),\n",
    "    'min_child_weight': trial.suggest_float('min_child_weight',0,10),\n",
    "    'n_estimators': trial.suggest_int('n_estimators',100,300)\n",
    "    }\n",
    "    # 2.\n",
    "    xgbc = XGBClassifier(**prms)\n",
    "    # 3.\n",
    "    xgbc.fit(x_train,y_train)\n",
    "    y_pred=xgbc.predict(x_test)\n",
    "    acc = accuracy_score(y_test,y_pred)\n",
    "    return acc\n",
    "\n",
    "my_study = optuna.create_study(direction='maximize')\n",
    "my_study.optimize(my_objective,n_trials=20)"
   ]
  },
  {
   "cell_type": "code",
   "execution_count": null,
   "metadata": {},
   "outputs": [],
   "source": [
    "# [GradientBoostingRegressor(),HistGradientBoostingRegressor()]\n",
    "\n",
    "# 1. GradientBoostingRegressor hyperparmeter tuning\n",
    "def my_objective(trial):\n",
    "    #1\n",
    "    prms={\n",
    "    'learning_rate': trial.suggest_float('learning_rate',0,1) ,\n",
    "    'n_estimators': trial.suggest_int('n_estimators',100,3000),\n",
    "    'alpha': trial.suggest_float('alpha',0,1) ,\n",
    "    'max_depth': trial.suggest_int('max_depth',1,100),\n",
    "    'tol': trial.suggest_float('tol',0,1),\n",
    "    }\n",
    "\n",
    "    # 2.\n",
    "    gbr = GradientBoostingRegressor(**prms)\n",
    "    # 3.\n",
    "    gbr.fit(x_train,y_train)\n",
    "    y_pred=gbr.predict(x_test)\n",
    "    rmse = mean_squared_error(y_test,y_pred,squared=False)\n",
    "    return rmse\n",
    "\n",
    "my_gbr_study = optuna.create_study(direction='minimize')\n",
    "my_gbr_study.optimize(my_objective,n_trials=20)\n",
    "\n",
    "# 2. HistGradientBoostingRegressor hyperparmeter tuning\n",
    "def my_objective(trial):\n",
    "    #1\n",
    "    prms={\n",
    "    'learning_rate': trial.suggest_float('learning_rate',0,1) ,\n",
    "    'l2_regularization': trial.suggest_float('l2_regularization',1e-5,1e-2),\n",
    "    'max_depth': trial.suggest_int('max_depth',1,100),\n",
    "    'tol': trial.suggest_float('tol',0,1),\n",
    "    }\n",
    "\n",
    "    # 2.\n",
    "    hgbr = HistGradientBoostingRegressor(**prms)\n",
    "    # 3.\n",
    "    hgbr.fit(x_train,y_train)\n",
    "    y_pred=hgbr.predict(x_test)\n",
    "    rmse = mean_squared_error(y_test,y_pred,squared=False)\n",
    "    return rmse\n",
    "\n",
    "my_hgbr_study = optuna.create_study(direction='minimize')\n",
    "my_hgbr_study.optimize(my_objective,n_trials=20)\n"
   ]
  },
  {
   "cell_type": "code",
   "execution_count": null,
   "metadata": {},
   "outputs": [],
   "source": [
    "gbr_best_prms=my_gbr_study.best_params\n",
    "hgbr_best_prms=my_hgbr_study.best_params"
   ]
  },
  {
   "cell_type": "code",
   "execution_count": null,
   "metadata": {},
   "outputs": [],
   "source": [
    "best_gbr = GradientBoostingRegressor(**gbr_best_prms)\n",
    "best_hgbr = HistGradientBoostingRegressor(**hgbr_best_prms)"
   ]
  },
  {
   "cell_type": "code",
   "execution_count": null,
   "metadata": {},
   "outputs": [],
   "source": [
    "from sklearn.metrics import mean_squared_error\n",
    "from sklearn.model_selection import train_test_split\n",
    "from sklearn.ensemble import VotingRegressor\n",
    "\n",
    "x_train,x_test,y_train,y_test = train_test_split(train_data_rbs,train_target)\n",
    "\n",
    "# Instantiate the Regressor\n",
    "voting_reg = VotingRegressor(\n",
    "    estimators=[('hgbr', best_hgbr), ('gbr', best_gbr)],\n",
    "    \n",
    "    )\n",
    "\n",
    "for model in [best_gbr,best_hgbr,voting_reg]:\n",
    "    model.fit(x_train,y_train)\n",
    "    y_pred=model.predict(x_test)\n",
    "    print(str(model).split('(')[0])\n",
    "    print(mean_squared_error(y_pred,y_test,squared=False))"
   ]
  },
  {
   "cell_type": "code",
   "execution_count": null,
   "metadata": {},
   "outputs": [],
   "source": [
    "voting_reg.fit(train_data_rbs,train_target)\n",
    "y_pred=voting_reg.predict(test_data_rbs)"
   ]
  },
  {
   "cell_type": "code",
   "execution_count": null,
   "metadata": {},
   "outputs": [],
   "source": [
    "my_ans=test_data.copy()\n",
    "my_ans['SalePrice'] = np.expm1(y_pred)"
   ]
  },
  {
   "cell_type": "code",
   "execution_count": null,
   "metadata": {},
   "outputs": [],
   "source": [
    "my_ans.loc[:,'SalePrice'].to_csv('voting_reg.csv')"
   ]
  }
 ],
 "metadata": {
  "kernelspec": {
   "display_name": "Python 3.10.6 ('crawling')",
   "language": "python",
   "name": "python3"
  },
  "language_info": {
   "codemirror_mode": {
    "name": "ipython",
    "version": 3
   },
   "file_extension": ".py",
   "mimetype": "text/x-python",
   "name": "python",
   "nbconvert_exporter": "python",
   "pygments_lexer": "ipython3",
   "version": "3.10.6"
  },
  "orig_nbformat": 4,
  "vscode": {
   "interpreter": {
    "hash": "10621530bc52bc3dcaea48e2b7ef028942e35d2e6e9c9234a88fefd069caf90f"
   }
  }
 },
 "nbformat": 4,
 "nbformat_minor": 2
}
