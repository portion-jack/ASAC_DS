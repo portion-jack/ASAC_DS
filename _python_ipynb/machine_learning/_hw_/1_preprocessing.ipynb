{
 "cells": [
  {
   "cell_type": "code",
   "execution_count": 1,
   "metadata": {},
   "outputs": [],
   "source": [
    "import pandas as pd\n",
    "import numpy as np\n",
    "import warnings\n",
    "warnings.filterwarnings(action='ignore')\n",
    "\n",
    "train_data = pd.read_csv('../_mlxtend/data_preprocessed/train_data_preprocessed.csv',index_col=0)\n",
    "test_data = pd.read_csv('../_mlxtend/data_preprocessed/test_data_preprocessed.csv',index_col=0)\n",
    "train_target = pd.read_csv('../_mlxtend/data_preprocessed/train_target.csv',index_col=0)"
   ]
  },
  {
   "cell_type": "code",
   "execution_count": 2,
   "metadata": {},
   "outputs": [],
   "source": [
    "from sklearn.preprocessing import RobustScaler\n",
    "rbs = RobustScaler()\n",
    "train_data_rbs=rbs.fit_transform(train_data)\n",
    "test_data_rbs=rbs.fit_transform(test_data)\n",
    "\n",
    "from sklearn.model_selection import train_test_split,cross_val_score,KFold\n",
    "kfold = KFold(n_splits=3,shuffle=True)\n",
    "x_train,x_test,y_train,y_test = train_test_split(train_data_rbs,train_target)\n",
    "\n",
    "from sklearn.metrics import mean_squared_error"
   ]
  },
  {
   "cell_type": "code",
   "execution_count": 3,
   "metadata": {},
   "outputs": [
    {
     "name": "stdout",
     "output_type": "stream",
     "text": [
      "RandomForestRegressor\n",
      "0.1449869176578134\n",
      "GradientBoostingRegressor\n",
      "0.13170445043575568\n",
      "ExtraTreesRegressor\n",
      "0.1413067227591072\n",
      "HistGradientBoostingRegressor\n",
      "0.12845278401128135\n",
      "XGBRegressor\n",
      "0.14490019984378658\n"
     ]
    }
   ],
   "source": [
    "from sklearn.ensemble import RandomForestRegressor, GradientBoostingRegressor, ExtraTreesRegressor, HistGradientBoostingRegressor\n",
    "from xgboost import XGBRegressor\n",
    "\n",
    "models = [RandomForestRegressor(),GradientBoostingRegressor(),ExtraTreesRegressor(),HistGradientBoostingRegressor(),XGBRegressor()]\n",
    "for model in models:\n",
    "    cv_score = cross_val_score(\n",
    "        model,\n",
    "        x_train,\n",
    "        y_train,\n",
    "        cv=kfold,\n",
    "        scoring='neg_mean_squared_error'\n",
    "    )\n",
    "    # model.fit(x_train,y_train)\n",
    "    # y_pred = model.predict(x_test)\n",
    "    print(str(model).split('(')[0])\n",
    "    print(np.sqrt(abs(np.mean(cv_score))))"
   ]
  },
  {
   "cell_type": "markdown",
   "metadata": {},
   "source": [
    "### GradientBoostingRegressor"
   ]
  },
  {
   "cell_type": "code",
   "execution_count": 59,
   "metadata": {},
   "outputs": [
    {
     "name": "stderr",
     "output_type": "stream",
     "text": [
      "\u001b[32m[I 2022-11-20 20:45:35,903]\u001b[0m A new study created in memory with name: no-name-306d9a7f-c3cd-4254-92c5-bd6768bee078\u001b[0m\n"
     ]
    },
    {
     "data": {
      "application/vnd.jupyter.widget-view+json": {
       "model_id": "ac93e99392af40469fbec7571b06a4e9",
       "version_major": 2,
       "version_minor": 0
      },
      "text/plain": [
       "  0%|          | 0/20 [00:00<?, ?it/s]"
      ]
     },
     "metadata": {},
     "output_type": "display_data"
    },
    {
     "name": "stdout",
     "output_type": "stream",
     "text": [
      "\u001b[32m[I 2022-11-20 20:45:36,958]\u001b[0m Trial 0 finished with value: 0.12365157392977011 and parameters: {'learning_rate': 0.4318211889773778, 'n_estimators': 540, 'criterion': 'squared_error', 'min_samples_split': 9, 'min_weight_fraction_leaf': 0.0009353114482478614, 'max_depth': 9}. Best is trial 0 with value: 0.12365157392977011.\u001b[0m\n",
      "\u001b[32m[I 2022-11-20 20:45:37,988]\u001b[0m Trial 1 finished with value: 0.12838856831743145 and parameters: {'learning_rate': 0.7104657828874403, 'n_estimators': 303, 'criterion': 'squared_error', 'min_samples_split': 5, 'min_weight_fraction_leaf': 0.00020104835487930062, 'max_depth': 19}. Best is trial 0 with value: 0.12365157392977011.\u001b[0m\n",
      "\u001b[32m[I 2022-11-20 20:45:39,012]\u001b[0m Trial 2 finished with value: 0.1252301534507219 and parameters: {'learning_rate': 0.7997787694316617, 'n_estimators': 431, 'criterion': 'friedman_mse', 'min_samples_split': 4, 'min_weight_fraction_leaf': 0.0003295155855490142, 'max_depth': 10}. Best is trial 0 with value: 0.12365157392977011.\u001b[0m\n",
      "\u001b[32m[I 2022-11-20 20:45:40,036]\u001b[0m Trial 3 finished with value: 0.12661020099467457 and parameters: {'learning_rate': 0.09143558653873234, 'n_estimators': 553, 'criterion': 'mse', 'min_samples_split': 9, 'min_weight_fraction_leaf': 0.00033760344304976177, 'max_depth': 7}. Best is trial 0 with value: 0.12365157392977011.\u001b[0m\n",
      "\u001b[32m[I 2022-11-20 20:45:41,060]\u001b[0m Trial 4 finished with value: 0.12770722476638657 and parameters: {'learning_rate': 0.9512217376052645, 'n_estimators': 377, 'criterion': 'mse', 'min_samples_split': 8, 'min_weight_fraction_leaf': 0.0007266976964471361, 'max_depth': 5}. Best is trial 0 with value: 0.12365157392977011.\u001b[0m\n",
      "\u001b[32m[I 2022-11-20 20:45:42,084]\u001b[0m Trial 5 finished with value: 0.12792487324167015 and parameters: {'learning_rate': 0.6756989643034695, 'n_estimators': 613, 'criterion': 'friedman_mse', 'min_samples_split': 2, 'min_weight_fraction_leaf': 6.40494886252363e-06, 'max_depth': 7}. Best is trial 0 with value: 0.12365157392977011.\u001b[0m\n",
      "\u001b[32m[I 2022-11-20 20:45:43,108]\u001b[0m Trial 6 finished with value: 0.12811078145813895 and parameters: {'learning_rate': 0.00746776864916141, 'n_estimators': 663, 'criterion': 'mse', 'min_samples_split': 10, 'min_weight_fraction_leaf': 0.0004674631971121841, 'max_depth': 4}. Best is trial 0 with value: 0.12365157392977011.\u001b[0m\n",
      "\u001b[32m[I 2022-11-20 20:45:44,138]\u001b[0m Trial 7 finished with value: 0.12381802101892993 and parameters: {'learning_rate': 0.7256921426404083, 'n_estimators': 325, 'criterion': 'mse', 'min_samples_split': 9, 'min_weight_fraction_leaf': 0.0001399862975788041, 'max_depth': 3}. Best is trial 0 with value: 0.12365157392977011.\u001b[0m\n",
      "\u001b[32m[I 2022-11-20 20:45:45,167]\u001b[0m Trial 8 finished with value: 0.12722568897817216 and parameters: {'learning_rate': 0.5592627142164431, 'n_estimators': 646, 'criterion': 'friedman_mse', 'min_samples_split': 2, 'min_weight_fraction_leaf': 0.0006973569860340782, 'max_depth': 20}. Best is trial 0 with value: 0.12365157392977011.\u001b[0m\n",
      "\u001b[32m[I 2022-11-20 20:45:46,190]\u001b[0m Trial 9 finished with value: 0.12396225177131599 and parameters: {'learning_rate': 0.6435750168972625, 'n_estimators': 281, 'criterion': 'squared_error', 'min_samples_split': 8, 'min_weight_fraction_leaf': 0.00014058269516444832, 'max_depth': 5}. Best is trial 0 with value: 0.12365157392977011.\u001b[0m\n",
      "\u001b[32m[I 2022-11-20 20:45:47,219]\u001b[0m Trial 10 finished with value: 0.1265703841165338 and parameters: {'learning_rate': 0.31953618143682405, 'n_estimators': 787, 'criterion': 'squared_error', 'min_samples_split': 7, 'min_weight_fraction_leaf': 0.0009241762156981478, 'max_depth': 14}. Best is trial 0 with value: 0.12365157392977011.\u001b[0m\n",
      "\u001b[32m[I 2022-11-20 20:45:48,246]\u001b[0m Trial 11 finished with value: 0.12975017862559263 and parameters: {'learning_rate': 0.3363978844170223, 'n_estimators': 127, 'criterion': 'mse', 'min_samples_split': 10, 'min_weight_fraction_leaf': 0.0008561287170304739, 'max_depth': 12}. Best is trial 0 with value: 0.12365157392977011.\u001b[0m\n",
      "\u001b[32m[I 2022-11-20 20:45:49,274]\u001b[0m Trial 12 finished with value: 0.12196172716628048 and parameters: {'learning_rate': 0.4099558598404632, 'n_estimators': 174, 'criterion': 'squared_error', 'min_samples_split': 6, 'min_weight_fraction_leaf': 0.0005967595718821075, 'max_depth': 16}. Best is trial 12 with value: 0.12196172716628048.\u001b[0m\n",
      "\u001b[32m[I 2022-11-20 20:45:50,340]\u001b[0m Trial 13 finished with value: 0.12823854015811148 and parameters: {'learning_rate': 0.372698531037015, 'n_estimators': 104, 'criterion': 'squared_error', 'min_samples_split': 6, 'min_weight_fraction_leaf': 0.0006261808950021441, 'max_depth': 16}. Best is trial 12 with value: 0.12196172716628048.\u001b[0m\n",
      "\u001b[32m[I 2022-11-20 20:45:51,381]\u001b[0m Trial 14 finished with value: 0.1232716270761566 and parameters: {'learning_rate': 0.46353754070454195, 'n_estimators': 511, 'criterion': 'squared_error', 'min_samples_split': 4, 'min_weight_fraction_leaf': 0.0009859269894402763, 'max_depth': 10}. Best is trial 12 with value: 0.12196172716628048.\u001b[0m\n",
      "\u001b[32m[I 2022-11-20 20:45:52,420]\u001b[0m Trial 15 finished with value: 0.12417668002111856 and parameters: {'learning_rate': 0.2342817402850204, 'n_estimators': 178, 'criterion': 'squared_error', 'min_samples_split': 4, 'min_weight_fraction_leaf': 0.000582562894792799, 'max_depth': 16}. Best is trial 12 with value: 0.12196172716628048.\u001b[0m\n",
      "\u001b[32m[I 2022-11-20 20:45:53,472]\u001b[0m Trial 16 finished with value: 0.12723289930431475 and parameters: {'learning_rate': 0.5297869407192174, 'n_estimators': 232, 'criterion': 'squared_error', 'min_samples_split': 4, 'min_weight_fraction_leaf': 0.0007939735895962129, 'max_depth': 12}. Best is trial 12 with value: 0.12196172716628048.\u001b[0m\n",
      "\u001b[32m[I 2022-11-20 20:45:54,532]\u001b[0m Trial 17 finished with value: 0.12397636707913906 and parameters: {'learning_rate': 0.16418536378325982, 'n_estimators': 486, 'criterion': 'squared_error', 'min_samples_split': 6, 'min_weight_fraction_leaf': 0.0004800718366445301, 'max_depth': 16}. Best is trial 12 with value: 0.12196172716628048.\u001b[0m\n",
      "\u001b[32m[I 2022-11-20 20:45:55,579]\u001b[0m Trial 18 finished with value: 0.12671784317050827 and parameters: {'learning_rate': 0.4614845884246972, 'n_estimators': 424, 'criterion': 'squared_error', 'min_samples_split': 3, 'min_weight_fraction_leaf': 0.0009726676061999494, 'max_depth': 14}. Best is trial 12 with value: 0.12196172716628048.\u001b[0m\n",
      "\u001b[32m[I 2022-11-20 20:45:56,608]\u001b[0m Trial 19 finished with value: 0.1259407786816674 and parameters: {'learning_rate': 0.2276348065698403, 'n_estimators': 776, 'criterion': 'squared_error', 'min_samples_split': 5, 'min_weight_fraction_leaf': 0.0005808261922272359, 'max_depth': 18}. Best is trial 12 with value: 0.12196172716628048.\u001b[0m\n"
     ]
    }
   ],
   "source": [
    "import optuna\n",
    "\n",
    "model = GradientBoostingRegressor()\n",
    "def grb_object(trial):\n",
    "    prms = {\n",
    "        'learning_rate':trial.suggest_float('learning_rate',1e-5,1),\n",
    "        'n_estimators':trial.suggest_int('n_estimators',100,800),\n",
    "        'criterion':trial.suggest_categorical('criterion',['friedman_mse', 'squared_error', 'mse']),\n",
    "        'min_samples_split':trial.suggest_int('min_samples_split',2,10),\n",
    "        'min_weight_fraction_leaf':trial.suggest_float('min_weight_fraction_leaf',0,1e-3),\n",
    "        'max_depth':trial.suggest_int('max_depth',3,20)\n",
    "    }\n",
    "    cv_score = cross_val_score(\n",
    "        model,\n",
    "        train_data_rbs,\n",
    "        train_target,\n",
    "        cv=kfold,\n",
    "        scoring='neg_mean_squared_error'\n",
    "    )\n",
    "    return np.sqrt(abs(np.mean(cv_score)))\n",
    "\n",
    "study_gbr=optuna.create_study(direction='minimize')\n",
    "study_gbr.optimize(grb_object,n_trials=20,show_progress_bar=True)"
   ]
  },
  {
   "cell_type": "code",
   "execution_count": 60,
   "metadata": {},
   "outputs": [
    {
     "data": {
      "text/plain": [
       "{'learning_rate': 0.4099558598404632,\n",
       " 'n_estimators': 174,\n",
       " 'criterion': 'squared_error',\n",
       " 'min_samples_split': 6,\n",
       " 'min_weight_fraction_leaf': 0.0005967595718821075,\n",
       " 'max_depth': 16}"
      ]
     },
     "execution_count": 60,
     "metadata": {},
     "output_type": "execute_result"
    }
   ],
   "source": [
    "gbr_best_prms=study_gbr.best_params\n",
    "gbr_best_prms"
   ]
  },
  {
   "cell_type": "code",
   "execution_count": 52,
   "metadata": {},
   "outputs": [
    {
     "data": {
      "text/plain": [
       "0.12344906333372502"
      ]
     },
     "execution_count": 52,
     "metadata": {},
     "output_type": "execute_result"
    }
   ],
   "source": [
    "study_gbr.best_value"
   ]
  },
  {
   "cell_type": "code",
   "execution_count": 15,
   "metadata": {},
   "outputs": [
    {
     "data": {
      "application/vnd.plotly.v1+json": {
       "config": {
        "plotlyServerURL": "https://plot.ly"
       },
       "data": [
        {
         "cliponaxis": false,
         "hovertemplate": [
          "learning_rate (FloatDistribution): 0.03129225561905766<extra></extra>",
          "max_depth (IntDistribution): 0.0788285631233384<extra></extra>",
          "min_samples_split (IntDistribution): 0.09753521024342386<extra></extra>",
          "min_weight_fraction_leaf (FloatDistribution): 0.10014750029139485<extra></extra>",
          "n_estimators (IntDistribution): 0.11603647357994329<extra></extra>",
          "min_impurity_decrease (FloatDistribution): 0.1230040642842611<extra></extra>",
          "criterion (CategoricalDistribution): 0.4531559328585808<extra></extra>"
         ],
         "marker": {
          "color": "rgb(66,146,198)"
         },
         "orientation": "h",
         "text": [
          "0.03",
          "0.08",
          "0.10",
          "0.10",
          "0.12",
          "0.12",
          "0.45"
         ],
         "textposition": "outside",
         "type": "bar",
         "x": [
          0.03129225561905766,
          0.0788285631233384,
          0.09753521024342386,
          0.10014750029139485,
          0.11603647357994329,
          0.1230040642842611,
          0.4531559328585808
         ],
         "y": [
          "learning_rate",
          "max_depth",
          "min_samples_split",
          "min_weight_fraction_leaf",
          "n_estimators",
          "min_impurity_decrease",
          "criterion"
         ]
        }
       ],
       "layout": {
        "showlegend": false,
        "template": {
         "data": {
          "bar": [
           {
            "error_x": {
             "color": "#2a3f5f"
            },
            "error_y": {
             "color": "#2a3f5f"
            },
            "marker": {
             "line": {
              "color": "#E5ECF6",
              "width": 0.5
             },
             "pattern": {
              "fillmode": "overlay",
              "size": 10,
              "solidity": 0.2
             }
            },
            "type": "bar"
           }
          ],
          "barpolar": [
           {
            "marker": {
             "line": {
              "color": "#E5ECF6",
              "width": 0.5
             },
             "pattern": {
              "fillmode": "overlay",
              "size": 10,
              "solidity": 0.2
             }
            },
            "type": "barpolar"
           }
          ],
          "carpet": [
           {
            "aaxis": {
             "endlinecolor": "#2a3f5f",
             "gridcolor": "white",
             "linecolor": "white",
             "minorgridcolor": "white",
             "startlinecolor": "#2a3f5f"
            },
            "baxis": {
             "endlinecolor": "#2a3f5f",
             "gridcolor": "white",
             "linecolor": "white",
             "minorgridcolor": "white",
             "startlinecolor": "#2a3f5f"
            },
            "type": "carpet"
           }
          ],
          "choropleth": [
           {
            "colorbar": {
             "outlinewidth": 0,
             "ticks": ""
            },
            "type": "choropleth"
           }
          ],
          "contour": [
           {
            "colorbar": {
             "outlinewidth": 0,
             "ticks": ""
            },
            "colorscale": [
             [
              0,
              "#0d0887"
             ],
             [
              0.1111111111111111,
              "#46039f"
             ],
             [
              0.2222222222222222,
              "#7201a8"
             ],
             [
              0.3333333333333333,
              "#9c179e"
             ],
             [
              0.4444444444444444,
              "#bd3786"
             ],
             [
              0.5555555555555556,
              "#d8576b"
             ],
             [
              0.6666666666666666,
              "#ed7953"
             ],
             [
              0.7777777777777778,
              "#fb9f3a"
             ],
             [
              0.8888888888888888,
              "#fdca26"
             ],
             [
              1,
              "#f0f921"
             ]
            ],
            "type": "contour"
           }
          ],
          "contourcarpet": [
           {
            "colorbar": {
             "outlinewidth": 0,
             "ticks": ""
            },
            "type": "contourcarpet"
           }
          ],
          "heatmap": [
           {
            "colorbar": {
             "outlinewidth": 0,
             "ticks": ""
            },
            "colorscale": [
             [
              0,
              "#0d0887"
             ],
             [
              0.1111111111111111,
              "#46039f"
             ],
             [
              0.2222222222222222,
              "#7201a8"
             ],
             [
              0.3333333333333333,
              "#9c179e"
             ],
             [
              0.4444444444444444,
              "#bd3786"
             ],
             [
              0.5555555555555556,
              "#d8576b"
             ],
             [
              0.6666666666666666,
              "#ed7953"
             ],
             [
              0.7777777777777778,
              "#fb9f3a"
             ],
             [
              0.8888888888888888,
              "#fdca26"
             ],
             [
              1,
              "#f0f921"
             ]
            ],
            "type": "heatmap"
           }
          ],
          "heatmapgl": [
           {
            "colorbar": {
             "outlinewidth": 0,
             "ticks": ""
            },
            "colorscale": [
             [
              0,
              "#0d0887"
             ],
             [
              0.1111111111111111,
              "#46039f"
             ],
             [
              0.2222222222222222,
              "#7201a8"
             ],
             [
              0.3333333333333333,
              "#9c179e"
             ],
             [
              0.4444444444444444,
              "#bd3786"
             ],
             [
              0.5555555555555556,
              "#d8576b"
             ],
             [
              0.6666666666666666,
              "#ed7953"
             ],
             [
              0.7777777777777778,
              "#fb9f3a"
             ],
             [
              0.8888888888888888,
              "#fdca26"
             ],
             [
              1,
              "#f0f921"
             ]
            ],
            "type": "heatmapgl"
           }
          ],
          "histogram": [
           {
            "marker": {
             "pattern": {
              "fillmode": "overlay",
              "size": 10,
              "solidity": 0.2
             }
            },
            "type": "histogram"
           }
          ],
          "histogram2d": [
           {
            "colorbar": {
             "outlinewidth": 0,
             "ticks": ""
            },
            "colorscale": [
             [
              0,
              "#0d0887"
             ],
             [
              0.1111111111111111,
              "#46039f"
             ],
             [
              0.2222222222222222,
              "#7201a8"
             ],
             [
              0.3333333333333333,
              "#9c179e"
             ],
             [
              0.4444444444444444,
              "#bd3786"
             ],
             [
              0.5555555555555556,
              "#d8576b"
             ],
             [
              0.6666666666666666,
              "#ed7953"
             ],
             [
              0.7777777777777778,
              "#fb9f3a"
             ],
             [
              0.8888888888888888,
              "#fdca26"
             ],
             [
              1,
              "#f0f921"
             ]
            ],
            "type": "histogram2d"
           }
          ],
          "histogram2dcontour": [
           {
            "colorbar": {
             "outlinewidth": 0,
             "ticks": ""
            },
            "colorscale": [
             [
              0,
              "#0d0887"
             ],
             [
              0.1111111111111111,
              "#46039f"
             ],
             [
              0.2222222222222222,
              "#7201a8"
             ],
             [
              0.3333333333333333,
              "#9c179e"
             ],
             [
              0.4444444444444444,
              "#bd3786"
             ],
             [
              0.5555555555555556,
              "#d8576b"
             ],
             [
              0.6666666666666666,
              "#ed7953"
             ],
             [
              0.7777777777777778,
              "#fb9f3a"
             ],
             [
              0.8888888888888888,
              "#fdca26"
             ],
             [
              1,
              "#f0f921"
             ]
            ],
            "type": "histogram2dcontour"
           }
          ],
          "mesh3d": [
           {
            "colorbar": {
             "outlinewidth": 0,
             "ticks": ""
            },
            "type": "mesh3d"
           }
          ],
          "parcoords": [
           {
            "line": {
             "colorbar": {
              "outlinewidth": 0,
              "ticks": ""
             }
            },
            "type": "parcoords"
           }
          ],
          "pie": [
           {
            "automargin": true,
            "type": "pie"
           }
          ],
          "scatter": [
           {
            "fillpattern": {
             "fillmode": "overlay",
             "size": 10,
             "solidity": 0.2
            },
            "type": "scatter"
           }
          ],
          "scatter3d": [
           {
            "line": {
             "colorbar": {
              "outlinewidth": 0,
              "ticks": ""
             }
            },
            "marker": {
             "colorbar": {
              "outlinewidth": 0,
              "ticks": ""
             }
            },
            "type": "scatter3d"
           }
          ],
          "scattercarpet": [
           {
            "marker": {
             "colorbar": {
              "outlinewidth": 0,
              "ticks": ""
             }
            },
            "type": "scattercarpet"
           }
          ],
          "scattergeo": [
           {
            "marker": {
             "colorbar": {
              "outlinewidth": 0,
              "ticks": ""
             }
            },
            "type": "scattergeo"
           }
          ],
          "scattergl": [
           {
            "marker": {
             "colorbar": {
              "outlinewidth": 0,
              "ticks": ""
             }
            },
            "type": "scattergl"
           }
          ],
          "scattermapbox": [
           {
            "marker": {
             "colorbar": {
              "outlinewidth": 0,
              "ticks": ""
             }
            },
            "type": "scattermapbox"
           }
          ],
          "scatterpolar": [
           {
            "marker": {
             "colorbar": {
              "outlinewidth": 0,
              "ticks": ""
             }
            },
            "type": "scatterpolar"
           }
          ],
          "scatterpolargl": [
           {
            "marker": {
             "colorbar": {
              "outlinewidth": 0,
              "ticks": ""
             }
            },
            "type": "scatterpolargl"
           }
          ],
          "scatterternary": [
           {
            "marker": {
             "colorbar": {
              "outlinewidth": 0,
              "ticks": ""
             }
            },
            "type": "scatterternary"
           }
          ],
          "surface": [
           {
            "colorbar": {
             "outlinewidth": 0,
             "ticks": ""
            },
            "colorscale": [
             [
              0,
              "#0d0887"
             ],
             [
              0.1111111111111111,
              "#46039f"
             ],
             [
              0.2222222222222222,
              "#7201a8"
             ],
             [
              0.3333333333333333,
              "#9c179e"
             ],
             [
              0.4444444444444444,
              "#bd3786"
             ],
             [
              0.5555555555555556,
              "#d8576b"
             ],
             [
              0.6666666666666666,
              "#ed7953"
             ],
             [
              0.7777777777777778,
              "#fb9f3a"
             ],
             [
              0.8888888888888888,
              "#fdca26"
             ],
             [
              1,
              "#f0f921"
             ]
            ],
            "type": "surface"
           }
          ],
          "table": [
           {
            "cells": {
             "fill": {
              "color": "#EBF0F8"
             },
             "line": {
              "color": "white"
             }
            },
            "header": {
             "fill": {
              "color": "#C8D4E3"
             },
             "line": {
              "color": "white"
             }
            },
            "type": "table"
           }
          ]
         },
         "layout": {
          "annotationdefaults": {
           "arrowcolor": "#2a3f5f",
           "arrowhead": 0,
           "arrowwidth": 1
          },
          "autotypenumbers": "strict",
          "coloraxis": {
           "colorbar": {
            "outlinewidth": 0,
            "ticks": ""
           }
          },
          "colorscale": {
           "diverging": [
            [
             0,
             "#8e0152"
            ],
            [
             0.1,
             "#c51b7d"
            ],
            [
             0.2,
             "#de77ae"
            ],
            [
             0.3,
             "#f1b6da"
            ],
            [
             0.4,
             "#fde0ef"
            ],
            [
             0.5,
             "#f7f7f7"
            ],
            [
             0.6,
             "#e6f5d0"
            ],
            [
             0.7,
             "#b8e186"
            ],
            [
             0.8,
             "#7fbc41"
            ],
            [
             0.9,
             "#4d9221"
            ],
            [
             1,
             "#276419"
            ]
           ],
           "sequential": [
            [
             0,
             "#0d0887"
            ],
            [
             0.1111111111111111,
             "#46039f"
            ],
            [
             0.2222222222222222,
             "#7201a8"
            ],
            [
             0.3333333333333333,
             "#9c179e"
            ],
            [
             0.4444444444444444,
             "#bd3786"
            ],
            [
             0.5555555555555556,
             "#d8576b"
            ],
            [
             0.6666666666666666,
             "#ed7953"
            ],
            [
             0.7777777777777778,
             "#fb9f3a"
            ],
            [
             0.8888888888888888,
             "#fdca26"
            ],
            [
             1,
             "#f0f921"
            ]
           ],
           "sequentialminus": [
            [
             0,
             "#0d0887"
            ],
            [
             0.1111111111111111,
             "#46039f"
            ],
            [
             0.2222222222222222,
             "#7201a8"
            ],
            [
             0.3333333333333333,
             "#9c179e"
            ],
            [
             0.4444444444444444,
             "#bd3786"
            ],
            [
             0.5555555555555556,
             "#d8576b"
            ],
            [
             0.6666666666666666,
             "#ed7953"
            ],
            [
             0.7777777777777778,
             "#fb9f3a"
            ],
            [
             0.8888888888888888,
             "#fdca26"
            ],
            [
             1,
             "#f0f921"
            ]
           ]
          },
          "colorway": [
           "#636efa",
           "#EF553B",
           "#00cc96",
           "#ab63fa",
           "#FFA15A",
           "#19d3f3",
           "#FF6692",
           "#B6E880",
           "#FF97FF",
           "#FECB52"
          ],
          "font": {
           "color": "#2a3f5f"
          },
          "geo": {
           "bgcolor": "white",
           "lakecolor": "white",
           "landcolor": "#E5ECF6",
           "showlakes": true,
           "showland": true,
           "subunitcolor": "white"
          },
          "hoverlabel": {
           "align": "left"
          },
          "hovermode": "closest",
          "mapbox": {
           "style": "light"
          },
          "paper_bgcolor": "white",
          "plot_bgcolor": "#E5ECF6",
          "polar": {
           "angularaxis": {
            "gridcolor": "white",
            "linecolor": "white",
            "ticks": ""
           },
           "bgcolor": "#E5ECF6",
           "radialaxis": {
            "gridcolor": "white",
            "linecolor": "white",
            "ticks": ""
           }
          },
          "scene": {
           "xaxis": {
            "backgroundcolor": "#E5ECF6",
            "gridcolor": "white",
            "gridwidth": 2,
            "linecolor": "white",
            "showbackground": true,
            "ticks": "",
            "zerolinecolor": "white"
           },
           "yaxis": {
            "backgroundcolor": "#E5ECF6",
            "gridcolor": "white",
            "gridwidth": 2,
            "linecolor": "white",
            "showbackground": true,
            "ticks": "",
            "zerolinecolor": "white"
           },
           "zaxis": {
            "backgroundcolor": "#E5ECF6",
            "gridcolor": "white",
            "gridwidth": 2,
            "linecolor": "white",
            "showbackground": true,
            "ticks": "",
            "zerolinecolor": "white"
           }
          },
          "shapedefaults": {
           "line": {
            "color": "#2a3f5f"
           }
          },
          "ternary": {
           "aaxis": {
            "gridcolor": "white",
            "linecolor": "white",
            "ticks": ""
           },
           "baxis": {
            "gridcolor": "white",
            "linecolor": "white",
            "ticks": ""
           },
           "bgcolor": "#E5ECF6",
           "caxis": {
            "gridcolor": "white",
            "linecolor": "white",
            "ticks": ""
           }
          },
          "title": {
           "x": 0.05
          },
          "xaxis": {
           "automargin": true,
           "gridcolor": "white",
           "linecolor": "white",
           "ticks": "",
           "title": {
            "standoff": 15
           },
           "zerolinecolor": "white",
           "zerolinewidth": 2
          },
          "yaxis": {
           "automargin": true,
           "gridcolor": "white",
           "linecolor": "white",
           "ticks": "",
           "title": {
            "standoff": 15
           },
           "zerolinecolor": "white",
           "zerolinewidth": 2
          }
         }
        },
        "title": {
         "text": "Hyperparameter Importances"
        },
        "xaxis": {
         "title": {
          "text": "Importance for Objective Value"
         }
        },
        "yaxis": {
         "title": {
          "text": "Hyperparameter"
         }
        }
       }
      }
     },
     "metadata": {},
     "output_type": "display_data"
    }
   ],
   "source": [
    "optuna.visualization.plot_param_importances(study_gbr)"
   ]
  },
  {
   "cell_type": "markdown",
   "metadata": {},
   "source": [
    "### HistGradientBoostingRegressor"
   ]
  },
  {
   "cell_type": "code",
   "execution_count": 20,
   "metadata": {},
   "outputs": [
    {
     "name": "stderr",
     "output_type": "stream",
     "text": [
      "\u001b[32m[I 2022-11-20 20:28:17,139]\u001b[0m A new study created in memory with name: no-name-f3aae29b-e456-4975-b6a0-fd5c026a3247\u001b[0m\n"
     ]
    },
    {
     "data": {
      "application/vnd.jupyter.widget-view+json": {
       "model_id": "d13bf218e2b2417894ae969be86c8cc2",
       "version_major": 2,
       "version_minor": 0
      },
      "text/plain": [
       "  0%|          | 0/20 [00:00<?, ?it/s]"
      ]
     },
     "metadata": {},
     "output_type": "display_data"
    },
    {
     "name": "stdout",
     "output_type": "stream",
     "text": [
      "\u001b[32m[I 2022-11-20 20:28:35,393]\u001b[0m Trial 0 finished with value: 0.13172368523393915 and parameters: {'learning_rate': 0.5901705116749807, 'loss': 'squared_error', 'max_iter': 234, 'max_leaf_nodes': 30, 'l2_regularization': 0.05410920514347051, 'max_bins': 394}. Best is trial 0 with value: 0.13172368523393915.\u001b[0m\n",
      "\u001b[32m[I 2022-11-20 20:28:53,677]\u001b[0m Trial 1 finished with value: 0.12852328181590017 and parameters: {'learning_rate': 0.9079221396217, 'loss': 'poisson', 'max_iter': 572, 'max_leaf_nodes': 30, 'l2_regularization': 0.01805659326310959, 'max_bins': 282}. Best is trial 1 with value: 0.12852328181590017.\u001b[0m\n",
      "\u001b[32m[I 2022-11-20 20:29:13,134]\u001b[0m Trial 2 finished with value: 0.1299508114921602 and parameters: {'learning_rate': 0.3499153431618396, 'loss': 'squared_error', 'max_iter': 119, 'max_leaf_nodes': 47, 'l2_regularization': 0.01048684966109651, 'max_bins': 494}. Best is trial 1 with value: 0.12852328181590017.\u001b[0m\n",
      "\u001b[32m[I 2022-11-20 20:29:31,336]\u001b[0m Trial 3 finished with value: 0.1296274657580119 and parameters: {'learning_rate': 0.04651780315348991, 'loss': 'poisson', 'max_iter': 439, 'max_leaf_nodes': 40, 'l2_regularization': 0.005512789242697669, 'max_bins': 488}. Best is trial 1 with value: 0.12852328181590017.\u001b[0m\n",
      "\u001b[32m[I 2022-11-20 20:29:49,608]\u001b[0m Trial 4 finished with value: 0.1299724158800454 and parameters: {'learning_rate': 0.4922557489521882, 'loss': 'squared_error', 'max_iter': 326, 'max_leaf_nodes': 39, 'l2_regularization': 0.0554673804460369, 'max_bins': 367}. Best is trial 1 with value: 0.12852328181590017.\u001b[0m\n",
      "\u001b[32m[I 2022-11-20 20:30:07,371]\u001b[0m Trial 5 finished with value: 0.12856835951685736 and parameters: {'learning_rate': 0.11560933126805675, 'loss': 'squared_error', 'max_iter': 548, 'max_leaf_nodes': 49, 'l2_regularization': 0.06650665118340492, 'max_bins': 275}. Best is trial 1 with value: 0.12852328181590017.\u001b[0m\n",
      "\u001b[32m[I 2022-11-20 20:30:24,950]\u001b[0m Trial 6 finished with value: 0.12850216849075732 and parameters: {'learning_rate': 0.40617623745437026, 'loss': 'squared_error', 'max_iter': 317, 'max_leaf_nodes': 33, 'l2_regularization': 0.014382046971552721, 'max_bins': 416}. Best is trial 6 with value: 0.12850216849075732.\u001b[0m\n",
      "\u001b[32m[I 2022-11-20 20:30:42,577]\u001b[0m Trial 7 finished with value: 0.12682565928458514 and parameters: {'learning_rate': 0.998249013133991, 'loss': 'poisson', 'max_iter': 160, 'max_leaf_nodes': 38, 'l2_regularization': 0.0747531119135251, 'max_bins': 283}. Best is trial 7 with value: 0.12682565928458514.\u001b[0m\n",
      "\u001b[32m[I 2022-11-20 20:31:00,293]\u001b[0m Trial 8 finished with value: 0.13153785182921246 and parameters: {'learning_rate': 0.9618484288621112, 'loss': 'squared_error', 'max_iter': 438, 'max_leaf_nodes': 33, 'l2_regularization': 0.006029259990282376, 'max_bins': 402}. Best is trial 7 with value: 0.12682565928458514.\u001b[0m\n",
      "\u001b[32m[I 2022-11-20 20:31:18,469]\u001b[0m Trial 9 finished with value: 0.1328502155616291 and parameters: {'learning_rate': 0.44016068799430424, 'loss': 'squared_error', 'max_iter': 258, 'max_leaf_nodes': 32, 'l2_regularization': 0.06860925770910527, 'max_bins': 482}. Best is trial 7 with value: 0.12682565928458514.\u001b[0m\n",
      "\u001b[32m[I 2022-11-20 20:31:36,968]\u001b[0m Trial 10 finished with value: 0.12973672937630942 and parameters: {'learning_rate': 0.7311914102586621, 'loss': 'poisson', 'max_iter': 785, 'max_leaf_nodes': 45, 'l2_regularization': 0.09524596191635379, 'max_bins': 331}. Best is trial 7 with value: 0.12682565928458514.\u001b[0m\n",
      "\u001b[32m[I 2022-11-20 20:31:55,053]\u001b[0m Trial 11 finished with value: 0.12965946557005 and parameters: {'learning_rate': 0.2425393390534193, 'loss': 'poisson', 'max_iter': 100, 'max_leaf_nodes': 37, 'l2_regularization': 0.03770105747079167, 'max_bins': 425}. Best is trial 7 with value: 0.12682565928458514.\u001b[0m\n",
      "\u001b[32m[I 2022-11-20 20:32:12,554]\u001b[0m Trial 12 finished with value: 0.12906896362052772 and parameters: {'learning_rate': 0.7103965970709585, 'loss': 'poisson', 'max_iter': 310, 'max_leaf_nodes': 35, 'l2_regularization': 0.09696338678518182, 'max_bins': 312}. Best is trial 7 with value: 0.12682565928458514.\u001b[0m\n",
      "\u001b[32m[I 2022-11-20 20:32:30,071]\u001b[0m Trial 13 finished with value: 0.13125093378458402 and parameters: {'learning_rate': 0.27429089622684966, 'loss': 'poisson', 'max_iter': 180, 'max_leaf_nodes': 44, 'l2_regularization': 0.03482293833483295, 'max_bins': 444}. Best is trial 7 with value: 0.12682565928458514.\u001b[0m\n",
      "\u001b[32m[I 2022-11-20 20:32:47,967]\u001b[0m Trial 14 finished with value: 0.13004070414487032 and parameters: {'learning_rate': 0.6718102552631893, 'loss': 'squared_error', 'max_iter': 362, 'max_leaf_nodes': 36, 'l2_regularization': 0.0825245203558266, 'max_bins': 344}. Best is trial 7 with value: 0.12682565928458514.\u001b[0m\n",
      "\u001b[32m[I 2022-11-20 20:33:05,762]\u001b[0m Trial 15 finished with value: 0.1304380595565157 and parameters: {'learning_rate': 0.854463779849248, 'loss': 'poisson', 'max_iter': 184, 'max_leaf_nodes': 42, 'l2_regularization': 0.027743744241718674, 'max_bins': 259}. Best is trial 7 with value: 0.12682565928458514.\u001b[0m\n",
      "\u001b[32m[I 2022-11-20 20:33:23,697]\u001b[0m Trial 16 finished with value: 0.1334644503872047 and parameters: {'learning_rate': 0.5894016886071543, 'loss': 'poisson', 'max_iter': 582, 'max_leaf_nodes': 38, 'l2_regularization': 0.07674042439371512, 'max_bins': 448}. Best is trial 7 with value: 0.12682565928458514.\u001b[0m\n",
      "\u001b[32m[I 2022-11-20 20:33:41,214]\u001b[0m Trial 17 finished with value: 0.12998077402881067 and parameters: {'learning_rate': 0.40358014818473475, 'loss': 'squared_error', 'max_iter': 380, 'max_leaf_nodes': 34, 'l2_regularization': 0.04742288428482341, 'max_bins': 366}. Best is trial 7 with value: 0.12682565928458514.\u001b[0m\n",
      "\u001b[32m[I 2022-11-20 20:33:59,079]\u001b[0m Trial 18 finished with value: 0.13096054559672507 and parameters: {'learning_rate': 0.8267784170618944, 'loss': 'squared_error', 'max_iter': 254, 'max_leaf_nodes': 40, 'l2_regularization': 0.08476221120766472, 'max_bins': 310}. Best is trial 7 with value: 0.12682565928458514.\u001b[0m\n",
      "\u001b[32m[I 2022-11-20 20:34:16,703]\u001b[0m Trial 19 finished with value: 0.13108369806954345 and parameters: {'learning_rate': 0.586506158548986, 'loss': 'poisson', 'max_iter': 157, 'max_leaf_nodes': 32, 'l2_regularization': 0.024060330726253937, 'max_bins': 413}. Best is trial 7 with value: 0.12682565928458514.\u001b[0m\n"
     ]
    }
   ],
   "source": [
    "import optuna\n",
    "\n",
    "model = HistGradientBoostingRegressor()\n",
    "def hgrb_object(trial):\n",
    "    prms = {\n",
    "        'learning_rate':trial.suggest_float('learning_rate',1e-5,1),\n",
    "        'loss':trial.suggest_categorical('loss',['squared_error', 'poisson']),\n",
    "        'max_iter':trial.suggest_int('max_iter',100,800),\n",
    "        'max_leaf_nodes':trial.suggest_int('max_leaf_nodes',30,50),\n",
    "        'l2_regularization':trial.suggest_float('l2_regularization',0,1e-1),\n",
    "        'max_bins':trial.suggest_int('max_bins',255,500)   \n",
    "    }\n",
    "    cv_score = cross_val_score(\n",
    "        model,\n",
    "        train_data_rbs,\n",
    "        train_target,\n",
    "        cv=kfold,\n",
    "        scoring='neg_mean_squared_error'\n",
    "    )\n",
    "    return np.sqrt(abs(np.mean(cv_score)))\n",
    "\n",
    "study_hgbr=optuna.create_study(direction='minimize')\n",
    "study_hgbr.optimize(hgrb_object,n_trials=20,show_progress_bar=True)"
   ]
  },
  {
   "cell_type": "code",
   "execution_count": 21,
   "metadata": {},
   "outputs": [
    {
     "data": {
      "text/plain": [
       "{'learning_rate': 0.998249013133991,\n",
       " 'loss': 'poisson',\n",
       " 'max_iter': 160,\n",
       " 'max_leaf_nodes': 38,\n",
       " 'l2_regularization': 0.0747531119135251,\n",
       " 'max_bins': 283}"
      ]
     },
     "execution_count": 21,
     "metadata": {},
     "output_type": "execute_result"
    }
   ],
   "source": [
    "hgbr_best_prms=study_hgbr.best_params\n",
    "hgbr_best_prms\n",
    "hgbr_best_prms['max_bins']=255"
   ]
  },
  {
   "cell_type": "code",
   "execution_count": 22,
   "metadata": {},
   "outputs": [
    {
     "data": {
      "text/plain": [
       "0.12682565928458514"
      ]
     },
     "execution_count": 22,
     "metadata": {},
     "output_type": "execute_result"
    }
   ],
   "source": [
    "study_hgbr.best_value"
   ]
  },
  {
   "cell_type": "code",
   "execution_count": 53,
   "metadata": {},
   "outputs": [],
   "source": [
    "gbr_raw = GradientBoostingRegressor()\n",
    "gbr=GradientBoostingRegressor(**gbr_best_prms)\n",
    "hgbr = HistGradientBoostingRegressor(**hgbr_best_prms)"
   ]
  },
  {
   "cell_type": "code",
   "execution_count": 44,
   "metadata": {},
   "outputs": [],
   "source": [
    "from mlxtend.regressor import StackingRegressor\n",
    "stack_rg = StackingRegressor(\n",
    "    regressors=[gbr_raw,hgbr],\n",
    "    meta_regressor=gbr\n",
    ")"
   ]
  },
  {
   "cell_type": "code",
   "execution_count": 46,
   "metadata": {},
   "outputs": [
    {
     "name": "stdout",
     "output_type": "stream",
     "text": [
      "0.20696864851380462\n"
     ]
    }
   ],
   "source": [
    "model = stack_rg\n",
    "cv_score = cross_val_score(\n",
    "        model,\n",
    "        train_data_rbs,\n",
    "        train_target,\n",
    "        cv=kfold,\n",
    "        scoring='neg_mean_squared_error'\n",
    "    )\n",
    "print(np.sqrt(abs(np.mean(cv_score))))"
   ]
  },
  {
   "cell_type": "code",
   "execution_count": 54,
   "metadata": {},
   "outputs": [
    {
     "ename": "KeyboardInterrupt",
     "evalue": "",
     "output_type": "error",
     "traceback": [
      "\u001b[0;31m---------------------------------------------------------------------------\u001b[0m",
      "\u001b[0;31mKeyboardInterrupt\u001b[0m                         Traceback (most recent call last)",
      "Cell \u001b[0;32mIn [54], line 2\u001b[0m\n\u001b[1;32m      1\u001b[0m model \u001b[39m=\u001b[39m hgbr\n\u001b[0;32m----> 2\u001b[0m cv_score \u001b[39m=\u001b[39m cross_val_score(\n\u001b[1;32m      3\u001b[0m         model,\n\u001b[1;32m      4\u001b[0m         train_data_rbs,\n\u001b[1;32m      5\u001b[0m         train_target,\n\u001b[1;32m      6\u001b[0m         cv\u001b[39m=\u001b[39mkfold,\n\u001b[1;32m      7\u001b[0m         scoring\u001b[39m=\u001b[39m\u001b[39m'\u001b[39m\u001b[39mneg_mean_squared_error\u001b[39m\u001b[39m'\u001b[39m\n\u001b[1;32m      8\u001b[0m     )\n\u001b[1;32m      9\u001b[0m \u001b[39mprint\u001b[39m(np\u001b[39m.\u001b[39msqrt(\u001b[39mabs\u001b[39m(np\u001b[39m.\u001b[39mmean(cv_score))))\n",
      "File \u001b[0;32m/opt/homebrew/Caskroom/miniforge/base/envs/crawling/lib/python3.10/site-packages/sklearn/model_selection/_validation.py:515\u001b[0m, in \u001b[0;36mcross_val_score\u001b[0;34m(estimator, X, y, groups, scoring, cv, n_jobs, verbose, fit_params, pre_dispatch, error_score)\u001b[0m\n\u001b[1;32m    512\u001b[0m \u001b[39m# To ensure multimetric format is not supported\u001b[39;00m\n\u001b[1;32m    513\u001b[0m scorer \u001b[39m=\u001b[39m check_scoring(estimator, scoring\u001b[39m=\u001b[39mscoring)\n\u001b[0;32m--> 515\u001b[0m cv_results \u001b[39m=\u001b[39m cross_validate(\n\u001b[1;32m    516\u001b[0m     estimator\u001b[39m=\u001b[39;49mestimator,\n\u001b[1;32m    517\u001b[0m     X\u001b[39m=\u001b[39;49mX,\n\u001b[1;32m    518\u001b[0m     y\u001b[39m=\u001b[39;49my,\n\u001b[1;32m    519\u001b[0m     groups\u001b[39m=\u001b[39;49mgroups,\n\u001b[1;32m    520\u001b[0m     scoring\u001b[39m=\u001b[39;49m{\u001b[39m\"\u001b[39;49m\u001b[39mscore\u001b[39;49m\u001b[39m\"\u001b[39;49m: scorer},\n\u001b[1;32m    521\u001b[0m     cv\u001b[39m=\u001b[39;49mcv,\n\u001b[1;32m    522\u001b[0m     n_jobs\u001b[39m=\u001b[39;49mn_jobs,\n\u001b[1;32m    523\u001b[0m     verbose\u001b[39m=\u001b[39;49mverbose,\n\u001b[1;32m    524\u001b[0m     fit_params\u001b[39m=\u001b[39;49mfit_params,\n\u001b[1;32m    525\u001b[0m     pre_dispatch\u001b[39m=\u001b[39;49mpre_dispatch,\n\u001b[1;32m    526\u001b[0m     error_score\u001b[39m=\u001b[39;49merror_score,\n\u001b[1;32m    527\u001b[0m )\n\u001b[1;32m    528\u001b[0m \u001b[39mreturn\u001b[39;00m cv_results[\u001b[39m\"\u001b[39m\u001b[39mtest_score\u001b[39m\u001b[39m\"\u001b[39m]\n",
      "File \u001b[0;32m/opt/homebrew/Caskroom/miniforge/base/envs/crawling/lib/python3.10/site-packages/sklearn/model_selection/_validation.py:266\u001b[0m, in \u001b[0;36mcross_validate\u001b[0;34m(estimator, X, y, groups, scoring, cv, n_jobs, verbose, fit_params, pre_dispatch, return_train_score, return_estimator, error_score)\u001b[0m\n\u001b[1;32m    263\u001b[0m \u001b[39m# We clone the estimator to make sure that all the folds are\u001b[39;00m\n\u001b[1;32m    264\u001b[0m \u001b[39m# independent, and that it is pickle-able.\u001b[39;00m\n\u001b[1;32m    265\u001b[0m parallel \u001b[39m=\u001b[39m Parallel(n_jobs\u001b[39m=\u001b[39mn_jobs, verbose\u001b[39m=\u001b[39mverbose, pre_dispatch\u001b[39m=\u001b[39mpre_dispatch)\n\u001b[0;32m--> 266\u001b[0m results \u001b[39m=\u001b[39m parallel(\n\u001b[1;32m    267\u001b[0m     delayed(_fit_and_score)(\n\u001b[1;32m    268\u001b[0m         clone(estimator),\n\u001b[1;32m    269\u001b[0m         X,\n\u001b[1;32m    270\u001b[0m         y,\n\u001b[1;32m    271\u001b[0m         scorers,\n\u001b[1;32m    272\u001b[0m         train,\n\u001b[1;32m    273\u001b[0m         test,\n\u001b[1;32m    274\u001b[0m         verbose,\n\u001b[1;32m    275\u001b[0m         \u001b[39mNone\u001b[39;49;00m,\n\u001b[1;32m    276\u001b[0m         fit_params,\n\u001b[1;32m    277\u001b[0m         return_train_score\u001b[39m=\u001b[39;49mreturn_train_score,\n\u001b[1;32m    278\u001b[0m         return_times\u001b[39m=\u001b[39;49m\u001b[39mTrue\u001b[39;49;00m,\n\u001b[1;32m    279\u001b[0m         return_estimator\u001b[39m=\u001b[39;49mreturn_estimator,\n\u001b[1;32m    280\u001b[0m         error_score\u001b[39m=\u001b[39;49merror_score,\n\u001b[1;32m    281\u001b[0m     )\n\u001b[1;32m    282\u001b[0m     \u001b[39mfor\u001b[39;49;00m train, test \u001b[39min\u001b[39;49;00m cv\u001b[39m.\u001b[39;49msplit(X, y, groups)\n\u001b[1;32m    283\u001b[0m )\n\u001b[1;32m    285\u001b[0m _warn_or_raise_about_fit_failures(results, error_score)\n\u001b[1;32m    287\u001b[0m \u001b[39m# For callabe scoring, the return type is only know after calling. If the\u001b[39;00m\n\u001b[1;32m    288\u001b[0m \u001b[39m# return type is a dictionary, the error scores can now be inserted with\u001b[39;00m\n\u001b[1;32m    289\u001b[0m \u001b[39m# the correct key.\u001b[39;00m\n",
      "File \u001b[0;32m/opt/homebrew/Caskroom/miniforge/base/envs/crawling/lib/python3.10/site-packages/joblib/parallel.py:1085\u001b[0m, in \u001b[0;36mParallel.__call__\u001b[0;34m(self, iterable)\u001b[0m\n\u001b[1;32m   1076\u001b[0m \u001b[39mtry\u001b[39;00m:\n\u001b[1;32m   1077\u001b[0m     \u001b[39m# Only set self._iterating to True if at least a batch\u001b[39;00m\n\u001b[1;32m   1078\u001b[0m     \u001b[39m# was dispatched. In particular this covers the edge\u001b[39;00m\n\u001b[0;32m   (...)\u001b[0m\n\u001b[1;32m   1082\u001b[0m     \u001b[39m# was very quick and its callback already dispatched all the\u001b[39;00m\n\u001b[1;32m   1083\u001b[0m     \u001b[39m# remaining jobs.\u001b[39;00m\n\u001b[1;32m   1084\u001b[0m     \u001b[39mself\u001b[39m\u001b[39m.\u001b[39m_iterating \u001b[39m=\u001b[39m \u001b[39mFalse\u001b[39;00m\n\u001b[0;32m-> 1085\u001b[0m     \u001b[39mif\u001b[39;00m \u001b[39mself\u001b[39;49m\u001b[39m.\u001b[39;49mdispatch_one_batch(iterator):\n\u001b[1;32m   1086\u001b[0m         \u001b[39mself\u001b[39m\u001b[39m.\u001b[39m_iterating \u001b[39m=\u001b[39m \u001b[39mself\u001b[39m\u001b[39m.\u001b[39m_original_iterator \u001b[39mis\u001b[39;00m \u001b[39mnot\u001b[39;00m \u001b[39mNone\u001b[39;00m\n\u001b[1;32m   1088\u001b[0m     \u001b[39mwhile\u001b[39;00m \u001b[39mself\u001b[39m\u001b[39m.\u001b[39mdispatch_one_batch(iterator):\n",
      "File \u001b[0;32m/opt/homebrew/Caskroom/miniforge/base/envs/crawling/lib/python3.10/site-packages/joblib/parallel.py:901\u001b[0m, in \u001b[0;36mParallel.dispatch_one_batch\u001b[0;34m(self, iterator)\u001b[0m\n\u001b[1;32m    899\u001b[0m     \u001b[39mreturn\u001b[39;00m \u001b[39mFalse\u001b[39;00m\n\u001b[1;32m    900\u001b[0m \u001b[39melse\u001b[39;00m:\n\u001b[0;32m--> 901\u001b[0m     \u001b[39mself\u001b[39;49m\u001b[39m.\u001b[39;49m_dispatch(tasks)\n\u001b[1;32m    902\u001b[0m     \u001b[39mreturn\u001b[39;00m \u001b[39mTrue\u001b[39;00m\n",
      "File \u001b[0;32m/opt/homebrew/Caskroom/miniforge/base/envs/crawling/lib/python3.10/site-packages/joblib/parallel.py:819\u001b[0m, in \u001b[0;36mParallel._dispatch\u001b[0;34m(self, batch)\u001b[0m\n\u001b[1;32m    817\u001b[0m \u001b[39mwith\u001b[39;00m \u001b[39mself\u001b[39m\u001b[39m.\u001b[39m_lock:\n\u001b[1;32m    818\u001b[0m     job_idx \u001b[39m=\u001b[39m \u001b[39mlen\u001b[39m(\u001b[39mself\u001b[39m\u001b[39m.\u001b[39m_jobs)\n\u001b[0;32m--> 819\u001b[0m     job \u001b[39m=\u001b[39m \u001b[39mself\u001b[39;49m\u001b[39m.\u001b[39;49m_backend\u001b[39m.\u001b[39;49mapply_async(batch, callback\u001b[39m=\u001b[39;49mcb)\n\u001b[1;32m    820\u001b[0m     \u001b[39m# A job can complete so quickly than its callback is\u001b[39;00m\n\u001b[1;32m    821\u001b[0m     \u001b[39m# called before we get here, causing self._jobs to\u001b[39;00m\n\u001b[1;32m    822\u001b[0m     \u001b[39m# grow. To ensure correct results ordering, .insert is\u001b[39;00m\n\u001b[1;32m    823\u001b[0m     \u001b[39m# used (rather than .append) in the following line\u001b[39;00m\n\u001b[1;32m    824\u001b[0m     \u001b[39mself\u001b[39m\u001b[39m.\u001b[39m_jobs\u001b[39m.\u001b[39minsert(job_idx, job)\n",
      "File \u001b[0;32m/opt/homebrew/Caskroom/miniforge/base/envs/crawling/lib/python3.10/site-packages/joblib/_parallel_backends.py:208\u001b[0m, in \u001b[0;36mSequentialBackend.apply_async\u001b[0;34m(self, func, callback)\u001b[0m\n\u001b[1;32m    206\u001b[0m \u001b[39mdef\u001b[39;00m \u001b[39mapply_async\u001b[39m(\u001b[39mself\u001b[39m, func, callback\u001b[39m=\u001b[39m\u001b[39mNone\u001b[39;00m):\n\u001b[1;32m    207\u001b[0m     \u001b[39m\"\"\"Schedule a func to be run\"\"\"\u001b[39;00m\n\u001b[0;32m--> 208\u001b[0m     result \u001b[39m=\u001b[39m ImmediateResult(func)\n\u001b[1;32m    209\u001b[0m     \u001b[39mif\u001b[39;00m callback:\n\u001b[1;32m    210\u001b[0m         callback(result)\n",
      "File \u001b[0;32m/opt/homebrew/Caskroom/miniforge/base/envs/crawling/lib/python3.10/site-packages/joblib/_parallel_backends.py:597\u001b[0m, in \u001b[0;36mImmediateResult.__init__\u001b[0;34m(self, batch)\u001b[0m\n\u001b[1;32m    594\u001b[0m \u001b[39mdef\u001b[39;00m \u001b[39m__init__\u001b[39m(\u001b[39mself\u001b[39m, batch):\n\u001b[1;32m    595\u001b[0m     \u001b[39m# Don't delay the application, to avoid keeping the input\u001b[39;00m\n\u001b[1;32m    596\u001b[0m     \u001b[39m# arguments in memory\u001b[39;00m\n\u001b[0;32m--> 597\u001b[0m     \u001b[39mself\u001b[39m\u001b[39m.\u001b[39mresults \u001b[39m=\u001b[39m batch()\n",
      "File \u001b[0;32m/opt/homebrew/Caskroom/miniforge/base/envs/crawling/lib/python3.10/site-packages/joblib/parallel.py:288\u001b[0m, in \u001b[0;36mBatchedCalls.__call__\u001b[0;34m(self)\u001b[0m\n\u001b[1;32m    284\u001b[0m \u001b[39mdef\u001b[39;00m \u001b[39m__call__\u001b[39m(\u001b[39mself\u001b[39m):\n\u001b[1;32m    285\u001b[0m     \u001b[39m# Set the default nested backend to self._backend but do not set the\u001b[39;00m\n\u001b[1;32m    286\u001b[0m     \u001b[39m# change the default number of processes to -1\u001b[39;00m\n\u001b[1;32m    287\u001b[0m     \u001b[39mwith\u001b[39;00m parallel_backend(\u001b[39mself\u001b[39m\u001b[39m.\u001b[39m_backend, n_jobs\u001b[39m=\u001b[39m\u001b[39mself\u001b[39m\u001b[39m.\u001b[39m_n_jobs):\n\u001b[0;32m--> 288\u001b[0m         \u001b[39mreturn\u001b[39;00m [func(\u001b[39m*\u001b[39margs, \u001b[39m*\u001b[39m\u001b[39m*\u001b[39mkwargs)\n\u001b[1;32m    289\u001b[0m                 \u001b[39mfor\u001b[39;00m func, args, kwargs \u001b[39min\u001b[39;00m \u001b[39mself\u001b[39m\u001b[39m.\u001b[39mitems]\n",
      "File \u001b[0;32m/opt/homebrew/Caskroom/miniforge/base/envs/crawling/lib/python3.10/site-packages/joblib/parallel.py:288\u001b[0m, in \u001b[0;36m<listcomp>\u001b[0;34m(.0)\u001b[0m\n\u001b[1;32m    284\u001b[0m \u001b[39mdef\u001b[39;00m \u001b[39m__call__\u001b[39m(\u001b[39mself\u001b[39m):\n\u001b[1;32m    285\u001b[0m     \u001b[39m# Set the default nested backend to self._backend but do not set the\u001b[39;00m\n\u001b[1;32m    286\u001b[0m     \u001b[39m# change the default number of processes to -1\u001b[39;00m\n\u001b[1;32m    287\u001b[0m     \u001b[39mwith\u001b[39;00m parallel_backend(\u001b[39mself\u001b[39m\u001b[39m.\u001b[39m_backend, n_jobs\u001b[39m=\u001b[39m\u001b[39mself\u001b[39m\u001b[39m.\u001b[39m_n_jobs):\n\u001b[0;32m--> 288\u001b[0m         \u001b[39mreturn\u001b[39;00m [func(\u001b[39m*\u001b[39;49margs, \u001b[39m*\u001b[39;49m\u001b[39m*\u001b[39;49mkwargs)\n\u001b[1;32m    289\u001b[0m                 \u001b[39mfor\u001b[39;00m func, args, kwargs \u001b[39min\u001b[39;00m \u001b[39mself\u001b[39m\u001b[39m.\u001b[39mitems]\n",
      "File \u001b[0;32m/opt/homebrew/Caskroom/miniforge/base/envs/crawling/lib/python3.10/site-packages/sklearn/utils/fixes.py:117\u001b[0m, in \u001b[0;36m_FuncWrapper.__call__\u001b[0;34m(self, *args, **kwargs)\u001b[0m\n\u001b[1;32m    115\u001b[0m \u001b[39mdef\u001b[39;00m \u001b[39m__call__\u001b[39m(\u001b[39mself\u001b[39m, \u001b[39m*\u001b[39margs, \u001b[39m*\u001b[39m\u001b[39m*\u001b[39mkwargs):\n\u001b[1;32m    116\u001b[0m     \u001b[39mwith\u001b[39;00m config_context(\u001b[39m*\u001b[39m\u001b[39m*\u001b[39m\u001b[39mself\u001b[39m\u001b[39m.\u001b[39mconfig):\n\u001b[0;32m--> 117\u001b[0m         \u001b[39mreturn\u001b[39;00m \u001b[39mself\u001b[39;49m\u001b[39m.\u001b[39;49mfunction(\u001b[39m*\u001b[39;49margs, \u001b[39m*\u001b[39;49m\u001b[39m*\u001b[39;49mkwargs)\n",
      "File \u001b[0;32m/opt/homebrew/Caskroom/miniforge/base/envs/crawling/lib/python3.10/site-packages/sklearn/model_selection/_validation.py:686\u001b[0m, in \u001b[0;36m_fit_and_score\u001b[0;34m(estimator, X, y, scorer, train, test, verbose, parameters, fit_params, return_train_score, return_parameters, return_n_test_samples, return_times, return_estimator, split_progress, candidate_progress, error_score)\u001b[0m\n\u001b[1;32m    684\u001b[0m         estimator\u001b[39m.\u001b[39mfit(X_train, \u001b[39m*\u001b[39m\u001b[39m*\u001b[39mfit_params)\n\u001b[1;32m    685\u001b[0m     \u001b[39melse\u001b[39;00m:\n\u001b[0;32m--> 686\u001b[0m         estimator\u001b[39m.\u001b[39;49mfit(X_train, y_train, \u001b[39m*\u001b[39;49m\u001b[39m*\u001b[39;49mfit_params)\n\u001b[1;32m    688\u001b[0m \u001b[39mexcept\u001b[39;00m \u001b[39mException\u001b[39;00m:\n\u001b[1;32m    689\u001b[0m     \u001b[39m# Note fit time as time until error\u001b[39;00m\n\u001b[1;32m    690\u001b[0m     fit_time \u001b[39m=\u001b[39m time\u001b[39m.\u001b[39mtime() \u001b[39m-\u001b[39m start_time\n",
      "File \u001b[0;32m/opt/homebrew/Caskroom/miniforge/base/envs/crawling/lib/python3.10/site-packages/sklearn/ensemble/_hist_gradient_boosting/gradient_boosting.py:590\u001b[0m, in \u001b[0;36mBaseHistGradientBoosting.fit\u001b[0;34m(self, X, y, sample_weight)\u001b[0m\n\u001b[1;32m    588\u001b[0m \u001b[39m# Build `n_trees_per_iteration` trees.\u001b[39;00m\n\u001b[1;32m    589\u001b[0m \u001b[39mfor\u001b[39;00m k \u001b[39min\u001b[39;00m \u001b[39mrange\u001b[39m(\u001b[39mself\u001b[39m\u001b[39m.\u001b[39mn_trees_per_iteration_):\n\u001b[0;32m--> 590\u001b[0m     grower \u001b[39m=\u001b[39m TreeGrower(\n\u001b[1;32m    591\u001b[0m         X_binned\u001b[39m=\u001b[39;49mX_binned_train,\n\u001b[1;32m    592\u001b[0m         gradients\u001b[39m=\u001b[39;49mg_view[:, k],\n\u001b[1;32m    593\u001b[0m         hessians\u001b[39m=\u001b[39;49mh_view[:, k],\n\u001b[1;32m    594\u001b[0m         n_bins\u001b[39m=\u001b[39;49mn_bins,\n\u001b[1;32m    595\u001b[0m         n_bins_non_missing\u001b[39m=\u001b[39;49m\u001b[39mself\u001b[39;49m\u001b[39m.\u001b[39;49m_bin_mapper\u001b[39m.\u001b[39;49mn_bins_non_missing_,\n\u001b[1;32m    596\u001b[0m         has_missing_values\u001b[39m=\u001b[39;49mhas_missing_values,\n\u001b[1;32m    597\u001b[0m         is_categorical\u001b[39m=\u001b[39;49m\u001b[39mself\u001b[39;49m\u001b[39m.\u001b[39;49mis_categorical_,\n\u001b[1;32m    598\u001b[0m         monotonic_cst\u001b[39m=\u001b[39;49m\u001b[39mself\u001b[39;49m\u001b[39m.\u001b[39;49mmonotonic_cst,\n\u001b[1;32m    599\u001b[0m         max_leaf_nodes\u001b[39m=\u001b[39;49m\u001b[39mself\u001b[39;49m\u001b[39m.\u001b[39;49mmax_leaf_nodes,\n\u001b[1;32m    600\u001b[0m         max_depth\u001b[39m=\u001b[39;49m\u001b[39mself\u001b[39;49m\u001b[39m.\u001b[39;49mmax_depth,\n\u001b[1;32m    601\u001b[0m         min_samples_leaf\u001b[39m=\u001b[39;49m\u001b[39mself\u001b[39;49m\u001b[39m.\u001b[39;49mmin_samples_leaf,\n\u001b[1;32m    602\u001b[0m         l2_regularization\u001b[39m=\u001b[39;49m\u001b[39mself\u001b[39;49m\u001b[39m.\u001b[39;49ml2_regularization,\n\u001b[1;32m    603\u001b[0m         shrinkage\u001b[39m=\u001b[39;49m\u001b[39mself\u001b[39;49m\u001b[39m.\u001b[39;49mlearning_rate,\n\u001b[1;32m    604\u001b[0m         n_threads\u001b[39m=\u001b[39;49mn_threads,\n\u001b[1;32m    605\u001b[0m     )\n\u001b[1;32m    606\u001b[0m     grower\u001b[39m.\u001b[39mgrow()\n\u001b[1;32m    608\u001b[0m     acc_apply_split_time \u001b[39m+\u001b[39m\u001b[39m=\u001b[39m grower\u001b[39m.\u001b[39mtotal_apply_split_time\n",
      "File \u001b[0;32m/opt/homebrew/Caskroom/miniforge/base/envs/crawling/lib/python3.10/site-packages/sklearn/ensemble/_hist_gradient_boosting/grower.py:306\u001b[0m, in \u001b[0;36mTreeGrower.__init__\u001b[0;34m(self, X_binned, gradients, hessians, max_leaf_nodes, max_depth, min_samples_leaf, min_gain_to_split, n_bins, n_bins_non_missing, has_missing_values, is_categorical, monotonic_cst, l2_regularization, min_hessian_to_split, shrinkage, n_threads)\u001b[0m\n\u001b[1;32m    304\u001b[0m \u001b[39mself\u001b[39m\u001b[39m.\u001b[39mtotal_apply_split_time \u001b[39m=\u001b[39m \u001b[39m0.0\u001b[39m  \u001b[39m# time spent splitting nodes\u001b[39;00m\n\u001b[1;32m    305\u001b[0m \u001b[39mself\u001b[39m\u001b[39m.\u001b[39mn_categorical_splits \u001b[39m=\u001b[39m \u001b[39m0\u001b[39m\n\u001b[0;32m--> 306\u001b[0m \u001b[39mself\u001b[39;49m\u001b[39m.\u001b[39;49m_intilialize_root(gradients, hessians, hessians_are_constant)\n\u001b[1;32m    307\u001b[0m \u001b[39mself\u001b[39m\u001b[39m.\u001b[39mn_nodes \u001b[39m=\u001b[39m \u001b[39m1\u001b[39m\n",
      "File \u001b[0;32m/opt/homebrew/Caskroom/miniforge/base/envs/crawling/lib/python3.10/site-packages/sklearn/ensemble/_hist_gradient_boosting/grower.py:404\u001b[0m, in \u001b[0;36mTreeGrower._intilialize_root\u001b[0;34m(self, gradients, hessians, hessians_are_constant)\u001b[0m\n\u001b[1;32m    401\u001b[0m     \u001b[39mself\u001b[39m\u001b[39m.\u001b[39m_finalize_leaf(\u001b[39mself\u001b[39m\u001b[39m.\u001b[39mroot)\n\u001b[1;32m    402\u001b[0m     \u001b[39mreturn\u001b[39;00m\n\u001b[0;32m--> 404\u001b[0m \u001b[39mself\u001b[39m\u001b[39m.\u001b[39mroot\u001b[39m.\u001b[39mhistograms \u001b[39m=\u001b[39m \u001b[39mself\u001b[39;49m\u001b[39m.\u001b[39;49mhistogram_builder\u001b[39m.\u001b[39;49mcompute_histograms_brute(\n\u001b[1;32m    405\u001b[0m     \u001b[39mself\u001b[39;49m\u001b[39m.\u001b[39;49mroot\u001b[39m.\u001b[39;49msample_indices\n\u001b[1;32m    406\u001b[0m )\n\u001b[1;32m    407\u001b[0m \u001b[39mself\u001b[39m\u001b[39m.\u001b[39m_compute_best_split_and_push(\u001b[39mself\u001b[39m\u001b[39m.\u001b[39mroot)\n",
      "\u001b[0;31mKeyboardInterrupt\u001b[0m: "
     ]
    }
   ],
   "source": [
    "model = hgbr\n",
    "cv_score = cross_val_score(\n",
    "        model,\n",
    "        train_data_rbs,\n",
    "        train_target,\n",
    "        cv=kfold,\n",
    "        scoring='neg_mean_squared_error'\n",
    "    )\n",
    "print(np.sqrt(abs(np.mean(cv_score))))"
   ]
  },
  {
   "cell_type": "code",
   "execution_count": 57,
   "metadata": {},
   "outputs": [
    {
     "name": "stdout",
     "output_type": "stream",
     "text": [
      "0.1557386439985514\n"
     ]
    }
   ],
   "source": [
    "model = gbr\n",
    "cv_score = cross_val_score(\n",
    "        model,\n",
    "        train_data_rbs,\n",
    "        train_target,\n",
    "        cv=kfold,\n",
    "        scoring='neg_mean_squared_error'\n",
    "    )\n",
    "print(np.sqrt(abs(np.mean(cv_score))))"
   ]
  },
  {
   "cell_type": "code",
   "execution_count": 61,
   "metadata": {},
   "outputs": [
    {
     "name": "stdout",
     "output_type": "stream",
     "text": [
      "0.12436063158172501\n"
     ]
    }
   ],
   "source": [
    "model = GradientBoostingRegressor(criterion='mse')\n",
    "cv_score = cross_val_score(\n",
    "        model,\n",
    "        train_data_rbs,\n",
    "        train_target,\n",
    "        cv=kfold,\n",
    "        scoring='neg_mean_squared_error'\n",
    "    )\n",
    "print(np.sqrt(abs(np.mean(cv_score))))"
   ]
  },
  {
   "cell_type": "code",
   "execution_count": 62,
   "metadata": {},
   "outputs": [
    {
     "data": {
      "text/html": [
       "<style>#sk-container-id-2 {color: black;background-color: white;}#sk-container-id-2 pre{padding: 0;}#sk-container-id-2 div.sk-toggleable {background-color: white;}#sk-container-id-2 label.sk-toggleable__label {cursor: pointer;display: block;width: 100%;margin-bottom: 0;padding: 0.3em;box-sizing: border-box;text-align: center;}#sk-container-id-2 label.sk-toggleable__label-arrow:before {content: \"▸\";float: left;margin-right: 0.25em;color: #696969;}#sk-container-id-2 label.sk-toggleable__label-arrow:hover:before {color: black;}#sk-container-id-2 div.sk-estimator:hover label.sk-toggleable__label-arrow:before {color: black;}#sk-container-id-2 div.sk-toggleable__content {max-height: 0;max-width: 0;overflow: hidden;text-align: left;background-color: #f0f8ff;}#sk-container-id-2 div.sk-toggleable__content pre {margin: 0.2em;color: black;border-radius: 0.25em;background-color: #f0f8ff;}#sk-container-id-2 input.sk-toggleable__control:checked~div.sk-toggleable__content {max-height: 200px;max-width: 100%;overflow: auto;}#sk-container-id-2 input.sk-toggleable__control:checked~label.sk-toggleable__label-arrow:before {content: \"▾\";}#sk-container-id-2 div.sk-estimator input.sk-toggleable__control:checked~label.sk-toggleable__label {background-color: #d4ebff;}#sk-container-id-2 div.sk-label input.sk-toggleable__control:checked~label.sk-toggleable__label {background-color: #d4ebff;}#sk-container-id-2 input.sk-hidden--visually {border: 0;clip: rect(1px 1px 1px 1px);clip: rect(1px, 1px, 1px, 1px);height: 1px;margin: -1px;overflow: hidden;padding: 0;position: absolute;width: 1px;}#sk-container-id-2 div.sk-estimator {font-family: monospace;background-color: #f0f8ff;border: 1px dotted black;border-radius: 0.25em;box-sizing: border-box;margin-bottom: 0.5em;}#sk-container-id-2 div.sk-estimator:hover {background-color: #d4ebff;}#sk-container-id-2 div.sk-parallel-item::after {content: \"\";width: 100%;border-bottom: 1px solid gray;flex-grow: 1;}#sk-container-id-2 div.sk-label:hover label.sk-toggleable__label {background-color: #d4ebff;}#sk-container-id-2 div.sk-serial::before {content: \"\";position: absolute;border-left: 1px solid gray;box-sizing: border-box;top: 0;bottom: 0;left: 50%;z-index: 0;}#sk-container-id-2 div.sk-serial {display: flex;flex-direction: column;align-items: center;background-color: white;padding-right: 0.2em;padding-left: 0.2em;position: relative;}#sk-container-id-2 div.sk-item {position: relative;z-index: 1;}#sk-container-id-2 div.sk-parallel {display: flex;align-items: stretch;justify-content: center;background-color: white;position: relative;}#sk-container-id-2 div.sk-item::before, #sk-container-id-2 div.sk-parallel-item::before {content: \"\";position: absolute;border-left: 1px solid gray;box-sizing: border-box;top: 0;bottom: 0;left: 50%;z-index: -1;}#sk-container-id-2 div.sk-parallel-item {display: flex;flex-direction: column;z-index: 1;position: relative;background-color: white;}#sk-container-id-2 div.sk-parallel-item:first-child::after {align-self: flex-end;width: 50%;}#sk-container-id-2 div.sk-parallel-item:last-child::after {align-self: flex-start;width: 50%;}#sk-container-id-2 div.sk-parallel-item:only-child::after {width: 0;}#sk-container-id-2 div.sk-dashed-wrapped {border: 1px dashed gray;margin: 0 0.4em 0.5em 0.4em;box-sizing: border-box;padding-bottom: 0.4em;background-color: white;}#sk-container-id-2 div.sk-label label {font-family: monospace;font-weight: bold;display: inline-block;line-height: 1.2em;}#sk-container-id-2 div.sk-label-container {text-align: center;}#sk-container-id-2 div.sk-container {/* jupyter's `normalize.less` sets `[hidden] { display: none; }` but bootstrap.min.css set `[hidden] { display: none !important; }` so we also need the `!important` here to be able to override the default hidden behavior on the sphinx rendered scikit-learn.org. See: https://github.com/scikit-learn/scikit-learn/issues/21755 */display: inline-block !important;position: relative;}#sk-container-id-2 div.sk-text-repr-fallback {display: none;}</style><div id=\"sk-container-id-2\" class=\"sk-top-container\"><div class=\"sk-text-repr-fallback\"><pre>GradientBoostingRegressor(criterion=&#x27;mse&#x27;)</pre><b>In a Jupyter environment, please rerun this cell to show the HTML representation or trust the notebook. <br />On GitHub, the HTML representation is unable to render, please try loading this page with nbviewer.org.</b></div><div class=\"sk-container\" hidden><div class=\"sk-item\"><div class=\"sk-estimator sk-toggleable\"><input class=\"sk-toggleable__control sk-hidden--visually\" id=\"sk-estimator-id-2\" type=\"checkbox\" checked><label for=\"sk-estimator-id-2\" class=\"sk-toggleable__label sk-toggleable__label-arrow\">GradientBoostingRegressor</label><div class=\"sk-toggleable__content\"><pre>GradientBoostingRegressor(criterion=&#x27;mse&#x27;)</pre></div></div></div></div></div>"
      ],
      "text/plain": [
       "GradientBoostingRegressor(criterion='mse')"
      ]
     },
     "execution_count": 62,
     "metadata": {},
     "output_type": "execute_result"
    }
   ],
   "source": [
    "model.fit(train_data_rbs,train_target)"
   ]
  },
  {
   "cell_type": "code",
   "execution_count": 63,
   "metadata": {},
   "outputs": [],
   "source": [
    "ans=model.predict(test_data_rbs)"
   ]
  },
  {
   "cell_type": "code",
   "execution_count": 66,
   "metadata": {},
   "outputs": [],
   "source": [
    "test_data['SalePrice']=np.expm1(ans)"
   ]
  },
  {
   "cell_type": "code",
   "execution_count": 69,
   "metadata": {},
   "outputs": [],
   "source": [
    "pd.DataFrame(test_data.loc[:,'SalePrice']).to_csv('gbr_with_mse.csv')"
   ]
  },
  {
   "cell_type": "code",
   "execution_count": null,
   "metadata": {},
   "outputs": [],
   "source": []
  }
 ],
 "metadata": {
  "kernelspec": {
   "display_name": "Python 3.10.6 ('crawling')",
   "language": "python",
   "name": "python3"
  },
  "language_info": {
   "codemirror_mode": {
    "name": "ipython",
    "version": 3
   },
   "file_extension": ".py",
   "mimetype": "text/x-python",
   "name": "python",
   "nbconvert_exporter": "python",
   "pygments_lexer": "ipython3",
   "version": "3.10.6"
  },
  "orig_nbformat": 4,
  "vscode": {
   "interpreter": {
    "hash": "10621530bc52bc3dcaea48e2b7ef028942e35d2e6e9c9234a88fefd069caf90f"
   }
  }
 },
 "nbformat": 4,
 "nbformat_minor": 2
}
