{
  "cells": [
    {
      "cell_type": "markdown",
      "metadata": {
        "id": "YjyET-ECqKNE"
      },
      "source": [
        "### 필요한 패키지들"
      ]
    },
    {
      "cell_type": "code",
      "execution_count": 1,
      "metadata": {
        "colab": {
          "base_uri": "https://localhost:8080/",
          "height": 35
        },
        "id": "2u1K3AjQqKNH",
        "outputId": "b0976f88-3a5f-439a-bb81-8687df578449"
      },
      "outputs": [
        {
          "data": {
            "text/plain": [
              "'0.21.0'"
            ]
          },
          "execution_count": 1,
          "metadata": {},
          "output_type": "execute_result"
        }
      ],
      "source": [
        "import mlxtend\n",
        "mlxtend.__version__"
      ]
    },
    {
      "cell_type": "code",
      "execution_count": 2,
      "metadata": {
        "id": "cl4WPeoMqKNI"
      },
      "outputs": [],
      "source": [
        "import pandas as pd\n",
        "import numpy as np\n",
        "from collections import Counter\n",
        "import matplotlib.pyplot as plt\n",
        "import seaborn as sns\n",
        "from IPython.display import Image\n",
        "import scipy.stats as stats\n",
        "from sklearn.model_selection import train_test_split\n",
        "%matplotlib inline"
      ]
    },
    {
      "cell_type": "markdown",
      "metadata": {
        "id": "SC3x1eFbqKNJ"
      },
      "source": [
        "### 데이터 불러들이기 및 확인"
      ]
    },
    {
      "cell_type": "code",
      "execution_count": 5,
      "metadata": {
        "id": "yUneNWrztKc7"
      },
      "outputs": [],
      "source": [
        "train_path = \"../../../raw_data/raw_house/raw_house_train.csv\"\n",
        "test_path = \"../../../raw_data/raw_house/raw_house_test.csv\""
      ]
    },
    {
      "cell_type": "code",
      "execution_count": 6,
      "metadata": {
        "id": "QerQS5XWqKNJ"
      },
      "outputs": [],
      "source": [
        "train_df = pd.read_csv(train_path)\n",
        "test_df = pd.read_csv(test_path)"
      ]
    },
    {
      "cell_type": "code",
      "execution_count": 7,
      "metadata": {
        "colab": {
          "base_uri": "https://localhost:8080/",
          "height": 236
        },
        "id": "Yi-uv7PJqKNJ",
        "outputId": "fd14c7d1-ed81-43aa-df8a-f4543749a87f"
      },
      "outputs": [
        {
          "data": {
            "text/html": [
              "<div>\n",
              "<style scoped>\n",
              "    .dataframe tbody tr th:only-of-type {\n",
              "        vertical-align: middle;\n",
              "    }\n",
              "\n",
              "    .dataframe tbody tr th {\n",
              "        vertical-align: top;\n",
              "    }\n",
              "\n",
              "    .dataframe thead th {\n",
              "        text-align: right;\n",
              "    }\n",
              "</style>\n",
              "<table border=\"1\" class=\"dataframe\">\n",
              "  <thead>\n",
              "    <tr style=\"text-align: right;\">\n",
              "      <th></th>\n",
              "      <th>Id</th>\n",
              "      <th>MSSubClass</th>\n",
              "      <th>MSZoning</th>\n",
              "      <th>LotFrontage</th>\n",
              "      <th>LotArea</th>\n",
              "      <th>Street</th>\n",
              "      <th>Alley</th>\n",
              "      <th>LotShape</th>\n",
              "      <th>LandContour</th>\n",
              "      <th>Utilities</th>\n",
              "      <th>...</th>\n",
              "      <th>PoolArea</th>\n",
              "      <th>PoolQC</th>\n",
              "      <th>Fence</th>\n",
              "      <th>MiscFeature</th>\n",
              "      <th>MiscVal</th>\n",
              "      <th>MoSold</th>\n",
              "      <th>YrSold</th>\n",
              "      <th>SaleType</th>\n",
              "      <th>SaleCondition</th>\n",
              "      <th>SalePrice</th>\n",
              "    </tr>\n",
              "  </thead>\n",
              "  <tbody>\n",
              "    <tr>\n",
              "      <th>0</th>\n",
              "      <td>1</td>\n",
              "      <td>60</td>\n",
              "      <td>RL</td>\n",
              "      <td>65.0</td>\n",
              "      <td>8450</td>\n",
              "      <td>Pave</td>\n",
              "      <td>NaN</td>\n",
              "      <td>Reg</td>\n",
              "      <td>Lvl</td>\n",
              "      <td>AllPub</td>\n",
              "      <td>...</td>\n",
              "      <td>0</td>\n",
              "      <td>NaN</td>\n",
              "      <td>NaN</td>\n",
              "      <td>NaN</td>\n",
              "      <td>0</td>\n",
              "      <td>2</td>\n",
              "      <td>2008</td>\n",
              "      <td>WD</td>\n",
              "      <td>Normal</td>\n",
              "      <td>208500</td>\n",
              "    </tr>\n",
              "    <tr>\n",
              "      <th>1</th>\n",
              "      <td>2</td>\n",
              "      <td>20</td>\n",
              "      <td>RL</td>\n",
              "      <td>80.0</td>\n",
              "      <td>9600</td>\n",
              "      <td>Pave</td>\n",
              "      <td>NaN</td>\n",
              "      <td>Reg</td>\n",
              "      <td>Lvl</td>\n",
              "      <td>AllPub</td>\n",
              "      <td>...</td>\n",
              "      <td>0</td>\n",
              "      <td>NaN</td>\n",
              "      <td>NaN</td>\n",
              "      <td>NaN</td>\n",
              "      <td>0</td>\n",
              "      <td>5</td>\n",
              "      <td>2007</td>\n",
              "      <td>WD</td>\n",
              "      <td>Normal</td>\n",
              "      <td>181500</td>\n",
              "    </tr>\n",
              "    <tr>\n",
              "      <th>2</th>\n",
              "      <td>3</td>\n",
              "      <td>60</td>\n",
              "      <td>RL</td>\n",
              "      <td>68.0</td>\n",
              "      <td>11250</td>\n",
              "      <td>Pave</td>\n",
              "      <td>NaN</td>\n",
              "      <td>IR1</td>\n",
              "      <td>Lvl</td>\n",
              "      <td>AllPub</td>\n",
              "      <td>...</td>\n",
              "      <td>0</td>\n",
              "      <td>NaN</td>\n",
              "      <td>NaN</td>\n",
              "      <td>NaN</td>\n",
              "      <td>0</td>\n",
              "      <td>9</td>\n",
              "      <td>2008</td>\n",
              "      <td>WD</td>\n",
              "      <td>Normal</td>\n",
              "      <td>223500</td>\n",
              "    </tr>\n",
              "    <tr>\n",
              "      <th>3</th>\n",
              "      <td>4</td>\n",
              "      <td>70</td>\n",
              "      <td>RL</td>\n",
              "      <td>60.0</td>\n",
              "      <td>9550</td>\n",
              "      <td>Pave</td>\n",
              "      <td>NaN</td>\n",
              "      <td>IR1</td>\n",
              "      <td>Lvl</td>\n",
              "      <td>AllPub</td>\n",
              "      <td>...</td>\n",
              "      <td>0</td>\n",
              "      <td>NaN</td>\n",
              "      <td>NaN</td>\n",
              "      <td>NaN</td>\n",
              "      <td>0</td>\n",
              "      <td>2</td>\n",
              "      <td>2006</td>\n",
              "      <td>WD</td>\n",
              "      <td>Abnorml</td>\n",
              "      <td>140000</td>\n",
              "    </tr>\n",
              "    <tr>\n",
              "      <th>4</th>\n",
              "      <td>5</td>\n",
              "      <td>60</td>\n",
              "      <td>RL</td>\n",
              "      <td>84.0</td>\n",
              "      <td>14260</td>\n",
              "      <td>Pave</td>\n",
              "      <td>NaN</td>\n",
              "      <td>IR1</td>\n",
              "      <td>Lvl</td>\n",
              "      <td>AllPub</td>\n",
              "      <td>...</td>\n",
              "      <td>0</td>\n",
              "      <td>NaN</td>\n",
              "      <td>NaN</td>\n",
              "      <td>NaN</td>\n",
              "      <td>0</td>\n",
              "      <td>12</td>\n",
              "      <td>2008</td>\n",
              "      <td>WD</td>\n",
              "      <td>Normal</td>\n",
              "      <td>250000</td>\n",
              "    </tr>\n",
              "  </tbody>\n",
              "</table>\n",
              "<p>5 rows × 81 columns</p>\n",
              "</div>"
            ],
            "text/plain": [
              "   Id  MSSubClass MSZoning  LotFrontage  LotArea Street Alley LotShape  \\\n",
              "0   1          60       RL         65.0     8450   Pave   NaN      Reg   \n",
              "1   2          20       RL         80.0     9600   Pave   NaN      Reg   \n",
              "2   3          60       RL         68.0    11250   Pave   NaN      IR1   \n",
              "3   4          70       RL         60.0     9550   Pave   NaN      IR1   \n",
              "4   5          60       RL         84.0    14260   Pave   NaN      IR1   \n",
              "\n",
              "  LandContour Utilities  ... PoolArea PoolQC Fence MiscFeature MiscVal MoSold  \\\n",
              "0         Lvl    AllPub  ...        0    NaN   NaN         NaN       0      2   \n",
              "1         Lvl    AllPub  ...        0    NaN   NaN         NaN       0      5   \n",
              "2         Lvl    AllPub  ...        0    NaN   NaN         NaN       0      9   \n",
              "3         Lvl    AllPub  ...        0    NaN   NaN         NaN       0      2   \n",
              "4         Lvl    AllPub  ...        0    NaN   NaN         NaN       0     12   \n",
              "\n",
              "  YrSold  SaleType  SaleCondition  SalePrice  \n",
              "0   2008        WD         Normal     208500  \n",
              "1   2007        WD         Normal     181500  \n",
              "2   2008        WD         Normal     223500  \n",
              "3   2006        WD        Abnorml     140000  \n",
              "4   2008        WD         Normal     250000  \n",
              "\n",
              "[5 rows x 81 columns]"
            ]
          },
          "execution_count": 7,
          "metadata": {},
          "output_type": "execute_result"
        }
      ],
      "source": [
        "train_df.head()"
      ]
    },
    {
      "cell_type": "code",
      "execution_count": 8,
      "metadata": {
        "colab": {
          "base_uri": "https://localhost:8080/",
          "height": 236
        },
        "id": "hvljH03cqKNK",
        "outputId": "8bf41f9a-9ec3-4fca-db6d-fd5f22a26757"
      },
      "outputs": [
        {
          "data": {
            "text/html": [
              "<div>\n",
              "<style scoped>\n",
              "    .dataframe tbody tr th:only-of-type {\n",
              "        vertical-align: middle;\n",
              "    }\n",
              "\n",
              "    .dataframe tbody tr th {\n",
              "        vertical-align: top;\n",
              "    }\n",
              "\n",
              "    .dataframe thead th {\n",
              "        text-align: right;\n",
              "    }\n",
              "</style>\n",
              "<table border=\"1\" class=\"dataframe\">\n",
              "  <thead>\n",
              "    <tr style=\"text-align: right;\">\n",
              "      <th></th>\n",
              "      <th>Id</th>\n",
              "      <th>MSSubClass</th>\n",
              "      <th>MSZoning</th>\n",
              "      <th>LotFrontage</th>\n",
              "      <th>LotArea</th>\n",
              "      <th>Street</th>\n",
              "      <th>Alley</th>\n",
              "      <th>LotShape</th>\n",
              "      <th>LandContour</th>\n",
              "      <th>Utilities</th>\n",
              "      <th>...</th>\n",
              "      <th>ScreenPorch</th>\n",
              "      <th>PoolArea</th>\n",
              "      <th>PoolQC</th>\n",
              "      <th>Fence</th>\n",
              "      <th>MiscFeature</th>\n",
              "      <th>MiscVal</th>\n",
              "      <th>MoSold</th>\n",
              "      <th>YrSold</th>\n",
              "      <th>SaleType</th>\n",
              "      <th>SaleCondition</th>\n",
              "    </tr>\n",
              "  </thead>\n",
              "  <tbody>\n",
              "    <tr>\n",
              "      <th>0</th>\n",
              "      <td>1461</td>\n",
              "      <td>20</td>\n",
              "      <td>RH</td>\n",
              "      <td>80.0</td>\n",
              "      <td>11622</td>\n",
              "      <td>Pave</td>\n",
              "      <td>NaN</td>\n",
              "      <td>Reg</td>\n",
              "      <td>Lvl</td>\n",
              "      <td>AllPub</td>\n",
              "      <td>...</td>\n",
              "      <td>120</td>\n",
              "      <td>0</td>\n",
              "      <td>NaN</td>\n",
              "      <td>MnPrv</td>\n",
              "      <td>NaN</td>\n",
              "      <td>0</td>\n",
              "      <td>6</td>\n",
              "      <td>2010</td>\n",
              "      <td>WD</td>\n",
              "      <td>Normal</td>\n",
              "    </tr>\n",
              "    <tr>\n",
              "      <th>1</th>\n",
              "      <td>1462</td>\n",
              "      <td>20</td>\n",
              "      <td>RL</td>\n",
              "      <td>81.0</td>\n",
              "      <td>14267</td>\n",
              "      <td>Pave</td>\n",
              "      <td>NaN</td>\n",
              "      <td>IR1</td>\n",
              "      <td>Lvl</td>\n",
              "      <td>AllPub</td>\n",
              "      <td>...</td>\n",
              "      <td>0</td>\n",
              "      <td>0</td>\n",
              "      <td>NaN</td>\n",
              "      <td>NaN</td>\n",
              "      <td>Gar2</td>\n",
              "      <td>12500</td>\n",
              "      <td>6</td>\n",
              "      <td>2010</td>\n",
              "      <td>WD</td>\n",
              "      <td>Normal</td>\n",
              "    </tr>\n",
              "    <tr>\n",
              "      <th>2</th>\n",
              "      <td>1463</td>\n",
              "      <td>60</td>\n",
              "      <td>RL</td>\n",
              "      <td>74.0</td>\n",
              "      <td>13830</td>\n",
              "      <td>Pave</td>\n",
              "      <td>NaN</td>\n",
              "      <td>IR1</td>\n",
              "      <td>Lvl</td>\n",
              "      <td>AllPub</td>\n",
              "      <td>...</td>\n",
              "      <td>0</td>\n",
              "      <td>0</td>\n",
              "      <td>NaN</td>\n",
              "      <td>MnPrv</td>\n",
              "      <td>NaN</td>\n",
              "      <td>0</td>\n",
              "      <td>3</td>\n",
              "      <td>2010</td>\n",
              "      <td>WD</td>\n",
              "      <td>Normal</td>\n",
              "    </tr>\n",
              "    <tr>\n",
              "      <th>3</th>\n",
              "      <td>1464</td>\n",
              "      <td>60</td>\n",
              "      <td>RL</td>\n",
              "      <td>78.0</td>\n",
              "      <td>9978</td>\n",
              "      <td>Pave</td>\n",
              "      <td>NaN</td>\n",
              "      <td>IR1</td>\n",
              "      <td>Lvl</td>\n",
              "      <td>AllPub</td>\n",
              "      <td>...</td>\n",
              "      <td>0</td>\n",
              "      <td>0</td>\n",
              "      <td>NaN</td>\n",
              "      <td>NaN</td>\n",
              "      <td>NaN</td>\n",
              "      <td>0</td>\n",
              "      <td>6</td>\n",
              "      <td>2010</td>\n",
              "      <td>WD</td>\n",
              "      <td>Normal</td>\n",
              "    </tr>\n",
              "    <tr>\n",
              "      <th>4</th>\n",
              "      <td>1465</td>\n",
              "      <td>120</td>\n",
              "      <td>RL</td>\n",
              "      <td>43.0</td>\n",
              "      <td>5005</td>\n",
              "      <td>Pave</td>\n",
              "      <td>NaN</td>\n",
              "      <td>IR1</td>\n",
              "      <td>HLS</td>\n",
              "      <td>AllPub</td>\n",
              "      <td>...</td>\n",
              "      <td>144</td>\n",
              "      <td>0</td>\n",
              "      <td>NaN</td>\n",
              "      <td>NaN</td>\n",
              "      <td>NaN</td>\n",
              "      <td>0</td>\n",
              "      <td>1</td>\n",
              "      <td>2010</td>\n",
              "      <td>WD</td>\n",
              "      <td>Normal</td>\n",
              "    </tr>\n",
              "  </tbody>\n",
              "</table>\n",
              "<p>5 rows × 80 columns</p>\n",
              "</div>"
            ],
            "text/plain": [
              "     Id  MSSubClass MSZoning  LotFrontage  LotArea Street Alley LotShape  \\\n",
              "0  1461          20       RH         80.0    11622   Pave   NaN      Reg   \n",
              "1  1462          20       RL         81.0    14267   Pave   NaN      IR1   \n",
              "2  1463          60       RL         74.0    13830   Pave   NaN      IR1   \n",
              "3  1464          60       RL         78.0     9978   Pave   NaN      IR1   \n",
              "4  1465         120       RL         43.0     5005   Pave   NaN      IR1   \n",
              "\n",
              "  LandContour Utilities  ... ScreenPorch PoolArea PoolQC  Fence MiscFeature  \\\n",
              "0         Lvl    AllPub  ...         120        0    NaN  MnPrv         NaN   \n",
              "1         Lvl    AllPub  ...           0        0    NaN    NaN        Gar2   \n",
              "2         Lvl    AllPub  ...           0        0    NaN  MnPrv         NaN   \n",
              "3         Lvl    AllPub  ...           0        0    NaN    NaN         NaN   \n",
              "4         HLS    AllPub  ...         144        0    NaN    NaN         NaN   \n",
              "\n",
              "  MiscVal MoSold  YrSold  SaleType  SaleCondition  \n",
              "0       0      6    2010        WD         Normal  \n",
              "1   12500      6    2010        WD         Normal  \n",
              "2       0      3    2010        WD         Normal  \n",
              "3       0      6    2010        WD         Normal  \n",
              "4       0      1    2010        WD         Normal  \n",
              "\n",
              "[5 rows x 80 columns]"
            ]
          },
          "execution_count": 8,
          "metadata": {},
          "output_type": "execute_result"
        }
      ],
      "source": [
        "test_df.head()"
      ]
    },
    {
      "cell_type": "code",
      "execution_count": 9,
      "metadata": {
        "id": "23WaDfgFty-S"
      },
      "outputs": [
        {
          "data": {
            "text/plain": [
              "'\\nMSSubClass : 매매와 관련된 주거 타입 식별\\nMSZoning : 매매의 일반적인 지역 분류\\nLotFrontage : 부동산과 연결된 도로의 선형 피트\\nLotArea : 평방피트 단위의 부지 크기\\nStreet : 부동산으로의 도로(street) 접근 유형\\nAlley : 부동산으로의 골목(alley) 접근 유형\\nLotShape : 부동산의 일반적인 모양\\nLandContour : 부동산의 평탄도\\nUtilities : 사용 가능한 유틸리티(수도전기가스) 유형\\nLotConfig : 지역 구성\\nLandSlope : 부동산의 경사\\nNeighborhood : 에임스 시 경계 내의 물리적인 위치\\nCondition1 : 주요 도로 및 철도와의 근접성\\nCondition2 : 주요 도로 및 철도와의 근접성 (두 개 이상 존재하는 경우)\\nBldgType : 주거 유형\\nHouseStyle : 주거 스타일\\nOverallQual : 전체적인 재료 및 마감 등급\\nOverallCond : 집의 전체적인 상태 등급\\nYearBuilt : 원래 공사일\\nYearRemodAdd : 리모델링 날짜 (리모델링 혹은 추가가 없었던 경우 공사일과 동일)\\nRoofStyle : 지붕 유형\\nRoofMatl : 지붕 재료\\nExterior 1st : 주택 외장재\\nExterior 2nd : 주택 외장재 (두 개 이상 존재하는 경우)\\nMasVnrType : 벽돌 베니어 유형\\nMasVnrArea : 벽돌 베니어 면적 (평방피트)\\nExterQual : 외장재 품질\\nExterCond : 외장재 현재 상태\\nFoundation : 토대 유형\\nBsmtQual : 지하의 높이 평가\\nBsmtCond : 지하실 일반적인 상태 평가\\nBsmtExposure : 워크아웃 혹은 정원 수준의 벽\\nBsmtFinType1 : 지하 마감면의 품질\\nBsmtSF1 : 유형 1 마감 평방피트\\nBsmtFinType2 : 지하 마감면의 품질 (있는 경우)\\nBsmtSF2 : 유형 2 마감 평방피트\\nBsmtUnfSF : 마감되지 않은 지하실 면적\\nTotalBsmtSF : 지하 총 평방피트\\nHeating : 난방 유형\\nHeatingQC : 난방 품질 및 상태\\nCentralAir : 중앙 에어컨 여부\\nElectrial : 전기 시스템\\n1stFlrSF : 1층 평방피트\\n2ndFlrSF : 2층 평방피트\\nLowQualFinSF : 저품질 마감 평방 피트 (모든 층)\\nGrLivArea : 지상 거실 면적 평방 피트\\nBsmtFullBath : 지하 전체 욕실\\nBsmtHalfBath : 지하 반 욕실\\nFullBath : 지하층 위의 전체 욕실\\nHalfBath : 지하층 위의 반 욕실\\nBedroom : 지하층 위의 침실 수 (지하 침실은 포함하지 않음)\\nKitchen : 지하층 위의 주방 수\\nKitchenQual : 주방 품질\\nTotRmsAbvGra : 지하층 위의 모든 방 (욕실 제외)\\nFunctional : 집 기능 (공제가 보장되지 않는 한 일반적인 경우 가정)\\nFirePlace : 벽난로 수\\nFireplaceQu : 벽난로 품질\\nGarageType : 차고 위치\\nGarageYrBlt : 차고 건설 연도\\nGarageFinish : 차고 내부 마감\\nGarageCars : 차량 수용 가능 차고 크기\\nGarageArea : 차고 평방피트\\nGarageQual : 차고 품질\\nGarageCond : 차고 상태\\nPavedDrive : 포장된 진입로\\nWoodDeckSF : 평방피트 단위의 목재 데크 면적\\nOpenPochSF : 평방피트 단위의 개방 현관 면적\\nEnclosedPorch : 평방피트 단위의 닫힌 현관 면적\\n3SnPorch : 평방 피트의 세 계절 현관 면적\\nScreenPorch : 평방피트 단위의 스크린 현관 면적\\nPoolArea : 평방피트 단위의 수영장 면적\\nPoolQC : 수영장 품질\\nFence : 울타리 품질\\nMiscFeature : 다른 항목에서 다루지 않는 기타 특징\\nMiscVal : 기타 특징의 가치\\nMoSold : 월 판매\\nYrSold : 연 판매\\nSaleType : 판매 유형\\nSaleCondition : 판매 상태\\n'"
            ]
          },
          "execution_count": 9,
          "metadata": {},
          "output_type": "execute_result"
        }
      ],
      "source": [
        "    \"\"\"\n",
        "    MSSubClass : 매매와 관련된 주거 타입 식별\n",
        "    MSZoning : 매매의 일반적인 지역 분류\n",
        "    LotFrontage : 부동산과 연결된 도로의 선형 피트\n",
        "    LotArea : 평방피트 단위의 부지 크기\n",
        "    Street : 부동산으로의 도로(street) 접근 유형\n",
        "    Alley : 부동산으로의 골목(alley) 접근 유형\n",
        "    LotShape : 부동산의 일반적인 모양\n",
        "    LandContour : 부동산의 평탄도\n",
        "    Utilities : 사용 가능한 유틸리티(수도전기가스) 유형\n",
        "    LotConfig : 지역 구성\n",
        "    LandSlope : 부동산의 경사\n",
        "    Neighborhood : 에임스 시 경계 내의 물리적인 위치\n",
        "    Condition1 : 주요 도로 및 철도와의 근접성\n",
        "    Condition2 : 주요 도로 및 철도와의 근접성 (두 개 이상 존재하는 경우)\n",
        "    BldgType : 주거 유형\n",
        "    HouseStyle : 주거 스타일\n",
        "    OverallQual : 전체적인 재료 및 마감 등급\n",
        "    OverallCond : 집의 전체적인 상태 등급\n",
        "    YearBuilt : 원래 공사일\n",
        "    YearRemodAdd : 리모델링 날짜 (리모델링 혹은 추가가 없었던 경우 공사일과 동일)\n",
        "    RoofStyle : 지붕 유형\n",
        "    RoofMatl : 지붕 재료\n",
        "    Exterior 1st : 주택 외장재\n",
        "    Exterior 2nd : 주택 외장재 (두 개 이상 존재하는 경우)\n",
        "    MasVnrType : 벽돌 베니어 유형\n",
        "    MasVnrArea : 벽돌 베니어 면적 (평방피트)\n",
        "    ExterQual : 외장재 품질\n",
        "    ExterCond : 외장재 현재 상태\n",
        "    Foundation : 토대 유형\n",
        "    BsmtQual : 지하의 높이 평가\n",
        "    BsmtCond : 지하실 일반적인 상태 평가\n",
        "    BsmtExposure : 워크아웃 혹은 정원 수준의 벽\n",
        "    BsmtFinType1 : 지하 마감면의 품질\n",
        "    BsmtSF1 : 유형 1 마감 평방피트\n",
        "    BsmtFinType2 : 지하 마감면의 품질 (있는 경우)\n",
        "    BsmtSF2 : 유형 2 마감 평방피트\n",
        "    BsmtUnfSF : 마감되지 않은 지하실 면적\n",
        "    TotalBsmtSF : 지하 총 평방피트\n",
        "    Heating : 난방 유형\n",
        "    HeatingQC : 난방 품질 및 상태\n",
        "    CentralAir : 중앙 에어컨 여부\n",
        "    Electrial : 전기 시스템\n",
        "    1stFlrSF : 1층 평방피트\n",
        "    2ndFlrSF : 2층 평방피트\n",
        "    LowQualFinSF : 저품질 마감 평방 피트 (모든 층)\n",
        "    GrLivArea : 지상 거실 면적 평방 피트\n",
        "    BsmtFullBath : 지하 전체 욕실\n",
        "    BsmtHalfBath : 지하 반 욕실\n",
        "    FullBath : 지하층 위의 전체 욕실\n",
        "    HalfBath : 지하층 위의 반 욕실\n",
        "    Bedroom : 지하층 위의 침실 수 (지하 침실은 포함하지 않음)\n",
        "    Kitchen : 지하층 위의 주방 수\n",
        "    KitchenQual : 주방 품질\n",
        "    TotRmsAbvGra : 지하층 위의 모든 방 (욕실 제외)\n",
        "    Functional : 집 기능 (공제가 보장되지 않는 한 일반적인 경우 가정)\n",
        "    FirePlace : 벽난로 수\n",
        "    FireplaceQu : 벽난로 품질\n",
        "    GarageType : 차고 위치\n",
        "    GarageYrBlt : 차고 건설 연도\n",
        "    GarageFinish : 차고 내부 마감\n",
        "    GarageCars : 차량 수용 가능 차고 크기\n",
        "    GarageArea : 차고 평방피트\n",
        "    GarageQual : 차고 품질\n",
        "    GarageCond : 차고 상태\n",
        "    PavedDrive : 포장된 진입로\n",
        "    WoodDeckSF : 평방피트 단위의 목재 데크 면적\n",
        "    OpenPochSF : 평방피트 단위의 개방 현관 면적\n",
        "    EnclosedPorch : 평방피트 단위의 닫힌 현관 면적\n",
        "    3SnPorch : 평방 피트의 세 계절 현관 면적\n",
        "    ScreenPorch : 평방피트 단위의 스크린 현관 면적\n",
        "    PoolArea : 평방피트 단위의 수영장 면적\n",
        "    PoolQC : 수영장 품질\n",
        "    Fence : 울타리 품질\n",
        "    MiscFeature : 다른 항목에서 다루지 않는 기타 특징\n",
        "    MiscVal : 기타 특징의 가치\n",
        "    MoSold : 월 판매\n",
        "    YrSold : 연 판매\n",
        "    SaleType : 판매 유형\n",
        "    SaleCondition : 판매 상태\n",
        "    \"\"\""
      ]
    },
    {
      "cell_type": "markdown",
      "metadata": {
        "id": "nuROvrOEqKNK"
      },
      "source": [
        "### 이상치 들에 대해서 확인!!!"
      ]
    },
    {
      "cell_type": "markdown",
      "metadata": {
        "id": "2nt-wOFxqKNL"
      },
      "source": [
        "* outlier에 대한 것들에 대한 확인 : 아래 경우에 대해서 확인을 하면, 오른쪽 아래 쪽에 이상하게 튀는 애들이 존재!!!"
      ]
    },
    {
      "cell_type": "code",
      "execution_count": 10,
      "metadata": {
        "colab": {
          "base_uri": "https://localhost:8080/",
          "height": 387
        },
        "id": "rKUpEIfwqKNL",
        "outputId": "f527da37-23f3-4fde-ee68-02a2f1f58337"
      },
      "outputs": [
        {
          "data": {
            "text/plain": [
              "<Figure size 640x480 with 0 Axes>"
            ]
          },
          "metadata": {},
          "output_type": "display_data"
        },
        {
          "data": {
            "image/png": "[encoded data removed]",
            "text/plain": [
              "<Figure size 500x500 with 1 Axes>"
            ]
          },
          "metadata": {},
          "output_type": "display_data"
        }
      ],
      "source": [
        "# 회귀같은 경우에서는 y target에 대해서도 outlier를 고민/체크를 해야하고\n",
        "# Feature에 대해서도 outlier에 대한 고민을 잘 해야한다!!!!\n",
        "# 분류같은 경우에서 target이 outlier라는 불균형데이터가....있지만\n",
        "# 그 경우에는 평가방식이나 데이터를 샘플링 방식으로 접근이지\n",
        "# 데이터를 날리는 것은 좀;;;;\n",
        "plt.figure()\n",
        "otl = sns.lmplot(data = train_df, x=\"GrLivArea\", y =\"SalePrice\", fit_reg = False)"
      ]
    },
    {
      "cell_type": "markdown",
      "metadata": {
        "id": "qFfxyt3nqKNL"
      },
      "source": [
        "* 위에 대한 데이터를 보고, outlier를 처리하기 위한 조건 선택"
      ]
    },
    {
      "cell_type": "code",
      "execution_count": 11,
      "metadata": {
        "colab": {
          "base_uri": "https://localhost:8080/"
        },
        "id": "vHTYWWZwv9Kc",
        "outputId": "f4ef3988-b362-4b19-acd5-dc9bd227c902"
      },
      "outputs": [
        {
          "data": {
            "text/plain": [
              "4"
            ]
          },
          "execution_count": 11,
          "metadata": {},
          "output_type": "execute_result"
        }
      ],
      "source": [
        "len(train_df[train_df[\"GrLivArea\"]>4000])"
      ]
    },
    {
      "cell_type": "code",
      "execution_count": 12,
      "metadata": {
        "colab": {
          "base_uri": "https://localhost:8080/",
          "height": 175
        },
        "id": "leextVd2qKNL",
        "outputId": "260608e1-595f-403e-e819-e95eb5eba696"
      },
      "outputs": [
        {
          "data": {
            "text/html": [
              "<div>\n",
              "<style scoped>\n",
              "    .dataframe tbody tr th:only-of-type {\n",
              "        vertical-align: middle;\n",
              "    }\n",
              "\n",
              "    .dataframe tbody tr th {\n",
              "        vertical-align: top;\n",
              "    }\n",
              "\n",
              "    .dataframe thead th {\n",
              "        text-align: right;\n",
              "    }\n",
              "</style>\n",
              "<table border=\"1\" class=\"dataframe\">\n",
              "  <thead>\n",
              "    <tr style=\"text-align: right;\">\n",
              "      <th></th>\n",
              "      <th>SalePrice</th>\n",
              "      <th>GrLivArea</th>\n",
              "    </tr>\n",
              "  </thead>\n",
              "  <tbody>\n",
              "    <tr>\n",
              "      <th>523</th>\n",
              "      <td>184750</td>\n",
              "      <td>4676</td>\n",
              "    </tr>\n",
              "    <tr>\n",
              "      <th>691</th>\n",
              "      <td>755000</td>\n",
              "      <td>4316</td>\n",
              "    </tr>\n",
              "    <tr>\n",
              "      <th>1182</th>\n",
              "      <td>745000</td>\n",
              "      <td>4476</td>\n",
              "    </tr>\n",
              "    <tr>\n",
              "      <th>1298</th>\n",
              "      <td>160000</td>\n",
              "      <td>5642</td>\n",
              "    </tr>\n",
              "  </tbody>\n",
              "</table>\n",
              "</div>"
            ],
            "text/plain": [
              "      SalePrice  GrLivArea\n",
              "523      184750       4676\n",
              "691      755000       4316\n",
              "1182     745000       4476\n",
              "1298     160000       5642"
            ]
          },
          "execution_count": 12,
          "metadata": {},
          "output_type": "execute_result"
        }
      ],
      "source": [
        "# GrLivArea인 특징이 4000초과인 친구들은 제거를 하도록 하겠습니다.\n",
        "train_df[train_df[\"GrLivArea\"]>4000][[\"SalePrice\",\"GrLivArea\"]]"
      ]
    },
    {
      "cell_type": "code",
      "execution_count": 13,
      "metadata": {
        "id": "3_JiTf1Rwby5"
      },
      "outputs": [],
      "source": [
        "# 위의 4개의 데이터를 누락을 시키고 train 데이터를 재구성..\n",
        "train_df.drop(train_df[train_df[\"GrLivArea\"]>4000].index, inplace=True)\n"
      ]
    },
    {
      "cell_type": "code",
      "execution_count": 14,
      "metadata": {
        "colab": {
          "base_uri": "https://localhost:8080/",
          "height": 387
        },
        "id": "x3ny9_nFqKNM",
        "outputId": "c4ec88de-662a-4aea-ef31-59365d900eb8"
      },
      "outputs": [
        {
          "data": {
            "text/plain": [
              "<Figure size 640x480 with 0 Axes>"
            ]
          },
          "metadata": {},
          "output_type": "display_data"
        },
        {
          "data": {
            "image/png": "[encoded data removed]",
            "text/plain": [
              "<Figure size 500x500 with 1 Axes>"
            ]
          },
          "metadata": {},
          "output_type": "display_data"
        }
      ],
      "source": [
        "plt.figure()\n",
        "otl = sns.lmplot(data = train_df, x=\"GrLivArea\", y =\"SalePrice\", fit_reg = False)"
      ]
    },
    {
      "cell_type": "code",
      "execution_count": 15,
      "metadata": {
        "colab": {
          "base_uri": "https://localhost:8080/"
        },
        "id": "LHT1B5ePqKNM",
        "outputId": "c9acd836-30fd-4d85-b9ad-fd0578935e5d"
      },
      "outputs": [
        {
          "name": "stdout",
          "output_type": "stream",
          "text": [
            "(1456, 81)\n"
          ]
        }
      ],
      "source": [
        "print(train_df.shape)"
      ]
    },
    {
      "cell_type": "markdown",
      "metadata": {
        "id": "t2EnPMUEqKNM"
      },
      "source": [
        "* Target Value에 대한 것을 확인!"
      ]
    },
    {
      "cell_type": "code",
      "execution_count": 16,
      "metadata": {
        "colab": {
          "base_uri": "https://localhost:8080/",
          "height": 591
        },
        "id": "FikXYq51qKNM",
        "outputId": "b718443c-bf23-467e-944a-af07f60b1caa"
      },
      "outputs": [
        {
          "data": {
            "image/png": "[encoded data removed]",
            "text/plain": [
              "<Figure size 640x480 with 1 Axes>"
            ]
          },
          "metadata": {},
          "output_type": "display_data"
        },
        {
          "data": {
            "image/png": "[encoded data removed]",
            "text/plain": [
              "<Figure size 640x480 with 1 Axes>"
            ]
          },
          "metadata": {},
          "output_type": "display_data"
        },
        {
          "name": "stdout",
          "output_type": "stream",
          "text": [
            "Skewness: 1.566\n"
          ]
        }
      ],
      "source": [
        "# 아직 seaborn 에서 stats로 넘기는 부분에서 워닝 부분이 안 되어서 아직은 여기서 워닝에 대한 부분은 타나남.\n",
        "sns.histplot(train_df['SalePrice'])\n",
        "plt.title('SalePrice Distribution')\n",
        "plt.ylabel('Frequency')\n",
        "plt.figure()\n",
        "\n",
        "# stats에 바로 접근하는 부분에 있어서는 array로 명확하게 변환을 해서 넘기면 워닝은 없어짐!!!!\n",
        "qq = stats.probplot(np.array(train_df['SalePrice']), plot=plt)\n",
        "plt.show()\n",
        "print(\"Skewness: {:.3f}\".format(train_df['SalePrice'].skew()))\n",
        "\n"
      ]
    },
    {
      "cell_type": "markdown",
      "metadata": {
        "id": "IUde35x9qKNM"
      },
      "source": [
        "* 타겟에 대한 로그 변환 취하기 : 양수에 대해서 처리 하고자 하니 +1을 하고 로그를 취해서 0의 값에 대해서 발생할 수 있는 문제에 대한 것 방지!"
      ]
    },
    {
      "cell_type": "code",
      "execution_count": 17,
      "metadata": {
        "colab": {
          "base_uri": "https://localhost:8080/"
        },
        "id": "U5qtspnrqKNN",
        "outputId": "deb83c9f-0fed-4f7f-eb84-f6d8d7b566f4"
      },
      "outputs": [
        {
          "data": {
            "text/plain": [
              "0       12.247699\n",
              "1       12.109016\n",
              "2       12.317171\n",
              "3       11.849405\n",
              "4       12.429220\n",
              "          ...    \n",
              "1455    12.072547\n",
              "1456    12.254868\n",
              "1457    12.493133\n",
              "1458    11.864469\n",
              "1459    11.901590\n",
              "Name: SalePrice, Length: 1456, dtype: float64"
            ]
          },
          "execution_count": 17,
          "metadata": {},
          "output_type": "execute_result"
        }
      ],
      "source": [
        "# log1p : log(1 + input)\n",
        "# 원래 생각하는 Traget : SalePrice에 대해서 값의 변동 너무 커서 좀 스케일을 줄이고,,,,\n",
        "# ++++ 한쪽에 쏠린 값을 좀 피려고 합니다... log 변환을 하는데,,, 모두 양수 : +1\n",
        "#train_df[\"SalePrice\"]\n",
        "train_df[\"SalePrice\"] = np.log1p(train_df[\"SalePrice\"])\n",
        "train_df[\"SalePrice\"]"
      ]
    },
    {
      "cell_type": "markdown",
      "metadata": {
        "id": "t4Ltxx3rqKNN"
      },
      "source": [
        "* 로그를 취하면 그 결과가 치우친 부분들이 어떻게 되는지 확인"
      ]
    },
    {
      "cell_type": "code",
      "execution_count": 18,
      "metadata": {
        "colab": {
          "base_uri": "https://localhost:8080/",
          "height": 591
        },
        "id": "r1Hl3akxqKNN",
        "outputId": "bd813244-346c-4e73-d833-91e460254de2"
      },
      "outputs": [
        {
          "data": {
            "image/png": "[encoded data removed]",
            "text/plain": [
              "<Figure size 640x480 with 1 Axes>"
            ]
          },
          "metadata": {},
          "output_type": "display_data"
        },
        {
          "data": {
            "image/png": "[encoded data removed]",
            "text/plain": [
              "<Figure size 640x480 with 1 Axes>"
            ]
          },
          "metadata": {},
          "output_type": "display_data"
        },
        {
          "name": "stdout",
          "output_type": "stream",
          "text": [
            "Skewness: 0.065\n"
          ]
        }
      ],
      "source": [
        "sns.histplot(train_df['SalePrice'])\n",
        "plt.title('SalePrice Distribution')\n",
        "plt.ylabel('Frequency')\n",
        "\n",
        "plt.figure()\n",
        "qq = stats.probplot(np.array(train_df['SalePrice']), plot=plt)\n",
        "plt.show()\n",
        "\n",
        "print(\"Skewness: {:.3f}\".format(train_df['SalePrice'].skew()))"
      ]
    },
    {
      "cell_type": "markdown",
      "metadata": {
        "id": "cetCBJrLqKNN"
      },
      "source": [
        "* 보통은 전체 특성들에 대해서 다 상관계수나 pairplot을 그려보겠지만, 지금은 너무 데이터가 많이 있기에 하기가 힘들다. 그래서 상위 몇 개의 상관계수가 높은 것들에 대해서만 보고자 함!!!!      \n",
        "해석 : 그래서 보면 집가격에 영향을 미치는 상위 10개에 대해서 확인을 한 결과 퀄리티에 관련된 (OverallQual,FullBath, YearBuilt, YearRemodAdd)와 크기에 대한 (GrLivArea, GarageCars, GarageArea, TotalBsmtSF, 1stFlrSF) 부분들이 중요한 부분으로 차지하고 있음!!!"
      ]
    },
    {
      "cell_type": "code",
      "execution_count": 19,
      "metadata": {
        "colab": {
          "base_uri": "https://localhost:8080/",
          "height": 324
        },
        "id": "aNOjMCh1qKNN",
        "outputId": "05b2c0f5-fdf8-4ab3-9499-dd70675bd640"
      },
      "outputs": [
        {
          "name": "stderr",
          "output_type": "stream",
          "text": [
            "/var/folders/r1/58cpj4hx7j75vx_3j1y6vpvw0000gn/T/ipykernel_76320/3771189365.py:3: FutureWarning: The default value of numeric_only in DataFrame.corr is deprecated. In a future version, it will default to False. Select only valid columns or specify the value of numeric_only to silence this warning.\n",
            "  corr_train = train_df.corr()\n"
          ]
        },
        {
          "data": {
            "image/png": "[encoded data removed]",
            "text/plain": [
              "<Figure size 1500x500 with 2 Axes>"
            ]
          },
          "metadata": {},
          "output_type": "display_data"
        }
      ],
      "source": [
        "plt.figure(figsize=(15,5))\n",
        "\n",
        "corr_train = train_df.corr()\n",
        "\n",
        "\n",
        "num = 10\n",
        "col = corr_train.nlargest(num, 'SalePrice')['SalePrice'].index\n",
        "coeff = np.corrcoef(train_df[col].values.T)\n",
        "\n",
        "# heatmap\n",
        "heatmp = sns.heatmap(coeff, \n",
        "                     annot = True, \n",
        "                     xticklabels = col.values, yticklabels = col.values, \n",
        "                     linewidth=2,cmap='PiYG', linecolor='blue')"
      ]
    },
    {
      "cell_type": "code",
      "execution_count": null,
      "metadata": {
        "id": "53stIjaZqKNN"
      },
      "outputs": [],
      "source": [
        "# 속도나 경우에 따라서 PC 랙 걸릴 수 있으니....\n",
        "# 사용하실 때 데이터/컬럼이 많으면 샘플링을 해서 수행을 할 것!!!!\n",
        "sns.pairplot(train_df[col], height=3)"
      ]
    },
    {
      "cell_type": "code",
      "execution_count": null,
      "metadata": {
        "id": "opaUoqHN0Spq"
      },
      "outputs": [],
      "source": [
        "#### 위와 같은 부분들을 통해서 EDA를 하면서 데이터 이해를 해야함..--> 여기서는 skip"
      ]
    },
    {
      "cell_type": "markdown",
      "metadata": {
        "id": "NORROcR5qKNO"
      },
      "source": [
        "### 변수들 정리 : Feature / Target 분리"
      ]
    },
    {
      "cell_type": "markdown",
      "metadata": {
        "id": "TZJhY7POqKNO"
      },
      "source": [
        "* 변수 분리 : 특징과 라벨에 대한 분리 작업 수행 ---> id라는 컬럼은 맨 앞에 있어서 0번으로 선택을 해서 지운 것이며, 학습할 특징에서는 제외를 하여야 하기에 drop을 이용해서 지우게 됨!!!  \n",
        "처음에는 81개의 컬럼이 있었는데, 의미없는 id 컬럼 제거 & 타겟에 대한 가격에 대한 것 제거를 ㅎ서 총 81개에서 2개를 제외한 79개로 수정이 됨!!!!"
      ]
    },
    {
      "cell_type": "code",
      "execution_count": 21,
      "metadata": {
        "id": "8Gn63kS4qKNO"
      },
      "outputs": [],
      "source": [
        "train_id = train_df[\"Id\"] # <-- 학습과 전혀 무관한 컬럼..\n",
        "test_id = test_df[\"Id\"] # <--- 정답지 kaggle 제출 양식에서는 사용을 함. \n",
        "\n",
        "# train/test하고 불필요한 컬럼을 제거를 하겠습니다.\n",
        "train_df.drop(\"Id\", axis=1, inplace=True)\n",
        "test_df.drop(\"Id\", axis=1, inplace=True)"
      ]
    },
    {
      "cell_type": "code",
      "execution_count": 22,
      "metadata": {
        "colab": {
          "base_uri": "https://localhost:8080/"
        },
        "id": "2SCXWcrv1cmZ",
        "outputId": "1e5ce91b-5cf9-4ede-d748-8ead8b5f6b98"
      },
      "outputs": [
        {
          "data": {
            "text/plain": [
              "(1456, 80)"
            ]
          },
          "execution_count": 22,
          "metadata": {},
          "output_type": "execute_result"
        }
      ],
      "source": [
        "train_df.shape"
      ]
    },
    {
      "cell_type": "code",
      "execution_count": 23,
      "metadata": {
        "colab": {
          "base_uri": "https://localhost:8080/"
        },
        "id": "w_jzXIx21hCd",
        "outputId": "8d1e3d56-41d3-4f00-cfa3-86231ad031a4"
      },
      "outputs": [
        {
          "data": {
            "text/plain": [
              "(1459, 79)"
            ]
          },
          "execution_count": 23,
          "metadata": {},
          "output_type": "execute_result"
        }
      ],
      "source": [
        "test_df.shape"
      ]
    },
    {
      "cell_type": "code",
      "execution_count": 24,
      "metadata": {
        "colab": {
          "base_uri": "https://localhost:8080/"
        },
        "id": "Zqsw8HomqKNO",
        "outputId": "e7060abd-e15c-4c19-affc-46f480b5351a"
      },
      "outputs": [
        {
          "name": "stdout",
          "output_type": "stream",
          "text": [
            "dimension of the train: (1456, 79)\n",
            "dimension of the test: (1459, 79)\n"
          ]
        }
      ],
      "source": [
        "# 학습을 하기 위해서 train_df의 정답지를 분리....\n",
        "y_df = train_df[\"SalePrice\"]\n",
        "train_df.drop(\"SalePrice\", axis=1, inplace=True)\n",
        "\n",
        "print('dimension of the train:' , train_df.shape)\n",
        "print('dimension of the test:' , test_df.shape)"
      ]
    },
    {
      "cell_type": "markdown",
      "metadata": {
        "id": "1aZzRmk8qKNO"
      },
      "source": [
        "### Feature Engineering"
      ]
    },
    {
      "cell_type": "code",
      "execution_count": 25,
      "metadata": {
        "colab": {
          "base_uri": "https://localhost:8080/"
        },
        "id": "26RPEVTb2gZf",
        "outputId": "33bda091-5781-4312-d25a-f5673b8f5c4f"
      },
      "outputs": [
        {
          "name": "stdout",
          "output_type": "stream",
          "text": [
            "<class 'pandas.core.frame.DataFrame'>\n",
            "Int64Index: 1456 entries, 0 to 1459\n",
            "Data columns (total 79 columns):\n",
            " #   Column         Non-Null Count  Dtype  \n",
            "---  ------         --------------  -----  \n",
            " 0   MSSubClass     1456 non-null   int64  \n",
            " 1   MSZoning       1456 non-null   object \n",
            " 2   LotFrontage    1197 non-null   float64\n",
            " 3   LotArea        1456 non-null   int64  \n",
            " 4   Street         1456 non-null   object \n",
            " 5   Alley          91 non-null     object \n",
            " 6   LotShape       1456 non-null   object \n",
            " 7   LandContour    1456 non-null   object \n",
            " 8   Utilities      1456 non-null   object \n",
            " 9   LotConfig      1456 non-null   object \n",
            " 10  LandSlope      1456 non-null   object \n",
            " 11  Neighborhood   1456 non-null   object \n",
            " 12  Condition1     1456 non-null   object \n",
            " 13  Condition2     1456 non-null   object \n",
            " 14  BldgType       1456 non-null   object \n",
            " 15  HouseStyle     1456 non-null   object \n",
            " 16  OverallQual    1456 non-null   int64  \n",
            " 17  OverallCond    1456 non-null   int64  \n",
            " 18  YearBuilt      1456 non-null   int64  \n",
            " 19  YearRemodAdd   1456 non-null   int64  \n",
            " 20  RoofStyle      1456 non-null   object \n",
            " 21  RoofMatl       1456 non-null   object \n",
            " 22  Exterior1st    1456 non-null   object \n",
            " 23  Exterior2nd    1456 non-null   object \n",
            " 24  MasVnrType     1448 non-null   object \n",
            " 25  MasVnrArea     1448 non-null   float64\n",
            " 26  ExterQual      1456 non-null   object \n",
            " 27  ExterCond      1456 non-null   object \n",
            " 28  Foundation     1456 non-null   object \n",
            " 29  BsmtQual       1419 non-null   object \n",
            " 30  BsmtCond       1419 non-null   object \n",
            " 31  BsmtExposure   1418 non-null   object \n",
            " 32  BsmtFinType1   1419 non-null   object \n",
            " 33  BsmtFinSF1     1456 non-null   int64  \n",
            " 34  BsmtFinType2   1418 non-null   object \n",
            " 35  BsmtFinSF2     1456 non-null   int64  \n",
            " 36  BsmtUnfSF      1456 non-null   int64  \n",
            " 37  TotalBsmtSF    1456 non-null   int64  \n",
            " 38  Heating        1456 non-null   object \n",
            " 39  HeatingQC      1456 non-null   object \n",
            " 40  CentralAir     1456 non-null   object \n",
            " 41  Electrical     1455 non-null   object \n",
            " 42  1stFlrSF       1456 non-null   int64  \n",
            " 43  2ndFlrSF       1456 non-null   int64  \n",
            " 44  LowQualFinSF   1456 non-null   int64  \n",
            " 45  GrLivArea      1456 non-null   int64  \n",
            " 46  BsmtFullBath   1456 non-null   int64  \n",
            " 47  BsmtHalfBath   1456 non-null   int64  \n",
            " 48  FullBath       1456 non-null   int64  \n",
            " 49  HalfBath       1456 non-null   int64  \n",
            " 50  BedroomAbvGr   1456 non-null   int64  \n",
            " 51  KitchenAbvGr   1456 non-null   int64  \n",
            " 52  KitchenQual    1456 non-null   object \n",
            " 53  TotRmsAbvGrd   1456 non-null   int64  \n",
            " 54  Functional     1456 non-null   object \n",
            " 55  Fireplaces     1456 non-null   int64  \n",
            " 56  FireplaceQu    766 non-null    object \n",
            " 57  GarageType     1375 non-null   object \n",
            " 58  GarageYrBlt    1375 non-null   float64\n",
            " 59  GarageFinish   1375 non-null   object \n",
            " 60  GarageCars     1456 non-null   int64  \n",
            " 61  GarageArea     1456 non-null   int64  \n",
            " 62  GarageQual     1375 non-null   object \n",
            " 63  GarageCond     1375 non-null   object \n",
            " 64  PavedDrive     1456 non-null   object \n",
            " 65  WoodDeckSF     1456 non-null   int64  \n",
            " 66  OpenPorchSF    1456 non-null   int64  \n",
            " 67  EnclosedPorch  1456 non-null   int64  \n",
            " 68  3SsnPorch      1456 non-null   int64  \n",
            " 69  ScreenPorch    1456 non-null   int64  \n",
            " 70  PoolArea       1456 non-null   int64  \n",
            " 71  PoolQC         5 non-null      object \n",
            " 72  Fence          280 non-null    object \n",
            " 73  MiscFeature    54 non-null     object \n",
            " 74  MiscVal        1456 non-null   int64  \n",
            " 75  MoSold         1456 non-null   int64  \n",
            " 76  YrSold         1456 non-null   int64  \n",
            " 77  SaleType       1456 non-null   object \n",
            " 78  SaleCondition  1456 non-null   object \n",
            "dtypes: float64(3), int64(33), object(43)\n",
            "memory usage: 910.0+ KB\n"
          ]
        }
      ],
      "source": [
        "train_df.info()"
      ]
    },
    {
      "cell_type": "markdown",
      "metadata": {
        "id": "cJHOUkpaqKNP"
      },
      "source": [
        "#### Missing Data 처리를 위한 확인!"
      ]
    },
    {
      "cell_type": "code",
      "execution_count": 26,
      "metadata": {
        "colab": {
          "base_uri": "https://localhost:8080/",
          "height": 645
        },
        "id": "dZCooSxmqKNP",
        "outputId": "23a56e8a-f1f2-40ea-cd07-9be277bf9192"
      },
      "outputs": [
        {
          "data": {
            "text/html": [
              "<div>\n",
              "<style scoped>\n",
              "    .dataframe tbody tr th:only-of-type {\n",
              "        vertical-align: middle;\n",
              "    }\n",
              "\n",
              "    .dataframe tbody tr th {\n",
              "        vertical-align: top;\n",
              "    }\n",
              "\n",
              "    .dataframe thead th {\n",
              "        text-align: right;\n",
              "    }\n",
              "</style>\n",
              "<table border=\"1\" class=\"dataframe\">\n",
              "  <thead>\n",
              "    <tr style=\"text-align: right;\">\n",
              "      <th></th>\n",
              "      <th>MissingCount</th>\n",
              "      <th>Missing%</th>\n",
              "    </tr>\n",
              "  </thead>\n",
              "  <tbody>\n",
              "    <tr>\n",
              "      <th>PoolQC</th>\n",
              "      <td>1451</td>\n",
              "      <td>99.656593</td>\n",
              "    </tr>\n",
              "    <tr>\n",
              "      <th>MiscFeature</th>\n",
              "      <td>1402</td>\n",
              "      <td>96.291209</td>\n",
              "    </tr>\n",
              "    <tr>\n",
              "      <th>Alley</th>\n",
              "      <td>1365</td>\n",
              "      <td>93.750000</td>\n",
              "    </tr>\n",
              "    <tr>\n",
              "      <th>Fence</th>\n",
              "      <td>1176</td>\n",
              "      <td>80.769231</td>\n",
              "    </tr>\n",
              "    <tr>\n",
              "      <th>FireplaceQu</th>\n",
              "      <td>690</td>\n",
              "      <td>47.390110</td>\n",
              "    </tr>\n",
              "    <tr>\n",
              "      <th>LotFrontage</th>\n",
              "      <td>259</td>\n",
              "      <td>17.788462</td>\n",
              "    </tr>\n",
              "    <tr>\n",
              "      <th>GarageType</th>\n",
              "      <td>81</td>\n",
              "      <td>5.563187</td>\n",
              "    </tr>\n",
              "    <tr>\n",
              "      <th>GarageYrBlt</th>\n",
              "      <td>81</td>\n",
              "      <td>5.563187</td>\n",
              "    </tr>\n",
              "    <tr>\n",
              "      <th>GarageFinish</th>\n",
              "      <td>81</td>\n",
              "      <td>5.563187</td>\n",
              "    </tr>\n",
              "    <tr>\n",
              "      <th>GarageQual</th>\n",
              "      <td>81</td>\n",
              "      <td>5.563187</td>\n",
              "    </tr>\n",
              "    <tr>\n",
              "      <th>GarageCond</th>\n",
              "      <td>81</td>\n",
              "      <td>5.563187</td>\n",
              "    </tr>\n",
              "    <tr>\n",
              "      <th>BsmtExposure</th>\n",
              "      <td>38</td>\n",
              "      <td>2.609890</td>\n",
              "    </tr>\n",
              "    <tr>\n",
              "      <th>BsmtFinType2</th>\n",
              "      <td>38</td>\n",
              "      <td>2.609890</td>\n",
              "    </tr>\n",
              "    <tr>\n",
              "      <th>BsmtFinType1</th>\n",
              "      <td>37</td>\n",
              "      <td>2.541209</td>\n",
              "    </tr>\n",
              "    <tr>\n",
              "      <th>BsmtCond</th>\n",
              "      <td>37</td>\n",
              "      <td>2.541209</td>\n",
              "    </tr>\n",
              "    <tr>\n",
              "      <th>BsmtQual</th>\n",
              "      <td>37</td>\n",
              "      <td>2.541209</td>\n",
              "    </tr>\n",
              "    <tr>\n",
              "      <th>MasVnrArea</th>\n",
              "      <td>8</td>\n",
              "      <td>0.549451</td>\n",
              "    </tr>\n",
              "    <tr>\n",
              "      <th>MasVnrType</th>\n",
              "      <td>8</td>\n",
              "      <td>0.549451</td>\n",
              "    </tr>\n",
              "    <tr>\n",
              "      <th>Electrical</th>\n",
              "      <td>1</td>\n",
              "      <td>0.068681</td>\n",
              "    </tr>\n",
              "  </tbody>\n",
              "</table>\n",
              "</div>"
            ],
            "text/plain": [
              "              MissingCount   Missing%\n",
              "PoolQC                1451  99.656593\n",
              "MiscFeature           1402  96.291209\n",
              "Alley                 1365  93.750000\n",
              "Fence                 1176  80.769231\n",
              "FireplaceQu            690  47.390110\n",
              "LotFrontage            259  17.788462\n",
              "GarageType              81   5.563187\n",
              "GarageYrBlt             81   5.563187\n",
              "GarageFinish            81   5.563187\n",
              "GarageQual              81   5.563187\n",
              "GarageCond              81   5.563187\n",
              "BsmtExposure            38   2.609890\n",
              "BsmtFinType2            38   2.609890\n",
              "BsmtFinType1            37   2.541209\n",
              "BsmtCond                37   2.541209\n",
              "BsmtQual                37   2.541209\n",
              "MasVnrArea               8   0.549451\n",
              "MasVnrType               8   0.549451\n",
              "Electrical               1   0.068681"
            ]
          },
          "execution_count": 26,
          "metadata": {},
          "output_type": "execute_result"
        }
      ],
      "source": [
        "# train 데이터에서 빵구난 데이터의 비율 check\n",
        "train_ms = pd.DataFrame(train_df.isnull().sum(), columns=[\"MissingCount\"])\n",
        "train_ms = train_ms[train_ms[\"MissingCount\"]!=0]\n",
        "train_ms[\"Missing%\"] = train_ms[\"MissingCount\"] / len(train_df) * 100\n",
        "train_ms.sort_values(\"MissingCount\", ascending=False)"
      ]
    },
    {
      "cell_type": "code",
      "execution_count": 27,
      "metadata": {
        "colab": {
          "base_uri": "https://localhost:8080/",
          "height": 1000
        },
        "id": "crDzc8xV3eYF",
        "outputId": "131ba430-df9e-4baf-c182-7e87767de7d1"
      },
      "outputs": [
        {
          "data": {
            "text/html": [
              "<div>\n",
              "<style scoped>\n",
              "    .dataframe tbody tr th:only-of-type {\n",
              "        vertical-align: middle;\n",
              "    }\n",
              "\n",
              "    .dataframe tbody tr th {\n",
              "        vertical-align: top;\n",
              "    }\n",
              "\n",
              "    .dataframe thead th {\n",
              "        text-align: right;\n",
              "    }\n",
              "</style>\n",
              "<table border=\"1\" class=\"dataframe\">\n",
              "  <thead>\n",
              "    <tr style=\"text-align: right;\">\n",
              "      <th></th>\n",
              "      <th>MissingCount</th>\n",
              "      <th>Missing%</th>\n",
              "    </tr>\n",
              "  </thead>\n",
              "  <tbody>\n",
              "    <tr>\n",
              "      <th>PoolQC</th>\n",
              "      <td>1456</td>\n",
              "      <td>99.794380</td>\n",
              "    </tr>\n",
              "    <tr>\n",
              "      <th>MiscFeature</th>\n",
              "      <td>1408</td>\n",
              "      <td>96.504455</td>\n",
              "    </tr>\n",
              "    <tr>\n",
              "      <th>Alley</th>\n",
              "      <td>1352</td>\n",
              "      <td>92.666210</td>\n",
              "    </tr>\n",
              "    <tr>\n",
              "      <th>Fence</th>\n",
              "      <td>1169</td>\n",
              "      <td>80.123372</td>\n",
              "    </tr>\n",
              "    <tr>\n",
              "      <th>FireplaceQu</th>\n",
              "      <td>730</td>\n",
              "      <td>50.034270</td>\n",
              "    </tr>\n",
              "    <tr>\n",
              "      <th>LotFrontage</th>\n",
              "      <td>227</td>\n",
              "      <td>15.558602</td>\n",
              "    </tr>\n",
              "    <tr>\n",
              "      <th>GarageCond</th>\n",
              "      <td>78</td>\n",
              "      <td>5.346127</td>\n",
              "    </tr>\n",
              "    <tr>\n",
              "      <th>GarageYrBlt</th>\n",
              "      <td>78</td>\n",
              "      <td>5.346127</td>\n",
              "    </tr>\n",
              "    <tr>\n",
              "      <th>GarageQual</th>\n",
              "      <td>78</td>\n",
              "      <td>5.346127</td>\n",
              "    </tr>\n",
              "    <tr>\n",
              "      <th>GarageFinish</th>\n",
              "      <td>78</td>\n",
              "      <td>5.346127</td>\n",
              "    </tr>\n",
              "    <tr>\n",
              "      <th>GarageType</th>\n",
              "      <td>76</td>\n",
              "      <td>5.209047</td>\n",
              "    </tr>\n",
              "    <tr>\n",
              "      <th>BsmtCond</th>\n",
              "      <td>45</td>\n",
              "      <td>3.084304</td>\n",
              "    </tr>\n",
              "    <tr>\n",
              "      <th>BsmtExposure</th>\n",
              "      <td>44</td>\n",
              "      <td>3.015764</td>\n",
              "    </tr>\n",
              "    <tr>\n",
              "      <th>BsmtQual</th>\n",
              "      <td>44</td>\n",
              "      <td>3.015764</td>\n",
              "    </tr>\n",
              "    <tr>\n",
              "      <th>BsmtFinType1</th>\n",
              "      <td>42</td>\n",
              "      <td>2.878684</td>\n",
              "    </tr>\n",
              "    <tr>\n",
              "      <th>BsmtFinType2</th>\n",
              "      <td>42</td>\n",
              "      <td>2.878684</td>\n",
              "    </tr>\n",
              "    <tr>\n",
              "      <th>MasVnrType</th>\n",
              "      <td>16</td>\n",
              "      <td>1.096642</td>\n",
              "    </tr>\n",
              "    <tr>\n",
              "      <th>MasVnrArea</th>\n",
              "      <td>15</td>\n",
              "      <td>1.028101</td>\n",
              "    </tr>\n",
              "    <tr>\n",
              "      <th>MSZoning</th>\n",
              "      <td>4</td>\n",
              "      <td>0.274160</td>\n",
              "    </tr>\n",
              "    <tr>\n",
              "      <th>BsmtFullBath</th>\n",
              "      <td>2</td>\n",
              "      <td>0.137080</td>\n",
              "    </tr>\n",
              "    <tr>\n",
              "      <th>BsmtHalfBath</th>\n",
              "      <td>2</td>\n",
              "      <td>0.137080</td>\n",
              "    </tr>\n",
              "    <tr>\n",
              "      <th>Functional</th>\n",
              "      <td>2</td>\n",
              "      <td>0.137080</td>\n",
              "    </tr>\n",
              "    <tr>\n",
              "      <th>Utilities</th>\n",
              "      <td>2</td>\n",
              "      <td>0.137080</td>\n",
              "    </tr>\n",
              "    <tr>\n",
              "      <th>GarageCars</th>\n",
              "      <td>1</td>\n",
              "      <td>0.068540</td>\n",
              "    </tr>\n",
              "    <tr>\n",
              "      <th>GarageArea</th>\n",
              "      <td>1</td>\n",
              "      <td>0.068540</td>\n",
              "    </tr>\n",
              "    <tr>\n",
              "      <th>TotalBsmtSF</th>\n",
              "      <td>1</td>\n",
              "      <td>0.068540</td>\n",
              "    </tr>\n",
              "    <tr>\n",
              "      <th>KitchenQual</th>\n",
              "      <td>1</td>\n",
              "      <td>0.068540</td>\n",
              "    </tr>\n",
              "    <tr>\n",
              "      <th>BsmtUnfSF</th>\n",
              "      <td>1</td>\n",
              "      <td>0.068540</td>\n",
              "    </tr>\n",
              "    <tr>\n",
              "      <th>BsmtFinSF2</th>\n",
              "      <td>1</td>\n",
              "      <td>0.068540</td>\n",
              "    </tr>\n",
              "    <tr>\n",
              "      <th>BsmtFinSF1</th>\n",
              "      <td>1</td>\n",
              "      <td>0.068540</td>\n",
              "    </tr>\n",
              "    <tr>\n",
              "      <th>Exterior2nd</th>\n",
              "      <td>1</td>\n",
              "      <td>0.068540</td>\n",
              "    </tr>\n",
              "    <tr>\n",
              "      <th>Exterior1st</th>\n",
              "      <td>1</td>\n",
              "      <td>0.068540</td>\n",
              "    </tr>\n",
              "    <tr>\n",
              "      <th>SaleType</th>\n",
              "      <td>1</td>\n",
              "      <td>0.068540</td>\n",
              "    </tr>\n",
              "  </tbody>\n",
              "</table>\n",
              "</div>"
            ],
            "text/plain": [
              "              MissingCount   Missing%\n",
              "PoolQC                1456  99.794380\n",
              "MiscFeature           1408  96.504455\n",
              "Alley                 1352  92.666210\n",
              "Fence                 1169  80.123372\n",
              "FireplaceQu            730  50.034270\n",
              "LotFrontage            227  15.558602\n",
              "GarageCond              78   5.346127\n",
              "GarageYrBlt             78   5.346127\n",
              "GarageQual              78   5.346127\n",
              "GarageFinish            78   5.346127\n",
              "GarageType              76   5.209047\n",
              "BsmtCond                45   3.084304\n",
              "BsmtExposure            44   3.015764\n",
              "BsmtQual                44   3.015764\n",
              "BsmtFinType1            42   2.878684\n",
              "BsmtFinType2            42   2.878684\n",
              "MasVnrType              16   1.096642\n",
              "MasVnrArea              15   1.028101\n",
              "MSZoning                 4   0.274160\n",
              "BsmtFullBath             2   0.137080\n",
              "BsmtHalfBath             2   0.137080\n",
              "Functional               2   0.137080\n",
              "Utilities                2   0.137080\n",
              "GarageCars               1   0.068540\n",
              "GarageArea               1   0.068540\n",
              "TotalBsmtSF              1   0.068540\n",
              "KitchenQual              1   0.068540\n",
              "BsmtUnfSF                1   0.068540\n",
              "BsmtFinSF2               1   0.068540\n",
              "BsmtFinSF1               1   0.068540\n",
              "Exterior2nd              1   0.068540\n",
              "Exterior1st              1   0.068540\n",
              "SaleType                 1   0.068540"
            ]
          },
          "execution_count": 27,
          "metadata": {},
          "output_type": "execute_result"
        }
      ],
      "source": [
        "# test 데이터에서 빵구난 데이터의 비율 check\n",
        "test_ms = pd.DataFrame(test_df.isnull().sum(), columns=[\"MissingCount\"])\n",
        "test_ms = test_ms[test_ms[\"MissingCount\"]!=0]\n",
        "test_ms[\"Missing%\"] = test_ms[\"MissingCount\"] / len(test_df) * 100\n",
        "test_ms.sort_values(\"MissingCount\", ascending=False)"
      ]
    },
    {
      "cell_type": "markdown",
      "metadata": {
        "id": "RaXGMgB3qKNP"
      },
      "source": [
        "#### 빈 값들에 대해서 채우는 것 : None으로 처리할 것과 0으로 처리할 것으로 구분을 함!!! 아니면 중간값이나 이런 부분으로 채우고 싶으면 Imputer등에 대한 것들을 활용하면 됨!!!"
      ]
    },
    {
      "cell_type": "markdown",
      "metadata": {
        "id": "28Ud6bpsqKNP"
      },
      "source": [
        "##### 여기서는 None으로 채우고 싶음!!"
      ]
    },
    {
      "cell_type": "code",
      "execution_count": 28,
      "metadata": {
        "id": "3nAPw_0mqKNP"
      },
      "outputs": [],
      "source": [
        "nones = ['PoolQC', 'MiscFeature', 'Alley','Fence', 'FireplaceQu', 'GarageType','GarageFinish',\n",
        "        'GarageQual','GarageCond','BsmtQual','BsmtCond','BsmtExposure','BsmtFinType1','BsmtFinType2',\n",
        "        'MasVnrType']\n"
      ]
    },
    {
      "cell_type": "code",
      "execution_count": 29,
      "metadata": {
        "id": "EprR-mCo4TbH"
      },
      "outputs": [],
      "source": [
        "# 위에서 None 문자열 값으로 채울려고 하는 컬럼들. train 적용..\n",
        "# 위의 빵구값을 None으로 채울 컬럼을 test에도 동일하게 적용...\n",
        "for col in nones:\n",
        "    train_df[col].fillna(\"None\", inplace=True)\n",
        "    test_df[col].fillna(\"None\", inplace=True)"
      ]
    },
    {
      "cell_type": "markdown",
      "metadata": {
        "id": "mAOFCszAqKNP"
      },
      "source": [
        "##### 여기서는 0으로 채우고 싶음"
      ]
    },
    {
      "cell_type": "code",
      "execution_count": 30,
      "metadata": {
        "id": "cKJf11kaqKNP"
      },
      "outputs": [],
      "source": [
        "zeros = ['GarageYrBlt','GarageArea','GarageCars','BsmtFinSF1','BsmtFinSF2','BsmtUnfSF','TotalBsmtSF',\n",
        "         'BsmtFullBath','BsmtHalfBath','MasVnrArea']\n",
        "# train/test에서 0으로 채울 컬럼들을 리스트업을 하였고,\n",
        "# 이 기준을 그대로 train/test에 동일하게 적용ㅇ!!!!!\n",
        "for col in zeros:\n",
        "    train_df[col].fillna(0, inplace=True)\n",
        "    test_df[col].fillna(0, inplace=True)\n"
      ]
    },
    {
      "cell_type": "code",
      "execution_count": 31,
      "metadata": {
        "colab": {
          "base_uri": "https://localhost:8080/",
          "height": 79
        },
        "id": "nDUHOdol5e4q",
        "outputId": "0ca8e38e-3e2f-413f-f8f4-52c7f8ff5c4f"
      },
      "outputs": [
        {
          "data": {
            "text/html": [
              "<div>\n",
              "<style scoped>\n",
              "    .dataframe tbody tr th:only-of-type {\n",
              "        vertical-align: middle;\n",
              "    }\n",
              "\n",
              "    .dataframe tbody tr th {\n",
              "        vertical-align: top;\n",
              "    }\n",
              "\n",
              "    .dataframe thead th {\n",
              "        text-align: right;\n",
              "    }\n",
              "</style>\n",
              "<table border=\"1\" class=\"dataframe\">\n",
              "  <thead>\n",
              "    <tr style=\"text-align: right;\">\n",
              "      <th></th>\n",
              "      <th>MSSubClass</th>\n",
              "      <th>MSZoning</th>\n",
              "      <th>LotFrontage</th>\n",
              "      <th>LotArea</th>\n",
              "      <th>Street</th>\n",
              "      <th>Alley</th>\n",
              "      <th>LotShape</th>\n",
              "      <th>LandContour</th>\n",
              "      <th>Utilities</th>\n",
              "      <th>LotConfig</th>\n",
              "      <th>...</th>\n",
              "      <th>ScreenPorch</th>\n",
              "      <th>PoolArea</th>\n",
              "      <th>PoolQC</th>\n",
              "      <th>Fence</th>\n",
              "      <th>MiscFeature</th>\n",
              "      <th>MiscVal</th>\n",
              "      <th>MoSold</th>\n",
              "      <th>YrSold</th>\n",
              "      <th>SaleType</th>\n",
              "      <th>SaleCondition</th>\n",
              "    </tr>\n",
              "  </thead>\n",
              "  <tbody>\n",
              "  </tbody>\n",
              "</table>\n",
              "<p>0 rows × 79 columns</p>\n",
              "</div>"
            ],
            "text/plain": [
              "Empty DataFrame\n",
              "Columns: [MSSubClass, MSZoning, LotFrontage, LotArea, Street, Alley, LotShape, LandContour, Utilities, LotConfig, LandSlope, Neighborhood, Condition1, Condition2, BldgType, HouseStyle, OverallQual, OverallCond, YearBuilt, YearRemodAdd, RoofStyle, RoofMatl, Exterior1st, Exterior2nd, MasVnrType, MasVnrArea, ExterQual, ExterCond, Foundation, BsmtQual, BsmtCond, BsmtExposure, BsmtFinType1, BsmtFinSF1, BsmtFinType2, BsmtFinSF2, BsmtUnfSF, TotalBsmtSF, Heating, HeatingQC, CentralAir, Electrical, 1stFlrSF, 2ndFlrSF, LowQualFinSF, GrLivArea, BsmtFullBath, BsmtHalfBath, FullBath, HalfBath, BedroomAbvGr, KitchenAbvGr, KitchenQual, TotRmsAbvGrd, Functional, Fireplaces, FireplaceQu, GarageType, GarageYrBlt, GarageFinish, GarageCars, GarageArea, GarageQual, GarageCond, PavedDrive, WoodDeckSF, OpenPorchSF, EnclosedPorch, 3SsnPorch, ScreenPorch, PoolArea, PoolQC, Fence, MiscFeature, MiscVal, MoSold, YrSold, SaleType, SaleCondition]\n",
              "Index: []\n",
              "\n",
              "[0 rows x 79 columns]"
            ]
          },
          "execution_count": 31,
          "metadata": {},
          "output_type": "execute_result"
        }
      ],
      "source": [
        "train_df[train_df[\"GarageYrBlt\"].isnull()]"
      ]
    },
    {
      "cell_type": "markdown",
      "metadata": {
        "id": "rq83vg3zqKNP"
      },
      "source": [
        "##### Utilities 컬럼은 너무 많이 하나의 데이터로 되어 있어서, 특징으로 사용이 불가능 할 것임!! 그래서 제거하기로 함!"
      ]
    },
    {
      "cell_type": "code",
      "execution_count": 32,
      "metadata": {
        "colab": {
          "base_uri": "https://localhost:8080/"
        },
        "id": "hqE4mHwnqKNP",
        "outputId": "f4958afa-c42d-4121-ea65-4af8d785e570"
      },
      "outputs": [
        {
          "data": {
            "text/plain": [
              "AllPub    1455\n",
              "NoSeWa       1\n",
              "Name: Utilities, dtype: int64"
            ]
          },
          "execution_count": 32,
          "metadata": {},
          "output_type": "execute_result"
        }
      ],
      "source": [
        "train_df[\"Utilities\"].value_counts()"
      ]
    },
    {
      "cell_type": "code",
      "execution_count": 33,
      "metadata": {
        "colab": {
          "base_uri": "https://localhost:8080/"
        },
        "id": "p8lbFyM058Zu",
        "outputId": "2e595740-55c3-4a19-840a-4a7beb4831fa"
      },
      "outputs": [
        {
          "data": {
            "text/plain": [
              "AllPub    1457\n",
              "Name: Utilities, dtype: int64"
            ]
          },
          "execution_count": 33,
          "metadata": {},
          "output_type": "execute_result"
        }
      ],
      "source": [
        "test_df[\"Utilities\"].value_counts()"
      ]
    },
    {
      "cell_type": "code",
      "execution_count": 34,
      "metadata": {
        "id": "J9mjQJsp6GWh"
      },
      "outputs": [],
      "source": [
        "# Utilities : 누락은 아니지만 값의 종류에 문제가 있음;;;\n",
        "# 특징으로 역할을 하지 못할 부분이 있어서...\n",
        "train_df.drop(\"Utilities\", axis= 1, inplace=True)\n",
        "test_df.drop(\"Utilities\", axis= 1, inplace=True)"
      ]
    },
    {
      "cell_type": "markdown",
      "metadata": {
        "id": "iu6AXV4JqKNP"
      },
      "source": [
        "##### 아래의 컬럼들은 위의 Utilites와는 달리 너무까지는 아니지만, 빠진 것들도 존재를 하고, 많은 항목들도 있고, 치우친 것들이 있어서, 제일 많이 나타나는 항목으로 채우고자 함!!!!"
      ]
    },
    {
      "cell_type": "code",
      "execution_count": 35,
      "metadata": {
        "colab": {
          "base_uri": "https://localhost:8080/"
        },
        "id": "2JNOVBW6qKNP",
        "outputId": "46993861-1ecc-4191-a509-0c5574954917"
      },
      "outputs": [
        {
          "data": {
            "text/plain": [
              "RL         1147\n",
              "RM          218\n",
              "FV           65\n",
              "RH           16\n",
              "C (all)      10\n",
              "Name: MSZoning, dtype: int64"
            ]
          },
          "execution_count": 35,
          "metadata": {},
          "output_type": "execute_result"
        }
      ],
      "source": [
        "train_df[\"MSZoning\"].value_counts()"
      ]
    },
    {
      "cell_type": "code",
      "execution_count": 36,
      "metadata": {
        "colab": {
          "base_uri": "https://localhost:8080/"
        },
        "id": "DGqWOM0y7ObC",
        "outputId": "a214a42e-877a-4cfe-b71f-4d45427a2b2a"
      },
      "outputs": [
        {
          "data": {
            "text/plain": [
              "RL         1114\n",
              "RM          242\n",
              "FV           74\n",
              "C (all)      15\n",
              "RH           10\n",
              "Name: MSZoning, dtype: int64"
            ]
          },
          "execution_count": 36,
          "metadata": {},
          "output_type": "execute_result"
        }
      ],
      "source": [
        "test_df[\"MSZoning\"].value_counts()"
      ]
    },
    {
      "cell_type": "code",
      "execution_count": 37,
      "metadata": {
        "id": "4CYncLB2qKNQ"
      },
      "outputs": [],
      "source": [
        "# 나는 이번에는 카테고리형의 변수에서 빠진값을 위에와 달리\n",
        "# None이라는 문자열 임의값 보다는 분포를 생각해서 최빈값으로 채우겠다고 하면!!!!!"
      ]
    },
    {
      "cell_type": "code",
      "execution_count": 38,
      "metadata": {
        "id": "zDBvcqYyqKNQ"
      },
      "outputs": [],
      "source": [
        "freq = ['MSZoning','Exterior1st',\n",
        "        'Exterior2nd','SaleType','Electrical',\n",
        "        'KitchenQual','Functional']\n",
        "\n",
        "# 여기서 주의해야 합니다!!!!\n",
        "for fr in freq:\n",
        "    train_df[fr].fillna(train_df[fr].mode()[0], inplace=True)\n",
        "    test_df[fr].fillna(train_df[fr].mode()[0], inplace=True)\n"
      ]
    },
    {
      "cell_type": "markdown",
      "metadata": {
        "id": "SPjbXVX9qKNQ"
      },
      "source": [
        "#####  LotFrontage 에서는 너무 많은 값들이 이상하고, 이 값들으 좀 처리하기 위해서 비슷한 것들을 묶어서 사용을 하려고 함.    \n",
        "그래서 우선은 기존의 값은 old_lotfrontage라는 컬럼으로 두고, LotArea, Neighborhood로 그룹화 해서 거기서 나오는 값을 바탕으로 처리하고자 함!!!"
      ]
    },
    {
      "cell_type": "code",
      "execution_count": 39,
      "metadata": {
        "id": "xlVlVekZ1a-w"
      },
      "outputs": [],
      "source": [
        "# LotFrontage : 부동산과 연결된 도로의 선형 피트\n",
        "# Neighborhood : 에임스 시 경계 내의 물리적인 위치\n",
        "\n",
        "# --> 대략적으로 한 200개 정도 누락된 LotFrontage 수치형 컬럼을 채우기 위해서\n",
        "# 정보가 없어서 0입니다라고 채울 수 있지만, 유사하게 현실을 반영해서 채울 수 있는 방법이 있다고 하고\n",
        "# 물리적인 위치와 거의 유사할꺼라 생각해서 유사한 데이터를 그룹핑을 해서 대표값으로 채울려고 하는 방식."
      ]
    },
    {
      "cell_type": "code",
      "execution_count": 40,
      "metadata": {
        "id": "dK3VlqEu11Xa"
      },
      "outputs": [],
      "source": [
        "# 기존의 LotFrontage 값을 잠시 보관..."
      ]
    },
    {
      "cell_type": "code",
      "execution_count": 41,
      "metadata": {
        "colab": {
          "base_uri": "https://localhost:8080/",
          "height": 299
        },
        "id": "8JM2mKGA2P6F",
        "outputId": "37185d42-be7a-41e4-8cf9-292cc9b10bdd"
      },
      "outputs": [
        {
          "data": {
            "text/html": [
              "<div>\n",
              "<style scoped>\n",
              "    .dataframe tbody tr th:only-of-type {\n",
              "        vertical-align: middle;\n",
              "    }\n",
              "\n",
              "    .dataframe tbody tr th {\n",
              "        vertical-align: top;\n",
              "    }\n",
              "\n",
              "    .dataframe thead th {\n",
              "        text-align: right;\n",
              "    }\n",
              "</style>\n",
              "<table border=\"1\" class=\"dataframe\">\n",
              "  <thead>\n",
              "    <tr style=\"text-align: right;\">\n",
              "      <th></th>\n",
              "      <th>MSSubClass</th>\n",
              "      <th>MSZoning</th>\n",
              "      <th>LotFrontage</th>\n",
              "      <th>LotArea</th>\n",
              "      <th>Street</th>\n",
              "      <th>Alley</th>\n",
              "      <th>LotShape</th>\n",
              "      <th>LandContour</th>\n",
              "      <th>LotConfig</th>\n",
              "      <th>LandSlope</th>\n",
              "      <th>...</th>\n",
              "      <th>PoolArea</th>\n",
              "      <th>PoolQC</th>\n",
              "      <th>Fence</th>\n",
              "      <th>MiscFeature</th>\n",
              "      <th>MiscVal</th>\n",
              "      <th>MoSold</th>\n",
              "      <th>YrSold</th>\n",
              "      <th>SaleType</th>\n",
              "      <th>SaleCondition</th>\n",
              "      <th>old_LotFrontage</th>\n",
              "    </tr>\n",
              "  </thead>\n",
              "  <tbody>\n",
              "    <tr>\n",
              "      <th>0</th>\n",
              "      <td>60</td>\n",
              "      <td>RL</td>\n",
              "      <td>65.0</td>\n",
              "      <td>8450</td>\n",
              "      <td>Pave</td>\n",
              "      <td>None</td>\n",
              "      <td>Reg</td>\n",
              "      <td>Lvl</td>\n",
              "      <td>Inside</td>\n",
              "      <td>Gtl</td>\n",
              "      <td>...</td>\n",
              "      <td>0</td>\n",
              "      <td>None</td>\n",
              "      <td>None</td>\n",
              "      <td>None</td>\n",
              "      <td>0</td>\n",
              "      <td>2</td>\n",
              "      <td>2008</td>\n",
              "      <td>WD</td>\n",
              "      <td>Normal</td>\n",
              "      <td>65.0</td>\n",
              "    </tr>\n",
              "    <tr>\n",
              "      <th>1</th>\n",
              "      <td>20</td>\n",
              "      <td>RL</td>\n",
              "      <td>80.0</td>\n",
              "      <td>9600</td>\n",
              "      <td>Pave</td>\n",
              "      <td>None</td>\n",
              "      <td>Reg</td>\n",
              "      <td>Lvl</td>\n",
              "      <td>FR2</td>\n",
              "      <td>Gtl</td>\n",
              "      <td>...</td>\n",
              "      <td>0</td>\n",
              "      <td>None</td>\n",
              "      <td>None</td>\n",
              "      <td>None</td>\n",
              "      <td>0</td>\n",
              "      <td>5</td>\n",
              "      <td>2007</td>\n",
              "      <td>WD</td>\n",
              "      <td>Normal</td>\n",
              "      <td>80.0</td>\n",
              "    </tr>\n",
              "    <tr>\n",
              "      <th>2</th>\n",
              "      <td>60</td>\n",
              "      <td>RL</td>\n",
              "      <td>68.0</td>\n",
              "      <td>11250</td>\n",
              "      <td>Pave</td>\n",
              "      <td>None</td>\n",
              "      <td>IR1</td>\n",
              "      <td>Lvl</td>\n",
              "      <td>Inside</td>\n",
              "      <td>Gtl</td>\n",
              "      <td>...</td>\n",
              "      <td>0</td>\n",
              "      <td>None</td>\n",
              "      <td>None</td>\n",
              "      <td>None</td>\n",
              "      <td>0</td>\n",
              "      <td>9</td>\n",
              "      <td>2008</td>\n",
              "      <td>WD</td>\n",
              "      <td>Normal</td>\n",
              "      <td>68.0</td>\n",
              "    </tr>\n",
              "    <tr>\n",
              "      <th>3</th>\n",
              "      <td>70</td>\n",
              "      <td>RL</td>\n",
              "      <td>60.0</td>\n",
              "      <td>9550</td>\n",
              "      <td>Pave</td>\n",
              "      <td>None</td>\n",
              "      <td>IR1</td>\n",
              "      <td>Lvl</td>\n",
              "      <td>Corner</td>\n",
              "      <td>Gtl</td>\n",
              "      <td>...</td>\n",
              "      <td>0</td>\n",
              "      <td>None</td>\n",
              "      <td>None</td>\n",
              "      <td>None</td>\n",
              "      <td>0</td>\n",
              "      <td>2</td>\n",
              "      <td>2006</td>\n",
              "      <td>WD</td>\n",
              "      <td>Abnorml</td>\n",
              "      <td>60.0</td>\n",
              "    </tr>\n",
              "    <tr>\n",
              "      <th>4</th>\n",
              "      <td>60</td>\n",
              "      <td>RL</td>\n",
              "      <td>84.0</td>\n",
              "      <td>14260</td>\n",
              "      <td>Pave</td>\n",
              "      <td>None</td>\n",
              "      <td>IR1</td>\n",
              "      <td>Lvl</td>\n",
              "      <td>FR2</td>\n",
              "      <td>Gtl</td>\n",
              "      <td>...</td>\n",
              "      <td>0</td>\n",
              "      <td>None</td>\n",
              "      <td>None</td>\n",
              "      <td>None</td>\n",
              "      <td>0</td>\n",
              "      <td>12</td>\n",
              "      <td>2008</td>\n",
              "      <td>WD</td>\n",
              "      <td>Normal</td>\n",
              "      <td>84.0</td>\n",
              "    </tr>\n",
              "  </tbody>\n",
              "</table>\n",
              "<p>5 rows × 79 columns</p>\n",
              "</div>"
            ],
            "text/plain": [
              "   MSSubClass MSZoning  LotFrontage  LotArea Street Alley LotShape  \\\n",
              "0          60       RL         65.0     8450   Pave  None      Reg   \n",
              "1          20       RL         80.0     9600   Pave  None      Reg   \n",
              "2          60       RL         68.0    11250   Pave  None      IR1   \n",
              "3          70       RL         60.0     9550   Pave  None      IR1   \n",
              "4          60       RL         84.0    14260   Pave  None      IR1   \n",
              "\n",
              "  LandContour LotConfig LandSlope  ... PoolArea PoolQC Fence MiscFeature  \\\n",
              "0         Lvl    Inside       Gtl  ...        0   None  None        None   \n",
              "1         Lvl       FR2       Gtl  ...        0   None  None        None   \n",
              "2         Lvl    Inside       Gtl  ...        0   None  None        None   \n",
              "3         Lvl    Corner       Gtl  ...        0   None  None        None   \n",
              "4         Lvl       FR2       Gtl  ...        0   None  None        None   \n",
              "\n",
              "  MiscVal  MoSold  YrSold  SaleType  SaleCondition old_LotFrontage  \n",
              "0       0       2    2008        WD         Normal            65.0  \n",
              "1       0       5    2007        WD         Normal            80.0  \n",
              "2       0       9    2008        WD         Normal            68.0  \n",
              "3       0       2    2006        WD        Abnorml            60.0  \n",
              "4       0      12    2008        WD         Normal            84.0  \n",
              "\n",
              "[5 rows x 79 columns]"
            ]
          },
          "execution_count": 41,
          "metadata": {},
          "output_type": "execute_result"
        }
      ],
      "source": [
        "train_df[\"old_LotFrontage\"] = train_df[\"LotFrontage\"]\n",
        "train_df.head()"
      ]
    },
    {
      "cell_type": "code",
      "execution_count": 42,
      "metadata": {
        "colab": {
          "base_uri": "https://localhost:8080/"
        },
        "id": "xO5wacgi3yBr",
        "outputId": "2c042fa4-a15e-4778-f6b8-ff6aa4e0d8fb"
      },
      "outputs": [
        {
          "data": {
            "text/plain": [
              "Neighborhood\n",
              "Blmngtn    43.0\n",
              "Blueste    24.0\n",
              "BrDale     21.0\n",
              "BrkSide    52.0\n",
              "ClearCr    80.0\n",
              "CollgCr    70.0\n",
              "Crawfor    74.0\n",
              "Edwards    64.5\n",
              "Gilbert    65.0\n",
              "IDOTRR     60.0\n",
              "MeadowV    21.0\n",
              "Mitchel    73.0\n",
              "NAmes      73.0\n",
              "NPkVill    24.0\n",
              "NWAmes     80.0\n",
              "NoRidge    90.0\n",
              "NridgHt    88.5\n",
              "OldTown    60.0\n",
              "SWISU      60.0\n",
              "Sawyer     71.0\n",
              "SawyerW    66.5\n",
              "Somerst    73.5\n",
              "StoneBr    61.5\n",
              "Timber     85.0\n",
              "Veenker    68.0\n",
              "Name: LotFrontage, dtype: float64"
            ]
          },
          "execution_count": 42,
          "metadata": {},
          "output_type": "execute_result"
        }
      ],
      "source": [
        "# train 데이터를 기준으로 neighhborhood로 묶은 후 대표값을 중앙값으로 하여\n",
        "# 혹시 누락된 LotFrontage 값이 있다면 Neighborhood 참조해서 채우겠다!!!!!!\n",
        "ref_table = train_df.groupby(by=\"Neighborhood\")[\"LotFrontage\"].agg(np.median)\n",
        "ref_table"
      ]
    },
    {
      "cell_type": "code",
      "execution_count": 43,
      "metadata": {
        "id": "fOWzagUF3yGJ"
      },
      "outputs": [],
      "source": [
        "# train 데이터에 적용\n",
        "train_df[\"LotFrontage\"] = train_df.groupby(by=\"Neighborhood\")[\"LotFrontage\"].transform(lambda x :x.fillna(x.median()) )"
      ]
    },
    {
      "cell_type": "code",
      "execution_count": 44,
      "metadata": {
        "colab": {
          "base_uri": "https://localhost:8080/",
          "height": 487
        },
        "id": "OKRJn5Bu3yJD",
        "outputId": "fa513547-d188-4f8d-a62c-21d90c6446c1"
      },
      "outputs": [
        {
          "data": {
            "text/html": [
              "<div>\n",
              "<style scoped>\n",
              "    .dataframe tbody tr th:only-of-type {\n",
              "        vertical-align: middle;\n",
              "    }\n",
              "\n",
              "    .dataframe tbody tr th {\n",
              "        vertical-align: top;\n",
              "    }\n",
              "\n",
              "    .dataframe thead th {\n",
              "        text-align: right;\n",
              "    }\n",
              "</style>\n",
              "<table border=\"1\" class=\"dataframe\">\n",
              "  <thead>\n",
              "    <tr style=\"text-align: right;\">\n",
              "      <th></th>\n",
              "      <th>MSSubClass</th>\n",
              "      <th>MSZoning</th>\n",
              "      <th>LotFrontage_x</th>\n",
              "      <th>LotArea</th>\n",
              "      <th>Street</th>\n",
              "      <th>Alley</th>\n",
              "      <th>LotShape</th>\n",
              "      <th>LandContour</th>\n",
              "      <th>LotConfig</th>\n",
              "      <th>LandSlope</th>\n",
              "      <th>...</th>\n",
              "      <th>PoolQC</th>\n",
              "      <th>Fence</th>\n",
              "      <th>MiscFeature</th>\n",
              "      <th>MiscVal</th>\n",
              "      <th>MoSold</th>\n",
              "      <th>YrSold</th>\n",
              "      <th>SaleType</th>\n",
              "      <th>SaleCondition</th>\n",
              "      <th>old_LotFrontage</th>\n",
              "      <th>LotFrontage_y</th>\n",
              "    </tr>\n",
              "  </thead>\n",
              "  <tbody>\n",
              "    <tr>\n",
              "      <th>0</th>\n",
              "      <td>20</td>\n",
              "      <td>RH</td>\n",
              "      <td>80.0</td>\n",
              "      <td>11622</td>\n",
              "      <td>Pave</td>\n",
              "      <td>None</td>\n",
              "      <td>Reg</td>\n",
              "      <td>Lvl</td>\n",
              "      <td>Inside</td>\n",
              "      <td>Gtl</td>\n",
              "      <td>...</td>\n",
              "      <td>None</td>\n",
              "      <td>MnPrv</td>\n",
              "      <td>None</td>\n",
              "      <td>0</td>\n",
              "      <td>6</td>\n",
              "      <td>2010</td>\n",
              "      <td>WD</td>\n",
              "      <td>Normal</td>\n",
              "      <td>80.0</td>\n",
              "      <td>73.0</td>\n",
              "    </tr>\n",
              "    <tr>\n",
              "      <th>1</th>\n",
              "      <td>20</td>\n",
              "      <td>RL</td>\n",
              "      <td>81.0</td>\n",
              "      <td>14267</td>\n",
              "      <td>Pave</td>\n",
              "      <td>None</td>\n",
              "      <td>IR1</td>\n",
              "      <td>Lvl</td>\n",
              "      <td>Corner</td>\n",
              "      <td>Gtl</td>\n",
              "      <td>...</td>\n",
              "      <td>None</td>\n",
              "      <td>None</td>\n",
              "      <td>Gar2</td>\n",
              "      <td>12500</td>\n",
              "      <td>6</td>\n",
              "      <td>2010</td>\n",
              "      <td>WD</td>\n",
              "      <td>Normal</td>\n",
              "      <td>81.0</td>\n",
              "      <td>73.0</td>\n",
              "    </tr>\n",
              "    <tr>\n",
              "      <th>2</th>\n",
              "      <td>60</td>\n",
              "      <td>RL</td>\n",
              "      <td>74.0</td>\n",
              "      <td>13830</td>\n",
              "      <td>Pave</td>\n",
              "      <td>None</td>\n",
              "      <td>IR1</td>\n",
              "      <td>Lvl</td>\n",
              "      <td>Inside</td>\n",
              "      <td>Gtl</td>\n",
              "      <td>...</td>\n",
              "      <td>None</td>\n",
              "      <td>MnPrv</td>\n",
              "      <td>None</td>\n",
              "      <td>0</td>\n",
              "      <td>3</td>\n",
              "      <td>2010</td>\n",
              "      <td>WD</td>\n",
              "      <td>Normal</td>\n",
              "      <td>74.0</td>\n",
              "      <td>65.0</td>\n",
              "    </tr>\n",
              "    <tr>\n",
              "      <th>3</th>\n",
              "      <td>60</td>\n",
              "      <td>RL</td>\n",
              "      <td>78.0</td>\n",
              "      <td>9978</td>\n",
              "      <td>Pave</td>\n",
              "      <td>None</td>\n",
              "      <td>IR1</td>\n",
              "      <td>Lvl</td>\n",
              "      <td>Inside</td>\n",
              "      <td>Gtl</td>\n",
              "      <td>...</td>\n",
              "      <td>None</td>\n",
              "      <td>None</td>\n",
              "      <td>None</td>\n",
              "      <td>0</td>\n",
              "      <td>6</td>\n",
              "      <td>2010</td>\n",
              "      <td>WD</td>\n",
              "      <td>Normal</td>\n",
              "      <td>78.0</td>\n",
              "      <td>65.0</td>\n",
              "    </tr>\n",
              "    <tr>\n",
              "      <th>4</th>\n",
              "      <td>120</td>\n",
              "      <td>RL</td>\n",
              "      <td>43.0</td>\n",
              "      <td>5005</td>\n",
              "      <td>Pave</td>\n",
              "      <td>None</td>\n",
              "      <td>IR1</td>\n",
              "      <td>HLS</td>\n",
              "      <td>Inside</td>\n",
              "      <td>Gtl</td>\n",
              "      <td>...</td>\n",
              "      <td>None</td>\n",
              "      <td>None</td>\n",
              "      <td>None</td>\n",
              "      <td>0</td>\n",
              "      <td>1</td>\n",
              "      <td>2010</td>\n",
              "      <td>WD</td>\n",
              "      <td>Normal</td>\n",
              "      <td>43.0</td>\n",
              "      <td>61.5</td>\n",
              "    </tr>\n",
              "    <tr>\n",
              "      <th>...</th>\n",
              "      <td>...</td>\n",
              "      <td>...</td>\n",
              "      <td>...</td>\n",
              "      <td>...</td>\n",
              "      <td>...</td>\n",
              "      <td>...</td>\n",
              "      <td>...</td>\n",
              "      <td>...</td>\n",
              "      <td>...</td>\n",
              "      <td>...</td>\n",
              "      <td>...</td>\n",
              "      <td>...</td>\n",
              "      <td>...</td>\n",
              "      <td>...</td>\n",
              "      <td>...</td>\n",
              "      <td>...</td>\n",
              "      <td>...</td>\n",
              "      <td>...</td>\n",
              "      <td>...</td>\n",
              "      <td>...</td>\n",
              "      <td>...</td>\n",
              "    </tr>\n",
              "    <tr>\n",
              "      <th>1454</th>\n",
              "      <td>160</td>\n",
              "      <td>RM</td>\n",
              "      <td>21.0</td>\n",
              "      <td>1936</td>\n",
              "      <td>Pave</td>\n",
              "      <td>None</td>\n",
              "      <td>Reg</td>\n",
              "      <td>Lvl</td>\n",
              "      <td>Inside</td>\n",
              "      <td>Gtl</td>\n",
              "      <td>...</td>\n",
              "      <td>None</td>\n",
              "      <td>None</td>\n",
              "      <td>None</td>\n",
              "      <td>0</td>\n",
              "      <td>6</td>\n",
              "      <td>2006</td>\n",
              "      <td>WD</td>\n",
              "      <td>Normal</td>\n",
              "      <td>21.0</td>\n",
              "      <td>21.0</td>\n",
              "    </tr>\n",
              "    <tr>\n",
              "      <th>1455</th>\n",
              "      <td>160</td>\n",
              "      <td>RM</td>\n",
              "      <td>21.0</td>\n",
              "      <td>1894</td>\n",
              "      <td>Pave</td>\n",
              "      <td>None</td>\n",
              "      <td>Reg</td>\n",
              "      <td>Lvl</td>\n",
              "      <td>Inside</td>\n",
              "      <td>Gtl</td>\n",
              "      <td>...</td>\n",
              "      <td>None</td>\n",
              "      <td>None</td>\n",
              "      <td>None</td>\n",
              "      <td>0</td>\n",
              "      <td>4</td>\n",
              "      <td>2006</td>\n",
              "      <td>WD</td>\n",
              "      <td>Abnorml</td>\n",
              "      <td>21.0</td>\n",
              "      <td>21.0</td>\n",
              "    </tr>\n",
              "    <tr>\n",
              "      <th>1456</th>\n",
              "      <td>20</td>\n",
              "      <td>RL</td>\n",
              "      <td>160.0</td>\n",
              "      <td>20000</td>\n",
              "      <td>Pave</td>\n",
              "      <td>None</td>\n",
              "      <td>Reg</td>\n",
              "      <td>Lvl</td>\n",
              "      <td>Inside</td>\n",
              "      <td>Gtl</td>\n",
              "      <td>...</td>\n",
              "      <td>None</td>\n",
              "      <td>None</td>\n",
              "      <td>None</td>\n",
              "      <td>0</td>\n",
              "      <td>9</td>\n",
              "      <td>2006</td>\n",
              "      <td>WD</td>\n",
              "      <td>Abnorml</td>\n",
              "      <td>160.0</td>\n",
              "      <td>73.0</td>\n",
              "    </tr>\n",
              "    <tr>\n",
              "      <th>1457</th>\n",
              "      <td>85</td>\n",
              "      <td>RL</td>\n",
              "      <td>62.0</td>\n",
              "      <td>10441</td>\n",
              "      <td>Pave</td>\n",
              "      <td>None</td>\n",
              "      <td>Reg</td>\n",
              "      <td>Lvl</td>\n",
              "      <td>Inside</td>\n",
              "      <td>Gtl</td>\n",
              "      <td>...</td>\n",
              "      <td>None</td>\n",
              "      <td>MnPrv</td>\n",
              "      <td>Shed</td>\n",
              "      <td>700</td>\n",
              "      <td>7</td>\n",
              "      <td>2006</td>\n",
              "      <td>WD</td>\n",
              "      <td>Normal</td>\n",
              "      <td>62.0</td>\n",
              "      <td>73.0</td>\n",
              "    </tr>\n",
              "    <tr>\n",
              "      <th>1458</th>\n",
              "      <td>60</td>\n",
              "      <td>RL</td>\n",
              "      <td>74.0</td>\n",
              "      <td>9627</td>\n",
              "      <td>Pave</td>\n",
              "      <td>None</td>\n",
              "      <td>Reg</td>\n",
              "      <td>Lvl</td>\n",
              "      <td>Inside</td>\n",
              "      <td>Mod</td>\n",
              "      <td>...</td>\n",
              "      <td>None</td>\n",
              "      <td>None</td>\n",
              "      <td>None</td>\n",
              "      <td>0</td>\n",
              "      <td>11</td>\n",
              "      <td>2006</td>\n",
              "      <td>WD</td>\n",
              "      <td>Normal</td>\n",
              "      <td>74.0</td>\n",
              "      <td>73.0</td>\n",
              "    </tr>\n",
              "  </tbody>\n",
              "</table>\n",
              "<p>1459 rows × 80 columns</p>\n",
              "</div>"
            ],
            "text/plain": [
              "      MSSubClass MSZoning  LotFrontage_x  LotArea Street Alley LotShape  \\\n",
              "0             20       RH           80.0    11622   Pave  None      Reg   \n",
              "1             20       RL           81.0    14267   Pave  None      IR1   \n",
              "2             60       RL           74.0    13830   Pave  None      IR1   \n",
              "3             60       RL           78.0     9978   Pave  None      IR1   \n",
              "4            120       RL           43.0     5005   Pave  None      IR1   \n",
              "...          ...      ...            ...      ...    ...   ...      ...   \n",
              "1454         160       RM           21.0     1936   Pave  None      Reg   \n",
              "1455         160       RM           21.0     1894   Pave  None      Reg   \n",
              "1456          20       RL          160.0    20000   Pave  None      Reg   \n",
              "1457          85       RL           62.0    10441   Pave  None      Reg   \n",
              "1458          60       RL           74.0     9627   Pave  None      Reg   \n",
              "\n",
              "     LandContour LotConfig LandSlope  ... PoolQC  Fence MiscFeature MiscVal  \\\n",
              "0            Lvl    Inside       Gtl  ...   None  MnPrv        None       0   \n",
              "1            Lvl    Corner       Gtl  ...   None   None        Gar2   12500   \n",
              "2            Lvl    Inside       Gtl  ...   None  MnPrv        None       0   \n",
              "3            Lvl    Inside       Gtl  ...   None   None        None       0   \n",
              "4            HLS    Inside       Gtl  ...   None   None        None       0   \n",
              "...          ...       ...       ...  ...    ...    ...         ...     ...   \n",
              "1454         Lvl    Inside       Gtl  ...   None   None        None       0   \n",
              "1455         Lvl    Inside       Gtl  ...   None   None        None       0   \n",
              "1456         Lvl    Inside       Gtl  ...   None   None        None       0   \n",
              "1457         Lvl    Inside       Gtl  ...   None  MnPrv        Shed     700   \n",
              "1458         Lvl    Inside       Mod  ...   None   None        None       0   \n",
              "\n",
              "     MoSold  YrSold  SaleType  SaleCondition  old_LotFrontage LotFrontage_y  \n",
              "0         6    2010        WD         Normal             80.0          73.0  \n",
              "1         6    2010        WD         Normal             81.0          73.0  \n",
              "2         3    2010        WD         Normal             74.0          65.0  \n",
              "3         6    2010        WD         Normal             78.0          65.0  \n",
              "4         1    2010        WD         Normal             43.0          61.5  \n",
              "...     ...     ...       ...            ...              ...           ...  \n",
              "1454      6    2006        WD         Normal             21.0          21.0  \n",
              "1455      4    2006        WD        Abnorml             21.0          21.0  \n",
              "1456      9    2006        WD        Abnorml            160.0          73.0  \n",
              "1457      7    2006        WD         Normal             62.0          73.0  \n",
              "1458     11    2006        WD         Normal             74.0          73.0  \n",
              "\n",
              "[1459 rows x 80 columns]"
            ]
          },
          "execution_count": 44,
          "metadata": {},
          "output_type": "execute_result"
        }
      ],
      "source": [
        "# test 데이터에 적용을 하기 위해서는 join\n",
        "test_df[\"old_LotFrontage\"] = test_df[\"LotFrontage\"]\n",
        "test_df = pd.merge(test_df, ref_table, how = \"left\", \n",
        "                   left_on = \"Neighborhood\",\n",
        "                   right_on = \"Neighborhood\")\n",
        "test_df"
      ]
    },
    {
      "cell_type": "code",
      "execution_count": 45,
      "metadata": {
        "colab": {
          "base_uri": "https://localhost:8080/",
          "height": 423
        },
        "id": "IS5-UVXI5-08",
        "outputId": "b809d190-e067-4ac8-b0d6-41bc4b93bf2f"
      },
      "outputs": [
        {
          "data": {
            "text/html": [
              "<div>\n",
              "<style scoped>\n",
              "    .dataframe tbody tr th:only-of-type {\n",
              "        vertical-align: middle;\n",
              "    }\n",
              "\n",
              "    .dataframe tbody tr th {\n",
              "        vertical-align: top;\n",
              "    }\n",
              "\n",
              "    .dataframe thead th {\n",
              "        text-align: right;\n",
              "    }\n",
              "</style>\n",
              "<table border=\"1\" class=\"dataframe\">\n",
              "  <thead>\n",
              "    <tr style=\"text-align: right;\">\n",
              "      <th></th>\n",
              "      <th>Neighborhood</th>\n",
              "      <th>LotFrontage_x</th>\n",
              "      <th>LotFrontage_y</th>\n",
              "      <th>old_LotFrontage</th>\n",
              "    </tr>\n",
              "  </thead>\n",
              "  <tbody>\n",
              "    <tr>\n",
              "      <th>6</th>\n",
              "      <td>Gilbert</td>\n",
              "      <td>NaN</td>\n",
              "      <td>65.0</td>\n",
              "      <td>NaN</td>\n",
              "    </tr>\n",
              "    <tr>\n",
              "      <th>40</th>\n",
              "      <td>Somerst</td>\n",
              "      <td>NaN</td>\n",
              "      <td>73.5</td>\n",
              "      <td>NaN</td>\n",
              "    </tr>\n",
              "    <tr>\n",
              "      <th>41</th>\n",
              "      <td>Somerst</td>\n",
              "      <td>NaN</td>\n",
              "      <td>73.5</td>\n",
              "      <td>NaN</td>\n",
              "    </tr>\n",
              "    <tr>\n",
              "      <th>45</th>\n",
              "      <td>NWAmes</td>\n",
              "      <td>NaN</td>\n",
              "      <td>80.0</td>\n",
              "      <td>NaN</td>\n",
              "    </tr>\n",
              "    <tr>\n",
              "      <th>47</th>\n",
              "      <td>NWAmes</td>\n",
              "      <td>NaN</td>\n",
              "      <td>80.0</td>\n",
              "      <td>NaN</td>\n",
              "    </tr>\n",
              "    <tr>\n",
              "      <th>...</th>\n",
              "      <td>...</td>\n",
              "      <td>...</td>\n",
              "      <td>...</td>\n",
              "      <td>...</td>\n",
              "    </tr>\n",
              "    <tr>\n",
              "      <th>1387</th>\n",
              "      <td>CollgCr</td>\n",
              "      <td>NaN</td>\n",
              "      <td>70.0</td>\n",
              "      <td>NaN</td>\n",
              "    </tr>\n",
              "    <tr>\n",
              "      <th>1390</th>\n",
              "      <td>CollgCr</td>\n",
              "      <td>NaN</td>\n",
              "      <td>70.0</td>\n",
              "      <td>NaN</td>\n",
              "    </tr>\n",
              "    <tr>\n",
              "      <th>1440</th>\n",
              "      <td>Timber</td>\n",
              "      <td>NaN</td>\n",
              "      <td>85.0</td>\n",
              "      <td>NaN</td>\n",
              "    </tr>\n",
              "    <tr>\n",
              "      <th>1441</th>\n",
              "      <td>Timber</td>\n",
              "      <td>NaN</td>\n",
              "      <td>85.0</td>\n",
              "      <td>NaN</td>\n",
              "    </tr>\n",
              "    <tr>\n",
              "      <th>1448</th>\n",
              "      <td>Mitchel</td>\n",
              "      <td>NaN</td>\n",
              "      <td>73.0</td>\n",
              "      <td>NaN</td>\n",
              "    </tr>\n",
              "  </tbody>\n",
              "</table>\n",
              "<p>227 rows × 4 columns</p>\n",
              "</div>"
            ],
            "text/plain": [
              "     Neighborhood  LotFrontage_x  LotFrontage_y  old_LotFrontage\n",
              "6         Gilbert            NaN           65.0              NaN\n",
              "40        Somerst            NaN           73.5              NaN\n",
              "41        Somerst            NaN           73.5              NaN\n",
              "45         NWAmes            NaN           80.0              NaN\n",
              "47         NWAmes            NaN           80.0              NaN\n",
              "...           ...            ...            ...              ...\n",
              "1387      CollgCr            NaN           70.0              NaN\n",
              "1390      CollgCr            NaN           70.0              NaN\n",
              "1440       Timber            NaN           85.0              NaN\n",
              "1441       Timber            NaN           85.0              NaN\n",
              "1448      Mitchel            NaN           73.0              NaN\n",
              "\n",
              "[227 rows x 4 columns]"
            ]
          },
          "execution_count": 45,
          "metadata": {},
          "output_type": "execute_result"
        }
      ],
      "source": [
        "test_df.loc[test_df[\"LotFrontage_x\"].isnull(), [\"Neighborhood\", \"LotFrontage_x\", \"LotFrontage_y\", \"old_LotFrontage\"]]"
      ]
    },
    {
      "cell_type": "code",
      "execution_count": 46,
      "metadata": {
        "id": "xlAaOpYz2QBd"
      },
      "outputs": [],
      "source": [
        "# test에서 누락된 값을 train에서 추출한 대표값으로 변경\n",
        "test_df.loc[test_df[\"LotFrontage_x\"].isnull(),\"LotFrontage_x\"] = test_df.loc[test_df[\"LotFrontage_x\"].isnull(),\"LotFrontage_y\"]\n",
        "# train에서 참조한 대표값 컬럼 제거\n",
        "test_df.drop(\"LotFrontage_y\", axis = 1, inplace=True)\n",
        "# LotFrontage_x 컬럼 이름 변경...\n",
        "test_df.rename(columns={\"LotFrontage_x\":\"LotFrontage\"}, inplace=True)"
      ]
    },
    {
      "cell_type": "code",
      "execution_count": 47,
      "metadata": {
        "id": "OFzj8qXbqKNQ"
      },
      "outputs": [
        {
          "name": "stdout",
          "output_type": "stream",
          "text": [
            "<class 'pandas.core.frame.DataFrame'>\n",
            "Int64Index: 1459 entries, 0 to 1458\n",
            "Data columns (total 79 columns):\n",
            " #   Column           Non-Null Count  Dtype  \n",
            "---  ------           --------------  -----  \n",
            " 0   MSSubClass       1459 non-null   int64  \n",
            " 1   MSZoning         1459 non-null   object \n",
            " 2   LotFrontage      1459 non-null   float64\n",
            " 3   LotArea          1459 non-null   int64  \n",
            " 4   Street           1459 non-null   object \n",
            " 5   Alley            1459 non-null   object \n",
            " 6   LotShape         1459 non-null   object \n",
            " 7   LandContour      1459 non-null   object \n",
            " 8   LotConfig        1459 non-null   object \n",
            " 9   LandSlope        1459 non-null   object \n",
            " 10  Neighborhood     1459 non-null   object \n",
            " 11  Condition1       1459 non-null   object \n",
            " 12  Condition2       1459 non-null   object \n",
            " 13  BldgType         1459 non-null   object \n",
            " 14  HouseStyle       1459 non-null   object \n",
            " 15  OverallQual      1459 non-null   int64  \n",
            " 16  OverallCond      1459 non-null   int64  \n",
            " 17  YearBuilt        1459 non-null   int64  \n",
            " 18  YearRemodAdd     1459 non-null   int64  \n",
            " 19  RoofStyle        1459 non-null   object \n",
            " 20  RoofMatl         1459 non-null   object \n",
            " 21  Exterior1st      1459 non-null   object \n",
            " 22  Exterior2nd      1459 non-null   object \n",
            " 23  MasVnrType       1459 non-null   object \n",
            " 24  MasVnrArea       1459 non-null   float64\n",
            " 25  ExterQual        1459 non-null   object \n",
            " 26  ExterCond        1459 non-null   object \n",
            " 27  Foundation       1459 non-null   object \n",
            " 28  BsmtQual         1459 non-null   object \n",
            " 29  BsmtCond         1459 non-null   object \n",
            " 30  BsmtExposure     1459 non-null   object \n",
            " 31  BsmtFinType1     1459 non-null   object \n",
            " 32  BsmtFinSF1       1459 non-null   float64\n",
            " 33  BsmtFinType2     1459 non-null   object \n",
            " 34  BsmtFinSF2       1459 non-null   float64\n",
            " 35  BsmtUnfSF        1459 non-null   float64\n",
            " 36  TotalBsmtSF      1459 non-null   float64\n",
            " 37  Heating          1459 non-null   object \n",
            " 38  HeatingQC        1459 non-null   object \n",
            " 39  CentralAir       1459 non-null   object \n",
            " 40  Electrical       1459 non-null   object \n",
            " 41  1stFlrSF         1459 non-null   int64  \n",
            " 42  2ndFlrSF         1459 non-null   int64  \n",
            " 43  LowQualFinSF     1459 non-null   int64  \n",
            " 44  GrLivArea        1459 non-null   int64  \n",
            " 45  BsmtFullBath     1459 non-null   float64\n",
            " 46  BsmtHalfBath     1459 non-null   float64\n",
            " 47  FullBath         1459 non-null   int64  \n",
            " 48  HalfBath         1459 non-null   int64  \n",
            " 49  BedroomAbvGr     1459 non-null   int64  \n",
            " 50  KitchenAbvGr     1459 non-null   int64  \n",
            " 51  KitchenQual      1459 non-null   object \n",
            " 52  TotRmsAbvGrd     1459 non-null   int64  \n",
            " 53  Functional       1459 non-null   object \n",
            " 54  Fireplaces       1459 non-null   int64  \n",
            " 55  FireplaceQu      1459 non-null   object \n",
            " 56  GarageType       1459 non-null   object \n",
            " 57  GarageYrBlt      1459 non-null   float64\n",
            " 58  GarageFinish     1459 non-null   object \n",
            " 59  GarageCars       1459 non-null   float64\n",
            " 60  GarageArea       1459 non-null   float64\n",
            " 61  GarageQual       1459 non-null   object \n",
            " 62  GarageCond       1459 non-null   object \n",
            " 63  PavedDrive       1459 non-null   object \n",
            " 64  WoodDeckSF       1459 non-null   int64  \n",
            " 65  OpenPorchSF      1459 non-null   int64  \n",
            " 66  EnclosedPorch    1459 non-null   int64  \n",
            " 67  3SsnPorch        1459 non-null   int64  \n",
            " 68  ScreenPorch      1459 non-null   int64  \n",
            " 69  PoolArea         1459 non-null   int64  \n",
            " 70  PoolQC           1459 non-null   object \n",
            " 71  Fence            1459 non-null   object \n",
            " 72  MiscFeature      1459 non-null   object \n",
            " 73  MiscVal          1459 non-null   int64  \n",
            " 74  MoSold           1459 non-null   int64  \n",
            " 75  YrSold           1459 non-null   int64  \n",
            " 76  SaleType         1459 non-null   object \n",
            " 77  SaleCondition    1459 non-null   object \n",
            " 78  old_LotFrontage  1232 non-null   float64\n",
            "dtypes: float64(12), int64(25), object(42)\n",
            "memory usage: 911.9+ KB\n"
          ]
        }
      ],
      "source": [
        "test_df.info()"
      ]
    },
    {
      "cell_type": "code",
      "execution_count": null,
      "metadata": {
        "id": "I59XKIFO7xdB"
      },
      "outputs": [],
      "source": []
    },
    {
      "cell_type": "markdown",
      "metadata": {
        "id": "BL6g5tSEqKNQ"
      },
      "source": [
        "* 왼쪽이 처리하기 전의 기존의 값의 분포이고, 오른쪽이 위와 같은 처리를 하였을 때의 분포를 나타낸 것임!!"
      ]
    },
    {
      "cell_type": "code",
      "execution_count": 48,
      "metadata": {
        "colab": {
          "base_uri": "https://localhost:8080/",
          "height": 320
        },
        "id": "0tYCsvYyqKNQ",
        "outputId": "fce06216-ad92-48a9-915b-ca3dfcab9c4e"
      },
      "outputs": [
        {
          "data": {
            "image/png": "[encoded data removed]",
            "text/plain": [
              "<Figure size 1500x500 with 2 Axes>"
            ]
          },
          "metadata": {},
          "output_type": "display_data"
        }
      ],
      "source": [
        "fig, (ax1,ax2) = plt.subplots(1,2,figsize=(15,5))\n",
        "ol = sns.histplot(np.array(train_df['old_LotFrontage'].dropna()),ax=ax1,kde=True,bins=70)\n",
        "lf = sns.histplot(np.array(train_df['LotFrontage']),ax=ax2,kde=True,bins=70,color='red')\n",
        "\n",
        "train_df.drop('old_LotFrontage',axis=1,inplace=True)"
      ]
    },
    {
      "cell_type": "markdown",
      "metadata": {
        "id": "BFJvdBOIqKNQ"
      },
      "source": [
        "* 위와 같이 처리를 해서 이상한 값에 대한 것들을 처리를 완료함"
      ]
    },
    {
      "cell_type": "code",
      "execution_count": 49,
      "metadata": {
        "colab": {
          "base_uri": "https://localhost:8080/",
          "height": 323
        },
        "id": "tmmxz0sKqKNQ",
        "outputId": "ddf63853-eeb1-4666-86df-eb6a41072899"
      },
      "outputs": [
        {
          "data": {
            "image/png": "[encoded data removed]",
            "text/plain": [
              "<Figure size 1500x500 with 2 Axes>"
            ]
          },
          "metadata": {},
          "output_type": "display_data"
        }
      ],
      "source": [
        "fig, (ax1,ax2) = plt.subplots(1,2,figsize=(15,5))\n",
        "ol = sns.histplot(np.array(test_df['old_LotFrontage'].dropna()),ax=ax1,kde=True,bins=70)\n",
        "lf = sns.histplot(np.array(test_df['LotFrontage']),ax=ax2,kde=True,bins=70,color='red')\n",
        "\n",
        "test_df.drop('old_LotFrontage',axis=1,inplace=True)"
      ]
    },
    {
      "cell_type": "code",
      "execution_count": 50,
      "metadata": {
        "id": "OMV0S7mo860C"
      },
      "outputs": [],
      "source": [
        "### train/ test에서 이제는 nan으로 문제가 되는 것들이 없는지 확인!!!"
      ]
    },
    {
      "cell_type": "code",
      "execution_count": 51,
      "metadata": {
        "colab": {
          "base_uri": "https://localhost:8080/"
        },
        "id": "9CE4Lfof8_m7",
        "outputId": "2a3c68af-3750-41c5-bf7b-94b205b4fca5"
      },
      "outputs": [
        {
          "data": {
            "text/plain": [
              "0"
            ]
          },
          "execution_count": 51,
          "metadata": {},
          "output_type": "execute_result"
        }
      ],
      "source": [
        "train_df.isnull().sum().sum()"
      ]
    },
    {
      "cell_type": "code",
      "execution_count": 52,
      "metadata": {
        "colab": {
          "base_uri": "https://localhost:8080/"
        },
        "id": "eBBqyMjs8_pf",
        "outputId": "d1f5a29f-ea08-4a6d-c15a-e9eef6f22bc9"
      },
      "outputs": [
        {
          "data": {
            "text/plain": [
              "0"
            ]
          },
          "execution_count": 52,
          "metadata": {},
          "output_type": "execute_result"
        }
      ],
      "source": [
        "test_df.isnull().sum().sum()"
      ]
    },
    {
      "cell_type": "code",
      "execution_count": 53,
      "metadata": {
        "colab": {
          "base_uri": "https://localhost:8080/"
        },
        "id": "c7QuRR239GE1",
        "outputId": "ab176415-165f-4ec4-b2a9-65d02ea81704"
      },
      "outputs": [
        {
          "data": {
            "text/plain": [
              "(1456, 78)"
            ]
          },
          "execution_count": 53,
          "metadata": {},
          "output_type": "execute_result"
        }
      ],
      "source": [
        "train_df.shape"
      ]
    },
    {
      "cell_type": "code",
      "execution_count": 54,
      "metadata": {
        "colab": {
          "base_uri": "https://localhost:8080/"
        },
        "id": "tgc9zDA-9GLo",
        "outputId": "7926f104-e911-4c34-cf91-d4083d409a76"
      },
      "outputs": [
        {
          "data": {
            "text/plain": [
              "(1459, 78)"
            ]
          },
          "execution_count": 54,
          "metadata": {},
          "output_type": "execute_result"
        }
      ],
      "source": [
        "test_df.shape"
      ]
    },
    {
      "cell_type": "markdown",
      "metadata": {
        "id": "riRe6KhbqKNQ"
      },
      "source": [
        "###  변형 및 인코딩"
      ]
    },
    {
      "cell_type": "markdown",
      "metadata": {
        "id": "WOXffuJ6qKNR"
      },
      "source": [
        "#### 범주형 데이터 변형"
      ]
    },
    {
      "cell_type": "code",
      "execution_count": 55,
      "metadata": {
        "id": "IKgRIrOXqKNR"
      },
      "outputs": [],
      "source": [
        "# 뒤에서 그냥  get_dummy로 처리할 것임...\n",
        "nominals = ['MSSubClass','MSZoning','Street','Alley','LandContour','LotConfig','Neighborhood','Condition1','Condition2','BldgType','HouseStyle','RoofStyle','RoofMatl',\n",
        "           'Exterior1st','Exterior2nd','MasVnrType','Foundation','Heating','CentralAir','GarageType','MiscFeature','SaleType','SaleCondition','MoSold','YrSold']\n",
        "# --> 카테고리 변수인데,,, 전통적인 회귀방법에서 사용하는 dummy변수화~~"
      ]
    },
    {
      "cell_type": "markdown",
      "metadata": {
        "id": "fQ_YnjPKqKNR"
      },
      "source": [
        "#### 여기서는 순서가 중요한 변수들"
      ]
    },
    {
      "cell_type": "code",
      "execution_count": 56,
      "metadata": {
        "id": "ncGob0jcA2ql"
      },
      "outputs": [],
      "source": [
        "from sklearn.preprocessing import LabelEncoder"
      ]
    },
    {
      "cell_type": "code",
      "execution_count": 57,
      "metadata": {
        "id": "iafer8wEqKNR"
      },
      "outputs": [],
      "source": [
        "ordinals = ['LotShape','LandSlope','OverallQual','OverallCond','ExterQual','ExterCond','BsmtQual',\n",
        "           'BsmtCond','BsmtExposure','BsmtFinType1','BsmtFinType2','HeatingQC','Electrical','KitchenQual',\n",
        "            'Functional','FireplaceQu','GarageFinish','GarageQual','GarageCond','PavedDrive','PoolQC','Fence']\n"
      ]
    },
    {
      "cell_type": "code",
      "execution_count": 58,
      "metadata": {
        "id": "KGJD4499BBYI"
      },
      "outputs": [],
      "source": [
        "# 주의할 점은 train에서 규칙을 정하고,, test에 그래도 적용!!!!\n",
        "# But 문제는 test에서는 전혀 보지 못한 unseen 데이터가 발생할 수 있으니 처리!!!\n",
        "# model.fit() ---> model.predict(X_test) : 에러가!!!\n",
        "for ord in ordinals:\n",
        "    # ord 컬럼에 적용할 인코딩 모델\n",
        "    le = LabelEncoder()\n",
        "    # 규칙을 학습 : train에서 학습\n",
        "    le.fit(train_df[ord]) # <- 간략히 컬럼 선택.. loc/iloc\n",
        "    # 학습한 규칙을 적용...\n",
        "    train_df[ord] = le.transform(train_df[ord])\n",
        "\n",
        "    # test에도 동일한 규칙으로 변환을 적용을 할 것인데,,혻 unseen 데이터가 나오면~~\n",
        "    # 기존 train에 대한 변환 규칙\n",
        "    prev_class = list(le.classes_)\n",
        "    # test에서 unqiue 값을 보고 <<  prev_class, unqie > prev_class\n",
        "    for label in np.unique(test_df[ord]):\n",
        "        if label not in prev_class:\n",
        "            prev_class.append(label)\n",
        "    le.classes_ = np.array(prev_class)\n",
        "    # ---> 혹 test에서 unseen 값을 보면, 변환할 수 있는 룰을 업데이트를 함..\n",
        "    test_df[ord] = le.transform(test_df[ord])\n"
      ]
    },
    {
      "cell_type": "markdown",
      "metadata": {
        "id": "PWD3UEDIqKNR"
      },
      "source": [
        "#### House Price에 상관계수가 높은 거의 비슷한 컬럼들을 종합하여서 1개의 컬럼으로  변형"
      ]
    },
    {
      "cell_type": "code",
      "execution_count": 59,
      "metadata": {
        "id": "gtdm4iC5qKNR"
      },
      "outputs": [],
      "source": [
        "# 새로운 지표를 만들거나, 기존지표를 통합...\n",
        "# 기존을 컬럼을 줄여나가는 것 --> 모델을 좀더 심플하게 underfit -->\n",
        "# new한 데이터에 대해서 일반성을 확보하기 위해서.....\n",
        "train_df[\"totalArea\"] = train_df[\"GrLivArea\"] + train_df[\"TotalBsmtSF\"]\n",
        "test_df[\"totalArea\"] = test_df[\"GrLivArea\"] + test_df[\"TotalBsmtSF\"]\n",
        "# ---> 도메일 지식 & 상관계수나 이런 부분들을 참조해서 FE"
      ]
    },
    {
      "cell_type": "code",
      "execution_count": 60,
      "metadata": {
        "colab": {
          "base_uri": "https://localhost:8080/"
        },
        "id": "gRK8aGicD_Kz",
        "outputId": "4bf2f997-7d25-453f-8e7e-5458b6026557"
      },
      "outputs": [
        {
          "data": {
            "text/plain": [
              "Index(['MSSubClass', 'MSZoning', 'LotFrontage', 'LotArea', 'Street', 'Alley',\n",
              "       'LotShape', 'LandContour', 'LotConfig', 'LandSlope', 'Neighborhood',\n",
              "       'Condition1', 'Condition2', 'BldgType', 'HouseStyle', 'OverallQual',\n",
              "       'OverallCond', 'YearBuilt', 'YearRemodAdd', 'RoofStyle', 'RoofMatl',\n",
              "       'Exterior1st', 'Exterior2nd', 'MasVnrType', 'MasVnrArea', 'ExterQual',\n",
              "       'ExterCond', 'Foundation', 'BsmtQual', 'BsmtCond', 'BsmtExposure',\n",
              "       'BsmtFinType1', 'BsmtFinSF1', 'BsmtFinType2', 'BsmtFinSF2', 'BsmtUnfSF',\n",
              "       'TotalBsmtSF', 'Heating', 'HeatingQC', 'CentralAir', 'Electrical',\n",
              "       '1stFlrSF', '2ndFlrSF', 'LowQualFinSF', 'GrLivArea', 'BsmtFullBath',\n",
              "       'BsmtHalfBath', 'FullBath', 'HalfBath', 'BedroomAbvGr', 'KitchenAbvGr',\n",
              "       'KitchenQual', 'TotRmsAbvGrd', 'Functional', 'Fireplaces',\n",
              "       'FireplaceQu', 'GarageType', 'GarageYrBlt', 'GarageFinish',\n",
              "       'GarageCars', 'GarageArea', 'GarageQual', 'GarageCond', 'PavedDrive',\n",
              "       'WoodDeckSF', 'OpenPorchSF', 'EnclosedPorch', '3SsnPorch',\n",
              "       'ScreenPorch', 'PoolArea', 'PoolQC', 'Fence', 'MiscFeature', 'MiscVal',\n",
              "       'MoSold', 'YrSold', 'SaleType', 'SaleCondition', 'totalArea'],\n",
              "      dtype='object')"
            ]
          },
          "execution_count": 60,
          "metadata": {},
          "output_type": "execute_result"
        }
      ],
      "source": [
        "train_df.columns"
      ]
    },
    {
      "cell_type": "markdown",
      "metadata": {
        "id": "iy3aMnAKqKNR"
      },
      "source": [
        "#### 수치 데이터의 분포를 보고, 얼마나 치우쳐서 있는지 확인 : +1보다 크고, -1보다 작으면 상당히 skew되어 있으며, -1~-0.5/ 0.5~1 사이에는 적당히 skew, -0.5~ 0.5 사이는 적당히 잘 분포"
      ]
    },
    {
      "cell_type": "code",
      "execution_count": 61,
      "metadata": {
        "colab": {
          "base_uri": "https://localhost:8080/",
          "height": 206
        },
        "id": "qT5j5UkiqKNR",
        "outputId": "b29dfac9-f037-4601-9221-709e40d2cd29"
      },
      "outputs": [
        {
          "data": {
            "text/html": [
              "<div>\n",
              "<style scoped>\n",
              "    .dataframe tbody tr th:only-of-type {\n",
              "        vertical-align: middle;\n",
              "    }\n",
              "\n",
              "    .dataframe tbody tr th {\n",
              "        vertical-align: top;\n",
              "    }\n",
              "\n",
              "    .dataframe thead th {\n",
              "        text-align: right;\n",
              "    }\n",
              "</style>\n",
              "<table border=\"1\" class=\"dataframe\">\n",
              "  <thead>\n",
              "    <tr style=\"text-align: right;\">\n",
              "      <th></th>\n",
              "      <th>skewness</th>\n",
              "      <th>skw</th>\n",
              "    </tr>\n",
              "  </thead>\n",
              "  <tbody>\n",
              "    <tr>\n",
              "      <th>MiscVal</th>\n",
              "      <td>24.443364</td>\n",
              "      <td>24.443364</td>\n",
              "    </tr>\n",
              "    <tr>\n",
              "      <th>PoolArea</th>\n",
              "      <td>17.522613</td>\n",
              "      <td>17.522613</td>\n",
              "    </tr>\n",
              "    <tr>\n",
              "      <th>LotArea</th>\n",
              "      <td>12.587561</td>\n",
              "      <td>12.587561</td>\n",
              "    </tr>\n",
              "    <tr>\n",
              "      <th>3SsnPorch</th>\n",
              "      <td>10.289866</td>\n",
              "      <td>10.289866</td>\n",
              "    </tr>\n",
              "    <tr>\n",
              "      <th>LowQualFinSF</th>\n",
              "      <td>8.998564</td>\n",
              "      <td>8.998564</td>\n",
              "    </tr>\n",
              "  </tbody>\n",
              "</table>\n",
              "</div>"
            ],
            "text/plain": [
              "               skewness        skw\n",
              "MiscVal       24.443364  24.443364\n",
              "PoolArea      17.522613  17.522613\n",
              "LotArea       12.587561  12.587561\n",
              "3SsnPorch     10.289866  10.289866\n",
              "LowQualFinSF   8.998564   8.998564"
            ]
          },
          "execution_count": 61,
          "metadata": {},
          "output_type": "execute_result"
        }
      ],
      "source": [
        "#### --> type 확인에 대한 방법\n",
        "numeric = train_df.dtypes[train_df.dtypes != \"object\"].index\n",
        "skewness = train_df[numeric].apply(lambda x : x.skew()).sort_values(ascending=False)\n",
        "sk_train_df = pd.DataFrame(skewness, columns = [\"skewness\"])\n",
        "sk_train_df[\"skw\"] = abs(sk_train_df[\"skewness\"])\n",
        "sk_train_df.sort_values(by=\"skw\", ascending=False).drop(\"skewness\", axis=1, inplace=True)\n",
        "sk_train_df.head()"
      ]
    },
    {
      "cell_type": "code",
      "execution_count": 62,
      "metadata": {
        "colab": {
          "base_uri": "https://localhost:8080/",
          "height": 206
        },
        "id": "yxJYybMEFk_4",
        "outputId": "98308ee0-9597-4f83-e353-1eb9062678fc"
      },
      "outputs": [
        {
          "data": {
            "text/html": [
              "<div>\n",
              "<style scoped>\n",
              "    .dataframe tbody tr th:only-of-type {\n",
              "        vertical-align: middle;\n",
              "    }\n",
              "\n",
              "    .dataframe tbody tr th {\n",
              "        vertical-align: top;\n",
              "    }\n",
              "\n",
              "    .dataframe thead th {\n",
              "        text-align: right;\n",
              "    }\n",
              "</style>\n",
              "<table border=\"1\" class=\"dataframe\">\n",
              "  <thead>\n",
              "    <tr style=\"text-align: right;\">\n",
              "      <th></th>\n",
              "      <th>skewness</th>\n",
              "      <th>skw</th>\n",
              "    </tr>\n",
              "  </thead>\n",
              "  <tbody>\n",
              "    <tr>\n",
              "      <th>PoolArea</th>\n",
              "      <td>20.196888</td>\n",
              "      <td>20.196888</td>\n",
              "    </tr>\n",
              "    <tr>\n",
              "      <th>MiscVal</th>\n",
              "      <td>20.075188</td>\n",
              "      <td>20.075188</td>\n",
              "    </tr>\n",
              "    <tr>\n",
              "      <th>LowQualFinSF</th>\n",
              "      <td>16.167254</td>\n",
              "      <td>16.167254</td>\n",
              "    </tr>\n",
              "    <tr>\n",
              "      <th>3SsnPorch</th>\n",
              "      <td>12.524216</td>\n",
              "      <td>12.524216</td>\n",
              "    </tr>\n",
              "    <tr>\n",
              "      <th>LandSlope</th>\n",
              "      <td>4.968390</td>\n",
              "      <td>4.968390</td>\n",
              "    </tr>\n",
              "  </tbody>\n",
              "</table>\n",
              "</div>"
            ],
            "text/plain": [
              "               skewness        skw\n",
              "PoolArea      20.196888  20.196888\n",
              "MiscVal       20.075188  20.075188\n",
              "LowQualFinSF  16.167254  16.167254\n",
              "3SsnPorch     12.524216  12.524216\n",
              "LandSlope      4.968390   4.968390"
            ]
          },
          "execution_count": 62,
          "metadata": {},
          "output_type": "execute_result"
        }
      ],
      "source": [
        "numeric = test_df.dtypes[test_df.dtypes != \"object\"].index\n",
        "skewness = test_df[numeric].apply(lambda x : x.skew()).sort_values(ascending=False)\n",
        "sk_test_df = pd.DataFrame(skewness, columns = [\"skewness\"])\n",
        "sk_test_df[\"skw\"] = abs(sk_test_df[\"skewness\"])\n",
        "sk_test_df.sort_values(by=\"skw\", ascending=False).drop(\"skewness\", axis=1, inplace=True)\n",
        "sk_test_df.head()"
      ]
    },
    {
      "cell_type": "code",
      "execution_count": 63,
      "metadata": {
        "colab": {
          "base_uri": "https://localhost:8080/",
          "height": 423
        },
        "id": "2EjifdAKFlHb",
        "outputId": "7926eeb3-8def-47ed-ed30-0c330fa27ed2"
      },
      "outputs": [
        {
          "data": {
            "text/html": [
              "<div>\n",
              "<style scoped>\n",
              "    .dataframe tbody tr th:only-of-type {\n",
              "        vertical-align: middle;\n",
              "    }\n",
              "\n",
              "    .dataframe tbody tr th {\n",
              "        vertical-align: top;\n",
              "    }\n",
              "\n",
              "    .dataframe thead th {\n",
              "        text-align: right;\n",
              "    }\n",
              "</style>\n",
              "<table border=\"1\" class=\"dataframe\">\n",
              "  <thead>\n",
              "    <tr style=\"text-align: right;\">\n",
              "      <th></th>\n",
              "      <th>skewness</th>\n",
              "      <th>skw</th>\n",
              "    </tr>\n",
              "  </thead>\n",
              "  <tbody>\n",
              "    <tr>\n",
              "      <th>MiscVal</th>\n",
              "      <td>24.443364</td>\n",
              "      <td>24.443364</td>\n",
              "    </tr>\n",
              "    <tr>\n",
              "      <th>PoolArea</th>\n",
              "      <td>17.522613</td>\n",
              "      <td>17.522613</td>\n",
              "    </tr>\n",
              "    <tr>\n",
              "      <th>LotArea</th>\n",
              "      <td>12.587561</td>\n",
              "      <td>12.587561</td>\n",
              "    </tr>\n",
              "    <tr>\n",
              "      <th>3SsnPorch</th>\n",
              "      <td>10.289866</td>\n",
              "      <td>10.289866</td>\n",
              "    </tr>\n",
              "    <tr>\n",
              "      <th>LowQualFinSF</th>\n",
              "      <td>8.998564</td>\n",
              "      <td>8.998564</td>\n",
              "    </tr>\n",
              "    <tr>\n",
              "      <th>...</th>\n",
              "      <td>...</td>\n",
              "      <td>...</td>\n",
              "    </tr>\n",
              "    <tr>\n",
              "      <th>Electrical</th>\n",
              "      <td>-3.106116</td>\n",
              "      <td>3.106116</td>\n",
              "    </tr>\n",
              "    <tr>\n",
              "      <th>GarageCond</th>\n",
              "      <td>-3.615232</td>\n",
              "      <td>3.615232</td>\n",
              "    </tr>\n",
              "    <tr>\n",
              "      <th>GarageYrBlt</th>\n",
              "      <td>-3.952018</td>\n",
              "      <td>3.952018</td>\n",
              "    </tr>\n",
              "    <tr>\n",
              "      <th>Functional</th>\n",
              "      <td>-3.987227</td>\n",
              "      <td>3.987227</td>\n",
              "    </tr>\n",
              "    <tr>\n",
              "      <th>PoolQC</th>\n",
              "      <td>-25.333608</td>\n",
              "      <td>25.333608</td>\n",
              "    </tr>\n",
              "  </tbody>\n",
              "</table>\n",
              "<p>114 rows × 2 columns</p>\n",
              "</div>"
            ],
            "text/plain": [
              "               skewness        skw\n",
              "MiscVal       24.443364  24.443364\n",
              "PoolArea      17.522613  17.522613\n",
              "LotArea       12.587561  12.587561\n",
              "3SsnPorch     10.289866  10.289866\n",
              "LowQualFinSF   8.998564   8.998564\n",
              "...                 ...        ...\n",
              "Electrical    -3.106116   3.106116\n",
              "GarageCond    -3.615232   3.615232\n",
              "GarageYrBlt   -3.952018   3.952018\n",
              "Functional    -3.987227   3.987227\n",
              "PoolQC       -25.333608  25.333608\n",
              "\n",
              "[114 rows x 2 columns]"
            ]
          },
          "execution_count": 63,
          "metadata": {},
          "output_type": "execute_result"
        }
      ],
      "source": [
        "sk_df = pd.concat([sk_train_df, sk_test_df])\n",
        "sk_df"
      ]
    },
    {
      "cell_type": "code",
      "execution_count": 64,
      "metadata": {
        "colab": {
          "base_uri": "https://localhost:8080/"
        },
        "id": "mxCqooFXFzGU",
        "outputId": "9ebe07ca-90dd-4eb1-c16d-bfac77e9ed52"
      },
      "outputs": [
        {
          "data": {
            "text/plain": [
              "array(['1stFlrSF', '2ndFlrSF', '3SsnPorch', 'BsmtCond', 'BsmtExposure',\n",
              "       'BsmtFinSF1', 'BsmtFinSF2', 'BsmtFinType2', 'BsmtFullBath',\n",
              "       'BsmtHalfBath', 'BsmtUnfSF', 'Electrical', 'EnclosedPorch',\n",
              "       'ExterCond', 'ExterQual', 'Fence', 'Fireplaces', 'Functional',\n",
              "       'GarageCond', 'GarageFinish', 'GarageQual', 'GarageYrBlt',\n",
              "       'GrLivArea', 'HalfBath', 'KitchenAbvGr', 'KitchenQual',\n",
              "       'LandSlope', 'LotArea', 'LotFrontage', 'LotShape', 'LowQualFinSF',\n",
              "       'MSSubClass', 'MasVnrArea', 'MiscVal', 'OpenPorchSF',\n",
              "       'OverallCond', 'PavedDrive', 'PoolArea', 'PoolQC', 'ScreenPorch',\n",
              "       'TotRmsAbvGrd', 'TotalBsmtSF', 'WoodDeckSF', 'YearBuilt',\n",
              "       'totalArea'], dtype=object)"
            ]
          },
          "execution_count": 64,
          "metadata": {},
          "output_type": "execute_result"
        }
      ],
      "source": [
        "# 기준을 0.5이상 값을 가진 컬럼들을 기준으로 선별하자..\n",
        "skw_features = np.unique(sk_df[sk_df.skw > 0.5].index)\n",
        "skw_features"
      ]
    },
    {
      "cell_type": "code",
      "execution_count": 65,
      "metadata": {
        "id": "zrV0P_hdFzI2"
      },
      "outputs": [],
      "source": [
        "# 위에 찾은 컬럼들은 한쪽으로 쏠림에 대한 경우가 크니 log 변환을 하겠다..\n",
        "# 이 경우에서는 sclaer 사용을 해서 할 수 있는데,,\n",
        "# 이렇게 한쪽으로 치우친 데이터들은 standsclaer계열을 사용을 하면....\n",
        "# 여기서는 단순히 log변환을 하겠음.\n",
        "train_df[skw_features] = np.log1p(train_df[skw_features])\n",
        "test_df[skw_features] = np.log1p(test_df[skw_features])"
      ]
    },
    {
      "cell_type": "code",
      "execution_count": 66,
      "metadata": {
        "colab": {
          "base_uri": "https://localhost:8080/"
        },
        "id": "HmuCiyykFzLF",
        "outputId": "9d40ea12-1e71-44c4-efae-1775bc28cbbd"
      },
      "outputs": [
        {
          "name": "stdout",
          "output_type": "stream",
          "text": [
            "(1456, 79)\n",
            "(1459, 79)\n"
          ]
        }
      ],
      "source": [
        "print(train_df.shape)\n",
        "print(test_df.shape)"
      ]
    },
    {
      "cell_type": "markdown",
      "metadata": {
        "id": "NtI_ADOXqKNR"
      },
      "source": [
        "#### 위의 결과들이 엄청나게 skew되어 있어서 이에 대한 변형 수행 : log1p사용 : log(x+1)"
      ]
    },
    {
      "cell_type": "markdown",
      "metadata": {
        "id": "YCbXNkG1qKNR"
      },
      "source": [
        "#### 기타 아직 변형이 안 되어 있는 아주 중요하지 않은 변수들(카테고리)을 처리"
      ]
    },
    {
      "cell_type": "code",
      "execution_count": 68,
      "metadata": {
        "colab": {
          "base_uri": "https://localhost:8080/"
        },
        "id": "LK-1Rj2IqKNR",
        "outputId": "f8d6583c-040a-46cd-9d90-c720ebe64fda"
      },
      "outputs": [
        {
          "name": "stdout",
          "output_type": "stream",
          "text": [
            "(1456, 249)\n",
            "(1459, 237)\n"
          ]
        }
      ],
      "source": [
        "train_df = pd.get_dummies(train_df, columns = nominals, prefix_sep=\"_\")\n",
        "test_df = pd.get_dummies(test_df, columns = nominals, prefix_sep=\"_\")\n",
        "print(train_df.shape)\n",
        "print(test_df.shape)"
      ]
    },
    {
      "cell_type": "code",
      "execution_count": 69,
      "metadata": {
        "id": "I1XelvQDIBt3"
      },
      "outputs": [],
      "source": [
        "# 각기 컬럼들이 다르게 확장이 되었는데, 이것을 정리를 해야하는데,,\n",
        "# 정리의 기준은? train을 기준으로 정리를 하셔야 함.\n",
        "# case1) train에서만 생성이 되고, test에는 생성이 안 되는 컬럼!!!!\n",
        "#        --> test에서 train있는 컬럼을 추가....\n",
        "# case2) train에서는 생성이 안 된 컬럼인데, test에서만 생성된 unseen컬럼\n",
        "#       --> test에서 컬럼을 제거...."
      ]
    },
    {
      "cell_type": "code",
      "execution_count": 70,
      "metadata": {
        "colab": {
          "base_uri": "https://localhost:8080/"
        },
        "id": "cauSfQBmIB62",
        "outputId": "1284bc1c-5366-41ad-c6b8-d0dfe6f5a101"
      },
      "outputs": [
        {
          "name": "stdout",
          "output_type": "stream",
          "text": [
            "Adding Columns: Condition2_RRAe\n",
            "Adding Columns: Condition2_RRAn\n",
            "Adding Columns: Condition2_RRNn\n",
            "Adding Columns: HouseStyle_2.5Fin\n",
            "Adding Columns: RoofMatl_Membran\n",
            "Adding Columns: RoofMatl_Metal\n",
            "Adding Columns: RoofMatl_Roll\n",
            "Adding Columns: Exterior1st_ImStucc\n",
            "Adding Columns: Exterior1st_Stone\n",
            "Adding Columns: Exterior2nd_Other\n",
            "Adding Columns: Heating_Floor\n",
            "Adding Columns: Heating_OthW\n",
            "Adding Columns: MiscFeature_TenC\n",
            "Remove Columns MSSubClass_5.017279836814924\n"
          ]
        }
      ],
      "source": [
        "# 처리할 컬럼들을 리스트업\n",
        "cat_dummies = [ col for col in train_df if \"_\" in col and col.split(\"_\")[0] in nominals] \n",
        "# case1) train에만 있고, test에 없는 경우 --> test에 추가, 0으로 채우면..\n",
        "for col in cat_dummies:\n",
        "    if col not in test_df.columns:\n",
        "        print(\"Adding Columns:\", col)\n",
        "        test_df[col] = 0\n",
        "# case2) test에서 unseen --> train에서 사용안하는 것이닌 test에서 제거!!!!\n",
        "for col in test_df.columns:\n",
        "    if (\"_\" in col) and (col.split(\"_\")[0] in nominals) and col not in cat_dummies:\n",
        "        print(\"Remove Columns\", col)\n",
        "        test_df.drop(col, axis = 1, inplace =True)\n"
      ]
    },
    {
      "cell_type": "code",
      "execution_count": 71,
      "metadata": {
        "colab": {
          "base_uri": "https://localhost:8080/"
        },
        "id": "pZ2ZNoxjJ-e6",
        "outputId": "616a5c4a-ef1c-4572-9e2f-571420a9ce92"
      },
      "outputs": [
        {
          "data": {
            "text/plain": [
              "(1456, 249)"
            ]
          },
          "execution_count": 71,
          "metadata": {},
          "output_type": "execute_result"
        }
      ],
      "source": [
        "train_df.shape"
      ]
    },
    {
      "cell_type": "code",
      "execution_count": 72,
      "metadata": {
        "colab": {
          "base_uri": "https://localhost:8080/"
        },
        "id": "Ul_CnvXqKj21",
        "outputId": "c570e35c-8aca-4f2f-a4d2-af6b90af0136"
      },
      "outputs": [
        {
          "name": "stdout",
          "output_type": "stream",
          "text": [
            "<class 'pandas.core.frame.DataFrame'>\n",
            "Int64Index: 1456 entries, 0 to 1459\n",
            "Columns: 249 entries, LotFrontage to YrSold_2010\n",
            "dtypes: float64(44), int64(10), uint8(195)\n",
            "memory usage: 902.9 KB\n"
          ]
        }
      ],
      "source": [
        "train_df.info()"
      ]
    },
    {
      "cell_type": "code",
      "execution_count": 73,
      "metadata": {
        "colab": {
          "base_uri": "https://localhost:8080/"
        },
        "id": "f2dOTA9XJ-hl",
        "outputId": "ceb35930-e96b-412e-93b9-9b206c89c450"
      },
      "outputs": [
        {
          "data": {
            "text/plain": [
              "(1459, 249)"
            ]
          },
          "execution_count": 73,
          "metadata": {},
          "output_type": "execute_result"
        }
      ],
      "source": [
        "test_df.shape"
      ]
    },
    {
      "cell_type": "code",
      "execution_count": 74,
      "metadata": {
        "colab": {
          "base_uri": "https://localhost:8080/"
        },
        "id": "Zmnr8fgLK1FH",
        "outputId": "43e5bf43-9e6c-4afe-979e-379273a7107e"
      },
      "outputs": [
        {
          "name": "stdout",
          "output_type": "stream",
          "text": [
            "<class 'pandas.core.frame.DataFrame'>\n",
            "Int64Index: 1459 entries, 0 to 1458\n",
            "Columns: 249 entries, LotFrontage to MiscFeature_TenC\n",
            "dtypes: float64(46), int64(21), uint8(182)\n",
            "memory usage: 1.0 MB\n"
          ]
        }
      ],
      "source": [
        "test_df.info()"
      ]
    },
    {
      "cell_type": "code",
      "execution_count": 75,
      "metadata": {
        "id": "EbPEQYcmKbTO"
      },
      "outputs": [],
      "source": [
        "# Scaler 작업을 수행을 하겠습니다. ++ opt"
      ]
    },
    {
      "cell_type": "code",
      "execution_count": 76,
      "metadata": {
        "id": "NwTeSPglKbV-"
      },
      "outputs": [],
      "source": [
        "from sklearn.preprocessing import StandardScaler"
      ]
    },
    {
      "cell_type": "code",
      "execution_count": 77,
      "metadata": {
        "colab": {
          "base_uri": "https://localhost:8080/"
        },
        "id": "47a1ahq4KbYl",
        "outputId": "2f1cdc30-77e5-42bf-b5b4-f22bea03c859"
      },
      "outputs": [
        {
          "data": {
            "text/html": [
              "<style>#sk-container-id-1 {color: black;background-color: white;}#sk-container-id-1 pre{padding: 0;}#sk-container-id-1 div.sk-toggleable {background-color: white;}#sk-container-id-1 label.sk-toggleable__label {cursor: pointer;display: block;width: 100%;margin-bottom: 0;padding: 0.3em;box-sizing: border-box;text-align: center;}#sk-container-id-1 label.sk-toggleable__label-arrow:before {content: \"▸\";float: left;margin-right: 0.25em;color: #696969;}#sk-container-id-1 label.sk-toggleable__label-arrow:hover:before {color: black;}#sk-container-id-1 div.sk-estimator:hover label.sk-toggleable__label-arrow:before {color: black;}#sk-container-id-1 div.sk-toggleable__content {max-height: 0;max-width: 0;overflow: hidden;text-align: left;background-color: #f0f8ff;}#sk-container-id-1 div.sk-toggleable__content pre {margin: 0.2em;color: black;border-radius: 0.25em;background-color: #f0f8ff;}#sk-container-id-1 input.sk-toggleable__control:checked~div.sk-toggleable__content {max-height: 200px;max-width: 100%;overflow: auto;}#sk-container-id-1 input.sk-toggleable__control:checked~label.sk-toggleable__label-arrow:before {content: \"▾\";}#sk-container-id-1 div.sk-estimator input.sk-toggleable__control:checked~label.sk-toggleable__label {background-color: #d4ebff;}#sk-container-id-1 div.sk-label input.sk-toggleable__control:checked~label.sk-toggleable__label {background-color: #d4ebff;}#sk-container-id-1 input.sk-hidden--visually {border: 0;clip: rect(1px 1px 1px 1px);clip: rect(1px, 1px, 1px, 1px);height: 1px;margin: -1px;overflow: hidden;padding: 0;position: absolute;width: 1px;}#sk-container-id-1 div.sk-estimator {font-family: monospace;background-color: #f0f8ff;border: 1px dotted black;border-radius: 0.25em;box-sizing: border-box;margin-bottom: 0.5em;}#sk-container-id-1 div.sk-estimator:hover {background-color: #d4ebff;}#sk-container-id-1 div.sk-parallel-item::after {content: \"\";width: 100%;border-bottom: 1px solid gray;flex-grow: 1;}#sk-container-id-1 div.sk-label:hover label.sk-toggleable__label {background-color: #d4ebff;}#sk-container-id-1 div.sk-serial::before {content: \"\";position: absolute;border-left: 1px solid gray;box-sizing: border-box;top: 0;bottom: 0;left: 50%;z-index: 0;}#sk-container-id-1 div.sk-serial {display: flex;flex-direction: column;align-items: center;background-color: white;padding-right: 0.2em;padding-left: 0.2em;position: relative;}#sk-container-id-1 div.sk-item {position: relative;z-index: 1;}#sk-container-id-1 div.sk-parallel {display: flex;align-items: stretch;justify-content: center;background-color: white;position: relative;}#sk-container-id-1 div.sk-item::before, #sk-container-id-1 div.sk-parallel-item::before {content: \"\";position: absolute;border-left: 1px solid gray;box-sizing: border-box;top: 0;bottom: 0;left: 50%;z-index: -1;}#sk-container-id-1 div.sk-parallel-item {display: flex;flex-direction: column;z-index: 1;position: relative;background-color: white;}#sk-container-id-1 div.sk-parallel-item:first-child::after {align-self: flex-end;width: 50%;}#sk-container-id-1 div.sk-parallel-item:last-child::after {align-self: flex-start;width: 50%;}#sk-container-id-1 div.sk-parallel-item:only-child::after {width: 0;}#sk-container-id-1 div.sk-dashed-wrapped {border: 1px dashed gray;margin: 0 0.4em 0.5em 0.4em;box-sizing: border-box;padding-bottom: 0.4em;background-color: white;}#sk-container-id-1 div.sk-label label {font-family: monospace;font-weight: bold;display: inline-block;line-height: 1.2em;}#sk-container-id-1 div.sk-label-container {text-align: center;}#sk-container-id-1 div.sk-container {/* jupyter's `normalize.less` sets `[hidden] { display: none; }` but bootstrap.min.css set `[hidden] { display: none !important; }` so we also need the `!important` here to be able to override the default hidden behavior on the sphinx rendered scikit-learn.org. See: https://github.com/scikit-learn/scikit-learn/issues/21755 */display: inline-block !important;position: relative;}#sk-container-id-1 div.sk-text-repr-fallback {display: none;}</style><div id=\"sk-container-id-1\" class=\"sk-top-container\"><div class=\"sk-text-repr-fallback\"><pre>StandardScaler()</pre><b>In a Jupyter environment, please rerun this cell to show the HTML representation or trust the notebook. <br />On GitHub, the HTML representation is unable to render, please try loading this page with nbviewer.org.</b></div><div class=\"sk-container\" hidden><div class=\"sk-item\"><div class=\"sk-estimator sk-toggleable\"><input class=\"sk-toggleable__control sk-hidden--visually\" id=\"sk-estimator-id-1\" type=\"checkbox\" checked><label for=\"sk-estimator-id-1\" class=\"sk-toggleable__label sk-toggleable__label-arrow\">StandardScaler</label><div class=\"sk-toggleable__content\"><pre>StandardScaler()</pre></div></div></div></div></div>"
            ],
            "text/plain": [
              "StandardScaler()"
            ]
          },
          "execution_count": 77,
          "metadata": {},
          "output_type": "execute_result"
        }
      ],
      "source": [
        "# 정규화 작업\n",
        "scaler = StandardScaler()\n",
        "# 규칙 : train\n",
        "scaler.fit(train_df)"
      ]
    },
    {
      "cell_type": "code",
      "execution_count": 78,
      "metadata": {
        "colab": {
          "base_uri": "https://localhost:8080/"
        },
        "id": "Pt2WUfG-KbbL",
        "outputId": "daa085c6-a611-4a1a-b3da-e5e16a806908"
      },
      "outputs": [
        {
          "name": "stderr",
          "output_type": "stream",
          "text": [
            "/opt/homebrew/Caskroom/miniforge/base/envs/crawling/lib/python3.10/site-packages/sklearn/base.py:493: FutureWarning: The feature names should match those that were passed during fit. Starting version 1.2, an error will be raised.\n",
            "Feature names must be in the same order as they were in fit.\n",
            "\n",
            "  warnings.warn(message, FutureWarning)\n"
          ]
        }
      ],
      "source": [
        "# 위의 기준을 train, test에 모두 적용..\n",
        "X_train = scaler.transform(train_df)\n",
        "X_train = pd.DataFrame(X_train, columns =train_df.columns)\n",
        "\n",
        "# test set도 train과 동일한 컬럼 순서를 가지게 됨...\n",
        "X_test = scaler.transform(test_df)\n",
        "X_test = pd.DataFrame(X_test, columns =train_df.columns)\n"
      ]
    },
    {
      "cell_type": "code",
      "execution_count": 79,
      "metadata": {
        "colab": {
          "base_uri": "https://localhost:8080/"
        },
        "id": "EZRtMFn-L--A",
        "outputId": "1c95e019-15da-4993-8f14-619945dab304"
      },
      "outputs": [
        {
          "data": {
            "text/plain": [
              "(1456, 249)"
            ]
          },
          "execution_count": 79,
          "metadata": {},
          "output_type": "execute_result"
        }
      ],
      "source": [
        "X_train.shape"
      ]
    },
    {
      "cell_type": "code",
      "execution_count": 80,
      "metadata": {
        "colab": {
          "base_uri": "https://localhost:8080/"
        },
        "id": "I9_8sCfFMA5R",
        "outputId": "a5f9065d-2ad1-4821-efda-0445cbccf777"
      },
      "outputs": [
        {
          "data": {
            "text/plain": [
              "(1459, 249)"
            ]
          },
          "execution_count": 80,
          "metadata": {},
          "output_type": "execute_result"
        }
      ],
      "source": [
        "X_test.shape"
      ]
    },
    {
      "cell_type": "code",
      "execution_count": 81,
      "metadata": {
        "colab": {
          "base_uri": "https://localhost:8080/",
          "height": 299
        },
        "id": "ACaotB4HMCaw",
        "outputId": "dfa76130-b2e4-4a44-b7a7-bffd78ab61ec"
      },
      "outputs": [
        {
          "data": {
            "text/html": [
              "<div>\n",
              "<style scoped>\n",
              "    .dataframe tbody tr th:only-of-type {\n",
              "        vertical-align: middle;\n",
              "    }\n",
              "\n",
              "    .dataframe tbody tr th {\n",
              "        vertical-align: top;\n",
              "    }\n",
              "\n",
              "    .dataframe thead th {\n",
              "        text-align: right;\n",
              "    }\n",
              "</style>\n",
              "<table border=\"1\" class=\"dataframe\">\n",
              "  <thead>\n",
              "    <tr style=\"text-align: right;\">\n",
              "      <th></th>\n",
              "      <th>LotFrontage</th>\n",
              "      <th>LotArea</th>\n",
              "      <th>LotShape</th>\n",
              "      <th>LandSlope</th>\n",
              "      <th>OverallQual</th>\n",
              "      <th>OverallCond</th>\n",
              "      <th>YearBuilt</th>\n",
              "      <th>YearRemodAdd</th>\n",
              "      <th>MasVnrArea</th>\n",
              "      <th>ExterQual</th>\n",
              "      <th>...</th>\n",
              "      <th>MoSold_8</th>\n",
              "      <th>MoSold_9</th>\n",
              "      <th>MoSold_10</th>\n",
              "      <th>MoSold_11</th>\n",
              "      <th>MoSold_12</th>\n",
              "      <th>YrSold_2006</th>\n",
              "      <th>YrSold_2007</th>\n",
              "      <th>YrSold_2008</th>\n",
              "      <th>YrSold_2009</th>\n",
              "      <th>YrSold_2010</th>\n",
              "    </tr>\n",
              "  </thead>\n",
              "  <tbody>\n",
              "    <tr>\n",
              "      <th>0</th>\n",
              "      <td>-0.076848</td>\n",
              "      <td>-0.127817</td>\n",
              "      <td>0.740210</td>\n",
              "      <td>-0.233106</td>\n",
              "      <td>0.665646</td>\n",
              "      <td>-0.440614</td>\n",
              "      <td>1.047925</td>\n",
              "      <td>0.880629</td>\n",
              "      <td>1.209296</td>\n",
              "      <td>-0.505715</td>\n",
              "      <td>...</td>\n",
              "      <td>-0.302414</td>\n",
              "      <td>-0.212664</td>\n",
              "      <td>-0.253629</td>\n",
              "      <td>-0.239523</td>\n",
              "      <td>-0.205508</td>\n",
              "      <td>-0.524363</td>\n",
              "      <td>-0.537118</td>\n",
              "      <td>1.950713</td>\n",
              "      <td>-0.549841</td>\n",
              "      <td>-0.369611</td>\n",
              "    </tr>\n",
              "    <tr>\n",
              "      <th>1</th>\n",
              "      <td>0.562906</td>\n",
              "      <td>0.120797</td>\n",
              "      <td>0.740210</td>\n",
              "      <td>-0.233106</td>\n",
              "      <td>-0.064709</td>\n",
              "      <td>1.881827</td>\n",
              "      <td>0.166164</td>\n",
              "      <td>-0.427190</td>\n",
              "      <td>-0.805439</td>\n",
              "      <td>0.547459</td>\n",
              "      <td>...</td>\n",
              "      <td>-0.302414</td>\n",
              "      <td>-0.212664</td>\n",
              "      <td>-0.253629</td>\n",
              "      <td>-0.239523</td>\n",
              "      <td>-0.205508</td>\n",
              "      <td>-0.524363</td>\n",
              "      <td>1.861789</td>\n",
              "      <td>-0.512633</td>\n",
              "      <td>-0.549841</td>\n",
              "      <td>-0.369611</td>\n",
              "    </tr>\n",
              "    <tr>\n",
              "      <th>2</th>\n",
              "      <td>0.062014</td>\n",
              "      <td>0.429834</td>\n",
              "      <td>-1.400861</td>\n",
              "      <td>-0.233106</td>\n",
              "      <td>0.665646</td>\n",
              "      <td>-0.440614</td>\n",
              "      <td>0.983018</td>\n",
              "      <td>0.832191</td>\n",
              "      <td>1.137048</td>\n",
              "      <td>-0.505715</td>\n",
              "      <td>...</td>\n",
              "      <td>-0.302414</td>\n",
              "      <td>4.702245</td>\n",
              "      <td>-0.253629</td>\n",
              "      <td>-0.239523</td>\n",
              "      <td>-0.205508</td>\n",
              "      <td>-0.524363</td>\n",
              "      <td>-0.537118</td>\n",
              "      <td>1.950713</td>\n",
              "      <td>-0.549841</td>\n",
              "      <td>-0.369611</td>\n",
              "    </tr>\n",
              "    <tr>\n",
              "      <th>3</th>\n",
              "      <td>-0.322950</td>\n",
              "      <td>0.110623</td>\n",
              "      <td>-1.400861</td>\n",
              "      <td>-0.233106</td>\n",
              "      <td>0.665646</td>\n",
              "      <td>-0.440614</td>\n",
              "      <td>-1.871129</td>\n",
              "      <td>-0.717817</td>\n",
              "      <td>-0.805439</td>\n",
              "      <td>0.547459</td>\n",
              "      <td>...</td>\n",
              "      <td>-0.302414</td>\n",
              "      <td>-0.212664</td>\n",
              "      <td>-0.253629</td>\n",
              "      <td>-0.239523</td>\n",
              "      <td>-0.205508</td>\n",
              "      <td>1.907077</td>\n",
              "      <td>-0.537118</td>\n",
              "      <td>-0.512633</td>\n",
              "      <td>-0.549841</td>\n",
              "      <td>-0.369611</td>\n",
              "    </tr>\n",
              "    <tr>\n",
              "      <th>4</th>\n",
              "      <td>0.713484</td>\n",
              "      <td>0.891805</td>\n",
              "      <td>-1.400861</td>\n",
              "      <td>-0.233106</td>\n",
              "      <td>1.396000</td>\n",
              "      <td>-0.440614</td>\n",
              "      <td>0.950540</td>\n",
              "      <td>0.735316</td>\n",
              "      <td>1.429555</td>\n",
              "      <td>-0.505715</td>\n",
              "      <td>...</td>\n",
              "      <td>-0.302414</td>\n",
              "      <td>-0.212664</td>\n",
              "      <td>-0.253629</td>\n",
              "      <td>-0.239523</td>\n",
              "      <td>4.866001</td>\n",
              "      <td>-0.524363</td>\n",
              "      <td>-0.537118</td>\n",
              "      <td>1.950713</td>\n",
              "      <td>-0.549841</td>\n",
              "      <td>-0.369611</td>\n",
              "    </tr>\n",
              "  </tbody>\n",
              "</table>\n",
              "<p>5 rows × 249 columns</p>\n",
              "</div>"
            ],
            "text/plain": [
              "   LotFrontage   LotArea  LotShape  LandSlope  OverallQual  OverallCond  \\\n",
              "0    -0.076848 -0.127817  0.740210  -0.233106     0.665646    -0.440614   \n",
              "1     0.562906  0.120797  0.740210  -0.233106    -0.064709     1.881827   \n",
              "2     0.062014  0.429834 -1.400861  -0.233106     0.665646    -0.440614   \n",
              "3    -0.322950  0.110623 -1.400861  -0.233106     0.665646    -0.440614   \n",
              "4     0.713484  0.891805 -1.400861  -0.233106     1.396000    -0.440614   \n",
              "\n",
              "   YearBuilt  YearRemodAdd  MasVnrArea  ExterQual  ...  MoSold_8  MoSold_9  \\\n",
              "0   1.047925      0.880629    1.209296  -0.505715  ... -0.302414 -0.212664   \n",
              "1   0.166164     -0.427190   -0.805439   0.547459  ... -0.302414 -0.212664   \n",
              "2   0.983018      0.832191    1.137048  -0.505715  ... -0.302414  4.702245   \n",
              "3  -1.871129     -0.717817   -0.805439   0.547459  ... -0.302414 -0.212664   \n",
              "4   0.950540      0.735316    1.429555  -0.505715  ... -0.302414 -0.212664   \n",
              "\n",
              "   MoSold_10  MoSold_11  MoSold_12  YrSold_2006  YrSold_2007  YrSold_2008  \\\n",
              "0  -0.253629  -0.239523  -0.205508    -0.524363    -0.537118     1.950713   \n",
              "1  -0.253629  -0.239523  -0.205508    -0.524363     1.861789    -0.512633   \n",
              "2  -0.253629  -0.239523  -0.205508    -0.524363    -0.537118     1.950713   \n",
              "3  -0.253629  -0.239523  -0.205508     1.907077    -0.537118    -0.512633   \n",
              "4  -0.253629  -0.239523   4.866001    -0.524363    -0.537118     1.950713   \n",
              "\n",
              "   YrSold_2009  YrSold_2010  \n",
              "0    -0.549841    -0.369611  \n",
              "1    -0.549841    -0.369611  \n",
              "2    -0.549841    -0.369611  \n",
              "3    -0.549841    -0.369611  \n",
              "4    -0.549841    -0.369611  \n",
              "\n",
              "[5 rows x 249 columns]"
            ]
          },
          "execution_count": 81,
          "metadata": {},
          "output_type": "execute_result"
        }
      ],
      "source": [
        "X_train.head()"
      ]
    },
    {
      "cell_type": "code",
      "execution_count": 82,
      "metadata": {
        "colab": {
          "base_uri": "https://localhost:8080/",
          "height": 299
        },
        "id": "8z1CeCeiMEZ5",
        "outputId": "b98d2de5-42a0-4a0a-a4a7-3a30655d5759"
      },
      "outputs": [
        {
          "data": {
            "text/html": [
              "<div>\n",
              "<style scoped>\n",
              "    .dataframe tbody tr th:only-of-type {\n",
              "        vertical-align: middle;\n",
              "    }\n",
              "\n",
              "    .dataframe tbody tr th {\n",
              "        vertical-align: top;\n",
              "    }\n",
              "\n",
              "    .dataframe thead th {\n",
              "        text-align: right;\n",
              "    }\n",
              "</style>\n",
              "<table border=\"1\" class=\"dataframe\">\n",
              "  <thead>\n",
              "    <tr style=\"text-align: right;\">\n",
              "      <th></th>\n",
              "      <th>LotFrontage</th>\n",
              "      <th>LotArea</th>\n",
              "      <th>LotShape</th>\n",
              "      <th>LandSlope</th>\n",
              "      <th>OverallQual</th>\n",
              "      <th>OverallCond</th>\n",
              "      <th>YearBuilt</th>\n",
              "      <th>YearRemodAdd</th>\n",
              "      <th>MasVnrArea</th>\n",
              "      <th>ExterQual</th>\n",
              "      <th>...</th>\n",
              "      <th>MoSold_8</th>\n",
              "      <th>MoSold_9</th>\n",
              "      <th>MoSold_10</th>\n",
              "      <th>MoSold_11</th>\n",
              "      <th>MoSold_12</th>\n",
              "      <th>YrSold_2006</th>\n",
              "      <th>YrSold_2007</th>\n",
              "      <th>YrSold_2008</th>\n",
              "      <th>YrSold_2009</th>\n",
              "      <th>YrSold_2010</th>\n",
              "    </tr>\n",
              "  </thead>\n",
              "  <tbody>\n",
              "    <tr>\n",
              "      <th>0</th>\n",
              "      <td>0.562906</td>\n",
              "      <td>0.493221</td>\n",
              "      <td>0.740210</td>\n",
              "      <td>-0.233106</td>\n",
              "      <td>-0.795063</td>\n",
              "      <td>0.460296</td>\n",
              "      <td>-0.328921</td>\n",
              "      <td>-1.153757</td>\n",
              "      <td>-0.805439</td>\n",
              "      <td>0.547459</td>\n",
              "      <td>...</td>\n",
              "      <td>-0.302414</td>\n",
              "      <td>-0.212664</td>\n",
              "      <td>-0.253629</td>\n",
              "      <td>-0.239523</td>\n",
              "      <td>-0.205508</td>\n",
              "      <td>-0.524363</td>\n",
              "      <td>-0.537118</td>\n",
              "      <td>-0.512633</td>\n",
              "      <td>-0.549841</td>\n",
              "      <td>-0.369611</td>\n",
              "    </tr>\n",
              "    <tr>\n",
              "      <th>1</th>\n",
              "      <td>0.601236</td>\n",
              "      <td>0.892761</td>\n",
              "      <td>-1.400861</td>\n",
              "      <td>-0.233106</td>\n",
              "      <td>-0.064709</td>\n",
              "      <td>0.460296</td>\n",
              "      <td>-0.428392</td>\n",
              "      <td>-1.299070</td>\n",
              "      <td>0.983593</td>\n",
              "      <td>0.547459</td>\n",
              "      <td>...</td>\n",
              "      <td>-0.302414</td>\n",
              "      <td>-0.212664</td>\n",
              "      <td>-0.253629</td>\n",
              "      <td>-0.239523</td>\n",
              "      <td>-0.205508</td>\n",
              "      <td>-0.524363</td>\n",
              "      <td>-0.537118</td>\n",
              "      <td>-0.512633</td>\n",
              "      <td>-0.549841</td>\n",
              "      <td>-0.369611</td>\n",
              "    </tr>\n",
              "    <tr>\n",
              "      <th>2</th>\n",
              "      <td>0.322489</td>\n",
              "      <td>0.832144</td>\n",
              "      <td>-1.400861</td>\n",
              "      <td>-0.233106</td>\n",
              "      <td>-0.795063</td>\n",
              "      <td>-0.440614</td>\n",
              "      <td>0.853009</td>\n",
              "      <td>0.638440</td>\n",
              "      <td>-0.805439</td>\n",
              "      <td>0.547459</td>\n",
              "      <td>...</td>\n",
              "      <td>-0.302414</td>\n",
              "      <td>-0.212664</td>\n",
              "      <td>-0.253629</td>\n",
              "      <td>-0.239523</td>\n",
              "      <td>-0.205508</td>\n",
              "      <td>-0.524363</td>\n",
              "      <td>-0.537118</td>\n",
              "      <td>-0.512633</td>\n",
              "      <td>-0.549841</td>\n",
              "      <td>-0.369611</td>\n",
              "    </tr>\n",
              "    <tr>\n",
              "      <th>3</th>\n",
              "      <td>0.484805</td>\n",
              "      <td>0.196046</td>\n",
              "      <td>-1.400861</td>\n",
              "      <td>-0.233106</td>\n",
              "      <td>-0.064709</td>\n",
              "      <td>0.460296</td>\n",
              "      <td>0.885535</td>\n",
              "      <td>0.638440</td>\n",
              "      <td>0.355581</td>\n",
              "      <td>0.547459</td>\n",
              "      <td>...</td>\n",
              "      <td>-0.302414</td>\n",
              "      <td>-0.212664</td>\n",
              "      <td>-0.253629</td>\n",
              "      <td>-0.239523</td>\n",
              "      <td>-0.205508</td>\n",
              "      <td>-0.524363</td>\n",
              "      <td>-0.537118</td>\n",
              "      <td>-0.512633</td>\n",
              "      <td>-0.549841</td>\n",
              "      <td>-0.369611</td>\n",
              "    </tr>\n",
              "    <tr>\n",
              "      <th>4</th>\n",
              "      <td>-1.343474</td>\n",
              "      <td>-1.148225</td>\n",
              "      <td>-1.400861</td>\n",
              "      <td>-0.233106</td>\n",
              "      <td>1.396000</td>\n",
              "      <td>-0.440614</td>\n",
              "      <td>0.690131</td>\n",
              "      <td>0.347814</td>\n",
              "      <td>-0.805439</td>\n",
              "      <td>-0.505715</td>\n",
              "      <td>...</td>\n",
              "      <td>-0.302414</td>\n",
              "      <td>-0.212664</td>\n",
              "      <td>-0.253629</td>\n",
              "      <td>-0.239523</td>\n",
              "      <td>-0.205508</td>\n",
              "      <td>-0.524363</td>\n",
              "      <td>-0.537118</td>\n",
              "      <td>-0.512633</td>\n",
              "      <td>-0.549841</td>\n",
              "      <td>-0.369611</td>\n",
              "    </tr>\n",
              "  </tbody>\n",
              "</table>\n",
              "<p>5 rows × 249 columns</p>\n",
              "</div>"
            ],
            "text/plain": [
              "   LotFrontage   LotArea  LotShape  LandSlope  OverallQual  OverallCond  \\\n",
              "0     0.562906  0.493221  0.740210  -0.233106    -0.795063     0.460296   \n",
              "1     0.601236  0.892761 -1.400861  -0.233106    -0.064709     0.460296   \n",
              "2     0.322489  0.832144 -1.400861  -0.233106    -0.795063    -0.440614   \n",
              "3     0.484805  0.196046 -1.400861  -0.233106    -0.064709     0.460296   \n",
              "4    -1.343474 -1.148225 -1.400861  -0.233106     1.396000    -0.440614   \n",
              "\n",
              "   YearBuilt  YearRemodAdd  MasVnrArea  ExterQual  ...  MoSold_8  MoSold_9  \\\n",
              "0  -0.328921     -1.153757   -0.805439   0.547459  ... -0.302414 -0.212664   \n",
              "1  -0.428392     -1.299070    0.983593   0.547459  ... -0.302414 -0.212664   \n",
              "2   0.853009      0.638440   -0.805439   0.547459  ... -0.302414 -0.212664   \n",
              "3   0.885535      0.638440    0.355581   0.547459  ... -0.302414 -0.212664   \n",
              "4   0.690131      0.347814   -0.805439  -0.505715  ... -0.302414 -0.212664   \n",
              "\n",
              "   MoSold_10  MoSold_11  MoSold_12  YrSold_2006  YrSold_2007  YrSold_2008  \\\n",
              "0  -0.253629  -0.239523  -0.205508    -0.524363    -0.537118    -0.512633   \n",
              "1  -0.253629  -0.239523  -0.205508    -0.524363    -0.537118    -0.512633   \n",
              "2  -0.253629  -0.239523  -0.205508    -0.524363    -0.537118    -0.512633   \n",
              "3  -0.253629  -0.239523  -0.205508    -0.524363    -0.537118    -0.512633   \n",
              "4  -0.253629  -0.239523  -0.205508    -0.524363    -0.537118    -0.512633   \n",
              "\n",
              "   YrSold_2009  YrSold_2010  \n",
              "0    -0.549841    -0.369611  \n",
              "1    -0.549841    -0.369611  \n",
              "2    -0.549841    -0.369611  \n",
              "3    -0.549841    -0.369611  \n",
              "4    -0.549841    -0.369611  \n",
              "\n",
              "[5 rows x 249 columns]"
            ]
          },
          "execution_count": 82,
          "metadata": {},
          "output_type": "execute_result"
        }
      ],
      "source": [
        "X_test.head()"
      ]
    },
    {
      "cell_type": "markdown",
      "metadata": {
        "id": "sPj_8BYpqKNS"
      },
      "source": [
        "### Train / Test  분리"
      ]
    },
    {
      "cell_type": "code",
      "execution_count": 83,
      "metadata": {
        "colab": {
          "base_uri": "https://localhost:8080/"
        },
        "id": "0gm-Kj-YqKNS",
        "outputId": "0611b559-514c-431c-b647-631eceed50cb"
      },
      "outputs": [
        {
          "name": "stdout",
          "output_type": "stream",
          "text": [
            "training shape:(1456, 249), test shape:(1459, 249)\n"
          ]
        }
      ],
      "source": [
        "# 참고로 원래의 데이터가 train / test 가 1456개, 1459개로 거의 동일한 크기의 데이터가 주어진 것!!!\n",
        "print(\"training shape:{}, test shape:{}\".format(X_train.shape,X_test.shape))"
      ]
    },
    {
      "cell_type": "markdown",
      "metadata": {
        "id": "TR5CtDQiqKNS"
      },
      "source": [
        "### 모델링"
      ]
    },
    {
      "cell_type": "markdown",
      "metadata": {
        "id": "KF5c-9SxqKNS"
      },
      "source": [
        "* xgboost를 윈도우에서 사용하시는 분들은 경로 설정 추가 필요     \n",
        "* mlxtend 패키지 설치"
      ]
    },
    {
      "cell_type": "code",
      "execution_count": 84,
      "metadata": {
        "id": "zghTKjNMqKNS"
      },
      "outputs": [],
      "source": [
        "from sklearn.model_selection import GridSearchCV,RandomizedSearchCV,learning_curve, cross_val_score, KFold\n",
        "from sklearn.preprocessing import StandardScaler, RobustScaler\n",
        "from sklearn.svm import SVR\n",
        "from sklearn.ensemble import RandomForestRegressor\n",
        "from sklearn.metrics import accuracy_score, mean_squared_error\n",
        "\n",
        "from sklearn.linear_model import LassoCV,ElasticNetCV,Lasso,ElasticNet\n",
        "from sklearn.kernel_ridge import KernelRidge\n",
        "\n",
        "\n",
        "# 아래 추가적인 패키지가 설치가 되어 있어야 함!!!!!!!\n",
        "from xgboost import XGBRegressor\n",
        "from mlxtend.regressor import StackingRegressor\n",
        "\n",
        "# 시간\n",
        "import time"
      ]
    },
    {
      "cell_type": "code",
      "execution_count": 85,
      "metadata": {
        "colab": {
          "base_uri": "https://localhost:8080/"
        },
        "id": "I5VOZKLJNKNm",
        "outputId": "9ae82f6c-6793-45be-b370-00a85d42862d"
      },
      "outputs": [
        {
          "data": {
            "text/plain": [
              "0       12.247699\n",
              "1       12.109016\n",
              "2       12.317171\n",
              "3       11.849405\n",
              "4       12.429220\n",
              "          ...    \n",
              "1455    12.072547\n",
              "1456    12.254868\n",
              "1457    12.493133\n",
              "1458    11.864469\n",
              "1459    11.901590\n",
              "Name: SalePrice, Length: 1456, dtype: float64"
            ]
          },
          "execution_count": 85,
          "metadata": {},
          "output_type": "execute_result"
        }
      ],
      "source": [
        "y_df"
      ]
    },
    {
      "cell_type": "markdown",
      "metadata": {
        "id": "v8WqFIhFqKNS"
      },
      "source": [
        "#### 정규화 작업"
      ]
    },
    {
      "cell_type": "markdown",
      "metadata": {
        "id": "Ymu7p6aiqKNT"
      },
      "source": [
        "#### 모델의 종류들 : 평가는 root-mean-squared-error 로 평가\n",
        "\n",
        "        Ridge Regression\n",
        "        Lasso Regression\n",
        "        ElasticNet Regression\n",
        "        Support Vector Machine\n",
        "        Random Forest\n",
        "        XG Boost"
      ]
    },
    {
      "cell_type": "markdown",
      "metadata": {
        "id": "E-H0zVboqKNT"
      },
      "source": [
        "##### 평가 및 kfold 사용 준비"
      ]
    },
    {
      "cell_type": "code",
      "execution_count": 86,
      "metadata": {
        "id": "DT8hXMeOqKNT"
      },
      "outputs": [],
      "source": [
        "k_fold_num = 6\n",
        "kfold = KFold(n_splits=k_fold_num, shuffle=True, random_state=0)"
      ]
    },
    {
      "cell_type": "code",
      "execution_count": 87,
      "metadata": {
        "id": "cjNFbu6zqKNT"
      },
      "outputs": [],
      "source": [
        "# 우리의 평가지표 RMSE --> scikit-learn :neg_root_mean_squared_error -> 부호변화\n",
        "# 평가 지표에 대해서 직접 만들자!!!!!!\n",
        "def rmse_cv(model):\n",
        "    rmse = -cross_val_score(model, X_train, y_df, cv=kfold, \n",
        "                           scoring=\"neg_root_mean_squared_error\")\n",
        "    return rmse"
      ]
    },
    {
      "cell_type": "markdown",
      "metadata": {
        "id": "80MmAWfBqKNT"
      },
      "source": [
        "##### 참고) 평가지표"
      ]
    },
    {
      "cell_type": "markdown",
      "metadata": {
        "id": "NjPnUEHIqKNT"
      },
      "source": [
        "<img src=\"img/01.png\">\n",
        "<img src=\"img/02.png\">\n",
        "<img src=\"img/03.png\">\n",
        "<img src=\"img/04.png\">\n",
        "<img src=\"img/05.png\">\n",
        "<img src=\"img/06.png\">"
      ]
    },
    {
      "cell_type": "markdown",
      "metadata": {
        "id": "i_HlN8uvqKNT"
      },
      "source": [
        "* RMSLE 의 특징 : 하지만 kaggle 에서의 평가 지표는 RMSE 임!<br>\n",
        "<img src=\"img/07.png\">\n",
        "<img src=\"img/08.png\">\n",
        "<img src=\"img/09.png\">"
      ]
    },
    {
      "cell_type": "markdown",
      "metadata": {
        "id": "2vErz0ddqKNT"
      },
      "source": [
        "ref ) https://bkshin.tistory.com/entry/%EB%A8%B8%EC%8B%A0%EB%9F%AC%EB%8B%9D-17-%ED%9A%8C%EA%B7%80-%ED%8F%89%EA%B0%80-%EC%A7%80%ED%91%9C"
      ]
    },
    {
      "cell_type": "markdown",
      "metadata": {
        "id": "gJ-6k_nTqKNU"
      },
      "source": [
        "* Scikit-Learn의 평가 지표"
      ]
    },
    {
      "cell_type": "markdown",
      "metadata": {
        "id": "SulI12z0qKNU"
      },
      "source": [
        "<img src=\"img/10.png\">"
      ]
    },
    {
      "cell_type": "markdown",
      "metadata": {
        "id": "kQd3KWYWqKNU"
      },
      "source": [
        "##### Rigid "
      ]
    },
    {
      "cell_type": "markdown",
      "metadata": {
        "id": "Z1CkdsmoqKNU"
      },
      "source": [
        "* ref ) https://scikit-learn.org/stable/modules/generated/sklearn.kernel_ridge.KernelRidge.html#sklearn.kernel_ridge.KernelRidge"
      ]
    },
    {
      "cell_type": "code",
      "execution_count": null,
      "metadata": {
        "id": "FeQLulhLlTWo"
      },
      "outputs": [],
      "source": [
        "###### LASSO Model ####"
      ]
    },
    {
      "cell_type": "code",
      "execution_count": 88,
      "metadata": {
        "id": "sQNNPu9ilTby"
      },
      "outputs": [],
      "source": [
        "from sklearn.linear_model import Lasso"
      ]
    },
    {
      "cell_type": "code",
      "execution_count": 89,
      "metadata": {
        "colab": {
          "base_uri": "https://localhost:8080/"
        },
        "id": "6q4-u3fhlTeq",
        "outputId": "e7b9c27f-5851-46a8-ed07-3d82b4018c29"
      },
      "outputs": [
        {
          "name": "stdout",
          "output_type": "stream",
          "text": [
            "Lasso Base Line Mean : 0.3944793519128739\n",
            "Lasso Base Line Std : 0.0352940415470804\n"
          ]
        }
      ],
      "source": [
        "# orginal price (X) ---> log(1+price) : 대략 2자리 수 정도에서 y에 대한 값..\n",
        "lasso_model = Lasso(random_state=1234)\n",
        "lasso_scores = rmse_cv(lasso_model)\n",
        "print(\"Lasso Base Line Mean :\",lasso_scores.mean())\n",
        "print(\"Lasso Base Line Std :\",lasso_scores.std())"
      ]
    },
    {
      "cell_type": "code",
      "execution_count": 90,
      "metadata": {
        "colab": {
          "base_uri": "https://localhost:8080/"
        },
        "id": "_dYFA27ylTg8",
        "outputId": "00cb8e4b-0be4-4cc2-d32c-78c998d1f1e4"
      },
      "outputs": [
        {
          "name": "stderr",
          "output_type": "stream",
          "text": [
            "/opt/homebrew/Caskroom/miniforge/base/envs/crawling/lib/python3.10/site-packages/sklearn/linear_model/_coordinate_descent.py:648: ConvergenceWarning: Objective did not converge. You might want to increase the number of iterations, check the scale of the features or consider increasing regularisation. Duality gap: 6.299e-01, tolerance: 1.834e-03\n",
            "  model = cd_fast.enet_coordinate_descent(\n",
            "/opt/homebrew/Caskroom/miniforge/base/envs/crawling/lib/python3.10/site-packages/sklearn/linear_model/_coordinate_descent.py:648: ConvergenceWarning: Objective did not converge. You might want to increase the number of iterations, check the scale of the features or consider increasing regularisation. Duality gap: 2.504e+00, tolerance: 1.952e-03\n",
            "  model = cd_fast.enet_coordinate_descent(\n",
            "/opt/homebrew/Caskroom/miniforge/base/envs/crawling/lib/python3.10/site-packages/sklearn/linear_model/_coordinate_descent.py:648: ConvergenceWarning: Objective did not converge. You might want to increase the number of iterations, check the scale of the features or consider increasing regularisation. Duality gap: 3.174e+00, tolerance: 1.951e-03\n",
            "  model = cd_fast.enet_coordinate_descent(\n",
            "/opt/homebrew/Caskroom/miniforge/base/envs/crawling/lib/python3.10/site-packages/sklearn/linear_model/_coordinate_descent.py:648: ConvergenceWarning: Objective did not converge. You might want to increase the number of iterations, check the scale of the features or consider increasing regularisation. Duality gap: 3.074e+00, tolerance: 1.803e-03\n",
            "  model = cd_fast.enet_coordinate_descent(\n",
            "/opt/homebrew/Caskroom/miniforge/base/envs/crawling/lib/python3.10/site-packages/sklearn/linear_model/_coordinate_descent.py:648: ConvergenceWarning: Objective did not converge. You might want to increase the number of iterations, check the scale of the features or consider increasing regularisation. Duality gap: 2.743e+00, tolerance: 1.879e-03\n",
            "  model = cd_fast.enet_coordinate_descent(\n",
            "/opt/homebrew/Caskroom/miniforge/base/envs/crawling/lib/python3.10/site-packages/sklearn/linear_model/_coordinate_descent.py:648: ConvergenceWarning: Objective did not converge. You might want to increase the number of iterations, check the scale of the features or consider increasing regularisation. Duality gap: 2.111e+00, tolerance: 1.993e-03\n",
            "  model = cd_fast.enet_coordinate_descent(\n",
            "/opt/homebrew/Caskroom/miniforge/base/envs/crawling/lib/python3.10/site-packages/sklearn/linear_model/_coordinate_descent.py:648: ConvergenceWarning: Objective did not converge. You might want to increase the number of iterations, check the scale of the features or consider increasing regularisation. Duality gap: 2.547e+00, tolerance: 1.952e-03\n",
            "  model = cd_fast.enet_coordinate_descent(\n",
            "/opt/homebrew/Caskroom/miniforge/base/envs/crawling/lib/python3.10/site-packages/sklearn/linear_model/_coordinate_descent.py:648: ConvergenceWarning: Objective did not converge. You might want to increase the number of iterations, check the scale of the features or consider increasing regularisation. Duality gap: 2.542e-03, tolerance: 1.952e-03\n",
            "  model = cd_fast.enet_coordinate_descent(\n",
            "/opt/homebrew/Caskroom/miniforge/base/envs/crawling/lib/python3.10/site-packages/sklearn/linear_model/_coordinate_descent.py:648: ConvergenceWarning: Objective did not converge. You might want to increase the number of iterations, check the scale of the features or consider increasing regularisation. Duality gap: 2.845e+00, tolerance: 1.879e-03\n",
            "  model = cd_fast.enet_coordinate_descent(\n",
            "/opt/homebrew/Caskroom/miniforge/base/envs/crawling/lib/python3.10/site-packages/sklearn/linear_model/_coordinate_descent.py:648: ConvergenceWarning: Objective did not converge. You might want to increase the number of iterations, check the scale of the features or consider increasing regularisation. Duality gap: 7.829e-01, tolerance: 1.834e-03\n",
            "  model = cd_fast.enet_coordinate_descent(\n",
            "/opt/homebrew/Caskroom/miniforge/base/envs/crawling/lib/python3.10/site-packages/sklearn/linear_model/_coordinate_descent.py:648: ConvergenceWarning: Objective did not converge. You might want to increase the number of iterations, check the scale of the features or consider increasing regularisation. Duality gap: 3.109e+00, tolerance: 1.803e-03\n",
            "  model = cd_fast.enet_coordinate_descent(\n",
            "/opt/homebrew/Caskroom/miniforge/base/envs/crawling/lib/python3.10/site-packages/sklearn/linear_model/_coordinate_descent.py:648: ConvergenceWarning: Objective did not converge. You might want to increase the number of iterations, check the scale of the features or consider increasing regularisation. Duality gap: 2.160e+00, tolerance: 1.993e-03\n",
            "  model = cd_fast.enet_coordinate_descent(\n",
            "/opt/homebrew/Caskroom/miniforge/base/envs/crawling/lib/python3.10/site-packages/sklearn/linear_model/_coordinate_descent.py:648: ConvergenceWarning: Objective did not converge. You might want to increase the number of iterations, check the scale of the features or consider increasing regularisation. Duality gap: 3.199e+00, tolerance: 1.951e-03\n",
            "  model = cd_fast.enet_coordinate_descent(\n",
            "/opt/homebrew/Caskroom/miniforge/base/envs/crawling/lib/python3.10/site-packages/sklearn/linear_model/_coordinate_descent.py:648: ConvergenceWarning: Objective did not converge. You might want to increase the number of iterations, check the scale of the features or consider increasing regularisation. Duality gap: 2.887e-03, tolerance: 1.803e-03\n",
            "  model = cd_fast.enet_coordinate_descent(\n"
          ]
        },
        {
          "name": "stdout",
          "output_type": "stream",
          "text": [
            "Processed Time : 3.6663308143615723\n"
          ]
        }
      ],
      "source": [
        "# Random Grid Search\n",
        "# RanomGridSearchCV\n",
        "lasso_model = Lasso(random_state=1234)\n",
        "t1 = time.time()\n",
        "lasso_parameters= {\n",
        "    # 모델 자체에서 중요한 파라미터 규약 강도\n",
        "    \"alpha\" : [0.000001, 0.0001,0.001, 0.01, 0.1, 1, 5, 10],\n",
        "\n",
        "    # 실제 수치연산적인 부분에서 체크!!! -> 모델 자체가 아니라 연산방식에 의한..\n",
        "    \"tol\" : [0.0000001, 0.00001, 0.001],\n",
        "    \"max_iter\" : [1000,3000]\n",
        "}\n",
        "\n",
        "n_iter = 20\n",
        "lasso_rgs_model = RandomizedSearchCV(\n",
        "    lasso_model,\n",
        "    param_distributions=lasso_parameters,\n",
        "    n_iter = n_iter,\n",
        "    cv=kfold,\n",
        "    scoring = \"neg_root_mean_squared_error\",\n",
        "    random_state=1234,\n",
        "    n_jobs=-1\n",
        ")\n",
        "lasso_rgs_model.fit(X_train, y_df)\n",
        "t2 = time.time()\n",
        "print(\"Processed Time :\", str(t2-t1))\n"
      ]
    },
    {
      "cell_type": "code",
      "execution_count": 91,
      "metadata": {
        "colab": {
          "base_uri": "https://localhost:8080/"
        },
        "id": "MD81wNQ7lTjh",
        "outputId": "9dd1a746-b8a7-4a0b-f286-5b99b35559db"
      },
      "outputs": [
        {
          "data": {
            "text/plain": [
              "-0.113078662985468"
            ]
          },
          "execution_count": 91,
          "metadata": {},
          "output_type": "execute_result"
        }
      ],
      "source": [
        "lasso_rgs_model.best_score_"
      ]
    },
    {
      "cell_type": "code",
      "execution_count": 92,
      "metadata": {
        "id": "g-Xc4BgMlTmK"
      },
      "outputs": [],
      "source": [
        "# regression 같은 경우에서는 그냥 던지는 baseline과 적당한 튜닝의 차이가 \n",
        "# 좀 크게 나타나는 경우가 많아요...---> 조금 개선되었다고 많이 튜닝이 되었구나\n",
        "# 하면...좀;;;;;;;;;\n",
        "# baseline 보다는 random search를 통해서 대략적인 baseline을 파악하는게 좀 더 현실적.."
      ]
    },
    {
      "cell_type": "code",
      "execution_count": 93,
      "metadata": {
        "colab": {
          "base_uri": "https://localhost:8080/"
        },
        "id": "1SYYVF21lTod",
        "outputId": "eb3176de-9d56-4393-a882-f912b8377037"
      },
      "outputs": [
        {
          "data": {
            "text/plain": [
              "{'tol': 1e-05, 'max_iter': 1000, 'alpha': 0.001}"
            ]
          },
          "execution_count": 93,
          "metadata": {},
          "output_type": "execute_result"
        }
      ],
      "source": [
        "lasso_rgs_model.best_params_"
      ]
    },
    {
      "cell_type": "code",
      "execution_count": 94,
      "metadata": {
        "id": "UEenyGaOlTq6"
      },
      "outputs": [
        {
          "data": {
            "text/plain": [
              "{'mean_fit_time': array([0.16833643, 0.00609465, 0.03331105, 0.00647918, 0.00877062,\n",
              "        0.00738231, 0.94376969, 0.00536346, 0.08093909, 0.01929883,\n",
              "        0.0038106 , 0.00470404, 0.03388977, 0.45523334, 0.02275328,\n",
              "        0.01117675, 0.0157992 , 0.2753942 , 0.00549293, 0.00579635]),\n",
              " 'std_fit_time': array([0.03381521, 0.00305646, 0.00398507, 0.00123697, 0.00093599,\n",
              "        0.00100697, 0.02067664, 0.00126381, 0.02178281, 0.0027027 ,\n",
              "        0.00037563, 0.0008661 , 0.00850153, 0.26541297, 0.00632658,\n",
              "        0.00140737, 0.00362195, 0.00750197, 0.00181858, 0.00264791]),\n",
              " 'mean_score_time': array([0.00259471, 0.00151217, 0.00205243, 0.00160019, 0.00225739,\n",
              "        0.00213786, 0.00172357, 0.00160317, 0.00188291, 0.00167414,\n",
              "        0.00145058, 0.00145578, 0.0014565 , 0.00191267, 0.00335332,\n",
              "        0.0017486 , 0.00161537, 0.00146675, 0.00216222, 0.00137325]),\n",
              " 'std_score_time': array([1.76623520e-03, 3.95589880e-05, 5.20262514e-04, 5.05152402e-05,\n",
              "        8.97439777e-04, 5.48185901e-04, 2.25669804e-04, 1.80646902e-04,\n",
              "        6.11571629e-04, 9.45201044e-05, 1.19227044e-04, 9.10838026e-05,\n",
              "        4.22016600e-05, 1.07452917e-03, 2.15307643e-03, 5.70920016e-04,\n",
              "        1.56455379e-04, 6.36404945e-05, 1.73098532e-03, 2.49263999e-05]),\n",
              " 'param_tol': masked_array(data=[0.001, 1e-05, 0.001, 0.001, 0.001, 1e-05, 1e-05, 1e-05,\n",
              "                    1e-05, 1e-07, 1e-07, 1e-07, 0.001, 1e-05, 1e-07, 0.001,\n",
              "                    1e-05, 1e-05, 0.001, 1e-07],\n",
              "              mask=[False, False, False, False, False, False, False, False,\n",
              "                    False, False, False, False, False, False, False, False,\n",
              "                    False, False, False, False],\n",
              "        fill_value='?',\n",
              "             dtype=object),\n",
              " 'param_max_iter': masked_array(data=[1000, 3000, 1000, 3000, 3000, 1000, 3000, 1000, 1000,\n",
              "                    1000, 1000, 1000, 3000, 3000, 3000, 1000, 3000, 1000,\n",
              "                    1000, 3000],\n",
              "              mask=[False, False, False, False, False, False, False, False,\n",
              "                    False, False, False, False, False, False, False, False,\n",
              "                    False, False, False, False],\n",
              "        fill_value='?',\n",
              "             dtype=object),\n",
              " 'param_alpha': masked_array(data=[0.0001, 10, 0.001, 5, 0.1, 10, 1e-06, 1, 0.001, 0.01,\n",
              "                    5, 10, 0.001, 0.0001, 0.01, 0.01, 0.01, 1e-06, 1, 10],\n",
              "              mask=[False, False, False, False, False, False, False, False,\n",
              "                    False, False, False, False, False, False, False, False,\n",
              "                    False, False, False, False],\n",
              "        fill_value='?',\n",
              "             dtype=object),\n",
              " 'params': [{'tol': 0.001, 'max_iter': 1000, 'alpha': 0.0001},\n",
              "  {'tol': 1e-05, 'max_iter': 3000, 'alpha': 10},\n",
              "  {'tol': 0.001, 'max_iter': 1000, 'alpha': 0.001},\n",
              "  {'tol': 0.001, 'max_iter': 3000, 'alpha': 5},\n",
              "  {'tol': 0.001, 'max_iter': 3000, 'alpha': 0.1},\n",
              "  {'tol': 1e-05, 'max_iter': 1000, 'alpha': 10},\n",
              "  {'tol': 1e-05, 'max_iter': 3000, 'alpha': 1e-06},\n",
              "  {'tol': 1e-05, 'max_iter': 1000, 'alpha': 1},\n",
              "  {'tol': 1e-05, 'max_iter': 1000, 'alpha': 0.001},\n",
              "  {'tol': 1e-07, 'max_iter': 1000, 'alpha': 0.01},\n",
              "  {'tol': 1e-07, 'max_iter': 1000, 'alpha': 5},\n",
              "  {'tol': 1e-07, 'max_iter': 1000, 'alpha': 10},\n",
              "  {'tol': 0.001, 'max_iter': 3000, 'alpha': 0.001},\n",
              "  {'tol': 1e-05, 'max_iter': 3000, 'alpha': 0.0001},\n",
              "  {'tol': 1e-07, 'max_iter': 3000, 'alpha': 0.01},\n",
              "  {'tol': 0.001, 'max_iter': 1000, 'alpha': 0.01},\n",
              "  {'tol': 1e-05, 'max_iter': 3000, 'alpha': 0.01},\n",
              "  {'tol': 1e-05, 'max_iter': 1000, 'alpha': 1e-06},\n",
              "  {'tol': 0.001, 'max_iter': 1000, 'alpha': 1},\n",
              "  {'tol': 1e-07, 'max_iter': 3000, 'alpha': 10}],\n",
              " 'split0_test_score': array([-0.10638038, -0.36895937, -0.10234512, -0.36895937, -0.17503811,\n",
              "        -0.36895937, -0.10692072, -0.36895937, -0.10229849, -0.10361281,\n",
              "        -0.36895937, -0.36895937, -0.10234512, -0.10622463, -0.10361281,\n",
              "        -0.1036074 , -0.10361276, -0.10692143, -0.36895937, -0.36895937]),\n",
              " 'split1_test_score': array([-0.12366971, -0.4295791 , -0.11873807, -0.4295791 , -0.21109953,\n",
              "        -0.4295791 , -0.12509493, -0.4295791 , -0.11867506, -0.11946774,\n",
              "        -0.4295791 , -0.4295791 , -0.11873807, -0.12367053, -0.11946774,\n",
              "        -0.11943972, -0.11946772, -0.12506471, -0.4295791 , -0.4295791 ]),\n",
              " 'split2_test_score': array([-0.1262871 , -0.40777953, -0.12110023, -0.40777953, -0.2339687 ,\n",
              "        -0.40777953, -0.13186436, -0.40777953, -0.12098744, -0.13919693,\n",
              "        -0.40777953, -0.40777953, -0.12110023, -0.1263297 , -0.13919693,\n",
              "        -0.13921351, -0.13919732, -0.13179184, -0.40777953, -0.40777953]),\n",
              " 'split3_test_score': array([-0.12405193, -0.44432526, -0.11700232, -0.44432526, -0.22244015,\n",
              "        -0.44432526, -0.12702837, -0.44432526, -0.1169789 , -0.12728302,\n",
              "        -0.44432526, -0.44432526, -0.11700232, -0.12412965, -0.12728302,\n",
              "        -0.1272725 , -0.12728307, -0.12767991, -0.44432526, -0.44432526]),\n",
              " 'split4_test_score': array([-0.12507063, -0.34618494, -0.12021722, -0.34618494, -0.1758328 ,\n",
              "        -0.34618494, -0.12639226, -0.34618494, -0.12027151, -0.11821971,\n",
              "        -0.34618494, -0.34618494, -0.12021722, -0.12504004, -0.11821971,\n",
              "        -0.11820749, -0.11821978, -0.12641635, -0.34618494, -0.34618494]),\n",
              " 'split5_test_score': array([-0.10448181, -0.37004792, -0.09923959, -0.37004792, -0.20283808,\n",
              "        -0.37004792, -0.1062395 , -0.37004792, -0.09926058, -0.10866321,\n",
              "        -0.37004792, -0.37004792, -0.09923959, -0.10448222, -0.10866321,\n",
              "        -0.10863426, -0.10866348, -0.10631529, -0.37004792, -0.37004792]),\n",
              " 'mean_test_score': array([-0.1183236 , -0.39447935, -0.11310709, -0.39447935, -0.20353623,\n",
              "        -0.39447935, -0.12059003, -0.39447935, -0.11307866, -0.11940724,\n",
              "        -0.39447935, -0.39447935, -0.11310709, -0.1183128 , -0.11940724,\n",
              "        -0.11939581, -0.11940736, -0.12069825, -0.39447935, -0.39447935]),\n",
              " 'std_test_score': array([0.00917033, 0.03529404, 0.00884546, 0.03529404, 0.02206357,\n",
              "        0.03529404, 0.01012678, 0.03529404, 0.00883147, 0.01169025,\n",
              "        0.03529404, 0.03529404, 0.00884546, 0.00921481, 0.01169025,\n",
              "        0.01169959, 0.01169033, 0.0101673 , 0.03529404, 0.03529404]),\n",
              " 'rank_test_score': array([ 5, 13,  2, 13, 12, 13, 10, 13,  1,  7, 13, 13,  2,  4,  7,  6,  9,\n",
              "        11, 13, 13], dtype=int32)}"
            ]
          },
          "execution_count": 94,
          "metadata": {},
          "output_type": "execute_result"
        }
      ],
      "source": [
        "lasso_rgs_model.cv_results_"
      ]
    },
    {
      "cell_type": "code",
      "execution_count": 95,
      "metadata": {
        "colab": {
          "base_uri": "https://localhost:8080/"
        },
        "id": "rz5KWGT0lTtn",
        "outputId": "e78aa46e-d524-4d21-ee17-f46cd5cc183a"
      },
      "outputs": [
        {
          "data": {
            "text/plain": [
              "array([114830.5246673 , 134609.86570201, 163288.30211247, ...,\n",
              "       159016.8980763 , 121788.71121035, 207225.5052452 ])"
            ]
          },
          "execution_count": 95,
          "metadata": {},
          "output_type": "execute_result"
        }
      ],
      "source": [
        "# lasso에서 best 모델을 선정을 해서..\n",
        "lasso_rgs_best = lasso_rgs_model.best_estimator_\n",
        "lasso_rgs_ypred = lasso_rgs_best.predict(X_test) # <--- log 스케일이 적용된 값...\n",
        "# 원래 값의 영역으로 재변환!!!!!\n",
        "y_pred_1 = np.expm1(lasso_rgs_ypred)\n",
        "y_pred_1"
      ]
    },
    {
      "cell_type": "code",
      "execution_count": 96,
      "metadata": {
        "colab": {
          "base_uri": "https://localhost:8080/"
        },
        "id": "yrmPcwgjlTwA",
        "outputId": "f782c82c-cfbf-490f-c4b3-99bc724da493"
      },
      "outputs": [
        {
          "data": {
            "text/plain": [
              "array([11.65122133, 11.81014342, 12.00327877, ..., 11.97677204,\n",
              "       11.71005116, 12.2415677 ])"
            ]
          },
          "execution_count": 96,
          "metadata": {},
          "output_type": "execute_result"
        }
      ],
      "source": [
        "lasso_rgs_ypred"
      ]
    },
    {
      "cell_type": "code",
      "execution_count": 97,
      "metadata": {
        "id": "8ZHBv4xPlTyj"
      },
      "outputs": [],
      "source": [
        "#### grid search ~~~ 디테일하게 찾으시면 됩니다~~~~"
      ]
    },
    {
      "cell_type": "code",
      "execution_count": 98,
      "metadata": {
        "id": "dkQV6TXRqeQw"
      },
      "outputs": [],
      "source": [
        "## To Do !!!!!"
      ]
    },
    {
      "cell_type": "code",
      "execution_count": null,
      "metadata": {
        "id": "ln_q8qkSqeTh"
      },
      "outputs": [],
      "source": []
    },
    {
      "cell_type": "code",
      "execution_count": 99,
      "metadata": {
        "id": "CkXLC30VqeV7"
      },
      "outputs": [],
      "source": [
        "# 2) Kernel Ridge"
      ]
    },
    {
      "cell_type": "code",
      "execution_count": 100,
      "metadata": {
        "id": "BDgv1EkRqeYU"
      },
      "outputs": [],
      "source": [
        "from sklearn.kernel_ridge import KernelRidge"
      ]
    },
    {
      "cell_type": "code",
      "execution_count": 101,
      "metadata": {
        "colab": {
          "base_uri": "https://localhost:8080/"
        },
        "id": "sGGSAkpCqeal",
        "outputId": "0cb5ea07-1f1c-4704-81fa-3850f28ae672"
      },
      "outputs": [
        {
          "name": "stdout",
          "output_type": "stream",
          "text": [
            "KR Base Line Mean : 473.6111959667562\n",
            "KR Base Line Std : 65.0350165193632\n"
          ]
        }
      ],
      "source": [
        "kr_model = KernelRidge()\n",
        "kr_scores = rmse_cv(kr_model)\n",
        "print(\"KR Base Line Mean :\",kr_scores.mean())\n",
        "print(\"KR Base Line Std :\",kr_scores.std())"
      ]
    },
    {
      "cell_type": "code",
      "execution_count": 102,
      "metadata": {
        "colab": {
          "base_uri": "https://localhost:8080/"
        },
        "id": "R0-tBV1RrqTP",
        "outputId": "958d23ef-3bc8-4c07-cbdf-6bb118856b1e"
      },
      "outputs": [
        {
          "name": "stdout",
          "output_type": "stream",
          "text": [
            "Processed Time: 1.3960027694702148\n"
          ]
        }
      ],
      "source": [
        "# Kernel Ridge Random Search CV\n",
        "kr_model = KernelRidge()\n",
        "t1 = time.time()\n",
        "kr_parameters={\n",
        "    \"alpha\" : [0.000001, 0.001, 1, 5, 10],\n",
        "\n",
        "    #### kernel : svm에서 한 대로 차원 변환을 통해서~~~\n",
        "    \"kernel\":[\"linear\", \"rbf\", \"polynomial\"],\n",
        "    \"gamma\" : np.logspace(-15, 4, num=4, base=2),\n",
        "    \"degree\" : [2,3],\n",
        "}\n",
        "# RS_iter\n",
        "n_iter_search =20\n",
        "\n",
        "# RandomSearchCV\n",
        "kr_rgs_model = RandomizedSearchCV(\n",
        "    kr_model, \n",
        "    param_distributions=kr_parameters,\n",
        "    n_iter = n_iter_search,\n",
        "    cv=kfold,\n",
        "    random_state=1234,\n",
        "    n_jobs=-1,\n",
        "    scoring=\"neg_root_mean_squared_error\"\n",
        ")\n",
        "kr_rgs_model.fit(X_train, y_df)\n",
        "t2 = time.time()\n",
        "print(\"Processed Time:\", str(t2-t1))"
      ]
    },
    {
      "cell_type": "code",
      "execution_count": 103,
      "metadata": {
        "colab": {
          "base_uri": "https://localhost:8080/"
        },
        "id": "fsz5Yxv5sVSm",
        "outputId": "43e83356-d3af-4e9c-a8b8-d09e621e731c"
      },
      "outputs": [
        {
          "data": {
            "text/plain": [
              "-0.12749666698169854"
            ]
          },
          "execution_count": 103,
          "metadata": {},
          "output_type": "execute_result"
        }
      ],
      "source": [
        "kr_rgs_model.best_score_"
      ]
    },
    {
      "cell_type": "code",
      "execution_count": 104,
      "metadata": {
        "colab": {
          "base_uri": "https://localhost:8080/"
        },
        "id": "lUpPbcZWsVVH",
        "outputId": "f2522e5c-277c-445b-da34-3aa0234fea37"
      },
      "outputs": [
        {
          "data": {
            "text/plain": [
              "array([121704.4751172 , 129251.19121448, 187649.05753172, ...,\n",
              "       155263.73291801, 127344.05099112, 221312.65116063])"
            ]
          },
          "execution_count": 104,
          "metadata": {},
          "output_type": "execute_result"
        }
      ],
      "source": [
        "# KR에서 best 모델을 선정을 해서..\n",
        "kr_rgs_best = kr_rgs_model.best_estimator_\n",
        "kr_rgs_ypred = kr_rgs_best.predict(X_test) # <--- log 스케일이 적용된 값...\n",
        "# 원래 값의 영역으로 재변환!!!!!\n",
        "y_pred_2 = np.expm1(kr_rgs_ypred)\n",
        "y_pred_2"
      ]
    },
    {
      "cell_type": "code",
      "execution_count": 105,
      "metadata": {
        "colab": {
          "base_uri": "https://localhost:8080/"
        },
        "id": "wc46j4SLsVXt",
        "outputId": "85594f5a-0ae8-435a-a49c-c46fe7b092cd"
      },
      "outputs": [
        {
          "data": {
            "text/plain": [
              "array([114830.5246673 , 134609.86570201, 163288.30211247, ...,\n",
              "       159016.8980763 , 121788.71121035, 207225.5052452 ])"
            ]
          },
          "execution_count": 105,
          "metadata": {},
          "output_type": "execute_result"
        }
      ],
      "source": [
        "y_pred_1"
      ]
    },
    {
      "cell_type": "code",
      "execution_count": 106,
      "metadata": {
        "id": "ih5BSuiussn6"
      },
      "outputs": [],
      "source": [
        "## KR -- GridSearch 를 통해서 best 모델을 찾아보세요~~~\n",
        "# To Do ~"
      ]
    },
    {
      "cell_type": "code",
      "execution_count": null,
      "metadata": {
        "id": "l1-CafT8ssqM"
      },
      "outputs": [],
      "source": []
    },
    {
      "cell_type": "code",
      "execution_count": 107,
      "metadata": {
        "id": "vWVz8qEOtNI0"
      },
      "outputs": [],
      "source": [
        "# ElastiNet"
      ]
    },
    {
      "cell_type": "code",
      "execution_count": 108,
      "metadata": {
        "id": "CBTZ_VFVtNLZ"
      },
      "outputs": [],
      "source": [
        "from sklearn.linear_model import ElasticNet"
      ]
    },
    {
      "cell_type": "code",
      "execution_count": 109,
      "metadata": {
        "colab": {
          "base_uri": "https://localhost:8080/"
        },
        "id": "f80REE_utNNz",
        "outputId": "502143f1-b9d7-4fb5-849e-fecc733be2a5"
      },
      "outputs": [
        {
          "name": "stdout",
          "output_type": "stream",
          "text": [
            "ELNET Base Line Mean: 0.3944793519128739\n",
            "ELNET Base Line Std: 0.0352940415470804\n"
          ]
        }
      ],
      "source": [
        "elnet_model = ElasticNet(random_state=1234)\n",
        "elnet_scores  = rmse_cv(elnet_model)\n",
        "print(\"ELNET Base Line Mean:\", elnet_scores.mean())\n",
        "print(\"ELNET Base Line Std:\", elnet_scores.std())"
      ]
    },
    {
      "cell_type": "code",
      "execution_count": 110,
      "metadata": {
        "colab": {
          "base_uri": "https://localhost:8080/"
        },
        "id": "OqnWLVKRtNQa",
        "outputId": "c62a876e-09c9-44a9-c366-2ac2eae9e218"
      },
      "outputs": [
        {
          "name": "stderr",
          "output_type": "stream",
          "text": [
            "/opt/homebrew/Caskroom/miniforge/base/envs/crawling/lib/python3.10/site-packages/sklearn/linear_model/_coordinate_descent.py:648: ConvergenceWarning: Objective did not converge. You might want to increase the number of iterations, check the scale of the features or consider increasing regularisation. Duality gap: 5.288e+00, tolerance: 1.952e-03\n",
            "  model = cd_fast.enet_coordinate_descent(\n",
            "/opt/homebrew/Caskroom/miniforge/base/envs/crawling/lib/python3.10/site-packages/sklearn/linear_model/_coordinate_descent.py:648: ConvergenceWarning: Objective did not converge. You might want to increase the number of iterations, check the scale of the features or consider increasing regularisation. Duality gap: 5.347e+00, tolerance: 1.951e-03\n",
            "  model = cd_fast.enet_coordinate_descent(\n",
            "/opt/homebrew/Caskroom/miniforge/base/envs/crawling/lib/python3.10/site-packages/sklearn/linear_model/_coordinate_descent.py:648: ConvergenceWarning: Objective did not converge. You might want to increase the number of iterations, check the scale of the features or consider increasing regularisation. Duality gap: 4.993e+00, tolerance: 1.879e-03\n",
            "  model = cd_fast.enet_coordinate_descent(\n",
            "/opt/homebrew/Caskroom/miniforge/base/envs/crawling/lib/python3.10/site-packages/sklearn/linear_model/_coordinate_descent.py:648: ConvergenceWarning: Objective did not converge. You might want to increase the number of iterations, check the scale of the features or consider increasing regularisation. Duality gap: 4.987e+00, tolerance: 1.834e-03\n",
            "  model = cd_fast.enet_coordinate_descent(\n",
            "/opt/homebrew/Caskroom/miniforge/base/envs/crawling/lib/python3.10/site-packages/sklearn/linear_model/_coordinate_descent.py:648: ConvergenceWarning: Objective did not converge. You might want to increase the number of iterations, check the scale of the features or consider increasing regularisation. Duality gap: 5.032e+00, tolerance: 1.803e-03\n",
            "  model = cd_fast.enet_coordinate_descent(\n",
            "/opt/homebrew/Caskroom/miniforge/base/envs/crawling/lib/python3.10/site-packages/sklearn/linear_model/_coordinate_descent.py:648: ConvergenceWarning: Objective did not converge. You might want to increase the number of iterations, check the scale of the features or consider increasing regularisation. Duality gap: 4.856e+00, tolerance: 1.993e-03\n",
            "  model = cd_fast.enet_coordinate_descent(\n",
            "/opt/homebrew/Caskroom/miniforge/base/envs/crawling/lib/python3.10/site-packages/sklearn/linear_model/_coordinate_descent.py:648: ConvergenceWarning: Objective did not converge. You might want to increase the number of iterations, check the scale of the features or consider increasing regularisation. Duality gap: 3.238e+00, tolerance: 1.879e-03\n",
            "  model = cd_fast.enet_coordinate_descent(\n",
            "/opt/homebrew/Caskroom/miniforge/base/envs/crawling/lib/python3.10/site-packages/sklearn/linear_model/_coordinate_descent.py:648: ConvergenceWarning: Objective did not converge. You might want to increase the number of iterations, check the scale of the features or consider increasing regularisation. Duality gap: 2.907e+00, tolerance: 1.952e-03\n",
            "  model = cd_fast.enet_coordinate_descent(\n",
            "/opt/homebrew/Caskroom/miniforge/base/envs/crawling/lib/python3.10/site-packages/sklearn/linear_model/_coordinate_descent.py:648: ConvergenceWarning: Objective did not converge. You might want to increase the number of iterations, check the scale of the features or consider increasing regularisation. Duality gap: 2.499e+00, tolerance: 1.993e-03\n",
            "  model = cd_fast.enet_coordinate_descent(\n",
            "/opt/homebrew/Caskroom/miniforge/base/envs/crawling/lib/python3.10/site-packages/sklearn/linear_model/_coordinate_descent.py:648: ConvergenceWarning: Objective did not converge. You might want to increase the number of iterations, check the scale of the features or consider increasing regularisation. Duality gap: 5.310e+00, tolerance: 1.952e-01\n",
            "  model = cd_fast.enet_coordinate_descent(\n",
            "/opt/homebrew/Caskroom/miniforge/base/envs/crawling/lib/python3.10/site-packages/sklearn/linear_model/_coordinate_descent.py:648: ConvergenceWarning: Objective did not converge. You might want to increase the number of iterations, check the scale of the features or consider increasing regularisation. Duality gap: 5.018e+00, tolerance: 1.879e-01\n",
            "  model = cd_fast.enet_coordinate_descent(\n",
            "/opt/homebrew/Caskroom/miniforge/base/envs/crawling/lib/python3.10/site-packages/sklearn/linear_model/_coordinate_descent.py:648: ConvergenceWarning: Objective did not converge. You might want to increase the number of iterations, check the scale of the features or consider increasing regularisation. Duality gap: 3.402e+00, tolerance: 1.803e-03\n",
            "  model = cd_fast.enet_coordinate_descent(\n",
            "/opt/homebrew/Caskroom/miniforge/base/envs/crawling/lib/python3.10/site-packages/sklearn/linear_model/_coordinate_descent.py:648: ConvergenceWarning: Objective did not converge. You might want to increase the number of iterations, check the scale of the features or consider increasing regularisation. Duality gap: 1.426e+00, tolerance: 1.834e-03\n",
            "  model = cd_fast.enet_coordinate_descent(\n",
            "/opt/homebrew/Caskroom/miniforge/base/envs/crawling/lib/python3.10/site-packages/sklearn/linear_model/_coordinate_descent.py:648: ConvergenceWarning: Objective did not converge. You might want to increase the number of iterations, check the scale of the features or consider increasing regularisation. Duality gap: 4.882e+00, tolerance: 1.993e-01\n",
            "  model = cd_fast.enet_coordinate_descent(\n",
            "/opt/homebrew/Caskroom/miniforge/base/envs/crawling/lib/python3.10/site-packages/sklearn/linear_model/_coordinate_descent.py:648: ConvergenceWarning: Objective did not converge. You might want to increase the number of iterations, check the scale of the features or consider increasing regularisation. Duality gap: 3.643e+00, tolerance: 1.951e-03\n",
            "  model = cd_fast.enet_coordinate_descent(\n",
            "/opt/homebrew/Caskroom/miniforge/base/envs/crawling/lib/python3.10/site-packages/sklearn/linear_model/_coordinate_descent.py:648: ConvergenceWarning: Objective did not converge. You might want to increase the number of iterations, check the scale of the features or consider increasing regularisation. Duality gap: 5.281e+00, tolerance: 1.952e-01\n",
            "  model = cd_fast.enet_coordinate_descent(\n",
            "/opt/homebrew/Caskroom/miniforge/base/envs/crawling/lib/python3.10/site-packages/sklearn/linear_model/_coordinate_descent.py:648: ConvergenceWarning: Objective did not converge. You might want to increase the number of iterations, check the scale of the features or consider increasing regularisation. Duality gap: 4.974e+00, tolerance: 1.879e-01\n",
            "  model = cd_fast.enet_coordinate_descent(\n",
            "/opt/homebrew/Caskroom/miniforge/base/envs/crawling/lib/python3.10/site-packages/sklearn/linear_model/_coordinate_descent.py:648: ConvergenceWarning: Objective did not converge. You might want to increase the number of iterations, check the scale of the features or consider increasing regularisation. Duality gap: 4.851e+00, tolerance: 1.993e-01\n",
            "  model = cd_fast.enet_coordinate_descent(\n",
            "/opt/homebrew/Caskroom/miniforge/base/envs/crawling/lib/python3.10/site-packages/sklearn/linear_model/_coordinate_descent.py:648: ConvergenceWarning: Objective did not converge. You might want to increase the number of iterations, check the scale of the features or consider increasing regularisation. Duality gap: 5.009e+00, tolerance: 1.834e-01\n",
            "  model = cd_fast.enet_coordinate_descent(\n",
            "/opt/homebrew/Caskroom/miniforge/base/envs/crawling/lib/python3.10/site-packages/sklearn/linear_model/_coordinate_descent.py:648: ConvergenceWarning: Objective did not converge. You might want to increase the number of iterations, check the scale of the features or consider increasing regularisation. Duality gap: 5.056e+00, tolerance: 1.803e-01\n",
            "  model = cd_fast.enet_coordinate_descent(\n",
            "/opt/homebrew/Caskroom/miniforge/base/envs/crawling/lib/python3.10/site-packages/sklearn/linear_model/_coordinate_descent.py:648: ConvergenceWarning: Objective did not converge. You might want to increase the number of iterations, check the scale of the features or consider increasing regularisation. Duality gap: 5.370e+00, tolerance: 1.951e-01\n",
            "  model = cd_fast.enet_coordinate_descent(\n",
            "/opt/homebrew/Caskroom/miniforge/base/envs/crawling/lib/python3.10/site-packages/sklearn/linear_model/_coordinate_descent.py:648: ConvergenceWarning: Objective did not converge. You might want to increase the number of iterations, check the scale of the features or consider increasing regularisation. Duality gap: 4.361e+00, tolerance: 1.952e-03\n",
            "  model = cd_fast.enet_coordinate_descent(\n",
            "/opt/homebrew/Caskroom/miniforge/base/envs/crawling/lib/python3.10/site-packages/sklearn/linear_model/_coordinate_descent.py:648: ConvergenceWarning: Objective did not converge. You might want to increase the number of iterations, check the scale of the features or consider increasing regularisation. Duality gap: 4.977e+00, tolerance: 1.834e-01\n",
            "  model = cd_fast.enet_coordinate_descent(\n",
            "/opt/homebrew/Caskroom/miniforge/base/envs/crawling/lib/python3.10/site-packages/sklearn/linear_model/_coordinate_descent.py:648: ConvergenceWarning: Objective did not converge. You might want to increase the number of iterations, check the scale of the features or consider increasing regularisation. Duality gap: 5.334e+00, tolerance: 1.951e-01\n",
            "  model = cd_fast.enet_coordinate_descent(\n",
            "/opt/homebrew/Caskroom/miniforge/base/envs/crawling/lib/python3.10/site-packages/sklearn/linear_model/_coordinate_descent.py:648: ConvergenceWarning: Objective did not converge. You might want to increase the number of iterations, check the scale of the features or consider increasing regularisation. Duality gap: 5.027e+00, tolerance: 1.803e-01\n",
            "  model = cd_fast.enet_coordinate_descent(\n",
            "/opt/homebrew/Caskroom/miniforge/base/envs/crawling/lib/python3.10/site-packages/sklearn/linear_model/_coordinate_descent.py:648: ConvergenceWarning: Objective did not converge. You might want to increase the number of iterations, check the scale of the features or consider increasing regularisation. Duality gap: 4.064e+00, tolerance: 1.993e-03\n",
            "  model = cd_fast.enet_coordinate_descent(\n",
            "/opt/homebrew/Caskroom/miniforge/base/envs/crawling/lib/python3.10/site-packages/sklearn/linear_model/_coordinate_descent.py:648: ConvergenceWarning: Objective did not converge. You might want to increase the number of iterations, check the scale of the features or consider increasing regularisation. Duality gap: 2.268e+00, tolerance: 1.993e-03\n",
            "  model = cd_fast.enet_coordinate_descent(\n",
            "/opt/homebrew/Caskroom/miniforge/base/envs/crawling/lib/python3.10/site-packages/sklearn/linear_model/_coordinate_descent.py:648: ConvergenceWarning: Objective did not converge. You might want to increase the number of iterations, check the scale of the features or consider increasing regularisation. Duality gap: 2.656e+00, tolerance: 1.952e-03\n",
            "  model = cd_fast.enet_coordinate_descent(\n",
            "/opt/homebrew/Caskroom/miniforge/base/envs/crawling/lib/python3.10/site-packages/sklearn/linear_model/_coordinate_descent.py:648: ConvergenceWarning: Objective did not converge. You might want to increase the number of iterations, check the scale of the features or consider increasing regularisation. Duality gap: 1.997e+00, tolerance: 1.951e-03\n",
            "  model = cd_fast.enet_coordinate_descent(\n",
            "/opt/homebrew/Caskroom/miniforge/base/envs/crawling/lib/python3.10/site-packages/sklearn/linear_model/_coordinate_descent.py:648: ConvergenceWarning: Objective did not converge. You might want to increase the number of iterations, check the scale of the features or consider increasing regularisation. Duality gap: 3.811e+00, tolerance: 1.834e-03\n",
            "  model = cd_fast.enet_coordinate_descent(\n",
            "/opt/homebrew/Caskroom/miniforge/base/envs/crawling/lib/python3.10/site-packages/sklearn/linear_model/_coordinate_descent.py:648: ConvergenceWarning: Objective did not converge. You might want to increase the number of iterations, check the scale of the features or consider increasing regularisation. Duality gap: 3.846e+00, tolerance: 1.951e-03\n",
            "  model = cd_fast.enet_coordinate_descent(\n",
            "/opt/homebrew/Caskroom/miniforge/base/envs/crawling/lib/python3.10/site-packages/sklearn/linear_model/_coordinate_descent.py:648: ConvergenceWarning: Objective did not converge. You might want to increase the number of iterations, check the scale of the features or consider increasing regularisation. Duality gap: 2.094e+00, tolerance: 1.834e-03\n",
            "  model = cd_fast.enet_coordinate_descent(\n",
            "/opt/homebrew/Caskroom/miniforge/base/envs/crawling/lib/python3.10/site-packages/sklearn/linear_model/_coordinate_descent.py:648: ConvergenceWarning: Objective did not converge. You might want to increase the number of iterations, check the scale of the features or consider increasing regularisation. Duality gap: 3.132e+00, tolerance: 1.879e-03\n",
            "  model = cd_fast.enet_coordinate_descent(\n",
            "/opt/homebrew/Caskroom/miniforge/base/envs/crawling/lib/python3.10/site-packages/sklearn/linear_model/_coordinate_descent.py:648: ConvergenceWarning: Objective did not converge. You might want to increase the number of iterations, check the scale of the features or consider increasing regularisation. Duality gap: 1.679e+00, tolerance: 1.879e-03\n",
            "  model = cd_fast.enet_coordinate_descent(\n",
            "/opt/homebrew/Caskroom/miniforge/base/envs/crawling/lib/python3.10/site-packages/sklearn/linear_model/_coordinate_descent.py:648: ConvergenceWarning: Objective did not converge. You might want to increase the number of iterations, check the scale of the features or consider increasing regularisation. Duality gap: 4.237e+00, tolerance: 1.803e-03\n",
            "  model = cd_fast.enet_coordinate_descent(\n"
          ]
        },
        {
          "name": "stdout",
          "output_type": "stream",
          "text": [
            "Processed Time : 3.9999282360076904\n"
          ]
        },
        {
          "name": "stderr",
          "output_type": "stream",
          "text": [
            "/opt/homebrew/Caskroom/miniforge/base/envs/crawling/lib/python3.10/site-packages/sklearn/linear_model/_coordinate_descent.py:648: ConvergenceWarning: Objective did not converge. You might want to increase the number of iterations, check the scale of the features or consider increasing regularisation. Duality gap: 1.183e+00, tolerance: 1.803e-03\n",
            "  model = cd_fast.enet_coordinate_descent(\n"
          ]
        }
      ],
      "source": [
        "# ElasticNet -> RandomGridSearch\n",
        "elnet_model = ElasticNet(random_state=1234)\n",
        "t1 = time.time()\n",
        "elnet_parameters={\n",
        "    # L1과 L2에 대한 규약에 대한 비율~~~ 모델에 대한 부분...\n",
        "    \"alpha\" : [0.000001, 0.0001,0.001,0.01, 0.1, 1, 5,10],\n",
        "    \"l1_ratio\" : [0.000001, 0.0001,0.001,0.01, 0.1, 0.4,0.6, 0.8],\n",
        "\n",
        "    # 구현적으로 연산적인 기능에 대한 파라미터\n",
        "    \"tol\" :[0.00001, 0.00001, 0.001],\n",
        "    \"max_iter\" : [1000,2000]\n",
        "}\n",
        "n_iter_elnet = 20\n",
        "elnet_rgs_model = RandomizedSearchCV(\n",
        "    elnet_model, \n",
        "    param_distributions = elnet_parameters,\n",
        "    cv=kfold,\n",
        "    n_iter = n_iter_elnet,\n",
        "    scoring=\"neg_root_mean_squared_error\",\n",
        "    random_state=1234,\n",
        "    n_jobs=-1\n",
        ")\n",
        "elnet_rgs_model.fit(X_train,y_df)\n",
        "t2 = time.time()\n",
        "print(\"Processed Time :\" , str(t2-t1))"
      ]
    },
    {
      "cell_type": "code",
      "execution_count": 111,
      "metadata": {
        "colab": {
          "base_uri": "https://localhost:8080/"
        },
        "id": "KVh4thphtNTN",
        "outputId": "5189097c-76dd-4903-d13b-a587d11f4e09"
      },
      "outputs": [
        {
          "data": {
            "text/plain": [
              "-0.11279361223666745"
            ]
          },
          "execution_count": 111,
          "metadata": {},
          "output_type": "execute_result"
        }
      ],
      "source": [
        "elnet_rgs_model.best_score_"
      ]
    },
    {
      "cell_type": "code",
      "execution_count": 112,
      "metadata": {
        "colab": {
          "base_uri": "https://localhost:8080/"
        },
        "id": "FxvQCsuXtNV7",
        "outputId": "f5a24cd2-738d-4702-8bb8-9415607af252"
      },
      "outputs": [
        {
          "data": {
            "text/plain": [
              "array([121687.3008717 , 138344.77645359, 179102.14127075, ...,\n",
              "       176917.22978501, 122626.05337562, 218142.12507268])"
            ]
          },
          "execution_count": 112,
          "metadata": {},
          "output_type": "execute_result"
        }
      ],
      "source": [
        "# KR에서 best 모델을 선정을 해서..\n",
        "elnet_rgs_best = elnet_rgs_model.best_estimator_\n",
        "elnet_rgs_ypred = elnet_rgs_best.predict(X_test) # <--- log 스케일이 적용된 값...\n",
        "# 원래 값의 영역으로 재변환!!!!!\n",
        "y_pred_3 = np.expm1(elnet_rgs_ypred)\n",
        "y_pred_3"
      ]
    },
    {
      "cell_type": "code",
      "execution_count": null,
      "metadata": {
        "id": "N9cv3-dxwzUC"
      },
      "outputs": [],
      "source": []
    },
    {
      "cell_type": "code",
      "execution_count": 113,
      "metadata": {
        "id": "4adq5sR9u8xu"
      },
      "outputs": [],
      "source": [
        "#### 3개의 결과에 대해서 voting을 한다면???\n",
        "# hard voting : 회귀에서는 단순 평균 --> 꼭 모델이 홀수일 필요는 없음!!!!!\n",
        "y_pred_hv = (y_pred_1 + y_pred_2 + y_pred_3)/ 3\n",
        "\n",
        "# soft voting : 1모델이 제일 좋아 , 2번모델이 제일 안좋음, 3번은 적당.\n",
        "# 회귀에서는 가중평균!!!\n",
        "y_pred_sv = (y_pred_1 * 3 + y_pred_2 * 1 + y_pred_2 * 2) / 6\n",
        "y_pred_sv = (y_pred_1 * 1.5 + y_pred_2 * 2 + y_pred_2 * 0.5) / 4\n",
        "# soft voting에 대해서 가중치를 어떻게 설정을 할지 좀 Test 를 해봐야지 좋을 수 있음!!"
      ]
    },
    {
      "cell_type": "code",
      "execution_count": null,
      "metadata": {
        "id": "fG5zkeVeu80U"
      },
      "outputs": [],
      "source": []
    },
    {
      "cell_type": "code",
      "execution_count": 114,
      "metadata": {
        "id": "g_WdFow2w3Us"
      },
      "outputs": [],
      "source": [
        "#### LASSO, RIDGE, ELASTIC : 일단 체크 --> 속도가 괜찮음...\n",
        "#### 일단 체크용....\n",
        "\n",
        "#### ----> Tree Based RF, Xgboost, LightGBM 신경을 써서 진행!!!!!\n",
        "\n",
        "### stacking !!!!!!!"
      ]
    },
    {
      "cell_type": "code",
      "execution_count": 115,
      "metadata": {
        "id": "ntFAP4sJw3XW"
      },
      "outputs": [],
      "source": [
        "#### RadnomForest Regressor "
      ]
    },
    {
      "cell_type": "code",
      "execution_count": 116,
      "metadata": {
        "id": "04sb64aGw3aS"
      },
      "outputs": [],
      "source": [
        "from sklearn.ensemble import RandomForestRegressor"
      ]
    },
    {
      "cell_type": "code",
      "execution_count": null,
      "metadata": {
        "id": "Df2Z8gI0w3cr"
      },
      "outputs": [],
      "source": [
        "# 아무런 세팅을 안 하면 너무 차이가 심하기 때문에...\n",
        "# RandomgGridSearch를 보고 BaseLine겸 성능으로 체크하는 식으로 진행을 하겠습니다."
      ]
    },
    {
      "cell_type": "code",
      "execution_count": null,
      "metadata": {
        "colab": {
          "base_uri": "https://localhost:8080/"
        },
        "id": "3RIQi44B1RDW",
        "outputId": "3fa4d20a-8bea-41d1-a989-bb93b3d5a937"
      },
      "outputs": [
        {
          "name": "stdout",
          "output_type": "stream",
          "text": [
            "Fitting 6 folds for each of 10 candidates, totalling 60 fits\n"
          ]
        },
        {
          "name": "stderr",
          "output_type": "stream",
          "text": [
            "/usr/local/lib/python3.7/dist-packages/sklearn/model_selection/_validation.py:372: FitFailedWarning: \n",
            "12 fits failed out of a total of 60.\n",
            "The score on these train-test partitions for these parameters will be set to nan.\n",
            "If these failures are not expected, you can try to debug them by setting error_score='raise'.\n",
            "\n",
            "Below are more details about the failures:\n",
            "--------------------------------------------------------------------------------\n",
            "12 fits failed with the following error:\n",
            "Traceback (most recent call last):\n",
            "  File \"/usr/local/lib/python3.7/dist-packages/sklearn/model_selection/_validation.py\", line 680, in _fit_and_score\n",
            "    estimator.fit(X_train, y_train, **fit_params)\n",
            "  File \"/usr/local/lib/python3.7/dist-packages/sklearn/ensemble/_forest.py\", line 467, in fit\n",
            "    for i, t in enumerate(trees)\n",
            "  File \"/usr/local/lib/python3.7/dist-packages/joblib/parallel.py\", line 1098, in __call__\n",
            "    self.retrieve()\n",
            "  File \"/usr/local/lib/python3.7/dist-packages/joblib/parallel.py\", line 975, in retrieve\n",
            "    self._output.extend(job.get(timeout=self.timeout))\n",
            "  File \"/usr/lib/python3.7/multiprocessing/pool.py\", line 657, in get\n",
            "    raise self._value\n",
            "  File \"/usr/lib/python3.7/multiprocessing/pool.py\", line 121, in worker\n",
            "    result = (True, func(*args, **kwds))\n",
            "  File \"/usr/local/lib/python3.7/dist-packages/joblib/_parallel_backends.py\", line 620, in __call__\n",
            "    return self.func(*args, **kwargs)\n",
            "  File \"/usr/local/lib/python3.7/dist-packages/joblib/parallel.py\", line 289, in __call__\n",
            "    for func, args, kwargs in self.items]\n",
            "  File \"/usr/local/lib/python3.7/dist-packages/joblib/parallel.py\", line 289, in <listcomp>\n",
            "    for func, args, kwargs in self.items]\n",
            "  File \"/usr/local/lib/python3.7/dist-packages/sklearn/utils/fixes.py\", line 216, in __call__\n",
            "    return self.function(*args, **kwargs)\n",
            "  File \"/usr/local/lib/python3.7/dist-packages/sklearn/ensemble/_forest.py\", line 185, in _parallel_build_trees\n",
            "    tree.fit(X, y, sample_weight=curr_sample_weight, check_input=False)\n",
            "  File \"/usr/local/lib/python3.7/dist-packages/sklearn/tree/_classes.py\", line 1320, in fit\n",
            "    X_idx_sorted=X_idx_sorted,\n",
            "  File \"/usr/local/lib/python3.7/dist-packages/sklearn/tree/_classes.py\", line 254, in fit\n",
            "    % self.min_samples_split\n",
            "ValueError: min_samples_split must be an integer greater than 1 or a float in (0.0, 1.0]; got the integer 1\n",
            "\n",
            "  warnings.warn(some_fits_failed_message, FitFailedWarning)\n",
            "/usr/local/lib/python3.7/dist-packages/sklearn/model_selection/_search.py:972: UserWarning: One or more of the test scores are non-finite: [-0.16579716 -0.15535515         nan -0.18340031 -0.15604503         nan\n",
            " -0.18340031 -0.1674222  -0.13923871 -0.13923313]\n",
            "  category=UserWarning,\n"
          ]
        },
        {
          "name": "stdout",
          "output_type": "stream",
          "text": [
            "Process Time: 259.792129278183\n"
          ]
        }
      ],
      "source": [
        "# RF & RandomGridSearchCV\n",
        "rf_model = RandomForestRegressor(random_state=1234, n_jobs=-1)\n",
        "t1 = time.time()\n",
        "rf_parameters = {\n",
        "    \"n_estimators\" : [100],\n",
        "    # 지금 colab의 scikit 버전이 1.X여서 최신 파라미터로 수정..\n",
        "    # \"criterion\" : [\"mse\",\"mae\"] # sklearn 0.X version \n",
        "    \"criterion\" : [\"squared_error\", \"absolute_error\"], # sklearn 1.X version\n",
        "    \"max_depth\" : [3, 4, 5, 10],\n",
        "    \"min_samples_split\" : [1,2,3,5],\n",
        "    \"max_features\" : [\"auto\"]\n",
        "    #\"max_features\" : [\"auto\",\"sqrt\",\"log2\"]\n",
        "}\n",
        "n_iter_rf = 10\n",
        "rf_rgs_model = RandomizedSearchCV(\n",
        "    rf_model,\n",
        "    param_distributions=rf_parameters,\n",
        "    n_iter = n_iter_rf,\n",
        "    cv= kfold,\n",
        "    scoring = \"neg_root_mean_squared_error\",\n",
        "    random_state=1234,\n",
        "    n_jobs=-1,\n",
        "    verbose=2\n",
        ")\n",
        "rf_rgs_model.fit(X_train, y_df)\n",
        "t2 = time.time()\n",
        "print(\"Process Time:\", str(t2-t1))\n"
      ]
    },
    {
      "cell_type": "code",
      "execution_count": null,
      "metadata": {
        "colab": {
          "base_uri": "https://localhost:8080/"
        },
        "id": "fqfPDZNt1RF3",
        "outputId": "9f821c1b-863c-4ab2-fa21-b5d3eabf9f15"
      },
      "outputs": [
        {
          "data": {
            "text/plain": [
              "-0.13923313160620113"
            ]
          },
          "execution_count": 143,
          "metadata": {},
          "output_type": "execute_result"
        }
      ],
      "source": [
        "rf_rgs_model.best_score_"
      ]
    },
    {
      "cell_type": "code",
      "execution_count": null,
      "metadata": {
        "colab": {
          "base_uri": "https://localhost:8080/"
        },
        "id": "SimgNz_d1RIc",
        "outputId": "b08a00c4-3269-4f63-fa4c-37a01147164e"
      },
      "outputs": [
        {
          "data": {
            "text/plain": [
              "array([116482.34336476, 153209.01085994, 171984.206155  , ...,\n",
              "       155580.47896063, 108325.81164873, 196343.45789277])"
            ]
          },
          "execution_count": 144,
          "metadata": {},
          "output_type": "execute_result"
        }
      ],
      "source": [
        "# rf에서 best 모델을 선정을 해서..\n",
        "rf_rgs_best = rf_rgs_model.best_estimator_\n",
        "rf_rgs_ypred = rf_rgs_best.predict(X_test) # <--- log 스케일이 적용된 값...\n",
        "# 원래 값의 영역으로 재변환!!!!!\n",
        "y_pred_4 = np.expm1(rf_rgs_ypred)\n",
        "y_pred_4"
      ]
    },
    {
      "cell_type": "code",
      "execution_count": null,
      "metadata": {
        "colab": {
          "base_uri": "https://localhost:8080/"
        },
        "id": "6zHSp6lGu827",
        "outputId": "0651e191-a0ac-4d8c-c8d0-b10b298c1348"
      },
      "outputs": [
        {
          "name": "stdout",
          "output_type": "stream",
          "text": [
            "114830.52466729948 121704.47511720209 121687.30087169983 116482.3433647625\n"
          ]
        }
      ],
      "source": [
        "print(y_pred_1[0], y_pred_2[0], y_pred_3[0],y_pred_4[0])"
      ]
    },
    {
      "cell_type": "code",
      "execution_count": null,
      "metadata": {
        "id": "ZBw4EDx0u85X"
      },
      "outputs": [],
      "source": [
        "## RF ---> GridSearch 등을 이용해서 더 최적의 모델을 찾아야 함!!!\n",
        "# To Do "
      ]
    },
    {
      "cell_type": "code",
      "execution_count": null,
      "metadata": {
        "id": "AOFBehws3guP"
      },
      "outputs": [],
      "source": []
    },
    {
      "cell_type": "code",
      "execution_count": null,
      "metadata": {
        "id": "a3VtRQbX3gwg"
      },
      "outputs": [],
      "source": [
        "###### Xgboost"
      ]
    },
    {
      "cell_type": "code",
      "execution_count": null,
      "metadata": {
        "id": "hlmIG7cI3gzE"
      },
      "outputs": [],
      "source": [
        "from xgboost import XGBRFRegressor"
      ]
    },
    {
      "cell_type": "code",
      "execution_count": null,
      "metadata": {
        "colab": {
          "base_uri": "https://localhost:8080/"
        },
        "id": "LTQrJsQ33mdJ",
        "outputId": "59ca87f6-0740-4d01-c7aa-1a7a4f2e5b90"
      },
      "outputs": [
        {
          "name": "stdout",
          "output_type": "stream",
          "text": [
            "Fitting 6 folds for each of 10 candidates, totalling 60 fits\n"
          ]
        },
        {
          "data": {
            "text/plain": [
              "RandomizedSearchCV(cv=KFold(n_splits=6, random_state=0, shuffle=True),\n",
              "                   estimator=XGBRegressor(n_jobs=-1,\n",
              "                                          objective='reg:squarederror',\n",
              "                                          random_state=1234),\n",
              "                   n_jobs=-1,\n",
              "                   param_distributions={'colsample_bytree': [0.3, 0.6],\n",
              "                                        'learning_rate': [0.1, 0.3, 0.5],\n",
              "                                        'max_depth': [2, 5, 7],\n",
              "                                        'n_estimators': [50, 100]},\n",
              "                   random_state=1234, scoring='neg_root_mean_squared_error',\n",
              "                   verbose=3)"
            ]
          },
          "execution_count": 147,
          "metadata": {},
          "output_type": "execute_result"
        }
      ],
      "source": [
        "xgb_model = XGBRegressor(n_jobs =-1, random_state=1234, \n",
        "                         objective=\"reg:squarederror\")\n",
        "xgb_parameters={\n",
        "    # 여러 모델을 어떻게 할지\n",
        "    \"n_estimators\" : [50, 100],\n",
        "    \"learning_rate\" : [0.1, 0.3, 0.5],\n",
        "\n",
        "    # 그리고 기본적인 모델 세팅\n",
        "    \"max_depth\" : [2, 5, 7],\n",
        "    \"colsample_bytree\" : [0.3, 0.6],\n",
        "    # 규약 reg_alpha, reg_lambda\n",
        "}\n",
        "n_iter_xg = 10\n",
        "xgb_rgs_model = RandomizedSearchCV(\n",
        "    xgb_model,\n",
        "    param_distributions=xgb_parameters,\n",
        "    n_iter = n_iter_xg,\n",
        "    cv= kfold,\n",
        "    scoring= \"neg_root_mean_squared_error\",\n",
        "    random_state=1234,\n",
        "    n_jobs=-1,\n",
        "    verbose=3\n",
        ")\n",
        "xgb_rgs_model.fit(X_train, y_df)"
      ]
    },
    {
      "cell_type": "code",
      "execution_count": null,
      "metadata": {
        "colab": {
          "base_uri": "https://localhost:8080/"
        },
        "id": "zRs9CDsE3mf3",
        "outputId": "edb34970-00a4-4df0-dba1-266c3458d84a"
      },
      "outputs": [
        {
          "data": {
            "text/plain": [
              "-0.12719165298258694"
            ]
          },
          "execution_count": 148,
          "metadata": {},
          "output_type": "execute_result"
        }
      ],
      "source": [
        "xgb_rgs_model.best_score_"
      ]
    },
    {
      "cell_type": "code",
      "execution_count": null,
      "metadata": {
        "colab": {
          "base_uri": "https://localhost:8080/"
        },
        "id": "WjbNXEhm3mia",
        "outputId": "34e12ab2-6fb4-4455-c66e-69e78d407ce8"
      },
      "outputs": [
        {
          "data": {
            "text/plain": [
              "array([123015.375, 155540.97 , 190751.2  , ..., 163927.08 , 115835.39 ,\n",
              "       214175.8  ], dtype=float32)"
            ]
          },
          "execution_count": 149,
          "metadata": {},
          "output_type": "execute_result"
        }
      ],
      "source": [
        "# xgb best 모델을 선정을 해서..\n",
        "xgb_rgs_best = xgb_rgs_model.best_estimator_\n",
        "xgb_rgs_ypred = xgb_rgs_best.predict(X_test) # <--- log 스케일이 적용된 값...\n",
        "# 원래 값의 영역으로 재변환!!!!!\n",
        "y_pred_5 = np.expm1(xgb_rgs_ypred)\n",
        "y_pred_5"
      ]
    },
    {
      "cell_type": "code",
      "execution_count": null,
      "metadata": {
        "id": "RCOYa8JD3g1Z"
      },
      "outputs": [],
      "source": [
        "### To DO : XGboost로 최적의 모델 찾기..."
      ]
    },
    {
      "cell_type": "code",
      "execution_count": null,
      "metadata": {
        "id": "PoazvFnq3g4D"
      },
      "outputs": [],
      "source": []
    },
    {
      "cell_type": "code",
      "execution_count": null,
      "metadata": {
        "id": "PFE-rFnT3g6c"
      },
      "outputs": [],
      "source": [
        "### To Do : LightGBM 에 대해서도 해보기~~~~"
      ]
    },
    {
      "cell_type": "code",
      "execution_count": null,
      "metadata": {
        "id": "hqIgZoAi3g9F"
      },
      "outputs": [],
      "source": []
    },
    {
      "cell_type": "code",
      "execution_count": null,
      "metadata": {
        "id": "_-hLJdPIsssz"
      },
      "outputs": [],
      "source": [
        "### single Model ###\\\n",
        "y_pred_5"
      ]
    },
    {
      "cell_type": "code",
      "execution_count": null,
      "metadata": {
        "colab": {
          "base_uri": "https://localhost:8080/"
        },
        "id": "84kUsYOX4-5W",
        "outputId": "f6d540ef-4e74-491d-983f-f97a7227bd09"
      },
      "outputs": [
        {
          "data": {
            "text/plain": [
              "array([120402.16234591, 154608.18559398, 183244.407462  , ...,\n",
              "       160588.44158425, 112831.56215949, 207042.85815711])"
            ]
          },
          "execution_count": 151,
          "metadata": {},
          "output_type": "execute_result"
        }
      ],
      "source": [
        "### Voting Model ###\n",
        "y_pred_sv = (y_pred_4*2+ y_pred_5*3) / 5\n",
        "y_pred_sv"
      ]
    },
    {
      "cell_type": "code",
      "execution_count": null,
      "metadata": {
        "id": "Vr7KBXAu4-8D"
      },
      "outputs": [],
      "source": []
    },
    {
      "cell_type": "code",
      "execution_count": 117,
      "metadata": {
        "colab": {
          "base_uri": "https://localhost:8080/",
          "height": 237
        },
        "id": "BtwDfvyf4--x",
        "outputId": "b92be80c-2341-4ef9-c727-55e1e2f45706"
      },
      "outputs": [
        {
          "data": {
            "text/html": [
              "<div>\n",
              "<style scoped>\n",
              "    .dataframe tbody tr th:only-of-type {\n",
              "        vertical-align: middle;\n",
              "    }\n",
              "\n",
              "    .dataframe tbody tr th {\n",
              "        vertical-align: top;\n",
              "    }\n",
              "\n",
              "    .dataframe thead th {\n",
              "        text-align: right;\n",
              "    }\n",
              "</style>\n",
              "<table border=\"1\" class=\"dataframe\">\n",
              "  <thead>\n",
              "    <tr style=\"text-align: right;\">\n",
              "      <th></th>\n",
              "      <th>Id</th>\n",
              "      <th>MSSubClass</th>\n",
              "      <th>MSZoning</th>\n",
              "      <th>LotFrontage</th>\n",
              "      <th>LotArea</th>\n",
              "      <th>Street</th>\n",
              "      <th>Alley</th>\n",
              "      <th>LotShape</th>\n",
              "      <th>LandContour</th>\n",
              "      <th>Utilities</th>\n",
              "      <th>...</th>\n",
              "      <th>ScreenPorch</th>\n",
              "      <th>PoolArea</th>\n",
              "      <th>PoolQC</th>\n",
              "      <th>Fence</th>\n",
              "      <th>MiscFeature</th>\n",
              "      <th>MiscVal</th>\n",
              "      <th>MoSold</th>\n",
              "      <th>YrSold</th>\n",
              "      <th>SaleType</th>\n",
              "      <th>SaleCondition</th>\n",
              "    </tr>\n",
              "  </thead>\n",
              "  <tbody>\n",
              "    <tr>\n",
              "      <th>0</th>\n",
              "      <td>1461</td>\n",
              "      <td>20</td>\n",
              "      <td>RH</td>\n",
              "      <td>80.0</td>\n",
              "      <td>11622</td>\n",
              "      <td>Pave</td>\n",
              "      <td>NaN</td>\n",
              "      <td>Reg</td>\n",
              "      <td>Lvl</td>\n",
              "      <td>AllPub</td>\n",
              "      <td>...</td>\n",
              "      <td>120</td>\n",
              "      <td>0</td>\n",
              "      <td>NaN</td>\n",
              "      <td>MnPrv</td>\n",
              "      <td>NaN</td>\n",
              "      <td>0</td>\n",
              "      <td>6</td>\n",
              "      <td>2010</td>\n",
              "      <td>WD</td>\n",
              "      <td>Normal</td>\n",
              "    </tr>\n",
              "    <tr>\n",
              "      <th>1</th>\n",
              "      <td>1462</td>\n",
              "      <td>20</td>\n",
              "      <td>RL</td>\n",
              "      <td>81.0</td>\n",
              "      <td>14267</td>\n",
              "      <td>Pave</td>\n",
              "      <td>NaN</td>\n",
              "      <td>IR1</td>\n",
              "      <td>Lvl</td>\n",
              "      <td>AllPub</td>\n",
              "      <td>...</td>\n",
              "      <td>0</td>\n",
              "      <td>0</td>\n",
              "      <td>NaN</td>\n",
              "      <td>NaN</td>\n",
              "      <td>Gar2</td>\n",
              "      <td>12500</td>\n",
              "      <td>6</td>\n",
              "      <td>2010</td>\n",
              "      <td>WD</td>\n",
              "      <td>Normal</td>\n",
              "    </tr>\n",
              "    <tr>\n",
              "      <th>2</th>\n",
              "      <td>1463</td>\n",
              "      <td>60</td>\n",
              "      <td>RL</td>\n",
              "      <td>74.0</td>\n",
              "      <td>13830</td>\n",
              "      <td>Pave</td>\n",
              "      <td>NaN</td>\n",
              "      <td>IR1</td>\n",
              "      <td>Lvl</td>\n",
              "      <td>AllPub</td>\n",
              "      <td>...</td>\n",
              "      <td>0</td>\n",
              "      <td>0</td>\n",
              "      <td>NaN</td>\n",
              "      <td>MnPrv</td>\n",
              "      <td>NaN</td>\n",
              "      <td>0</td>\n",
              "      <td>3</td>\n",
              "      <td>2010</td>\n",
              "      <td>WD</td>\n",
              "      <td>Normal</td>\n",
              "    </tr>\n",
              "  </tbody>\n",
              "</table>\n",
              "<p>3 rows × 80 columns</p>\n",
              "</div>"
            ],
            "text/plain": [
              "     Id  MSSubClass MSZoning  LotFrontage  LotArea Street Alley LotShape  \\\n",
              "0  1461          20       RH         80.0    11622   Pave   NaN      Reg   \n",
              "1  1462          20       RL         81.0    14267   Pave   NaN      IR1   \n",
              "2  1463          60       RL         74.0    13830   Pave   NaN      IR1   \n",
              "\n",
              "  LandContour Utilities  ... ScreenPorch PoolArea PoolQC  Fence MiscFeature  \\\n",
              "0         Lvl    AllPub  ...         120        0    NaN  MnPrv         NaN   \n",
              "1         Lvl    AllPub  ...           0        0    NaN    NaN        Gar2   \n",
              "2         Lvl    AllPub  ...           0        0    NaN  MnPrv         NaN   \n",
              "\n",
              "  MiscVal MoSold  YrSold  SaleType  SaleCondition  \n",
              "0       0      6    2010        WD         Normal  \n",
              "1   12500      6    2010        WD         Normal  \n",
              "2       0      3    2010        WD         Normal  \n",
              "\n",
              "[3 rows x 80 columns]"
            ]
          },
          "execution_count": 117,
          "metadata": {},
          "output_type": "execute_result"
        }
      ],
      "source": [
        "####  kaggle에 업로드를 위한 양식 만들기 ####\n",
        "temp = pd.read_csv(test_path)\n",
        "temp.head(3)"
      ]
    },
    {
      "cell_type": "code",
      "execution_count": 118,
      "metadata": {
        "id": "aCUYwlAf4_BB"
      },
      "outputs": [],
      "source": [
        "# 최종 제출 파일 양식 : 컬럼이 2개 \n",
        "# 1개 컬럼 : 이름이 정해져 X_test파일의 Id\n",
        "# 1개 컬럼 : 이름이 SlaePrice 정해져 있고, 내가 test에 대한 문제를 풀었을 때 정답...\n",
        "# y_pred~~~~\n",
        "my_submission = pd.DataFrame()\n",
        "my_submission[\"Id\"] = temp[\"Id\"]\n",
        "my_submission[\"SalePrice\"] = y_pred_sv\n",
        "my_submission.to_csv(\"hp_sv_model_ver_1.csv\", index=False)"
      ]
    },
    {
      "cell_type": "code",
      "execution_count": null,
      "metadata": {
        "id": "IMUD0yjn8txT"
      },
      "outputs": [],
      "source": []
    },
    {
      "cell_type": "code",
      "execution_count": 119,
      "metadata": {
        "id": "72ZdgAiF8t2f"
      },
      "outputs": [],
      "source": [
        "#### 남은 방법 중 하나 Stacking을 해보자 ####"
      ]
    },
    {
      "cell_type": "code",
      "execution_count": 120,
      "metadata": {
        "id": "B3rmOG548t45"
      },
      "outputs": [],
      "source": [
        "from mlxtend.regressor import StackingRegressor"
      ]
    },
    {
      "cell_type": "code",
      "execution_count": 121,
      "metadata": {
        "id": "vV330Tn_8t7W"
      },
      "outputs": [
        {
          "name": "stdout",
          "output_type": "stream",
          "text": [
            "Fitting 6 folds for each of 9 candidates, totalling 54 fits\n"
          ]
        },
        {
          "name": "stderr",
          "output_type": "stream",
          "text": [
            "/opt/homebrew/Caskroom/miniforge/base/envs/crawling/lib/python3.10/site-packages/sklearn/base.py:443: UserWarning: X has feature names, but ElasticNet was fitted without feature names\n",
            "  warnings.warn(\n",
            "/opt/homebrew/Caskroom/miniforge/base/envs/crawling/lib/python3.10/site-packages/sklearn/base.py:443: UserWarning: X has feature names, but ElasticNet was fitted without feature names\n",
            "  warnings.warn(\n",
            "/opt/homebrew/Caskroom/miniforge/base/envs/crawling/lib/python3.10/site-packages/sklearn/base.py:443: UserWarning: X has feature names, but Lasso was fitted without feature names\n",
            "  warnings.warn(\n",
            "/opt/homebrew/Caskroom/miniforge/base/envs/crawling/lib/python3.10/site-packages/sklearn/base.py:443: UserWarning: X has feature names, but Lasso was fitted without feature names\n",
            "  warnings.warn(\n",
            "/opt/homebrew/Caskroom/miniforge/base/envs/crawling/lib/python3.10/site-packages/sklearn/base.py:443: UserWarning: X has feature names, but KernelRidge was fitted without feature names\n",
            "  warnings.warn(\n",
            "/opt/homebrew/Caskroom/miniforge/base/envs/crawling/lib/python3.10/site-packages/sklearn/base.py:443: UserWarning: X has feature names, but KernelRidge was fitted without feature names\n",
            "  warnings.warn(\n",
            "/opt/homebrew/Caskroom/miniforge/base/envs/crawling/lib/python3.10/site-packages/sklearn/base.py:443: UserWarning: X has feature names, but ElasticNet was fitted without feature names\n",
            "  warnings.warn(\n",
            "/opt/homebrew/Caskroom/miniforge/base/envs/crawling/lib/python3.10/site-packages/sklearn/base.py:443: UserWarning: X has feature names, but Lasso was fitted without feature names\n",
            "  warnings.warn(\n",
            "/opt/homebrew/Caskroom/miniforge/base/envs/crawling/lib/python3.10/site-packages/sklearn/base.py:443: UserWarning: X has feature names, but KernelRidge was fitted without feature names\n",
            "  warnings.warn(\n",
            "/opt/homebrew/Caskroom/miniforge/base/envs/crawling/lib/python3.10/site-packages/sklearn/base.py:443: UserWarning: X has feature names, but ElasticNet was fitted without feature names\n",
            "  warnings.warn(\n",
            "/opt/homebrew/Caskroom/miniforge/base/envs/crawling/lib/python3.10/site-packages/sklearn/base.py:443: UserWarning: X has feature names, but Lasso was fitted without feature names\n",
            "  warnings.warn(\n",
            "/opt/homebrew/Caskroom/miniforge/base/envs/crawling/lib/python3.10/site-packages/sklearn/base.py:443: UserWarning: X has feature names, but KernelRidge was fitted without feature names\n",
            "  warnings.warn(\n",
            "/opt/homebrew/Caskroom/miniforge/base/envs/crawling/lib/python3.10/site-packages/sklearn/base.py:443: UserWarning: X has feature names, but ElasticNet was fitted without feature names\n",
            "  warnings.warn(\n",
            "/opt/homebrew/Caskroom/miniforge/base/envs/crawling/lib/python3.10/site-packages/sklearn/base.py:443: UserWarning: X has feature names, but Lasso was fitted without feature names\n",
            "  warnings.warn(\n",
            "/opt/homebrew/Caskroom/miniforge/base/envs/crawling/lib/python3.10/site-packages/sklearn/base.py:443: UserWarning: X has feature names, but KernelRidge was fitted without feature names\n",
            "  warnings.warn(\n"
          ]
        },
        {
          "name": "stdout",
          "output_type": "stream",
          "text": [
            "[CV 3/6] END meta_regressor__learning_rate=0.1, meta_regressor__n_estimators=100;, score=-0.017 total time=   1.1s\n",
            "[CV 4/6] END meta_regressor__learning_rate=0.1, meta_regressor__n_estimators=100;, score=-0.018 total time=   1.1s\n",
            "[CV 6/6] END meta_regressor__learning_rate=0.1, meta_regressor__n_estimators=100;, score=-0.014 total time=   1.1s\n",
            "[CV 1/6] END meta_regressor__learning_rate=0.1, meta_regressor__n_estimators=100;, score=-0.012 total time=   1.2s\n",
            "[CV 5/6] END meta_regressor__learning_rate=0.1, meta_regressor__n_estimators=100;, score=-0.017 total time=   1.2s\n"
          ]
        },
        {
          "name": "stderr",
          "output_type": "stream",
          "text": [
            "/opt/homebrew/Caskroom/miniforge/base/envs/crawling/lib/python3.10/site-packages/sklearn/base.py:443: UserWarning: X has feature names, but ElasticNet was fitted without feature names\n",
            "  warnings.warn(\n",
            "/opt/homebrew/Caskroom/miniforge/base/envs/crawling/lib/python3.10/site-packages/sklearn/base.py:443: UserWarning: X has feature names, but Lasso was fitted without feature names\n",
            "  warnings.warn(\n",
            "/opt/homebrew/Caskroom/miniforge/base/envs/crawling/lib/python3.10/site-packages/sklearn/base.py:443: UserWarning: X has feature names, but KernelRidge was fitted without feature names\n",
            "  warnings.warn(\n"
          ]
        },
        {
          "name": "stdout",
          "output_type": "stream",
          "text": [
            "[CV 2/6] END meta_regressor__learning_rate=0.1, meta_regressor__n_estimators=100;, score=-0.018 total time=   1.5s\n"
          ]
        },
        {
          "name": "stderr",
          "output_type": "stream",
          "text": [
            "/opt/homebrew/Caskroom/miniforge/base/envs/crawling/lib/python3.10/site-packages/sklearn/base.py:443: UserWarning: X has feature names, but ElasticNet was fitted without feature names\n",
            "  warnings.warn(\n",
            "/opt/homebrew/Caskroom/miniforge/base/envs/crawling/lib/python3.10/site-packages/sklearn/base.py:443: UserWarning: X has feature names, but Lasso was fitted without feature names\n",
            "  warnings.warn(\n",
            "/opt/homebrew/Caskroom/miniforge/base/envs/crawling/lib/python3.10/site-packages/sklearn/base.py:443: UserWarning: X has feature names, but KernelRidge was fitted without feature names\n",
            "  warnings.warn(\n",
            "/opt/homebrew/Caskroom/miniforge/base/envs/crawling/lib/python3.10/site-packages/sklearn/base.py:443: UserWarning: X has feature names, but ElasticNet was fitted without feature names\n",
            "  warnings.warn(\n",
            "/opt/homebrew/Caskroom/miniforge/base/envs/crawling/lib/python3.10/site-packages/sklearn/base.py:443: UserWarning: X has feature names, but Lasso was fitted without feature names\n",
            "  warnings.warn(\n",
            "/opt/homebrew/Caskroom/miniforge/base/envs/crawling/lib/python3.10/site-packages/sklearn/base.py:443: UserWarning: X has feature names, but KernelRidge was fitted without feature names\n",
            "  warnings.warn(\n",
            "/opt/homebrew/Caskroom/miniforge/base/envs/crawling/lib/python3.10/site-packages/sklearn/base.py:443: UserWarning: X has feature names, but ElasticNet was fitted without feature names\n",
            "  warnings.warn(\n",
            "/opt/homebrew/Caskroom/miniforge/base/envs/crawling/lib/python3.10/site-packages/sklearn/base.py:443: UserWarning: X has feature names, but Lasso was fitted without feature names\n",
            "  warnings.warn(\n",
            "/opt/homebrew/Caskroom/miniforge/base/envs/crawling/lib/python3.10/site-packages/sklearn/base.py:443: UserWarning: X has feature names, but KernelRidge was fitted without feature names\n",
            "  warnings.warn(\n",
            "/opt/homebrew/Caskroom/miniforge/base/envs/crawling/lib/python3.10/site-packages/sklearn/base.py:443: UserWarning: X has feature names, but ElasticNet was fitted without feature names\n",
            "  warnings.warn(\n",
            "/opt/homebrew/Caskroom/miniforge/base/envs/crawling/lib/python3.10/site-packages/sklearn/base.py:443: UserWarning: X has feature names, but Lasso was fitted without feature names\n",
            "  warnings.warn(\n",
            "/opt/homebrew/Caskroom/miniforge/base/envs/crawling/lib/python3.10/site-packages/sklearn/base.py:443: UserWarning: X has feature names, but KernelRidge was fitted without feature names\n",
            "  warnings.warn(\n"
          ]
        },
        {
          "name": "stdout",
          "output_type": "stream",
          "text": [
            "[CV 2/6] END meta_regressor__learning_rate=0.1, meta_regressor__n_estimators=300;, score=-0.017 total time=   3.4s\n",
            "[CV 3/6] END meta_regressor__learning_rate=0.1, meta_regressor__n_estimators=300;, score=-0.017 total time=   3.5s\n",
            "[CV 4/6] END meta_regressor__learning_rate=0.1, meta_regressor__n_estimators=300;, score=-0.018 total time=   3.6s\n",
            "[CV 1/6] END meta_regressor__learning_rate=0.1, meta_regressor__n_estimators=300;, score=-0.012 total time=   3.6s\n"
          ]
        },
        {
          "name": "stderr",
          "output_type": "stream",
          "text": [
            "/opt/homebrew/Caskroom/miniforge/base/envs/crawling/lib/python3.10/site-packages/sklearn/base.py:443: UserWarning: X has feature names, but ElasticNet was fitted without feature names\n",
            "  warnings.warn(\n",
            "/opt/homebrew/Caskroom/miniforge/base/envs/crawling/lib/python3.10/site-packages/sklearn/base.py:443: UserWarning: X has feature names, but Lasso was fitted without feature names\n",
            "  warnings.warn(\n",
            "/opt/homebrew/Caskroom/miniforge/base/envs/crawling/lib/python3.10/site-packages/sklearn/base.py:443: UserWarning: X has feature names, but KernelRidge was fitted without feature names\n",
            "  warnings.warn(\n",
            "/opt/homebrew/Caskroom/miniforge/base/envs/crawling/lib/python3.10/site-packages/sklearn/base.py:443: UserWarning: X has feature names, but ElasticNet was fitted without feature names\n",
            "  warnings.warn(\n",
            "/opt/homebrew/Caskroom/miniforge/base/envs/crawling/lib/python3.10/site-packages/sklearn/base.py:443: UserWarning: X has feature names, but Lasso was fitted without feature names\n",
            "  warnings.warn(\n",
            "/opt/homebrew/Caskroom/miniforge/base/envs/crawling/lib/python3.10/site-packages/sklearn/base.py:443: UserWarning: X has feature names, but KernelRidge was fitted without feature names\n",
            "  warnings.warn(\n"
          ]
        },
        {
          "name": "stdout",
          "output_type": "stream",
          "text": [
            "[CV 6/6] END meta_regressor__learning_rate=0.1, meta_regressor__n_estimators=300;, score=-0.013 total time=   3.5s\n",
            "[CV 5/6] END meta_regressor__learning_rate=0.1, meta_regressor__n_estimators=300;, score=-0.017 total time=   3.5s\n"
          ]
        },
        {
          "name": "stderr",
          "output_type": "stream",
          "text": [
            "/opt/homebrew/Caskroom/miniforge/base/envs/crawling/lib/python3.10/site-packages/sklearn/base.py:443: UserWarning: X has feature names, but ElasticNet was fitted without feature names\n",
            "  warnings.warn(\n",
            "/opt/homebrew/Caskroom/miniforge/base/envs/crawling/lib/python3.10/site-packages/sklearn/base.py:443: UserWarning: X has feature names, but Lasso was fitted without feature names\n",
            "  warnings.warn(\n",
            "/opt/homebrew/Caskroom/miniforge/base/envs/crawling/lib/python3.10/site-packages/sklearn/base.py:443: UserWarning: X has feature names, but KernelRidge was fitted without feature names\n",
            "  warnings.warn(\n",
            "/opt/homebrew/Caskroom/miniforge/base/envs/crawling/lib/python3.10/site-packages/sklearn/base.py:443: UserWarning: X has feature names, but ElasticNet was fitted without feature names\n",
            "  warnings.warn(\n",
            "/opt/homebrew/Caskroom/miniforge/base/envs/crawling/lib/python3.10/site-packages/sklearn/base.py:443: UserWarning: X has feature names, but Lasso was fitted without feature names\n",
            "  warnings.warn(\n",
            "/opt/homebrew/Caskroom/miniforge/base/envs/crawling/lib/python3.10/site-packages/sklearn/base.py:443: UserWarning: X has feature names, but KernelRidge was fitted without feature names\n",
            "  warnings.warn(\n"
          ]
        },
        {
          "name": "stdout",
          "output_type": "stream",
          "text": [
            "[CV 1/6] END meta_regressor__learning_rate=0.3, meta_regressor__n_estimators=100;, score=-0.014 total time=   1.2s\n",
            "[CV 2/6] END meta_regressor__learning_rate=0.3, meta_regressor__n_estimators=100;, score=-0.018 total time=   1.2s\n"
          ]
        },
        {
          "name": "stderr",
          "output_type": "stream",
          "text": [
            "/opt/homebrew/Caskroom/miniforge/base/envs/crawling/lib/python3.10/site-packages/sklearn/base.py:443: UserWarning: X has feature names, but ElasticNet was fitted without feature names\n",
            "  warnings.warn(\n",
            "/opt/homebrew/Caskroom/miniforge/base/envs/crawling/lib/python3.10/site-packages/sklearn/base.py:443: UserWarning: X has feature names, but Lasso was fitted without feature names\n",
            "  warnings.warn(\n",
            "/opt/homebrew/Caskroom/miniforge/base/envs/crawling/lib/python3.10/site-packages/sklearn/base.py:443: UserWarning: X has feature names, but KernelRidge was fitted without feature names\n",
            "  warnings.warn(\n",
            "/opt/homebrew/Caskroom/miniforge/base/envs/crawling/lib/python3.10/site-packages/sklearn/base.py:443: UserWarning: X has feature names, but ElasticNet was fitted without feature names\n",
            "  warnings.warn(\n",
            "/opt/homebrew/Caskroom/miniforge/base/envs/crawling/lib/python3.10/site-packages/sklearn/base.py:443: UserWarning: X has feature names, but Lasso was fitted without feature names\n",
            "  warnings.warn(\n",
            "/opt/homebrew/Caskroom/miniforge/base/envs/crawling/lib/python3.10/site-packages/sklearn/base.py:443: UserWarning: X has feature names, but KernelRidge was fitted without feature names\n",
            "  warnings.warn(\n",
            "/opt/homebrew/Caskroom/miniforge/base/envs/crawling/lib/python3.10/site-packages/sklearn/base.py:443: UserWarning: X has feature names, but ElasticNet was fitted without feature names\n",
            "  warnings.warn(\n",
            "/opt/homebrew/Caskroom/miniforge/base/envs/crawling/lib/python3.10/site-packages/sklearn/base.py:443: UserWarning: X has feature names, but Lasso was fitted without feature names\n",
            "  warnings.warn(\n",
            "/opt/homebrew/Caskroom/miniforge/base/envs/crawling/lib/python3.10/site-packages/sklearn/base.py:443: UserWarning: X has feature names, but KernelRidge was fitted without feature names\n",
            "  warnings.warn(\n"
          ]
        },
        {
          "name": "stdout",
          "output_type": "stream",
          "text": [
            "[CV 3/6] END meta_regressor__learning_rate=0.3, meta_regressor__n_estimators=100;, score=-0.020 total time=   1.2s\n",
            "[CV 4/6] END meta_regressor__learning_rate=0.3, meta_regressor__n_estimators=100;, score=-0.021 total time=   1.3s\n",
            "[CV 5/6] END meta_regressor__learning_rate=0.3, meta_regressor__n_estimators=100;, score=-0.023 total time=   1.2s\n"
          ]
        },
        {
          "name": "stderr",
          "output_type": "stream",
          "text": [
            "/opt/homebrew/Caskroom/miniforge/base/envs/crawling/lib/python3.10/site-packages/sklearn/base.py:443: UserWarning: X has feature names, but ElasticNet was fitted without feature names\n",
            "  warnings.warn(\n",
            "/opt/homebrew/Caskroom/miniforge/base/envs/crawling/lib/python3.10/site-packages/sklearn/base.py:443: UserWarning: X has feature names, but Lasso was fitted without feature names\n",
            "  warnings.warn(\n",
            "/opt/homebrew/Caskroom/miniforge/base/envs/crawling/lib/python3.10/site-packages/sklearn/base.py:443: UserWarning: X has feature names, but KernelRidge was fitted without feature names\n",
            "  warnings.warn(\n"
          ]
        },
        {
          "name": "stdout",
          "output_type": "stream",
          "text": [
            "[CV 6/6] END meta_regressor__learning_rate=0.3, meta_regressor__n_estimators=100;, score=-0.015 total time=   1.2s\n"
          ]
        },
        {
          "name": "stderr",
          "output_type": "stream",
          "text": [
            "/opt/homebrew/Caskroom/miniforge/base/envs/crawling/lib/python3.10/site-packages/sklearn/base.py:443: UserWarning: X has feature names, but ElasticNet was fitted without feature names\n",
            "  warnings.warn(\n",
            "/opt/homebrew/Caskroom/miniforge/base/envs/crawling/lib/python3.10/site-packages/sklearn/base.py:443: UserWarning: X has feature names, but Lasso was fitted without feature names\n",
            "  warnings.warn(\n",
            "/opt/homebrew/Caskroom/miniforge/base/envs/crawling/lib/python3.10/site-packages/sklearn/base.py:443: UserWarning: X has feature names, but KernelRidge was fitted without feature names\n",
            "  warnings.warn(\n",
            "/opt/homebrew/Caskroom/miniforge/base/envs/crawling/lib/python3.10/site-packages/sklearn/base.py:443: UserWarning: X has feature names, but ElasticNet was fitted without feature names\n",
            "  warnings.warn(\n",
            "/opt/homebrew/Caskroom/miniforge/base/envs/crawling/lib/python3.10/site-packages/sklearn/base.py:443: UserWarning: X has feature names, but Lasso was fitted without feature names\n",
            "  warnings.warn(\n",
            "/opt/homebrew/Caskroom/miniforge/base/envs/crawling/lib/python3.10/site-packages/sklearn/base.py:443: UserWarning: X has feature names, but KernelRidge was fitted without feature names\n",
            "  warnings.warn(\n",
            "/opt/homebrew/Caskroom/miniforge/base/envs/crawling/lib/python3.10/site-packages/sklearn/base.py:443: UserWarning: X has feature names, but ElasticNet was fitted without feature names\n",
            "  warnings.warn(\n",
            "/opt/homebrew/Caskroom/miniforge/base/envs/crawling/lib/python3.10/site-packages/sklearn/base.py:443: UserWarning: X has feature names, but Lasso was fitted without feature names\n",
            "  warnings.warn(\n",
            "/opt/homebrew/Caskroom/miniforge/base/envs/crawling/lib/python3.10/site-packages/sklearn/base.py:443: UserWarning: X has feature names, but KernelRidge was fitted without feature names\n",
            "  warnings.warn(\n"
          ]
        },
        {
          "name": "stdout",
          "output_type": "stream",
          "text": [
            "[CV 1/6] END meta_regressor__learning_rate=0.1, meta_regressor__n_estimators=500;, score=-0.012 total time=   5.8s\n",
            "[CV 2/6] END meta_regressor__learning_rate=0.1, meta_regressor__n_estimators=500;, score=-0.017 total time=   5.8s\n",
            "[CV 3/6] END meta_regressor__learning_rate=0.1, meta_regressor__n_estimators=500;, score=-0.017 total time=   5.9s\n"
          ]
        },
        {
          "name": "stderr",
          "output_type": "stream",
          "text": [
            "/opt/homebrew/Caskroom/miniforge/base/envs/crawling/lib/python3.10/site-packages/sklearn/base.py:443: UserWarning: X has feature names, but ElasticNet was fitted without feature names\n",
            "  warnings.warn(\n",
            "/opt/homebrew/Caskroom/miniforge/base/envs/crawling/lib/python3.10/site-packages/sklearn/base.py:443: UserWarning: X has feature names, but Lasso was fitted without feature names\n",
            "  warnings.warn(\n",
            "/opt/homebrew/Caskroom/miniforge/base/envs/crawling/lib/python3.10/site-packages/sklearn/base.py:443: UserWarning: X has feature names, but KernelRidge was fitted without feature names\n",
            "  warnings.warn(\n",
            "/opt/homebrew/Caskroom/miniforge/base/envs/crawling/lib/python3.10/site-packages/sklearn/base.py:443: UserWarning: X has feature names, but ElasticNet was fitted without feature names\n",
            "  warnings.warn(\n",
            "/opt/homebrew/Caskroom/miniforge/base/envs/crawling/lib/python3.10/site-packages/sklearn/base.py:443: UserWarning: X has feature names, but Lasso was fitted without feature names\n",
            "  warnings.warn(\n",
            "/opt/homebrew/Caskroom/miniforge/base/envs/crawling/lib/python3.10/site-packages/sklearn/base.py:443: UserWarning: X has feature names, but KernelRidge was fitted without feature names\n",
            "  warnings.warn(\n"
          ]
        },
        {
          "name": "stdout",
          "output_type": "stream",
          "text": [
            "[CV 1/6] END meta_regressor__learning_rate=0.3, meta_regressor__n_estimators=300;, score=-0.014 total time=   2.5s\n",
            "[CV 2/6] END meta_regressor__learning_rate=0.3, meta_regressor__n_estimators=300;, score=-0.018 total time=   2.5s\n"
          ]
        },
        {
          "name": "stderr",
          "output_type": "stream",
          "text": [
            "/opt/homebrew/Caskroom/miniforge/base/envs/crawling/lib/python3.10/site-packages/sklearn/base.py:443: UserWarning: X has feature names, but ElasticNet was fitted without feature names\n",
            "  warnings.warn(\n",
            "/opt/homebrew/Caskroom/miniforge/base/envs/crawling/lib/python3.10/site-packages/sklearn/base.py:443: UserWarning: X has feature names, but Lasso was fitted without feature names\n",
            "  warnings.warn(\n",
            "/opt/homebrew/Caskroom/miniforge/base/envs/crawling/lib/python3.10/site-packages/sklearn/base.py:443: UserWarning: X has feature names, but KernelRidge was fitted without feature names\n",
            "  warnings.warn(\n",
            "/opt/homebrew/Caskroom/miniforge/base/envs/crawling/lib/python3.10/site-packages/sklearn/base.py:443: UserWarning: X has feature names, but ElasticNet was fitted without feature names\n",
            "  warnings.warn(\n",
            "/opt/homebrew/Caskroom/miniforge/base/envs/crawling/lib/python3.10/site-packages/sklearn/base.py:443: UserWarning: X has feature names, but Lasso was fitted without feature names\n",
            "  warnings.warn(\n",
            "/opt/homebrew/Caskroom/miniforge/base/envs/crawling/lib/python3.10/site-packages/sklearn/base.py:443: UserWarning: X has feature names, but KernelRidge was fitted without feature names\n",
            "  warnings.warn(\n"
          ]
        },
        {
          "name": "stdout",
          "output_type": "stream",
          "text": [
            "[CV 3/6] END meta_regressor__learning_rate=0.3, meta_regressor__n_estimators=300;, score=-0.020 total time=   2.6s\n",
            "[CV 4/6] END meta_regressor__learning_rate=0.3, meta_regressor__n_estimators=300;, score=-0.021 total time=   2.6s\n"
          ]
        },
        {
          "name": "stderr",
          "output_type": "stream",
          "text": [
            "/opt/homebrew/Caskroom/miniforge/base/envs/crawling/lib/python3.10/site-packages/sklearn/base.py:443: UserWarning: X has feature names, but ElasticNet was fitted without feature names\n",
            "  warnings.warn(\n",
            "/opt/homebrew/Caskroom/miniforge/base/envs/crawling/lib/python3.10/site-packages/sklearn/base.py:443: UserWarning: X has feature names, but Lasso was fitted without feature names\n",
            "  warnings.warn(\n",
            "/opt/homebrew/Caskroom/miniforge/base/envs/crawling/lib/python3.10/site-packages/sklearn/base.py:443: UserWarning: X has feature names, but KernelRidge was fitted without feature names\n",
            "  warnings.warn(\n",
            "/opt/homebrew/Caskroom/miniforge/base/envs/crawling/lib/python3.10/site-packages/sklearn/base.py:443: UserWarning: X has feature names, but ElasticNet was fitted without feature names\n",
            "  warnings.warn(\n",
            "/opt/homebrew/Caskroom/miniforge/base/envs/crawling/lib/python3.10/site-packages/sklearn/base.py:443: UserWarning: X has feature names, but Lasso was fitted without feature names\n",
            "  warnings.warn(\n",
            "/opt/homebrew/Caskroom/miniforge/base/envs/crawling/lib/python3.10/site-packages/sklearn/base.py:443: UserWarning: X has feature names, but KernelRidge was fitted without feature names\n",
            "  warnings.warn(\n"
          ]
        },
        {
          "name": "stdout",
          "output_type": "stream",
          "text": [
            "[CV 4/6] END meta_regressor__learning_rate=0.1, meta_regressor__n_estimators=500;, score=-0.018 total time=   7.7s\n",
            "[CV 6/6] END meta_regressor__learning_rate=0.1, meta_regressor__n_estimators=500;, score=-0.013 total time=   5.7s\n"
          ]
        },
        {
          "name": "stderr",
          "output_type": "stream",
          "text": [
            "/opt/homebrew/Caskroom/miniforge/base/envs/crawling/lib/python3.10/site-packages/sklearn/base.py:443: UserWarning: X has feature names, but ElasticNet was fitted without feature names\n",
            "  warnings.warn(\n",
            "/opt/homebrew/Caskroom/miniforge/base/envs/crawling/lib/python3.10/site-packages/sklearn/base.py:443: UserWarning: X has feature names, but Lasso was fitted without feature names\n",
            "  warnings.warn(\n",
            "/opt/homebrew/Caskroom/miniforge/base/envs/crawling/lib/python3.10/site-packages/sklearn/base.py:443: UserWarning: X has feature names, but KernelRidge was fitted without feature names\n",
            "  warnings.warn(\n",
            "/opt/homebrew/Caskroom/miniforge/base/envs/crawling/lib/python3.10/site-packages/sklearn/base.py:443: UserWarning: X has feature names, but ElasticNet was fitted without feature names\n",
            "  warnings.warn(\n",
            "/opt/homebrew/Caskroom/miniforge/base/envs/crawling/lib/python3.10/site-packages/sklearn/base.py:443: UserWarning: X has feature names, but Lasso was fitted without feature names\n",
            "  warnings.warn(\n",
            "/opt/homebrew/Caskroom/miniforge/base/envs/crawling/lib/python3.10/site-packages/sklearn/base.py:443: UserWarning: X has feature names, but KernelRidge was fitted without feature names\n",
            "  warnings.warn(\n"
          ]
        },
        {
          "name": "stdout",
          "output_type": "stream",
          "text": [
            "[CV 5/6] END meta_regressor__learning_rate=0.1, meta_regressor__n_estimators=500;, score=-0.017 total time=   6.0s\n",
            "[CV 6/6] END meta_regressor__learning_rate=0.3, meta_regressor__n_estimators=300;, score=-0.015 total time=   2.7s\n"
          ]
        },
        {
          "name": "stderr",
          "output_type": "stream",
          "text": [
            "/opt/homebrew/Caskroom/miniforge/base/envs/crawling/lib/python3.10/site-packages/sklearn/base.py:443: UserWarning: X has feature names, but ElasticNet was fitted without feature names\n",
            "  warnings.warn(\n",
            "/opt/homebrew/Caskroom/miniforge/base/envs/crawling/lib/python3.10/site-packages/sklearn/base.py:443: UserWarning: X has feature names, but Lasso was fitted without feature names\n",
            "  warnings.warn(\n",
            "/opt/homebrew/Caskroom/miniforge/base/envs/crawling/lib/python3.10/site-packages/sklearn/base.py:443: UserWarning: X has feature names, but KernelRidge was fitted without feature names\n",
            "  warnings.warn(\n"
          ]
        },
        {
          "name": "stdout",
          "output_type": "stream",
          "text": [
            "[CV 5/6] END meta_regressor__learning_rate=0.3, meta_regressor__n_estimators=300;, score=-0.023 total time=   2.7s\n"
          ]
        },
        {
          "name": "stderr",
          "output_type": "stream",
          "text": [
            "/opt/homebrew/Caskroom/miniforge/base/envs/crawling/lib/python3.10/site-packages/sklearn/base.py:443: UserWarning: X has feature names, but ElasticNet was fitted without feature names\n",
            "  warnings.warn(\n",
            "/opt/homebrew/Caskroom/miniforge/base/envs/crawling/lib/python3.10/site-packages/sklearn/base.py:443: UserWarning: X has feature names, but Lasso was fitted without feature names\n",
            "  warnings.warn(\n",
            "/opt/homebrew/Caskroom/miniforge/base/envs/crawling/lib/python3.10/site-packages/sklearn/base.py:443: UserWarning: X has feature names, but KernelRidge was fitted without feature names\n",
            "  warnings.warn(\n"
          ]
        },
        {
          "name": "stdout",
          "output_type": "stream",
          "text": [
            "[CV 1/6] END meta_regressor__learning_rate=0.3, meta_regressor__n_estimators=500;, score=-0.014 total time=   3.0s\n"
          ]
        },
        {
          "name": "stderr",
          "output_type": "stream",
          "text": [
            "/opt/homebrew/Caskroom/miniforge/base/envs/crawling/lib/python3.10/site-packages/sklearn/base.py:443: UserWarning: X has feature names, but ElasticNet was fitted without feature names\n",
            "  warnings.warn(\n",
            "/opt/homebrew/Caskroom/miniforge/base/envs/crawling/lib/python3.10/site-packages/sklearn/base.py:443: UserWarning: X has feature names, but Lasso was fitted without feature names\n",
            "  warnings.warn(\n",
            "/opt/homebrew/Caskroom/miniforge/base/envs/crawling/lib/python3.10/site-packages/sklearn/base.py:443: UserWarning: X has feature names, but KernelRidge was fitted without feature names\n",
            "  warnings.warn(\n",
            "/opt/homebrew/Caskroom/miniforge/base/envs/crawling/lib/python3.10/site-packages/sklearn/base.py:443: UserWarning: X has feature names, but ElasticNet was fitted without feature names\n",
            "  warnings.warn(\n",
            "/opt/homebrew/Caskroom/miniforge/base/envs/crawling/lib/python3.10/site-packages/sklearn/base.py:443: UserWarning: X has feature names, but Lasso was fitted without feature names\n",
            "  warnings.warn(\n",
            "/opt/homebrew/Caskroom/miniforge/base/envs/crawling/lib/python3.10/site-packages/sklearn/base.py:443: UserWarning: X has feature names, but KernelRidge was fitted without feature names\n",
            "  warnings.warn(\n"
          ]
        },
        {
          "name": "stdout",
          "output_type": "stream",
          "text": [
            "[CV 1/6] END meta_regressor__learning_rate=0.5, meta_regressor__n_estimators=100;, score=-0.018 total time=   1.2s\n",
            "[CV 2/6] END meta_regressor__learning_rate=0.5, meta_regressor__n_estimators=100;, score=-0.028 total time=   1.3s\n"
          ]
        },
        {
          "name": "stderr",
          "output_type": "stream",
          "text": [
            "/opt/homebrew/Caskroom/miniforge/base/envs/crawling/lib/python3.10/site-packages/sklearn/base.py:443: UserWarning: X has feature names, but ElasticNet was fitted without feature names\n",
            "  warnings.warn(\n",
            "/opt/homebrew/Caskroom/miniforge/base/envs/crawling/lib/python3.10/site-packages/sklearn/base.py:443: UserWarning: X has feature names, but Lasso was fitted without feature names\n",
            "  warnings.warn(\n",
            "/opt/homebrew/Caskroom/miniforge/base/envs/crawling/lib/python3.10/site-packages/sklearn/base.py:443: UserWarning: X has feature names, but KernelRidge was fitted without feature names\n",
            "  warnings.warn(\n",
            "/opt/homebrew/Caskroom/miniforge/base/envs/crawling/lib/python3.10/site-packages/sklearn/base.py:443: UserWarning: X has feature names, but ElasticNet was fitted without feature names\n",
            "  warnings.warn(\n",
            "/opt/homebrew/Caskroom/miniforge/base/envs/crawling/lib/python3.10/site-packages/sklearn/base.py:443: UserWarning: X has feature names, but Lasso was fitted without feature names\n",
            "  warnings.warn(\n",
            "/opt/homebrew/Caskroom/miniforge/base/envs/crawling/lib/python3.10/site-packages/sklearn/base.py:443: UserWarning: X has feature names, but KernelRidge was fitted without feature names\n",
            "  warnings.warn(\n"
          ]
        },
        {
          "name": "stdout",
          "output_type": "stream",
          "text": [
            "[CV 3/6] END meta_regressor__learning_rate=0.5, meta_regressor__n_estimators=100;, score=-0.024 total time=   1.1s\n",
            "[CV 4/6] END meta_regressor__learning_rate=0.5, meta_regressor__n_estimators=100;, score=-0.023 total time=   1.2s\n"
          ]
        },
        {
          "name": "stderr",
          "output_type": "stream",
          "text": [
            "/opt/homebrew/Caskroom/miniforge/base/envs/crawling/lib/python3.10/site-packages/sklearn/base.py:443: UserWarning: X has feature names, but ElasticNet was fitted without feature names\n",
            "  warnings.warn(\n",
            "/opt/homebrew/Caskroom/miniforge/base/envs/crawling/lib/python3.10/site-packages/sklearn/base.py:443: UserWarning: X has feature names, but Lasso was fitted without feature names\n",
            "  warnings.warn(\n",
            "/opt/homebrew/Caskroom/miniforge/base/envs/crawling/lib/python3.10/site-packages/sklearn/base.py:443: UserWarning: X has feature names, but KernelRidge was fitted without feature names\n",
            "  warnings.warn(\n",
            "/opt/homebrew/Caskroom/miniforge/base/envs/crawling/lib/python3.10/site-packages/sklearn/base.py:443: UserWarning: X has feature names, but ElasticNet was fitted without feature names\n",
            "  warnings.warn(\n",
            "/opt/homebrew/Caskroom/miniforge/base/envs/crawling/lib/python3.10/site-packages/sklearn/base.py:443: UserWarning: X has feature names, but Lasso was fitted without feature names\n",
            "  warnings.warn(\n",
            "/opt/homebrew/Caskroom/miniforge/base/envs/crawling/lib/python3.10/site-packages/sklearn/base.py:443: UserWarning: X has feature names, but KernelRidge was fitted without feature names\n",
            "  warnings.warn(\n",
            "/opt/homebrew/Caskroom/miniforge/base/envs/crawling/lib/python3.10/site-packages/sklearn/base.py:443: UserWarning: X has feature names, but ElasticNet was fitted without feature names\n",
            "  warnings.warn(\n",
            "/opt/homebrew/Caskroom/miniforge/base/envs/crawling/lib/python3.10/site-packages/sklearn/base.py:443: UserWarning: X has feature names, but Lasso was fitted without feature names\n",
            "  warnings.warn(\n",
            "/opt/homebrew/Caskroom/miniforge/base/envs/crawling/lib/python3.10/site-packages/sklearn/base.py:443: UserWarning: X has feature names, but KernelRidge was fitted without feature names\n",
            "  warnings.warn(\n"
          ]
        },
        {
          "name": "stdout",
          "output_type": "stream",
          "text": [
            "[CV 5/6] END meta_regressor__learning_rate=0.5, meta_regressor__n_estimators=100;, score=-0.024 total time=   1.3s\n",
            "[CV 2/6] END meta_regressor__learning_rate=0.3, meta_regressor__n_estimators=500;, score=-0.018 total time=   3.1s\n",
            "[CV 3/6] END meta_regressor__learning_rate=0.3, meta_regressor__n_estimators=500;, score=-0.020 total time=   3.1s\n"
          ]
        },
        {
          "name": "stderr",
          "output_type": "stream",
          "text": [
            "/opt/homebrew/Caskroom/miniforge/base/envs/crawling/lib/python3.10/site-packages/sklearn/base.py:443: UserWarning: X has feature names, but ElasticNet was fitted without feature names\n",
            "  warnings.warn(\n",
            "/opt/homebrew/Caskroom/miniforge/base/envs/crawling/lib/python3.10/site-packages/sklearn/base.py:443: UserWarning: X has feature names, but Lasso was fitted without feature names\n",
            "  warnings.warn(\n",
            "/opt/homebrew/Caskroom/miniforge/base/envs/crawling/lib/python3.10/site-packages/sklearn/base.py:443: UserWarning: X has feature names, but KernelRidge was fitted without feature names\n",
            "  warnings.warn(\n",
            "/opt/homebrew/Caskroom/miniforge/base/envs/crawling/lib/python3.10/site-packages/sklearn/base.py:443: UserWarning: X has feature names, but ElasticNet was fitted without feature names\n",
            "  warnings.warn(\n",
            "/opt/homebrew/Caskroom/miniforge/base/envs/crawling/lib/python3.10/site-packages/sklearn/base.py:443: UserWarning: X has feature names, but Lasso was fitted without feature names\n",
            "  warnings.warn(\n",
            "/opt/homebrew/Caskroom/miniforge/base/envs/crawling/lib/python3.10/site-packages/sklearn/base.py:443: UserWarning: X has feature names, but KernelRidge was fitted without feature names\n",
            "  warnings.warn(\n",
            "/opt/homebrew/Caskroom/miniforge/base/envs/crawling/lib/python3.10/site-packages/sklearn/base.py:443: UserWarning: X has feature names, but ElasticNet was fitted without feature names\n",
            "  warnings.warn(\n",
            "/opt/homebrew/Caskroom/miniforge/base/envs/crawling/lib/python3.10/site-packages/sklearn/base.py:443: UserWarning: X has feature names, but Lasso was fitted without feature names\n",
            "  warnings.warn(\n",
            "/opt/homebrew/Caskroom/miniforge/base/envs/crawling/lib/python3.10/site-packages/sklearn/base.py:443: UserWarning: X has feature names, but KernelRidge was fitted without feature names\n",
            "  warnings.warn(\n"
          ]
        },
        {
          "name": "stdout",
          "output_type": "stream",
          "text": [
            "[CV 4/6] END meta_regressor__learning_rate=0.3, meta_regressor__n_estimators=500;, score=-0.021 total time=   3.1s\n",
            "[CV 6/6] END meta_regressor__learning_rate=0.5, meta_regressor__n_estimators=100;, score=-0.024 total time=   1.2s\n",
            "[CV 5/6] END meta_regressor__learning_rate=0.3, meta_regressor__n_estimators=500;, score=-0.023 total time=   3.2s\n"
          ]
        },
        {
          "name": "stderr",
          "output_type": "stream",
          "text": [
            "/opt/homebrew/Caskroom/miniforge/base/envs/crawling/lib/python3.10/site-packages/sklearn/base.py:443: UserWarning: X has feature names, but ElasticNet was fitted without feature names\n",
            "  warnings.warn(\n",
            "/opt/homebrew/Caskroom/miniforge/base/envs/crawling/lib/python3.10/site-packages/sklearn/base.py:443: UserWarning: X has feature names, but Lasso was fitted without feature names\n",
            "  warnings.warn(\n",
            "/opt/homebrew/Caskroom/miniforge/base/envs/crawling/lib/python3.10/site-packages/sklearn/base.py:443: UserWarning: X has feature names, but KernelRidge was fitted without feature names\n",
            "  warnings.warn(\n",
            "/opt/homebrew/Caskroom/miniforge/base/envs/crawling/lib/python3.10/site-packages/sklearn/base.py:443: UserWarning: X has feature names, but ElasticNet was fitted without feature names\n",
            "  warnings.warn(\n",
            "/opt/homebrew/Caskroom/miniforge/base/envs/crawling/lib/python3.10/site-packages/sklearn/base.py:443: UserWarning: X has feature names, but Lasso was fitted without feature names\n",
            "  warnings.warn(\n",
            "/opt/homebrew/Caskroom/miniforge/base/envs/crawling/lib/python3.10/site-packages/sklearn/base.py:443: UserWarning: X has feature names, but KernelRidge was fitted without feature names\n",
            "  warnings.warn(\n"
          ]
        },
        {
          "name": "stdout",
          "output_type": "stream",
          "text": [
            "[CV 1/6] END meta_regressor__learning_rate=0.5, meta_regressor__n_estimators=300;, score=-0.018 total time=   1.9s\n",
            "[CV 2/6] END meta_regressor__learning_rate=0.5, meta_regressor__n_estimators=300;, score=-0.028 total time=   1.9s\n"
          ]
        },
        {
          "name": "stderr",
          "output_type": "stream",
          "text": [
            "/opt/homebrew/Caskroom/miniforge/base/envs/crawling/lib/python3.10/site-packages/sklearn/base.py:443: UserWarning: X has feature names, but ElasticNet was fitted without feature names\n",
            "  warnings.warn(\n",
            "/opt/homebrew/Caskroom/miniforge/base/envs/crawling/lib/python3.10/site-packages/sklearn/base.py:443: UserWarning: X has feature names, but Lasso was fitted without feature names\n",
            "  warnings.warn(\n",
            "/opt/homebrew/Caskroom/miniforge/base/envs/crawling/lib/python3.10/site-packages/sklearn/base.py:443: UserWarning: X has feature names, but KernelRidge was fitted without feature names\n",
            "  warnings.warn(\n"
          ]
        },
        {
          "name": "stdout",
          "output_type": "stream",
          "text": [
            "[CV 3/6] END meta_regressor__learning_rate=0.5, meta_regressor__n_estimators=300;, score=-0.024 total time=   2.0s\n"
          ]
        },
        {
          "name": "stderr",
          "output_type": "stream",
          "text": [
            "/opt/homebrew/Caskroom/miniforge/base/envs/crawling/lib/python3.10/site-packages/sklearn/base.py:443: UserWarning: X has feature names, but ElasticNet was fitted without feature names\n",
            "  warnings.warn(\n",
            "/opt/homebrew/Caskroom/miniforge/base/envs/crawling/lib/python3.10/site-packages/sklearn/base.py:443: UserWarning: X has feature names, but Lasso was fitted without feature names\n",
            "  warnings.warn(\n",
            "/opt/homebrew/Caskroom/miniforge/base/envs/crawling/lib/python3.10/site-packages/sklearn/base.py:443: UserWarning: X has feature names, but KernelRidge was fitted without feature names\n",
            "  warnings.warn(\n",
            "/opt/homebrew/Caskroom/miniforge/base/envs/crawling/lib/python3.10/site-packages/sklearn/base.py:443: UserWarning: X has feature names, but ElasticNet was fitted without feature names\n",
            "  warnings.warn(\n",
            "/opt/homebrew/Caskroom/miniforge/base/envs/crawling/lib/python3.10/site-packages/sklearn/base.py:443: UserWarning: X has feature names, but Lasso was fitted without feature names\n",
            "  warnings.warn(\n",
            "/opt/homebrew/Caskroom/miniforge/base/envs/crawling/lib/python3.10/site-packages/sklearn/base.py:443: UserWarning: X has feature names, but KernelRidge was fitted without feature names\n",
            "  warnings.warn(\n",
            "/opt/homebrew/Caskroom/miniforge/base/envs/crawling/lib/python3.10/site-packages/sklearn/base.py:443: UserWarning: X has feature names, but ElasticNet was fitted without feature names\n",
            "  warnings.warn(\n",
            "/opt/homebrew/Caskroom/miniforge/base/envs/crawling/lib/python3.10/site-packages/sklearn/base.py:443: UserWarning: X has feature names, but Lasso was fitted without feature names\n",
            "  warnings.warn(\n",
            "/opt/homebrew/Caskroom/miniforge/base/envs/crawling/lib/python3.10/site-packages/sklearn/base.py:443: UserWarning: X has feature names, but KernelRidge was fitted without feature names\n",
            "  warnings.warn(\n"
          ]
        },
        {
          "name": "stdout",
          "output_type": "stream",
          "text": [
            "[CV 5/6] END meta_regressor__learning_rate=0.5, meta_regressor__n_estimators=300;, score=-0.024 total time=   1.9s\n",
            "[CV 4/6] END meta_regressor__learning_rate=0.5, meta_regressor__n_estimators=300;, score=-0.023 total time=   2.0s\n",
            "[CV 6/6] END meta_regressor__learning_rate=0.5, meta_regressor__n_estimators=300;, score=-0.024 total time=   2.0s\n"
          ]
        },
        {
          "name": "stderr",
          "output_type": "stream",
          "text": [
            "/opt/homebrew/Caskroom/miniforge/base/envs/crawling/lib/python3.10/site-packages/sklearn/base.py:443: UserWarning: X has feature names, but ElasticNet was fitted without feature names\n",
            "  warnings.warn(\n",
            "/opt/homebrew/Caskroom/miniforge/base/envs/crawling/lib/python3.10/site-packages/sklearn/base.py:443: UserWarning: X has feature names, but Lasso was fitted without feature names\n",
            "  warnings.warn(\n",
            "/opt/homebrew/Caskroom/miniforge/base/envs/crawling/lib/python3.10/site-packages/sklearn/base.py:443: UserWarning: X has feature names, but KernelRidge was fitted without feature names\n",
            "  warnings.warn(\n"
          ]
        },
        {
          "name": "stdout",
          "output_type": "stream",
          "text": [
            "[CV 6/6] END meta_regressor__learning_rate=0.3, meta_regressor__n_estimators=500;, score=-0.015 total time=   4.5s\n"
          ]
        },
        {
          "name": "stderr",
          "output_type": "stream",
          "text": [
            "/opt/homebrew/Caskroom/miniforge/base/envs/crawling/lib/python3.10/site-packages/sklearn/base.py:443: UserWarning: X has feature names, but ElasticNet was fitted without feature names\n",
            "  warnings.warn(\n",
            "/opt/homebrew/Caskroom/miniforge/base/envs/crawling/lib/python3.10/site-packages/sklearn/base.py:443: UserWarning: X has feature names, but Lasso was fitted without feature names\n",
            "  warnings.warn(\n",
            "/opt/homebrew/Caskroom/miniforge/base/envs/crawling/lib/python3.10/site-packages/sklearn/base.py:443: UserWarning: X has feature names, but KernelRidge was fitted without feature names\n",
            "  warnings.warn(\n",
            "/opt/homebrew/Caskroom/miniforge/base/envs/crawling/lib/python3.10/site-packages/sklearn/base.py:443: UserWarning: X has feature names, but ElasticNet was fitted without feature names\n",
            "  warnings.warn(\n",
            "/opt/homebrew/Caskroom/miniforge/base/envs/crawling/lib/python3.10/site-packages/sklearn/base.py:443: UserWarning: X has feature names, but Lasso was fitted without feature names\n",
            "  warnings.warn(\n",
            "/opt/homebrew/Caskroom/miniforge/base/envs/crawling/lib/python3.10/site-packages/sklearn/base.py:443: UserWarning: X has feature names, but KernelRidge was fitted without feature names\n",
            "  warnings.warn(\n",
            "/opt/homebrew/Caskroom/miniforge/base/envs/crawling/lib/python3.10/site-packages/sklearn/base.py:443: UserWarning: X has feature names, but ElasticNet was fitted without feature names\n",
            "  warnings.warn(\n",
            "/opt/homebrew/Caskroom/miniforge/base/envs/crawling/lib/python3.10/site-packages/sklearn/base.py:443: UserWarning: X has feature names, but Lasso was fitted without feature names\n",
            "  warnings.warn(\n",
            "/opt/homebrew/Caskroom/miniforge/base/envs/crawling/lib/python3.10/site-packages/sklearn/base.py:443: UserWarning: X has feature names, but KernelRidge was fitted without feature names\n",
            "  warnings.warn(\n"
          ]
        },
        {
          "name": "stdout",
          "output_type": "stream",
          "text": [
            "[CV 1/6] END meta_regressor__learning_rate=0.5, meta_regressor__n_estimators=500;, score=-0.018 total time=   2.2s\n",
            "[CV 2/6] END meta_regressor__learning_rate=0.5, meta_regressor__n_estimators=500;, score=-0.028 total time=   2.3s\n",
            "[CV 3/6] END meta_regressor__learning_rate=0.5, meta_regressor__n_estimators=500;, score=-0.024 total time=   2.3s\n"
          ]
        },
        {
          "name": "stderr",
          "output_type": "stream",
          "text": [
            "/opt/homebrew/Caskroom/miniforge/base/envs/crawling/lib/python3.10/site-packages/sklearn/base.py:443: UserWarning: X has feature names, but ElasticNet was fitted without feature names\n",
            "  warnings.warn(\n",
            "/opt/homebrew/Caskroom/miniforge/base/envs/crawling/lib/python3.10/site-packages/sklearn/base.py:443: UserWarning: X has feature names, but Lasso was fitted without feature names\n",
            "  warnings.warn(\n",
            "/opt/homebrew/Caskroom/miniforge/base/envs/crawling/lib/python3.10/site-packages/sklearn/base.py:443: UserWarning: X has feature names, but KernelRidge was fitted without feature names\n",
            "  warnings.warn(\n",
            "/opt/homebrew/Caskroom/miniforge/base/envs/crawling/lib/python3.10/site-packages/sklearn/base.py:443: UserWarning: X has feature names, but ElasticNet was fitted without feature names\n",
            "  warnings.warn(\n",
            "/opt/homebrew/Caskroom/miniforge/base/envs/crawling/lib/python3.10/site-packages/sklearn/base.py:443: UserWarning: X has feature names, but Lasso was fitted without feature names\n",
            "  warnings.warn(\n",
            "/opt/homebrew/Caskroom/miniforge/base/envs/crawling/lib/python3.10/site-packages/sklearn/base.py:443: UserWarning: X has feature names, but KernelRidge was fitted without feature names\n",
            "  warnings.warn(\n"
          ]
        },
        {
          "name": "stdout",
          "output_type": "stream",
          "text": [
            "[CV 4/6] END meta_regressor__learning_rate=0.5, meta_regressor__n_estimators=500;, score=-0.023 total time=   2.1s\n",
            "[CV 5/6] END meta_regressor__learning_rate=0.5, meta_regressor__n_estimators=500;, score=-0.024 total time=   2.0s\n"
          ]
        },
        {
          "name": "stderr",
          "output_type": "stream",
          "text": [
            "/opt/homebrew/Caskroom/miniforge/base/envs/crawling/lib/python3.10/site-packages/sklearn/base.py:443: UserWarning: X has feature names, but ElasticNet was fitted without feature names\n",
            "  warnings.warn(\n",
            "/opt/homebrew/Caskroom/miniforge/base/envs/crawling/lib/python3.10/site-packages/sklearn/base.py:443: UserWarning: X has feature names, but Lasso was fitted without feature names\n",
            "  warnings.warn(\n",
            "/opt/homebrew/Caskroom/miniforge/base/envs/crawling/lib/python3.10/site-packages/sklearn/base.py:443: UserWarning: X has feature names, but KernelRidge was fitted without feature names\n",
            "  warnings.warn(\n"
          ]
        },
        {
          "name": "stdout",
          "output_type": "stream",
          "text": [
            "[CV 6/6] END meta_regressor__learning_rate=0.5, meta_regressor__n_estimators=500;, score=-0.024 total time=   2.1s\n"
          ]
        },
        {
          "data": {
            "text/plain": [
              "-0.015668955246830513"
            ]
          },
          "execution_count": 121,
          "metadata": {},
          "output_type": "execute_result"
        }
      ],
      "source": [
        "# 모델이 크게 2종류가 있습니다1!!!\n",
        "# 모델의 결과값을 바탕으로 돌리는 모델 : 메타모텔(1개)\n",
        "XGB = XGBRegressor(n_jobs =-1, random_state=1234, objective=\"reg:squarederror\")\n",
        "\n",
        "# train을 보고, Feature를 만들 모델들........(여러개 )\n",
        "ELNET = ElasticNet(random_state=1)\n",
        "LCV = Lasso(random_state=1)\n",
        "KR = KernelRidge()\n",
        "XG = XGBRegressor(n_jobs =-1, random_state=1234, objective=\"reg:squarederror\")\n",
        "\n",
        "# Stacking 모델에 대한 설계!!!!!\n",
        "stack = StackingRegressor( regressors = [ELNET,LCV,KR],\n",
        "                          meta_regressor=XGB,\n",
        "                          use_features_in_secondary = True)\n",
        "\n",
        "\n",
        "params = {       \n",
        "        # mlxtend : 0.17 버전 기준 : http://rasbt.github.io/mlxtend/user_guide/regressor/StackingRegressor/\n",
        "             'meta_regressor__n_estimators' : [100, 300,500],#740\n",
        "               'meta_regressor__learning_rate': [0.1, 0.3,0.5], #0.01\n",
        "            #    'meta_regressor__min_child_weight':[0],\n",
        "            #   'meta_regressor__gamma':[0.1],\n",
        "            #   'meta_regressor__max_depth': [2],\n",
        "            #   'meta_regressor__subsample':[0.65],\n",
        "            #   'meta_regressor__colsample_bytree':[0.4],\n",
        "            #   'meta_regressor__reg_alpha':[0],\n",
        "            #   'meta_regressor__reg_lambda':[1],\n",
        "              \n",
        "            #   'lasso__alpha':[0.00244736842105],\n",
        "            #   'elasticnet__alpha':[0.0276315789474],\n",
        "            #   'elasticnet__l1_ratio':[0.09],\n",
        "            #   'xgbregressor__min_child_weight':[0.2],\n",
        "            #   'xgbregressor__n_estimators' : [870],\n",
        "            #   'xgbregressor__learning_rate': [0.04],\n",
        "            #   'xgbregressor__gamma':[0],\n",
        "            #   'xgbregressor__max_depth': [3],\n",
        "            #   'xgbregressor__subsample':[0.8],\n",
        "            #   'xgbregressor__colsample_bytree':[0.7],\n",
        "    \n",
        "            #   'kernelridge__alpha':[0.93],\n",
        "            #   'kernelridge__coef0':[1.5],\n",
        "            #   'kernelridge__degree':[3],\n",
        "            #   'kernelridge__gamma':[0.001],\n",
        "            #   'kernelridge__kernel':['polynomial'],\n",
        "            #   'kernelridge__kernel_params':[None]\n",
        "\n",
        "        }\n",
        "\n",
        "\n",
        "grid = GridSearchCV(estimator = stack, \n",
        "                    param_grid=params,\n",
        "                    cv=kfold,\n",
        "                    verbose=3,\n",
        "                    n_jobs=-1,\n",
        "                    scoring=\"neg_mean_squared_error\")\n",
        "grid.fit(X_train, y_df)\n",
        "#grid_best = grid.best_estimator_\n",
        "#print(grid_best)3\n",
        "# model_ 8\n",
        "grid.best_score_"
      ]
    },
    {
      "cell_type": "code",
      "execution_count": null,
      "metadata": {
        "id": "nKGcS00b8t9y"
      },
      "outputs": [],
      "source": []
    },
    {
      "cell_type": "code",
      "execution_count": 122,
      "metadata": {
        "id": "SfJH1XSO8uAS"
      },
      "outputs": [
        {
          "ename": "NameError",
          "evalue": "name 'y_pred_8' is not defined",
          "output_type": "error",
          "traceback": [
            "\u001b[0;31m---------------------------------------------------------------------------\u001b[0m",
            "\u001b[0;31mNameError\u001b[0m                                 Traceback (most recent call last)",
            "Cell \u001b[0;32mIn [122], line 1\u001b[0m\n\u001b[0;32m----> 1\u001b[0m y_pred_tot \u001b[39m=\u001b[39m (y_pred_8 \u001b[39m+\u001b[39m y_pred_5 )\u001b[39m/\u001b[39m\u001b[39m2\u001b[39m\n",
            "\u001b[0;31mNameError\u001b[0m: name 'y_pred_8' is not defined"
          ]
        }
      ],
      "source": [
        "y_pred_tot = (y_pred_8 + y_pred_5 )/2\n"
      ]
    },
    {
      "cell_type": "code",
      "execution_count": null,
      "metadata": {
        "id": "ktCw-oE88uC1"
      },
      "outputs": [],
      "source": []
    },
    {
      "cell_type": "code",
      "execution_count": null,
      "metadata": {
        "id": "_cn0AKQ74_Dq"
      },
      "outputs": [],
      "source": []
    },
    {
      "cell_type": "code",
      "execution_count": null,
      "metadata": {
        "id": "jT8V1j9A4_F9"
      },
      "outputs": [],
      "source": []
    },
    {
      "cell_type": "code",
      "execution_count": null,
      "metadata": {
        "id": "BY9mbvgX4_Ib"
      },
      "outputs": [],
      "source": []
    },
    {
      "cell_type": "code",
      "execution_count": null,
      "metadata": {
        "id": "1wll8h4SsFEi"
      },
      "outputs": [],
      "source": []
    },
    {
      "cell_type": "code",
      "execution_count": null,
      "metadata": {
        "id": "fEpTf8Z5sFIA"
      },
      "outputs": [],
      "source": [
        "# lasso에서 best 모델을 선정을 해서..\n",
        "lasso_rgs_best = lasso_rgs_model.best_estimator_\n",
        "lasso_rgs_ypred = lasso_rgs_best.predict(X_test) # <--- log 스케일이 적용된 값...\n",
        "# 원래 값의 영역으로 재변환!!!!!\n",
        "y_pred_1 = np.expm1(lasso_rgs_ypred)\n",
        "y_pred_1"
      ]
    },
    {
      "cell_type": "code",
      "execution_count": null,
      "metadata": {
        "id": "TVpZzMk6rqV8"
      },
      "outputs": [],
      "source": []
    },
    {
      "cell_type": "code",
      "execution_count": null,
      "metadata": {
        "id": "o7AjTBITrqa0"
      },
      "outputs": [],
      "source": []
    },
    {
      "cell_type": "code",
      "execution_count": null,
      "metadata": {
        "id": "r-jYZl5ulT1b"
      },
      "outputs": [],
      "source": []
    },
    {
      "cell_type": "code",
      "execution_count": null,
      "metadata": {
        "id": "x9MYcl7wqKNU"
      },
      "outputs": [],
      "source": [
        "import time"
      ]
    },
    {
      "cell_type": "code",
      "execution_count": null,
      "metadata": {
        "id": "tkYFt_moqKNU",
        "outputId": "95f45c0b-3889-4357-a790-cb4bc72a4b8b"
      },
      "outputs": [
        {
          "name": "stdout",
          "output_type": "stream",
          "text": [
            "Fitting 6 folds for each of 480 candidates, totalling 2880 fits\n",
            "Run Time :  74.40866947174072\n",
            "KernelRidge(coef0=2.0, gamma=0.0008211879055212056, kernel='polynomial')\n"
          ]
        }
      ],
      "source": [
        "~"
      ]
    },
    {
      "cell_type": "code",
      "execution_count": null,
      "metadata": {
        "id": "k4R4Nq5DqKNU",
        "outputId": "215711c1-dde8-4bf1-ac76-7244c4309211"
      },
      "outputs": [
        {
          "name": "stdout",
          "output_type": "stream",
          "text": [
            "Kernel Ridge mean score: 0.11196564169797972\n",
            "Kernel Ridge std: 0.007929655583876236\n"
          ]
        }
      ],
      "source": [
        "score = rmsle_cv(KR_best)\n",
        "print(\"Kernel Ridge mean score:\", score.mean())\n",
        "print(\"Kernel Ridge std:\", score.std())"
      ]
    },
    {
      "cell_type": "markdown",
      "metadata": {
        "id": "g4Kf49rVqKNU"
      },
      "source": [
        "* 위의 부분을 너무 많이 설정을 하게 되면, 좀 자세히 찾을 수 있겠지만, 너무 시간이 오래 걸리는 부분들이 발생을 한다. 그래서 아래와 같이 randomSearchCV를 사용해보려고 함!!!"
      ]
    },
    {
      "cell_type": "code",
      "execution_count": null,
      "metadata": {
        "id": "4pMON4lwqKNU",
        "outputId": "21726b91-5e4a-452d-8b82-d76b56ccc376"
      },
      "outputs": [
        {
          "name": "stdout",
          "output_type": "stream",
          "text": [
            "RandomizedSearchCV took 7.21 seconds for 20 candidates parameter settings.\n",
            "KernelRidge(alpha=0.1, coef0=1.5, degree=2, gamma=0.0008211879055212056,\n",
            "            kernel='polynomial')\n"
          ]
        }
      ],
      "source": [
        "~"
      ]
    },
    {
      "cell_type": "code",
      "execution_count": null,
      "metadata": {
        "id": "a2aofrIpqKNU",
        "outputId": "80a28667-cc34-4371-b31e-04f7e8c34b87"
      },
      "outputs": [
        {
          "name": "stdout",
          "output_type": "stream",
          "text": [
            "Kernel Ridge mean score: 0.11242370382925089\n",
            "Kernel Ridge std: 0.008361009490468354\n"
          ]
        }
      ],
      "source": [
        "~"
      ]
    },
    {
      "cell_type": "code",
      "execution_count": null,
      "metadata": {
        "id": "C_UBYpMsqKNU"
      },
      "outputs": [],
      "source": [
        "~"
      ]
    },
    {
      "cell_type": "code",
      "execution_count": null,
      "metadata": {
        "id": "-TSE41kEqKNU"
      },
      "outputs": [],
      "source": []
    },
    {
      "cell_type": "markdown",
      "metadata": {
        "id": "fe5cBifeqKNU"
      },
      "source": [
        "##### Lasso Regression"
      ]
    },
    {
      "cell_type": "markdown",
      "metadata": {
        "id": "ZMw71i7eqKNV"
      },
      "source": [
        "* ref) https://scikit-learn.org/stable/modules/generated/sklearn.linear_model.Lasso.html"
      ]
    },
    {
      "cell_type": "code",
      "execution_count": null,
      "metadata": {
        "id": "LckAB3IwqKNV"
      },
      "outputs": [],
      "source": [
        "~~~"
      ]
    },
    {
      "cell_type": "markdown",
      "metadata": {
        "id": "DfGJOYasqKNV"
      },
      "source": [
        "##### ElasticNet Regression"
      ]
    },
    {
      "cell_type": "code",
      "execution_count": null,
      "metadata": {
        "id": "5VwrHUwsqKNV"
      },
      "outputs": [],
      "source": []
    },
    {
      "cell_type": "markdown",
      "metadata": {
        "id": "tzCwpCjJqKNV"
      },
      "source": [
        "##### Support Vector Machine"
      ]
    },
    {
      "cell_type": "markdown",
      "metadata": {
        "id": "eEuikHmDqKNV"
      },
      "source": [
        "* SVR : Support Vector Machine Regression    \n",
        "    https://scikit-learn.org/stable/modules/generated/sklearn.svm.SVR.html"
      ]
    },
    {
      "cell_type": "code",
      "execution_count": null,
      "metadata": {
        "id": "kqd4TuTtqKNV"
      },
      "outputs": [],
      "source": []
    },
    {
      "cell_type": "markdown",
      "metadata": {
        "id": "3FTAE0qTqKNV"
      },
      "source": [
        "##### Random Forest"
      ]
    },
    {
      "cell_type": "code",
      "execution_count": null,
      "metadata": {
        "id": "ytuou2GPqKNV"
      },
      "outputs": [],
      "source": [
        "from sklearn.model_selection import GridSearchCV,RandomizedSearchCV,learning_curve, cross_val_score, KFold\n",
        "from sklearn.ensemble import RandomForestRegressor\n",
        "from sklearn.metrics import accuracy_score, mean_squared_error"
      ]
    },
    {
      "cell_type": "markdown",
      "metadata": {
        "id": "Z5_ezvl3qKNV"
      },
      "source": [
        "* ref) https://scikit-learn.org/stable/modules/generated/sklearn.ensemble.RandomForestRegressor.html"
      ]
    },
    {
      "cell_type": "code",
      "execution_count": null,
      "metadata": {
        "id": "PjsgUUfXqKNV"
      },
      "outputs": [],
      "source": []
    },
    {
      "cell_type": "code",
      "execution_count": null,
      "metadata": {
        "id": "5wODhvQdqKNV"
      },
      "outputs": [],
      "source": []
    },
    {
      "cell_type": "code",
      "execution_count": null,
      "metadata": {
        "id": "PJj1156qqKNV"
      },
      "outputs": [],
      "source": []
    },
    {
      "cell_type": "markdown",
      "metadata": {
        "id": "ft_Zg9F5qKNV"
      },
      "source": [
        "##### XG Boost¶"
      ]
    },
    {
      "cell_type": "code",
      "execution_count": null,
      "metadata": {
        "id": "zsoI8meaqKNW"
      },
      "outputs": [],
      "source": []
    },
    {
      "cell_type": "markdown",
      "metadata": {
        "id": "ZIChCzb7qKNW"
      },
      "source": [
        "### Ensemble - Stacked Regression and GridSearch"
      ]
    },
    {
      "cell_type": "code",
      "execution_count": null,
      "metadata": {
        "id": "S5S_RexeqKNW",
        "outputId": "46430cca-e95b-4303-bad3-f16331484cda"
      },
      "outputs": [
        {
          "name": "stdout",
          "output_type": "stream",
          "text": [
            "source: https://rasbt.github.io/mlxtend/user_guide/regressor/StackingCVRegressor/\n"
          ]
        },
        {
          "data": {
            "text/html": [
              "<img src=\"https://rasbt.github.io/mlxtend/user_guide/regressor/StackingCVRegressor_files/stacking_cv_regressor_overview.png\"/>"
            ],
            "text/plain": [
              "<IPython.core.display.Image object>"
            ]
          },
          "execution_count": 62,
          "metadata": {},
          "output_type": "execute_result"
        }
      ],
      "source": [
        "print(\"source: https://rasbt.github.io/mlxtend/user_guide/regressor/StackingCVRegressor/\")\n",
        "Image(url= \"https://rasbt.github.io/mlxtend/user_guide/regressor/StackingCVRegressor_files/stacking_cv_regressor_overview.png\")"
      ]
    },
    {
      "cell_type": "code",
      "execution_count": 123,
      "metadata": {
        "id": "AJ5CJLbPqKNW",
        "outputId": "72f3664c-fcb5-4e69-a909-d703c4943f16"
      },
      "outputs": [
        {
          "name": "stdout",
          "output_type": "stream",
          "text": [
            "Fitting 6 folds for each of 1 candidates, totalling 6 fits\n"
          ]
        },
        {
          "name": "stderr",
          "output_type": "stream",
          "text": [
            "/opt/homebrew/Caskroom/miniforge/base/envs/crawling/lib/python3.10/site-packages/sklearn/base.py:443: UserWarning: X has feature names, but ElasticNet was fitted without feature names\n",
            "  warnings.warn(\n",
            "/opt/homebrew/Caskroom/miniforge/base/envs/crawling/lib/python3.10/site-packages/sklearn/base.py:443: UserWarning: X has feature names, but Lasso was fitted without feature names\n",
            "  warnings.warn(\n",
            "/opt/homebrew/Caskroom/miniforge/base/envs/crawling/lib/python3.10/site-packages/sklearn/base.py:443: UserWarning: X has feature names, but ElasticNet was fitted without feature names\n",
            "  warnings.warn(\n",
            "/opt/homebrew/Caskroom/miniforge/base/envs/crawling/lib/python3.10/site-packages/sklearn/base.py:443: UserWarning: X has feature names, but Lasso was fitted without feature names\n",
            "  warnings.warn(\n",
            "/opt/homebrew/Caskroom/miniforge/base/envs/crawling/lib/python3.10/site-packages/sklearn/base.py:443: UserWarning: X has feature names, but SVR was fitted without feature names\n",
            "  warnings.warn(\n",
            "/opt/homebrew/Caskroom/miniforge/base/envs/crawling/lib/python3.10/site-packages/sklearn/base.py:443: UserWarning: X has feature names, but ElasticNet was fitted without feature names\n",
            "  warnings.warn(\n",
            "/opt/homebrew/Caskroom/miniforge/base/envs/crawling/lib/python3.10/site-packages/sklearn/base.py:443: UserWarning: X has feature names, but Lasso was fitted without feature names\n",
            "  warnings.warn(\n",
            "/opt/homebrew/Caskroom/miniforge/base/envs/crawling/lib/python3.10/site-packages/sklearn/base.py:443: UserWarning: X has feature names, but SVR was fitted without feature names\n",
            "  warnings.warn(\n",
            "/opt/homebrew/Caskroom/miniforge/base/envs/crawling/lib/python3.10/site-packages/sklearn/base.py:443: UserWarning: X has feature names, but SVR was fitted without feature names\n",
            "  warnings.warn(\n",
            "/opt/homebrew/Caskroom/miniforge/base/envs/crawling/lib/python3.10/site-packages/sklearn/base.py:443: UserWarning: X has feature names, but ElasticNet was fitted without feature names\n",
            "  warnings.warn(\n",
            "/opt/homebrew/Caskroom/miniforge/base/envs/crawling/lib/python3.10/site-packages/sklearn/base.py:443: UserWarning: X has feature names, but Lasso was fitted without feature names\n",
            "  warnings.warn(\n",
            "/opt/homebrew/Caskroom/miniforge/base/envs/crawling/lib/python3.10/site-packages/sklearn/base.py:443: UserWarning: X has feature names, but SVR was fitted without feature names\n",
            "  warnings.warn(\n",
            "/opt/homebrew/Caskroom/miniforge/base/envs/crawling/lib/python3.10/site-packages/sklearn/base.py:443: UserWarning: X has feature names, but KernelRidge was fitted without feature names\n",
            "  warnings.warn(\n",
            "/opt/homebrew/Caskroom/miniforge/base/envs/crawling/lib/python3.10/site-packages/sklearn/base.py:443: UserWarning: X has feature names, but KernelRidge was fitted without feature names\n",
            "  warnings.warn(\n",
            "/opt/homebrew/Caskroom/miniforge/base/envs/crawling/lib/python3.10/site-packages/sklearn/base.py:443: UserWarning: X has feature names, but KernelRidge was fitted without feature names\n",
            "  warnings.warn(\n",
            "/opt/homebrew/Caskroom/miniforge/base/envs/crawling/lib/python3.10/site-packages/sklearn/base.py:443: UserWarning: X has feature names, but KernelRidge was fitted without feature names\n",
            "  warnings.warn(\n",
            "/opt/homebrew/Caskroom/miniforge/base/envs/crawling/lib/python3.10/site-packages/sklearn/base.py:443: UserWarning: X has feature names, but ElasticNet was fitted without feature names\n",
            "  warnings.warn(\n",
            "/opt/homebrew/Caskroom/miniforge/base/envs/crawling/lib/python3.10/site-packages/sklearn/base.py:443: UserWarning: X has feature names, but Lasso was fitted without feature names\n",
            "  warnings.warn(\n",
            "/opt/homebrew/Caskroom/miniforge/base/envs/crawling/lib/python3.10/site-packages/sklearn/base.py:443: UserWarning: X has feature names, but SVR was fitted without feature names\n",
            "  warnings.warn(\n",
            "/opt/homebrew/Caskroom/miniforge/base/envs/crawling/lib/python3.10/site-packages/sklearn/base.py:443: UserWarning: X has feature names, but ElasticNet was fitted without feature names\n",
            "  warnings.warn(\n",
            "/opt/homebrew/Caskroom/miniforge/base/envs/crawling/lib/python3.10/site-packages/sklearn/base.py:443: UserWarning: X has feature names, but Lasso was fitted without feature names\n",
            "  warnings.warn(\n",
            "/opt/homebrew/Caskroom/miniforge/base/envs/crawling/lib/python3.10/site-packages/sklearn/base.py:443: UserWarning: X has feature names, but SVR was fitted without feature names\n",
            "  warnings.warn(\n",
            "/opt/homebrew/Caskroom/miniforge/base/envs/crawling/lib/python3.10/site-packages/sklearn/base.py:443: UserWarning: X has feature names, but KernelRidge was fitted without feature names\n",
            "  warnings.warn(\n",
            "/opt/homebrew/Caskroom/miniforge/base/envs/crawling/lib/python3.10/site-packages/sklearn/base.py:443: UserWarning: X has feature names, but KernelRidge was fitted without feature names\n",
            "  warnings.warn(\n"
          ]
        },
        {
          "name": "stdout",
          "output_type": "stream",
          "text": [
            "StackingRegressor(meta_regressor=XGBRegressor(base_score=None, booster=None,\n",
            "                                              callbacks=None,\n",
            "                                              colsample_bylevel=None,\n",
            "                                              colsample_bynode=None,\n",
            "                                              colsample_bytree=0.4,\n",
            "                                              early_stopping_rounds=None,\n",
            "                                              enable_categorical=False,\n",
            "                                              eval_metric=None,\n",
            "                                              feature_types=None, gamma=0.1,\n",
            "                                              gpu_id=None, grow_policy=None,\n",
            "                                              importance_type=None,\n",
            "                                              interaction_constraints=None,\n",
            "                                              learning_rate=0.0...\n",
            "                                           max_cat_to_onehot=None,\n",
            "                                           max_delta_step=None, max_depth=3,\n",
            "                                           max_leaves=None,\n",
            "                                           min_child_weight=0.2, missing=nan,\n",
            "                                           monotone_constraints=None,\n",
            "                                           n_estimators=870, n_jobs=None,\n",
            "                                           num_parallel_tree=None,\n",
            "                                           predictor=None, random_state=None, ...),\n",
            "                              SVR(C=0.1, coef0=1.6, degree=2, epsilon=0.03,\n",
            "                                  gamma='auto', kernel='poly'),\n",
            "                              KernelRidge(alpha=0.93, coef0=1.5, gamma=0.001,\n",
            "                                          kernel='polynomial')])\n"
          ]
        }
      ],
      "source": [
        "XGB = XGBRegressor()\n",
        "\n",
        "ELNET = ElasticNet(random_state = 1)\n",
        "LCV=Lasso(random_state = 1)\n",
        "SV = SVR()\n",
        "KR = KernelRidge()\n",
        "XG = XGBRegressor()\n",
        "stack = StackingRegressor(regressors = [ELNET,LCV,XG,SV,KR], meta_regressor = XGB)\n",
        "\n",
        "params = {       \n",
        "        # mlxtend : 0.17 이하 버전기준..\n",
        "    \n",
        "#               'meta-xgbregressor__n_estimators' : [740*2],#740\n",
        "#               'meta-xgbregressor__learning_rate': [0.01/2], #0.01\n",
        "#                'meta-xgbregressor__min_child_weight':[0],\n",
        "#               'meta-xgbregressor__gamma':[0.1],\n",
        "#               'meta-xgbregressor__max_depth': [2],\n",
        "#               'meta-xgbregressor__subsample':[0.65],\n",
        "#               'meta-xgbregressor__colsample_bytree':[0.4],\n",
        "#               'meta-xgbregressor__reg_alpha':[0],\n",
        "#               'meta-xgbregressor__reg_lambda':[1],\n",
        "    \n",
        "        # mlxtend : 0.17 버전 기준 : http://rasbt.github.io/mlxtend/user_guide/regressor/StackingRegressor/\n",
        "                'meta_regressor__n_estimators' : [740*2],#740\n",
        "              'meta_regressor__learning_rate': [0.01/2], #0.01\n",
        "               'meta_regressor__min_child_weight':[0],\n",
        "              'meta_regressor__gamma':[0.1],\n",
        "              'meta_regressor__max_depth': [2],\n",
        "              'meta_regressor__subsample':[0.65],\n",
        "              'meta_regressor__colsample_bytree':[0.4],\n",
        "              'meta_regressor__reg_alpha':[0],\n",
        "              'meta_regressor__reg_lambda':[1],\n",
        "              \n",
        "              'lasso__alpha':[0.00244736842105],\n",
        "              'elasticnet__alpha':[0.0276315789474],\n",
        "              'elasticnet__l1_ratio':[0.09],\n",
        "              'xgbregressor__min_child_weight':[0.2],\n",
        "              'xgbregressor__n_estimators' : [870],\n",
        "              'xgbregressor__learning_rate': [0.04],\n",
        "              'xgbregressor__gamma':[0],\n",
        "              'xgbregressor__max_depth': [3],\n",
        "              'xgbregressor__subsample':[0.8],\n",
        "              'xgbregressor__colsample_bytree':[0.7],\n",
        "    \n",
        "              'kernelridge__alpha':[0.93],\n",
        "              'kernelridge__coef0':[1.5],\n",
        "              'kernelridge__degree':[3],\n",
        "              'kernelridge__gamma':[0.001],\n",
        "              'kernelridge__kernel':['polynomial'],\n",
        "              'kernelridge__kernel_params':[None],\n",
        "              \n",
        "              'svr__coef0':[1.6],\n",
        "              'svr__kernel':['poly'],\n",
        "              'svr__epsilon':[0.03],\n",
        "              'svr__gamma': ['auto'],\n",
        "              'svr__degree': [2],\n",
        "              'svr__C':[0.1]\n",
        "        }\n",
        "\n",
        "\n",
        "grid = GridSearchCV(estimator = stack, param_grid=params,cv=kfold,refit=True, verbose=1,n_jobs=-1,\n",
        "                    scoring=\"neg_mean_squared_error\")\n",
        "grid.fit(X_train, y_df)\n",
        "grid_best = grid.best_estimator_\n",
        "print(grid_best)\n"
      ]
    },
    {
      "cell_type": "code",
      "execution_count": 124,
      "metadata": {
        "id": "K1kEw8IyqKNW",
        "outputId": "40bc2044-acb2-4305-a611-83e644747db4"
      },
      "outputs": [
        {
          "ename": "NameError",
          "evalue": "name 'rmsle_cv' is not defined",
          "output_type": "error",
          "traceback": [
            "\u001b[0;31m---------------------------------------------------------------------------\u001b[0m",
            "\u001b[0;31mNameError\u001b[0m                                 Traceback (most recent call last)",
            "Cell \u001b[0;32mIn [124], line 1\u001b[0m\n\u001b[0;32m----> 1\u001b[0m \u001b[39mprint\u001b[39m(\u001b[39m\"\u001b[39m\u001b[39mStacking mean score:\u001b[39m\u001b[39m\"\u001b[39m, rmsle_cv(grid_best)\u001b[39m.\u001b[39mmean())\n\u001b[1;32m      2\u001b[0m \u001b[39mprint\u001b[39m(\u001b[39m\"\u001b[39m\u001b[39mStacking std:\u001b[39m\u001b[39m\"\u001b[39m, rmsle_cv(grid_best)\u001b[39m.\u001b[39mstd())\n",
            "\u001b[0;31mNameError\u001b[0m: name 'rmsle_cv' is not defined"
          ]
        }
      ],
      "source": [
        "print(\"Stacking mean score:\", rmsle_cv(grid_best).mean())\n",
        "print(\"Stacking std:\", rmsle_cv(grid_best).std())"
      ]
    },
    {
      "cell_type": "code",
      "execution_count": 125,
      "metadata": {
        "id": "dy3LoeKzqKNW",
        "outputId": "aaaa90f6-af2c-4f95-a0be-94ad0203ced1"
      },
      "outputs": [
        {
          "name": "stderr",
          "output_type": "stream",
          "text": [
            "/opt/homebrew/Caskroom/miniforge/base/envs/crawling/lib/python3.10/site-packages/sklearn/base.py:443: UserWarning: X has feature names, but ElasticNet was fitted without feature names\n",
            "  warnings.warn(\n",
            "/opt/homebrew/Caskroom/miniforge/base/envs/crawling/lib/python3.10/site-packages/sklearn/base.py:443: UserWarning: X has feature names, but Lasso was fitted without feature names\n",
            "  warnings.warn(\n",
            "/opt/homebrew/Caskroom/miniforge/base/envs/crawling/lib/python3.10/site-packages/sklearn/base.py:443: UserWarning: X has feature names, but SVR was fitted without feature names\n",
            "  warnings.warn(\n",
            "/opt/homebrew/Caskroom/miniforge/base/envs/crawling/lib/python3.10/site-packages/sklearn/base.py:443: UserWarning: X has feature names, but KernelRidge was fitted without feature names\n",
            "  warnings.warn(\n"
          ]
        }
      ],
      "source": [
        "y_submission_st = np.expm1(grid.predict(X_test))"
      ]
    },
    {
      "cell_type": "markdown",
      "metadata": {
        "id": "Cl8uWhMJqKNW"
      },
      "source": [
        "#### Ensemble - Averaging"
      ]
    },
    {
      "cell_type": "code",
      "execution_count": null,
      "metadata": {
        "id": "jdfb8SOcqKNW"
      },
      "outputs": [],
      "source": []
    },
    {
      "cell_type": "code",
      "execution_count": null,
      "metadata": {
        "id": "-mgfHirlqKNW"
      },
      "outputs": [],
      "source": []
    },
    {
      "cell_type": "code",
      "execution_count": null,
      "metadata": {
        "id": "hXSG-T6HqKNX",
        "outputId": "7834c32e-40f1-459a-a77e-c7e34de446ee"
      },
      "outputs": [
        {
          "data": {
            "text/plain": [
              "array([124056.85026802, 163477.36877579, 190004.76706499, ...,\n",
              "       160385.34579887, 116675.410491  , 221924.31341818])"
            ]
          },
          "execution_count": 102,
          "metadata": {},
          "output_type": "execute_result"
        }
      ],
      "source": [
        "y_submission_avg"
      ]
    },
    {
      "cell_type": "markdown",
      "metadata": {
        "id": "18gQcqo6qKNX"
      },
      "source": [
        "* 제출 준비"
      ]
    },
    {
      "cell_type": "code",
      "execution_count": 127,
      "metadata": {
        "id": "WKHwvbcQqKNX"
      },
      "outputs": [],
      "source": [
        "my_submission = pd.DataFrame()\n",
        "my_submission['Id'] = test_id\n",
        "my_submission['SalePrice'] = y_submission_st\n",
        "my_submission.to_csv('submission_trail_ver_0-1.csv',index=False)\n"
      ]
    },
    {
      "cell_type": "markdown",
      "metadata": {
        "id": "LIfw6PVtqKNX"
      },
      "source": [
        "<img src=\"img/11.png\">"
      ]
    },
    {
      "cell_type": "markdown",
      "metadata": {
        "id": "bq-UA053qKNX"
      },
      "source": [
        "### To Do List"
      ]
    },
    {
      "cell_type": "markdown",
      "metadata": {
        "id": "V4rtwik1qKNX"
      },
      "source": [
        "Mission : 위의 성능보다 더 나은 모델을 만들어 제출하시오!!!"
      ]
    },
    {
      "cell_type": "code",
      "execution_count": null,
      "metadata": {
        "id": "q3hpLThJqKNX"
      },
      "outputs": [],
      "source": []
    }
  ],
  "metadata": {
    "colab": {
      "provenance": []
    },
    "kernelspec": {
      "display_name": "Python 3.10.6 ('crawling')",
      "language": "python",
      "name": "python3"
    },
    "language_info": {
      "codemirror_mode": {
        "name": "ipython",
        "version": 3
      },
      "file_extension": ".py",
      "mimetype": "text/x-python",
      "name": "python",
      "nbconvert_exporter": "python",
      "pygments_lexer": "ipython3",
      "version": "3.10.6"
    },
    "toc": {
      "base_numbering": 1,
      "nav_menu": {},
      "number_sections": true,
      "sideBar": true,
      "skip_h1_title": false,
      "title_cell": "Table of Contents",
      "title_sidebar": "Contents",
      "toc_cell": false,
      "toc_position": {},
      "toc_section_display": true,
      "toc_window_display": false
    },
    "varInspector": {
      "cols": {
        "lenName": 16,
        "lenType": 16,
        "lenVar": 40
      },
      "kernels_config": {
        "python": {
          "delete_cmd_postfix": "",
          "delete_cmd_prefix": "del ",
          "library": "var_list.py",
          "varRefreshCmd": "print(var_dic_list())"
        },
        "r": {
          "delete_cmd_postfix": ") ",
          "delete_cmd_prefix": "rm(",
          "library": "var_list.r",
          "varRefreshCmd": "cat(var_dic_list()) "
        }
      },
      "types_to_exclude": [
        "module",
        "function",
        "builtin_function_or_method",
        "instance",
        "_Feature"
      ],
      "window_display": false
    },
    "vscode": {
      "interpreter": {
        "hash": "10621530bc52bc3dcaea48e2b7ef028942e35d2e6e9c9234a88fefd069caf90f"
      }
    }
  },
  "nbformat": 4,
  "nbformat_minor": 0
}
