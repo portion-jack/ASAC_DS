{
 "cells": [
  {
   "cell_type": "code",
   "execution_count": 67,
   "metadata": {},
   "outputs": [],
   "source": [
    "import pandas as pd\n",
    "import seaborn as sns\n",
    "import matplotlib.pyplot as plt \n",
    "plt.rc('font',family='AppleGothic')"
   ]
  },
  {
   "cell_type": "code",
   "execution_count": 68,
   "metadata": {},
   "outputs": [],
   "source": [
    "df_raw=pd.read_csv('raw_data/kaggle_survey_2022_responses.csv',low_memory=False,header=[1])"
   ]
  },
  {
   "cell_type": "code",
   "execution_count": 69,
   "metadata": {},
   "outputs": [
    {
     "data": {
      "text/plain": [
       "array(['Duration (in seconds)', 'What is your age (# years)?',\n",
       "       'What is your gender? - Selected Choice',\n",
       "       'In which country do you currently reside?',\n",
       "       'Are you currently a student? (high school, university, or graduate)',\n",
       "       'On which platforms have you begun or completed data science courses? (Select all that apply) - Selected Choice - Coursera',\n",
       "       'On which platforms have you begun or completed data science courses? (Select all that apply) - Selected Choice - edX',\n",
       "       'On which platforms have you begun or completed data science courses? (Select all that apply) - Selected Choice - Kaggle Learn Courses',\n",
       "       'On which platforms have you begun or completed data science courses? (Select all that apply) - Selected Choice - DataCamp',\n",
       "       'On which platforms have you begun or completed data science courses? (Select all that apply) - Selected Choice - Fast.ai'],\n",
       "      dtype=object)"
      ]
     },
     "execution_count": 69,
     "metadata": {},
     "output_type": "execute_result"
    }
   ],
   "source": [
    "df_raw.columns.values[:10]"
   ]
  },
  {
   "cell_type": "code",
   "execution_count": 70,
   "metadata": {},
   "outputs": [],
   "source": [
    "# 교육 플랫폼\n",
    "df_edu_platforms=df_raw.loc[:,[i for i in df_raw.iloc[:,5:].columns if i.startswith('On which platforms have you begun or completed data science courses?')]]\n",
    "\n",
    "# 가장 도움된 교육자료\n",
    "df_edu_products = df_raw.loc[:,[i for i in df_raw.iloc[:,5:].columns if i.startswith('What products or platforms did you find to be most helpful when you first started studying data science?')]]\n",
    "\n",
    "# 주사용 언어\n",
    "df_programming_lang = df_raw.loc[:,[i for i in df_raw.iloc[:,5:].columns if i.startswith('What programming languages do you use on a regular basis?')]]\n",
    "\n",
    "# 주사용 ide\n",
    "df_ide = df_raw.loc[:,[i for i in df_raw.iloc[:,5:].columns if i.startswith(\"Which of the following integrated development environments (IDE's) do you use on a regular basis?\")]]\n",
    "\n",
    "# 주사용 클라우드 주피터노트북(colab 등)\n",
    "df_host_notebook = df_raw.loc[:,[i for i in df_raw.iloc[:,5:].columns if i.startswith('Do you use any of the following hosted notebook products?')]]\n",
    "\n",
    "# 주 시각화 툴\n",
    "df_visualize = df_raw.loc[:,[i for i in df_raw.iloc[:,5:].columns if i.startswith('Do you use any of the following data visualization libraries on a regular basis?')]]\n",
    "\n",
    "# 주 ml 툴\n",
    "df_framework = df_raw.loc[:,[i for i in df_raw.iloc[:,5:].columns if i.startswith('Which of the following machine learning frameworks do you use on a regular basis?')]]\n",
    "\n",
    "# 주 computer_vision 툴\n",
    "df_computer_vision = df_raw.loc[:,[i for i in df_raw.iloc[:,5:].columns if i.startswith('Which categories of computer vision methods do you use on a regular basis?')]]\n",
    "\n",
    "# 주사용 ml 알고리즘\n",
    "df_ml_algo = df_raw.loc[:,[i for i in df_raw.iloc[:,5:].columns if i.startswith('Which of the following ML algorithms do you use on a regular basis?')]]\n",
    "\n",
    "# 주사용 자연어처리 툴\n",
    "df_nlp = df_raw.loc[:,[i for i in df_raw.iloc[:,5:].columns if i.startswith('Which of the following natural language processing (NLP) methods do you use on a regular basis?')]]\n",
    "\n",
    "# 주사용 학습된 모델\n",
    "df_pretrained = df_raw.loc[:,[i for i in df_raw.iloc[:,5:].columns if i.startswith('Do you download pre-trained model weights from any of the following services?')]]\n",
    "\n",
    "# 회사 주요 직책\n",
    "df_main_role = df_raw.loc[:,[i for i in df_raw.iloc[:,5:].columns if i.startswith('Select any activities that make up an important part of your role at work')]]\n",
    "\n",
    "# 주 사용 클라우드 플랫폼\n",
    "df_cloud_platform = df_raw.loc[:,[i for i in df_raw.iloc[:,5:].columns if i.startswith('Which of the following cloud computing platforms do you use?')]]\n",
    "\n",
    "# 주 사용 클라우드 계산 플랫폼\n",
    "df_cloud_product = df_raw.loc[:,[i for i in df_raw.iloc[:,5:].columns if i.startswith('Do you use any of the following cloud computing products?')]]\n",
    "\n",
    "# 주 데이터 저장소\n",
    "df_data_storage = df_raw.loc[:,[i for i in df_raw.iloc[:,5:].columns if i.startswith('Do you use any of the following data storage products')]]\n",
    "\n",
    "# 주 sql\n",
    "df_data_product = df_raw.loc[:,[i for i in df_raw.iloc[:,5:].columns if i.startswith('Do you use any of the following data products')]]\n",
    "\n",
    "# 주 ml cloud product(sage maker)\n",
    "df_ml_product = df_raw.loc[:,[i for i in df_raw.iloc[:,5:].columns if i.startswith('Do you use any of the following managed machine learning products on a regular basis?')]]\n",
    "\n",
    "# 주 automated ml\n",
    "df_automated_ml = df_raw.loc[:,[i for i in df_raw.iloc[:,5:].columns if i.startswith('Do you use any of the following automated machine learning tools?')]]\n",
    "\n",
    "# 주 model 제공 방법\n",
    "df_model_serve = df_raw.loc[:,[i for i in df_raw.iloc[:,5:].columns if i.startswith('Do you use any of the following products to serve your machine learning models?')]]\n",
    "\n",
    "# 주 model monitor 방법\n",
    "df_model_checker = df_raw.loc[:,[i for i in df_raw.iloc[:,5:].columns if i.startswith('Do you use any tools to help monitor your machine learning models and/or experiments?')]]\n",
    "\n",
    "# 주요 사용 하드웨어\n",
    "df_ml_hardware = df_raw.loc[:,[i for i in df_raw.iloc[:,5:].columns if i.startswith('Do you use any of the following types of specialized hardware when training machine learning models?')]]\n"
   ]
  },
  {
   "cell_type": "code",
   "execution_count": 76,
   "metadata": {},
   "outputs": [],
   "source": [
    "df_li=[df_edu_platforms,\n",
    "       df_edu_products ,\n",
    "       df_programming_lang ,\n",
    "       df_ide ,\n",
    "       df_host_notebook ,\n",
    "       df_visualize ,\n",
    "       df_framework ,\n",
    "       df_computer_vision ,\n",
    "       df_ml_algo ,\n",
    "       df_nlp ,\n",
    "       df_pretrained ,\n",
    "       df_main_role ,\n",
    "       df_cloud_platform ,\n",
    "       df_cloud_product ,\n",
    "       df_data_storage ,\n",
    "       df_data_product ,\n",
    "       df_ml_product ,\n",
    "       df_automated_ml ,\n",
    "       df_model_serve ,\n",
    "       df_model_checker ,\n",
    "       df_ml_hardware\n",
    "       ]"
   ]
  },
  {
   "cell_type": "code",
   "execution_count": 78,
   "metadata": {},
   "outputs": [],
   "source": [
    "names=[\"df_edu_platforms\",\n",
    "       \"df_edu_products \",\n",
    "       \"df_programming_lang \",\n",
    "       \"df_ide \",\n",
    "       \"df_host_notebook \",\n",
    "       \"df_visualize \",\n",
    "       \"df_framework \",\n",
    "       \"df_computer_vision \",\n",
    "       \"df_ml_algo \",\n",
    "       \"df_nlp \",\n",
    "       \"df_pretrained \",\n",
    "       \"df_main_role \",\n",
    "       \"df_cloud_platform \",\n",
    "       \"df_cloud_product \",\n",
    "       \"df_data_storage \",\n",
    "       \"df_data_product \",\n",
    "       \"df_ml_product \",\n",
    "       \"df_automated_ml \",\n",
    "       \"df_model_serve \",\n",
    "       \"df_model_checker \",\n",
    "       \"df_ml_hardware\"\n",
    "       ]"
   ]
  },
  {
   "cell_type": "code",
   "execution_count": 79,
   "metadata": {},
   "outputs": [],
   "source": [
    "df_cleaned = list()\n",
    "for df in df_li:\n",
    "    df.columns=[i.split('Selected Choice')[-1].split('(')[0] for i in df.columns]\n",
    "    df=pd.DataFrame(df.count(),columns=['count'])\n",
    "    df_cleaned.append(df)"
   ]
  },
  {
   "cell_type": "code",
   "execution_count": 81,
   "metadata": {},
   "outputs": [],
   "source": [
    "for i,df in enumerate(df_cleaned):\n",
    "    df.to_csv(f'cleaned_data/{names[i]}.csv')"
   ]
  },
  {
   "cell_type": "code",
   "execution_count": 82,
   "metadata": {},
   "outputs": [],
   "source": [
    "# 학계 페이퍼 제출 경험\n",
    "df_paper=pd.DataFrame(df_raw.loc[:,'Have you ever published any academic research (papers, preprints, conference proceedings, etc)?'].value_counts())\n",
    "# 코딩 경력\n",
    "df_coding_time=pd.DataFrame(df_raw.loc[:,'For how many years have you been writing code and/or programming?'].value_counts())\n",
    "# ml 경력\n",
    "df_ml_time=pd.DataFrame(df_raw.loc[:,'For how many years have you used machine learning methods?'].value_counts())\n",
    "# 직종\n",
    "df_job=pd.DataFrame(df_raw.loc[:,'Select the title most similar to your current role (or most recent title if retired): - Selected Choice'].value_counts())\n",
    "# 나라\n",
    "df_country=pd.DataFrame(df_raw.loc[:,'In which country do you currently reside?'].value_counts())\n",
    "# 성별\n",
    "df_sex=pd.DataFrame(df_raw.loc[:,'What is your gender? - Selected Choice'].value_counts())\n",
    "# 나이\n",
    "df_age=pd.DataFrame(df_raw.loc[:,'What is your age (# years)?'].value_counts())\n",
    "# 연봉\n",
    "df_yearly_compensation=pd.DataFrame(df_raw.loc[:,'What is your current yearly compensation (approximate $USD)?'].value_counts())"
   ]
  },
  {
   "cell_type": "code",
   "execution_count": 84,
   "metadata": {},
   "outputs": [],
   "source": [
    "df_li = [df_paper,\n",
    "df_coding_time,\n",
    "df_ml_time,\n",
    "df_job,\n",
    "df_country,\n",
    "df_sex,\n",
    "df_age,\n",
    "df_yearly_compensation,]"
   ]
  },
  {
   "cell_type": "code",
   "execution_count": 85,
   "metadata": {},
   "outputs": [],
   "source": [
    "names = [\"df_paper\",\n",
    "\"df_coding_time\",\n",
    "\"df_ml_time\",\n",
    "\"df_job\",\n",
    "\"df_country\",\n",
    "\"df_sex\",\n",
    "\"df_age\",\n",
    "\"df_yearly_compensation\",]"
   ]
  },
  {
   "cell_type": "code",
   "execution_count": 86,
   "metadata": {},
   "outputs": [],
   "source": [
    "for df in df_li:\n",
    "    df.index=[i.split('(')[0] for i in df.index]"
   ]
  },
  {
   "cell_type": "code",
   "execution_count": 87,
   "metadata": {},
   "outputs": [],
   "source": [
    "for i,df in enumerate(df_li):\n",
    "    df.to_csv(f'cleaned_data/{names[i]}.csv')"
   ]
  }
 ],
 "metadata": {
  "kernelspec": {
   "display_name": "Python 3.10.6 ('crawling')",
   "language": "python",
   "name": "python3"
  },
  "language_info": {
   "codemirror_mode": {
    "name": "ipython",
    "version": 3
   },
   "file_extension": ".py",
   "mimetype": "text/x-python",
   "name": "python",
   "nbconvert_exporter": "python",
   "pygments_lexer": "ipython3",
   "version": "3.10.6"
  },
  "orig_nbformat": 4,
  "vscode": {
   "interpreter": {
    "hash": "10621530bc52bc3dcaea48e2b7ef028942e35d2e6e9c9234a88fefd069caf90f"
   }
  }
 },
 "nbformat": 4,
 "nbformat_minor": 2
}
