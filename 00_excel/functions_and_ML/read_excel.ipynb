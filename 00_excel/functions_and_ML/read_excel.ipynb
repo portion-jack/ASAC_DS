{
 "cells": [
  {
   "cell_type": "code",
   "execution_count": 80,
   "outputs": [],
   "source": [
    "import matplotlib as mpl\n",
    "import matplotlib.pyplot as plt\n",
    "\n",
    "mpl.rcParams['axes.unicode_minus'] = False\n",
    "plt.style.use(\"seaborn-v0_8-whitegrid\")\n",
    "plt.rc('font', family='AppleGothic')\n",
    "\n",
    "import warnings\n",
    "warnings.filterwarnings(action='ignore')"
   ],
   "metadata": {
    "collapsed": false,
    "pycharm": {
     "name": "#%%\n"
    }
   }
  },
  {
   "cell_type": "code",
   "execution_count": 1,
   "metadata": {
    "collapsed": true,
    "pycharm": {
     "name": "#%%\n"
    }
   },
   "outputs": [],
   "source": [
    "import pandas as pd"
   ]
  },
  {
   "cell_type": "markdown",
   "source": [
    "# read_excel to jupyter"
   ],
   "metadata": {
    "collapsed": false,
    "pycharm": {
     "name": "#%% md\n"
    }
   }
  },
  {
   "cell_type": "code",
   "execution_count": 9,
   "outputs": [],
   "source": [
    "_df_raw=pd.read_excel('엑셀로이해하는인공지능2/엑셀로이해하는인공지능_시작파일_220929.xlsx',sheet_name='실거래가2011')"
   ],
   "metadata": {
    "collapsed": false,
    "pycharm": {
     "name": "#%%\n"
    }
   }
  },
  {
   "cell_type": "code",
   "execution_count": 10,
   "outputs": [
    {
     "data": {
      "text/plain": "Index(['거래금액', '건축년도', '년', '법정동', '아파트', '월', '일', '전용면적', '지번', '지역코드', '층',\n       '해제사유발생일', '해제여부'],\n      dtype='object')"
     },
     "execution_count": 10,
     "metadata": {},
     "output_type": "execute_result"
    }
   ],
   "source": [
    "_df_raw.columns"
   ],
   "metadata": {
    "collapsed": false,
    "pycharm": {
     "name": "#%%\n"
    }
   }
  },
  {
   "cell_type": "markdown",
   "source": [
    "# EDA\n",
    "1. remove some columns\n",
    "2. descriptive statistics\n",
    "3. histogram\n",
    "4. boxplot"
   ],
   "metadata": {
    "collapsed": false,
    "pycharm": {
     "name": "#%% md\n"
    }
   }
  },
  {
   "cell_type": "code",
   "execution_count": 11,
   "outputs": [],
   "source": [
    "df=_df_raw.loc[:,['거래금액', '건축년도', '전용면적', '층']]"
   ],
   "metadata": {
    "collapsed": false,
    "pycharm": {
     "name": "#%%\n"
    }
   }
  },
  {
   "cell_type": "code",
   "execution_count": 33,
   "outputs": [
    {
     "data": {
      "text/plain": "                거래금액         건축년도        전용면적           층\ncount     318.000000   318.000000  318.000000  318.000000\nmean    97886.477987  2003.962264   81.492287    7.569182\nstd     58880.705817     9.532205   41.819365    4.834803\nmin      7500.000000  1971.000000   12.010000   -1.000000\n25%     54000.000000  1999.000000   59.085000    4.000000\n50%     87250.000000  2004.000000   84.477050    7.000000\n75%    139800.000000  2009.000000   92.575000   11.000000\nmax    375000.000000  2020.000000  238.858000   25.000000",
      "text/html": "<div>\n<style scoped>\n    .dataframe tbody tr th:only-of-type {\n        vertical-align: middle;\n    }\n\n    .dataframe tbody tr th {\n        vertical-align: top;\n    }\n\n    .dataframe thead th {\n        text-align: right;\n    }\n</style>\n<table border=\"1\" class=\"dataframe\">\n  <thead>\n    <tr style=\"text-align: right;\">\n      <th></th>\n      <th>거래금액</th>\n      <th>건축년도</th>\n      <th>전용면적</th>\n      <th>층</th>\n    </tr>\n  </thead>\n  <tbody>\n    <tr>\n      <th>count</th>\n      <td>318.000000</td>\n      <td>318.000000</td>\n      <td>318.000000</td>\n      <td>318.000000</td>\n    </tr>\n    <tr>\n      <th>mean</th>\n      <td>97886.477987</td>\n      <td>2003.962264</td>\n      <td>81.492287</td>\n      <td>7.569182</td>\n    </tr>\n    <tr>\n      <th>std</th>\n      <td>58880.705817</td>\n      <td>9.532205</td>\n      <td>41.819365</td>\n      <td>4.834803</td>\n    </tr>\n    <tr>\n      <th>min</th>\n      <td>7500.000000</td>\n      <td>1971.000000</td>\n      <td>12.010000</td>\n      <td>-1.000000</td>\n    </tr>\n    <tr>\n      <th>25%</th>\n      <td>54000.000000</td>\n      <td>1999.000000</td>\n      <td>59.085000</td>\n      <td>4.000000</td>\n    </tr>\n    <tr>\n      <th>50%</th>\n      <td>87250.000000</td>\n      <td>2004.000000</td>\n      <td>84.477050</td>\n      <td>7.000000</td>\n    </tr>\n    <tr>\n      <th>75%</th>\n      <td>139800.000000</td>\n      <td>2009.000000</td>\n      <td>92.575000</td>\n      <td>11.000000</td>\n    </tr>\n    <tr>\n      <th>max</th>\n      <td>375000.000000</td>\n      <td>2020.000000</td>\n      <td>238.858000</td>\n      <td>25.000000</td>\n    </tr>\n  </tbody>\n</table>\n</div>"
     },
     "execution_count": 33,
     "metadata": {},
     "output_type": "execute_result"
    }
   ],
   "source": [
    "# count, mean, std, quatile, min, max\n",
    "_statistics=df.describe()\n",
    "df.describe()"
   ],
   "metadata": {
    "collapsed": false,
    "pycharm": {
     "name": "#%%\n"
    }
   }
  },
  {
   "cell_type": "code",
   "execution_count": 40,
   "outputs": [
    {
     "name": "stdout",
     "output_type": "stream",
     "text": [
      "[ 0.72617384 -0.85101897  0.95633081  0.76197713]\n",
      "[1.37705382 1.71308023 1.41646438 0.0072557 ]\n"
     ]
    }
   ],
   "source": [
    "# skew 왜도 , kurtosis 첨도\n",
    "from scipy.stats import skew, kurtosis\n",
    "# 왜도\n",
    "print(skew(df))\n",
    "# 첨도\n",
    "print(kurtosis(df))"
   ],
   "metadata": {
    "collapsed": false,
    "pycharm": {
     "name": "#%%\n"
    }
   }
  },
  {
   "cell_type": "code",
   "execution_count": 63,
   "outputs": [],
   "source": [
    "statistics=pd.concat([_statistics,\n",
    "                      pd.DataFrame(skew(df).reshape(1,4),index=['skew'],columns=_statistics.columns),\n",
    "                      pd.DataFrame(kurtosis(df).reshape(1,4),index=['kurtosis'],columns=_statistics.columns)],\n",
    "                      ignore_index=False)"
   ],
   "metadata": {
    "collapsed": false,
    "pycharm": {
     "name": "#%%\n"
    }
   }
  },
  {
   "cell_type": "code",
   "execution_count": 64,
   "outputs": [
    {
     "data": {
      "text/plain": "                   거래금액         건축년도        전용면적           층\ncount        318.000000   318.000000  318.000000  318.000000\nmean       97886.477987  2003.962264   81.492287    7.569182\nstd        58880.705817     9.532205   41.819365    4.834803\nmin         7500.000000  1971.000000   12.010000   -1.000000\n25%        54000.000000  1999.000000   59.085000    4.000000\n50%        87250.000000  2004.000000   84.477050    7.000000\n75%       139800.000000  2009.000000   92.575000   11.000000\nmax       375000.000000  2020.000000  238.858000   25.000000\nskew           0.726174    -0.851019    0.956331    0.761977\nkurtosis       1.377054     1.713080    1.416464    0.007256\nskew           0.726174    -0.851019    0.956331    0.761977\nkurtosis       1.377054     1.713080    1.416464    0.007256",
      "text/html": "<div>\n<style scoped>\n    .dataframe tbody tr th:only-of-type {\n        vertical-align: middle;\n    }\n\n    .dataframe tbody tr th {\n        vertical-align: top;\n    }\n\n    .dataframe thead th {\n        text-align: right;\n    }\n</style>\n<table border=\"1\" class=\"dataframe\">\n  <thead>\n    <tr style=\"text-align: right;\">\n      <th></th>\n      <th>거래금액</th>\n      <th>건축년도</th>\n      <th>전용면적</th>\n      <th>층</th>\n    </tr>\n  </thead>\n  <tbody>\n    <tr>\n      <th>count</th>\n      <td>318.000000</td>\n      <td>318.000000</td>\n      <td>318.000000</td>\n      <td>318.000000</td>\n    </tr>\n    <tr>\n      <th>mean</th>\n      <td>97886.477987</td>\n      <td>2003.962264</td>\n      <td>81.492287</td>\n      <td>7.569182</td>\n    </tr>\n    <tr>\n      <th>std</th>\n      <td>58880.705817</td>\n      <td>9.532205</td>\n      <td>41.819365</td>\n      <td>4.834803</td>\n    </tr>\n    <tr>\n      <th>min</th>\n      <td>7500.000000</td>\n      <td>1971.000000</td>\n      <td>12.010000</td>\n      <td>-1.000000</td>\n    </tr>\n    <tr>\n      <th>25%</th>\n      <td>54000.000000</td>\n      <td>1999.000000</td>\n      <td>59.085000</td>\n      <td>4.000000</td>\n    </tr>\n    <tr>\n      <th>50%</th>\n      <td>87250.000000</td>\n      <td>2004.000000</td>\n      <td>84.477050</td>\n      <td>7.000000</td>\n    </tr>\n    <tr>\n      <th>75%</th>\n      <td>139800.000000</td>\n      <td>2009.000000</td>\n      <td>92.575000</td>\n      <td>11.000000</td>\n    </tr>\n    <tr>\n      <th>max</th>\n      <td>375000.000000</td>\n      <td>2020.000000</td>\n      <td>238.858000</td>\n      <td>25.000000</td>\n    </tr>\n    <tr>\n      <th>skew</th>\n      <td>0.726174</td>\n      <td>-0.851019</td>\n      <td>0.956331</td>\n      <td>0.761977</td>\n    </tr>\n    <tr>\n      <th>kurtosis</th>\n      <td>1.377054</td>\n      <td>1.713080</td>\n      <td>1.416464</td>\n      <td>0.007256</td>\n    </tr>\n    <tr>\n      <th>skew</th>\n      <td>0.726174</td>\n      <td>-0.851019</td>\n      <td>0.956331</td>\n      <td>0.761977</td>\n    </tr>\n    <tr>\n      <th>kurtosis</th>\n      <td>1.377054</td>\n      <td>1.713080</td>\n      <td>1.416464</td>\n      <td>0.007256</td>\n    </tr>\n  </tbody>\n</table>\n</div>"
     },
     "execution_count": 64,
     "metadata": {},
     "output_type": "execute_result"
    }
   ],
   "source": [
    "statistics"
   ],
   "metadata": {
    "collapsed": false,
    "pycharm": {
     "name": "#%%\n"
    }
   }
  },
  {
   "cell_type": "markdown",
   "source": [
    "histogram"
   ],
   "metadata": {
    "collapsed": false,
    "pycharm": {
     "name": "#%% md\n"
    }
   }
  },
  {
   "cell_type": "code",
   "execution_count": 81,
   "outputs": [
    {
     "data": {
      "text/plain": "array([[<AxesSubplot: title={'center': '거래금액'}>,\n        <AxesSubplot: title={'center': '건축년도'}>],\n       [<AxesSubplot: title={'center': '전용면적'}>,\n        <AxesSubplot: title={'center': '층'}>]], dtype=object)"
     },
     "execution_count": 81,
     "metadata": {},
     "output_type": "execute_result"
    },
    {
     "data": {
      "text/plain": "<Figure size 800x550 with 4 Axes>",
      "image/png": "[encoded data removed]"
     },
     "metadata": {},
     "output_type": "display_data"
    }
   ],
   "source": [
    "df.hist()"
   ],
   "metadata": {
    "collapsed": false,
    "pycharm": {
     "name": "#%%\n"
    }
   }
  },
  {
   "cell_type": "code",
   "execution_count": null,
   "outputs": [],
   "source": [],
   "metadata": {
    "collapsed": false,
    "pycharm": {
     "name": "#%%\n"
    }
   }
  }
 ],
 "metadata": {
  "kernelspec": {
   "display_name": "Python 3",
   "language": "python",
   "name": "python3"
  },
  "language_info": {
   "codemirror_mode": {
    "name": "ipython",
    "version": 2
   },
   "file_extension": ".py",
   "mimetype": "text/x-python",
   "name": "python",
   "nbconvert_exporter": "python",
   "pygments_lexer": "ipython2",
   "version": "2.7.6"
  }
 },
 "nbformat": 4,
 "nbformat_minor": 0
}